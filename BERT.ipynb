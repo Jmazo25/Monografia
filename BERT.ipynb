{
  "nbformat": 4,
  "nbformat_minor": 0,
  "metadata": {
    "colab": {
      "name": "BERT",
      "provenance": [],
      "collapsed_sections": []
    },
    "kernelspec": {
      "display_name": "Python 3",
      "language": "python",
      "name": "python3"
    },
    "language_info": {
      "codemirror_mode": {
        "name": "ipython",
        "version": 3
      },
      "file_extension": ".py",
      "mimetype": "text/x-python",
      "name": "python",
      "nbconvert_exporter": "python",
      "pygments_lexer": "ipython3",
      "version": "3.7.6"
    },
    "varInspector": {
      "cols": {
        "lenName": 16,
        "lenType": 16,
        "lenVar": 40
      },
      "kernels_config": {
        "python": {
          "delete_cmd_postfix": "",
          "delete_cmd_prefix": "del ",
          "library": "var_list.py",
          "varRefreshCmd": "print(var_dic_list())"
        },
        "r": {
          "delete_cmd_postfix": ") ",
          "delete_cmd_prefix": "rm(",
          "library": "var_list.r",
          "varRefreshCmd": "cat(var_dic_list()) "
        }
      },
      "types_to_exclude": [
        "module",
        "function",
        "builtin_function_or_method",
        "instance",
        "_Feature"
      ],
      "window_display": false
    },
    "accelerator": "GPU"
  },
  "cells": [
    {
      "cell_type": "code",
      "metadata": {
        "colab": {
          "base_uri": "https://localhost:8080/"
        },
        "id": "0AvWnLTx9Eqc",
        "outputId": "d50e6c19-42c7-468e-d850-cc067dadc250"
      },
      "source": [
        "import pandas as pd\n",
        "import os\n",
        "import numpy as np\n",
        "from matplotlib import pyplot as plt\n",
        "from sklearn.model_selection import train_test_split\n",
        "from keras.preprocessing.text import Tokenizer\n",
        "from keras.preprocessing.sequence import pad_sequences\n",
        "import tensorflow as tf\n",
        "import tensorflow.keras.metrics\n",
        "from tensorflow.keras.utils import to_categorical\n",
        "import tensorflow_hub as hub\n",
        "import re\n",
        "import nltk\n",
        "from nltk.corpus import stopwords\n",
        "nltk.download('stopwords')\n",
        "pd.options.display.max_columns\n",
        "pd.options.display.max_rows\n",
        "from tensorflow.keras.utils import to_categorical\n",
        "pd.options.display.max_rows"
      ],
      "execution_count": null,
      "outputs": [
        {
          "output_type": "stream",
          "name": "stdout",
          "text": [
            "[nltk_data] Downloading package stopwords to /root/nltk_data...\n",
            "[nltk_data]   Unzipping corpora/stopwords.zip.\n"
          ]
        },
        {
          "output_type": "execute_result",
          "data": {
            "text/plain": [
              "60"
            ]
          },
          "metadata": {},
          "execution_count": 1
        }
      ]
    },
    {
      "cell_type": "code",
      "metadata": {
        "colab": {
          "base_uri": "https://localhost:8080/"
        },
        "id": "OHJgBiei-GFL",
        "outputId": "cc822e59-2ec0-43c5-95ec-2ec41bd3f2c4"
      },
      "source": [
        "!git clone https://github.com/Jmazo25/Monografia.git"
      ],
      "execution_count": null,
      "outputs": [
        {
          "output_type": "stream",
          "name": "stdout",
          "text": [
            "Cloning into 'Monografia'...\n",
            "remote: Enumerating objects: 5, done.\u001b[K\n",
            "remote: Counting objects: 100% (5/5), done.\u001b[K\n",
            "remote: Compressing objects: 100% (5/5), done.\u001b[K\n",
            "remote: Total 5 (delta 0), reused 0 (delta 0), pack-reused 0\u001b[K\n",
            "Unpacking objects: 100% (5/5), done.\n"
          ]
        }
      ]
    },
    {
      "cell_type": "code",
      "metadata": {
        "id": "avCTkgDSIwbe"
      },
      "source": [
        "df = pd.read_csv(\"/content/Monografia/train.csv\")"
      ],
      "execution_count": null,
      "outputs": []
    },
    {
      "cell_type": "markdown",
      "metadata": {
        "id": "ozIpnNPAKTpx"
      },
      "source": [
        "#Búsqueda de nulos\n",
        "\n",
        "Previamente ya se detectató una fila con valores nulos por lo cual se procede a eliminar"
      ]
    },
    {
      "cell_type": "code",
      "metadata": {
        "colab": {
          "base_uri": "https://localhost:8080/"
        },
        "id": "qtejU4rtVlWh",
        "outputId": "829a372d-81ce-4035-f4b5-5ae42dff5150"
      },
      "source": [
        "df.dropna(axis = 0, how ='any',inplace=True)\n",
        "df.reset_index(inplace=True)\n",
        "df.shape"
      ],
      "execution_count": null,
      "outputs": [
        {
          "output_type": "execute_result",
          "data": {
            "text/plain": [
              "(27480, 5)"
            ]
          },
          "metadata": {},
          "execution_count": 4
        }
      ]
    },
    {
      "cell_type": "code",
      "metadata": {
        "colab": {
          "base_uri": "https://localhost:8080/",
          "height": 143
        },
        "id": "s7fg3H1h-Lry",
        "outputId": "3a4faad1-e9e2-401e-a646-8f4b48fb2cf6"
      },
      "source": [
        "df.head(3)"
      ],
      "execution_count": null,
      "outputs": [
        {
          "output_type": "execute_result",
          "data": {
            "text/html": [
              "<div>\n",
              "<style scoped>\n",
              "    .dataframe tbody tr th:only-of-type {\n",
              "        vertical-align: middle;\n",
              "    }\n",
              "\n",
              "    .dataframe tbody tr th {\n",
              "        vertical-align: top;\n",
              "    }\n",
              "\n",
              "    .dataframe thead th {\n",
              "        text-align: right;\n",
              "    }\n",
              "</style>\n",
              "<table border=\"1\" class=\"dataframe\">\n",
              "  <thead>\n",
              "    <tr style=\"text-align: right;\">\n",
              "      <th></th>\n",
              "      <th>index</th>\n",
              "      <th>textID</th>\n",
              "      <th>text</th>\n",
              "      <th>selected_text</th>\n",
              "      <th>sentiment</th>\n",
              "    </tr>\n",
              "  </thead>\n",
              "  <tbody>\n",
              "    <tr>\n",
              "      <th>0</th>\n",
              "      <td>0</td>\n",
              "      <td>cb774db0d1</td>\n",
              "      <td>I`d have responded, if I were going</td>\n",
              "      <td>I`d have responded, if I were going</td>\n",
              "      <td>neutral</td>\n",
              "    </tr>\n",
              "    <tr>\n",
              "      <th>1</th>\n",
              "      <td>1</td>\n",
              "      <td>549e992a42</td>\n",
              "      <td>Sooo SAD I will miss you here in San Diego!!!</td>\n",
              "      <td>Sooo SAD</td>\n",
              "      <td>negative</td>\n",
              "    </tr>\n",
              "    <tr>\n",
              "      <th>2</th>\n",
              "      <td>2</td>\n",
              "      <td>088c60f138</td>\n",
              "      <td>my boss is bullying me...</td>\n",
              "      <td>bullying me</td>\n",
              "      <td>negative</td>\n",
              "    </tr>\n",
              "  </tbody>\n",
              "</table>\n",
              "</div>"
            ],
            "text/plain": [
              "   index      textID  ...                        selected_text sentiment\n",
              "0      0  cb774db0d1  ...  I`d have responded, if I were going   neutral\n",
              "1      1  549e992a42  ...                             Sooo SAD  negative\n",
              "2      2  088c60f138  ...                          bullying me  negative\n",
              "\n",
              "[3 rows x 5 columns]"
            ]
          },
          "metadata": {},
          "execution_count": 5
        }
      ]
    },
    {
      "cell_type": "markdown",
      "metadata": {
        "id": "uqMYzk35KIzk"
      },
      "source": [
        "#Eiliminación de stop words"
      ]
    },
    {
      "cell_type": "code",
      "metadata": {
        "id": "9hSGQ8KlJfgo"
      },
      "source": [
        "def clean_text(t):\n",
        "  tl = []\n",
        "  t = t.lower().split()\n",
        "  for i in t:\n",
        "    if i not in stopwords.words('english'):\n",
        "      tl.append(i)\n",
        "  return \" \".join(tl)"
      ],
      "execution_count": null,
      "outputs": []
    },
    {
      "cell_type": "code",
      "metadata": {
        "id": "G2x3VRHlJfdw"
      },
      "source": [
        "#Limpiar expresiones Regulares\n",
        "df['text'] = df['text'].apply((lambda x:re.sub('@[^\\s]+','',x)))\n",
        "df['text'] = df['text'].apply((lambda x: re.sub('[^a-zA-z0-9\\s]','',x)))\n",
        "df['text'] = df['text'].apply((lambda x: re.sub(\"'\",\"\",x)))\n",
        "df['text'] = df['text'].apply((lambda x: re.sub(\"`\",\"\",x)))\n",
        "#Remover stopwords\n",
        "df['text'] = df['text'].apply(lambda x: clean_text(x))"
      ],
      "execution_count": null,
      "outputs": []
    },
    {
      "cell_type": "code",
      "metadata": {
        "id": "Wx09j6wKJfYW"
      },
      "source": [
        "##Limpiar expresiones Regulares\n",
        "df['selected_text'] = df['selected_text'].apply((lambda x:re.sub('@[^\\s]+','',x)))\n",
        "df['selected_text'] = df['selected_text'].apply((lambda x: re.sub('[^a-zA-z0-9\\s]','',x)))\n",
        "df['selected_text'] = df['selected_text'].apply((lambda x: re.sub(\"'\",\"\",x)))\n",
        "df['selected_text'] = df['selected_text'].apply((lambda x: re.sub(\"`\",\"\",x)))\n",
        "#Remover StopWords\n",
        "df['selected_text'] = df['selected_text'].apply(lambda x: clean_text(x))"
      ],
      "execution_count": null,
      "outputs": []
    },
    {
      "cell_type": "code",
      "metadata": {
        "colab": {
          "base_uri": "https://localhost:8080/",
          "height": 206
        },
        "id": "LjJn5dBsJfaj",
        "outputId": "7aee7d88-fdac-418b-9493-cd41a2b20006"
      },
      "source": [
        "df.head(5)"
      ],
      "execution_count": null,
      "outputs": [
        {
          "output_type": "execute_result",
          "data": {
            "text/html": [
              "<div>\n",
              "<style scoped>\n",
              "    .dataframe tbody tr th:only-of-type {\n",
              "        vertical-align: middle;\n",
              "    }\n",
              "\n",
              "    .dataframe tbody tr th {\n",
              "        vertical-align: top;\n",
              "    }\n",
              "\n",
              "    .dataframe thead th {\n",
              "        text-align: right;\n",
              "    }\n",
              "</style>\n",
              "<table border=\"1\" class=\"dataframe\">\n",
              "  <thead>\n",
              "    <tr style=\"text-align: right;\">\n",
              "      <th></th>\n",
              "      <th>index</th>\n",
              "      <th>textID</th>\n",
              "      <th>text</th>\n",
              "      <th>selected_text</th>\n",
              "      <th>sentiment</th>\n",
              "    </tr>\n",
              "  </thead>\n",
              "  <tbody>\n",
              "    <tr>\n",
              "      <th>0</th>\n",
              "      <td>0</td>\n",
              "      <td>cb774db0d1</td>\n",
              "      <td>id responded going</td>\n",
              "      <td>id responded going</td>\n",
              "      <td>neutral</td>\n",
              "    </tr>\n",
              "    <tr>\n",
              "      <th>1</th>\n",
              "      <td>1</td>\n",
              "      <td>549e992a42</td>\n",
              "      <td>sooo sad miss san diego</td>\n",
              "      <td>sooo sad</td>\n",
              "      <td>negative</td>\n",
              "    </tr>\n",
              "    <tr>\n",
              "      <th>2</th>\n",
              "      <td>2</td>\n",
              "      <td>088c60f138</td>\n",
              "      <td>boss bullying</td>\n",
              "      <td>bullying</td>\n",
              "      <td>negative</td>\n",
              "    </tr>\n",
              "    <tr>\n",
              "      <th>3</th>\n",
              "      <td>3</td>\n",
              "      <td>9642c003ef</td>\n",
              "      <td>interview leave alone</td>\n",
              "      <td>leave alone</td>\n",
              "      <td>negative</td>\n",
              "    </tr>\n",
              "    <tr>\n",
              "      <th>4</th>\n",
              "      <td>4</td>\n",
              "      <td>358bd9e861</td>\n",
              "      <td>sons couldnt put releases already bought</td>\n",
              "      <td>sons</td>\n",
              "      <td>negative</td>\n",
              "    </tr>\n",
              "  </tbody>\n",
              "</table>\n",
              "</div>"
            ],
            "text/plain": [
              "   index      textID  ...       selected_text sentiment\n",
              "0      0  cb774db0d1  ...  id responded going   neutral\n",
              "1      1  549e992a42  ...            sooo sad  negative\n",
              "2      2  088c60f138  ...            bullying  negative\n",
              "3      3  9642c003ef  ...         leave alone  negative\n",
              "4      4  358bd9e861  ...                sons  negative\n",
              "\n",
              "[5 rows x 5 columns]"
            ]
          },
          "metadata": {},
          "execution_count": 10
        }
      ]
    },
    {
      "cell_type": "markdown",
      "metadata": {
        "id": "rEhCfDzvpsm3"
      },
      "source": [
        "#Máxima longitud de un tweet en el dataset"
      ]
    },
    {
      "cell_type": "markdown",
      "metadata": {
        "id": "gj-aMqgjMtbn"
      },
      "source": [
        "Se procede a buscar el tweet con mayor longitud en términos de palabras"
      ]
    },
    {
      "cell_type": "code",
      "metadata": {
        "id": "Hxi2XXDhJfWA"
      },
      "source": [
        "dim_tw = df['text'].str.split().str.len()"
      ],
      "execution_count": null,
      "outputs": []
    },
    {
      "cell_type": "code",
      "metadata": {
        "colab": {
          "base_uri": "https://localhost:8080/",
          "height": 282
        },
        "id": "jifBkCdCJfSy",
        "outputId": "6a7975a2-9266-4a17-c583-924ec97adc6c"
      },
      "source": [
        "fig, ax1 = plt.subplots()\n",
        "plt.hist(dim_tw,color='green')\n",
        "ax1.set_xlabel('Longitud por palabras'), ax1.set_ylabel(\"tweets\")\n",
        "plt.show()"
      ],
      "execution_count": null,
      "outputs": [
        {
          "output_type": "display_data",
          "data": {
            "image/png": "[encoded data removed]",
            "text/plain": [
              "<Figure size 432x288 with 1 Axes>"
            ]
          },
          "metadata": {
            "needs_background": "light"
          }
        }
      ]
    },
    {
      "cell_type": "code",
      "metadata": {
        "colab": {
          "base_uri": "https://localhost:8080/"
        },
        "id": "Hg9DFcm7JfP3",
        "outputId": "9221d0e0-c9fa-4f12-b25d-14c0c4035ce0"
      },
      "source": [
        "dim_tw.describe()"
      ],
      "execution_count": null,
      "outputs": [
        {
          "output_type": "execute_result",
          "data": {
            "text/plain": [
              "count    27480.000000\n",
              "mean         7.363392\n",
              "std          3.960305\n",
              "min          0.000000\n",
              "25%          4.000000\n",
              "50%          7.000000\n",
              "75%         10.000000\n",
              "max         25.000000\n",
              "Name: text, dtype: float64"
            ]
          },
          "metadata": {},
          "execution_count": 57
        }
      ]
    },
    {
      "cell_type": "markdown",
      "metadata": {
        "id": "UGNKbrEt0aMF"
      },
      "source": [
        "#BERT"
      ]
    },
    {
      "cell_type": "code",
      "metadata": {
        "id": "9ES9BPBw0hiA"
      },
      "source": [
        "bert_layer = hub.KerasLayer(\"https://tfhub.dev/tensorflow/bert_en_uncased_L-12_H-768_A-12/1\",\n",
        "                            trainable=False)"
      ],
      "execution_count": null,
      "outputs": []
    },
    {
      "cell_type": "code",
      "metadata": {
        "colab": {
          "base_uri": "https://localhost:8080/"
        },
        "id": "MEHP4mB_0hfL",
        "outputId": "bd071a41-6f83-4136-e4b8-c2d3b5c6371d"
      },
      "source": [
        "!pip install bert-for-tf2"
      ],
      "execution_count": null,
      "outputs": [
        {
          "output_type": "stream",
          "name": "stdout",
          "text": [
            "Collecting bert-for-tf2\n",
            "  Downloading bert-for-tf2-0.14.9.tar.gz (41 kB)\n",
            "\u001b[?25l\r\u001b[K     |████████                        | 10 kB 23.4 MB/s eta 0:00:01\r\u001b[K     |████████████████                | 20 kB 22.2 MB/s eta 0:00:01\r\u001b[K     |███████████████████████▉        | 30 kB 11.4 MB/s eta 0:00:01\r\u001b[K     |███████████████████████████████▉| 40 kB 8.9 MB/s eta 0:00:01\r\u001b[K     |████████████████████████████████| 41 kB 131 kB/s \n",
            "\u001b[?25hCollecting py-params>=0.9.6\n",
            "  Downloading py-params-0.10.2.tar.gz (7.4 kB)\n",
            "Collecting params-flow>=0.8.0\n",
            "  Downloading params-flow-0.8.2.tar.gz (22 kB)\n",
            "Requirement already satisfied: numpy in /usr/local/lib/python3.7/dist-packages (from params-flow>=0.8.0->bert-for-tf2) (1.19.5)\n",
            "Requirement already satisfied: tqdm in /usr/local/lib/python3.7/dist-packages (from params-flow>=0.8.0->bert-for-tf2) (4.62.3)\n",
            "Building wheels for collected packages: bert-for-tf2, params-flow, py-params\n",
            "  Building wheel for bert-for-tf2 (setup.py) ... \u001b[?25l\u001b[?25hdone\n",
            "  Created wheel for bert-for-tf2: filename=bert_for_tf2-0.14.9-py3-none-any.whl size=30534 sha256=e4e03e3972ec13ebb92339da5bcde9e6d5ad87cb07fa9b4e35b66bb623a6945d\n",
            "  Stored in directory: /root/.cache/pip/wheels/47/b6/e5/8c76ec779f54bc5c2f1b57d2200bb9c77616da83873e8acb53\n",
            "  Building wheel for params-flow (setup.py) ... \u001b[?25l\u001b[?25hdone\n",
            "  Created wheel for params-flow: filename=params_flow-0.8.2-py3-none-any.whl size=19473 sha256=e6eef77a101c8ae9f22e03d0cab625181a79330d004228a11135e3c7c04fa425\n",
            "  Stored in directory: /root/.cache/pip/wheels/0e/fc/d2/a44fff33af0f233d7def6e7de413006d57c10e10ad736fe8f5\n",
            "  Building wheel for py-params (setup.py) ... \u001b[?25l\u001b[?25hdone\n",
            "  Created wheel for py-params: filename=py_params-0.10.2-py3-none-any.whl size=7912 sha256=48e2830a0dcc81cc6eeef6d16846bc90054837847910865819ce9c20dfc1e6fe\n",
            "  Stored in directory: /root/.cache/pip/wheels/e1/11/67/33cc51bbee127cb8fb2ba549cd29109b2f22da43ddf9969716\n",
            "Successfully built bert-for-tf2 params-flow py-params\n",
            "Installing collected packages: py-params, params-flow, bert-for-tf2\n",
            "Successfully installed bert-for-tf2-0.14.9 params-flow-0.8.2 py-params-0.10.2\n"
          ]
        }
      ]
    },
    {
      "cell_type": "code",
      "metadata": {
        "id": "g-DHAgD20hcF"
      },
      "source": [
        "import bert\n",
        "FullTokenizer = bert.bert_tokenization.FullTokenizer"
      ],
      "execution_count": null,
      "outputs": []
    },
    {
      "cell_type": "code",
      "metadata": {
        "id": "6k9TAjJh0hY7"
      },
      "source": [
        "vocab_file = bert_layer.resolved_object.vocab_file.asset_path.numpy()\n",
        "do_lower_case = bert_layer.resolved_object.do_lower_case.numpy()\n",
        "tokenizer = FullTokenizer(vocab_file, do_lower_case)"
      ],
      "execution_count": null,
      "outputs": []
    },
    {
      "cell_type": "code",
      "metadata": {
        "colab": {
          "base_uri": "https://localhost:8080/"
        },
        "id": "i30c1Mu70hVj",
        "outputId": "a4f7a2af-7f7c-4faf-e984-228236d24f81"
      },
      "source": [
        "all_sentences = df['text'].values\n",
        "all_words = []\n",
        "maximo = 0\n",
        "for j, sent in enumerate(all_sentences):\n",
        "    temp = []\n",
        "    temp.append('[CLS]')\n",
        "    i = 0\n",
        "    for w in tokenizer.tokenize(sent):\n",
        "        i+=1\n",
        "        temp.append(w)\n",
        "    temp.append('[SEP]')\n",
        "    all_words.append(temp)\n",
        "    if i> maximo:\n",
        "        maximo = i\n",
        "maximo"
      ],
      "execution_count": null,
      "outputs": [
        {
          "output_type": "execute_result",
          "data": {
            "text/plain": [
              "58"
            ]
          },
          "metadata": {},
          "execution_count": 15
        }
      ]
    },
    {
      "cell_type": "code",
      "metadata": {
        "colab": {
          "base_uri": "https://localhost:8080/"
        },
        "id": "ntFoq-UYu5hU",
        "outputId": "59ea0016-e612-42e6-fc0c-e9fc7297dd25"
      },
      "source": [
        "len(all_words[11559])"
      ],
      "execution_count": null,
      "outputs": [
        {
          "output_type": "execute_result",
          "data": {
            "text/plain": [
              "60"
            ]
          },
          "metadata": {},
          "execution_count": 16
        }
      ]
    },
    {
      "cell_type": "code",
      "metadata": {
        "id": "PICxXs540hPj"
      },
      "source": [
        "max_seq_length = maximo + 2  # Your choice here."
      ],
      "execution_count": null,
      "outputs": []
    },
    {
      "cell_type": "code",
      "metadata": {
        "id": "sn3Ov33U0hBO"
      },
      "source": [
        "def get_masks(tokens, max_seq_length):\n",
        "    \"\"\"Mask for padding\"\"\"\n",
        "    if len(tokens)>max_seq_length:\n",
        "        raise IndexError(\"Token length more than max seq length!\")\n",
        "    return [1]*len(tokens) + [0] * (max_seq_length - len(tokens))\n",
        "\n",
        "\n",
        "def get_segments(tokens, max_seq_length):\n",
        "    \"\"\"Segments: 0 for the first sequence, 1 for the second\"\"\"\n",
        "    if len(tokens)>max_seq_length:\n",
        "        raise IndexError(\"Token length more than max seq length!\")\n",
        "    segments = []\n",
        "    current_segment_id = 0\n",
        "    for token in tokens:\n",
        "        segments.append(current_segment_id)\n",
        "        if token == \"[SEP]\":\n",
        "            current_segment_id = 1\n",
        "    return segments + [0] * (max_seq_length - len(tokens))\n",
        "\n",
        "\n",
        "def get_ids(tokens, tokenizer, max_seq_length):\n",
        "    \"\"\"Token ids from Tokenizer vocab\"\"\"\n",
        "    token_ids = tokenizer.convert_tokens_to_ids(tokens)\n",
        "    input_ids = token_ids + [0] * (max_seq_length-len(token_ids))\n",
        "    return input_ids"
      ],
      "execution_count": null,
      "outputs": []
    },
    {
      "cell_type": "code",
      "metadata": {
        "id": "opw8KhED0hAQ"
      },
      "source": [
        "s = \"This is a nice's\"\n",
        "stokens = tokenizer.tokenize(s)\n",
        "stokens = [\"[CLS]\"] + stokens + [\"[SEP]\"]\n",
        "\n",
        "input_ids1 = get_ids(stokens, tokenizer, max_seq_length)\n",
        "input_masks1 = get_masks(stokens, max_seq_length)\n",
        "input_segments1 = get_segments(stokens, max_seq_length)"
      ],
      "execution_count": null,
      "outputs": []
    },
    {
      "cell_type": "code",
      "metadata": {
        "colab": {
          "base_uri": "https://localhost:8080/"
        },
        "id": "UztoT4044d_e",
        "outputId": "966e85a7-92f1-40c4-bc7b-2d9dddecbbbe"
      },
      "source": [
        "print(stokens)\n",
        "print(input_ids1)\n",
        "print(input_masks1)\n",
        "print(input_segments1)"
      ],
      "execution_count": null,
      "outputs": [
        {
          "output_type": "stream",
          "name": "stdout",
          "text": [
            "['[CLS]', 'this', 'is', 'a', 'nice', \"'\", 's', '[SEP]']\n",
            "[101, 2023, 2003, 1037, 3835, 1005, 1055, 102, 0, 0, 0, 0, 0, 0, 0, 0, 0, 0, 0, 0, 0, 0, 0, 0, 0, 0, 0, 0, 0, 0, 0, 0, 0, 0, 0, 0, 0, 0, 0, 0, 0, 0, 0, 0, 0, 0, 0, 0, 0, 0, 0, 0, 0, 0, 0, 0, 0, 0, 0, 0]\n",
            "[1, 1, 1, 1, 1, 1, 1, 1, 0, 0, 0, 0, 0, 0, 0, 0, 0, 0, 0, 0, 0, 0, 0, 0, 0, 0, 0, 0, 0, 0, 0, 0, 0, 0, 0, 0, 0, 0, 0, 0, 0, 0, 0, 0, 0, 0, 0, 0, 0, 0, 0, 0, 0, 0, 0, 0, 0, 0, 0, 0]\n",
            "[0, 0, 0, 0, 0, 0, 0, 0, 0, 0, 0, 0, 0, 0, 0, 0, 0, 0, 0, 0, 0, 0, 0, 0, 0, 0, 0, 0, 0, 0, 0, 0, 0, 0, 0, 0, 0, 0, 0, 0, 0, 0, 0, 0, 0, 0, 0, 0, 0, 0, 0, 0, 0, 0, 0, 0, 0, 0, 0, 0]\n"
          ]
        }
      ]
    },
    {
      "cell_type": "code",
      "metadata": {
        "colab": {
          "base_uri": "https://localhost:8080/"
        },
        "id": "Ja_WtMFQnTR7",
        "outputId": "ae20832f-067f-4a30-bd52-87623fe985a2"
      },
      "source": [
        "len(input_ids1)"
      ],
      "execution_count": null,
      "outputs": [
        {
          "output_type": "execute_result",
          "data": {
            "text/plain": [
              "60"
            ]
          },
          "metadata": {},
          "execution_count": 22
        }
      ]
    },
    {
      "cell_type": "markdown",
      "metadata": {
        "id": "FxuQ37H15w6B"
      },
      "source": [
        "##Transformar el texto tokenizado en las 3 entradas necesarias en el modelo"
      ]
    },
    {
      "cell_type": "code",
      "metadata": {
        "id": "yzpWEIAu4du0"
      },
      "source": [
        "input_ids = np.zeros((len(all_words),max_seq_length))\n",
        "input_masks = np.zeros((len(all_words),max_seq_length))\n",
        "input_segments = np.zeros((len(all_words),max_seq_length))\n",
        "for i in range(len(all_words)):\n",
        "    input_ids[i,:] = np.array(get_ids(all_words[i], tokenizer, max_seq_length)).reshape(1,-1)\n",
        "    input_masks[i,:] = np.array(get_masks(all_words[i], max_seq_length)).reshape(1,-1)\n",
        "    input_segments[i,:] = np.array(get_segments(all_words[i], max_seq_length)).reshape(1,-1)"
      ],
      "execution_count": null,
      "outputs": []
    },
    {
      "cell_type": "code",
      "metadata": {
        "colab": {
          "base_uri": "https://localhost:8080/"
        },
        "id": "70xBt3xq8OD0",
        "outputId": "ed50eeae-24f1-4cb1-e03a-cc63b694a8fe"
      },
      "source": [
        "input_ids.shape"
      ],
      "execution_count": null,
      "outputs": [
        {
          "output_type": "execute_result",
          "data": {
            "text/plain": [
              "(27480, 60)"
            ]
          },
          "metadata": {},
          "execution_count": 24
        }
      ]
    },
    {
      "cell_type": "markdown",
      "metadata": {
        "id": "OiE2wGPgmuVg"
      },
      "source": [
        "Funciones que permiten extraer los índices inicial y final del texto seleccionado del tweet"
      ]
    },
    {
      "cell_type": "code",
      "metadata": {
        "id": "0G0iASVPfNVe"
      },
      "source": [
        "def ind(t1,t2):\n",
        "    l = []\n",
        "    ini = int\n",
        "    fin = int\n",
        "    t1 = t1.lower().split()\n",
        "    t2 = t2.lower().split()\n",
        "    for i in t2:\n",
        "        for ind,j in enumerate(t1):\n",
        "          if i == j:\n",
        "            l.append(ind)\n",
        "    if l != []:\n",
        "        ini=(l[0])\n",
        "        fin=(l[-1])\n",
        "    else:\n",
        "        ini = 0\n",
        "        fin = 0\n",
        "    return ini"
      ],
      "execution_count": null,
      "outputs": []
    },
    {
      "cell_type": "code",
      "metadata": {
        "id": "xM5OE9lTZtHg"
      },
      "source": [
        "def ind2(t1,t2):\n",
        "  l = []\n",
        "  ini = int\n",
        "  fin = int\n",
        "  t1 = t1.lower().split()\n",
        "  t2 = t2.lower().split()\n",
        "  for i in t2:\n",
        "    for ind,j in enumerate(t1):\n",
        "      if i == j:\n",
        "        l.append(ind)\n",
        "  if l != []:\n",
        "    ini=(l[0])\n",
        "    fin=(ini+len(t2)-1)\n",
        "  else:\n",
        "    ini = 0\n",
        "    fin = 0\n",
        "  return fin"
      ],
      "execution_count": null,
      "outputs": []
    },
    {
      "cell_type": "markdown",
      "metadata": {
        "id": "F3p8dWj_m3nx"
      },
      "source": [
        "test funciones"
      ]
    },
    {
      "cell_type": "code",
      "metadata": {
        "colab": {
          "base_uri": "https://localhost:8080/"
        },
        "id": "QN5exIrJib3R",
        "outputId": "5038fcdc-3877-4ef6-8b59-869d478a38af"
      },
      "source": [
        "f= ind2('no. lost link sent pull battery.','sent pull')\n",
        "f"
      ],
      "execution_count": null,
      "outputs": [
        {
          "output_type": "execute_result",
          "data": {
            "text/plain": [
              "4"
            ]
          },
          "metadata": {},
          "execution_count": 31
        }
      ]
    },
    {
      "cell_type": "markdown",
      "metadata": {
        "id": "QIddKbconDlg"
      },
      "source": [
        "Creación de dataset donde se manipularán los datos"
      ]
    },
    {
      "cell_type": "code",
      "metadata": {
        "id": "MNubQ9F4Ew-T"
      },
      "source": [
        "df2 = df[['text','selected_text']] "
      ],
      "execution_count": null,
      "outputs": []
    },
    {
      "cell_type": "markdown",
      "metadata": {
        "id": "mOX5C71tnJmY"
      },
      "source": [
        "Aplicación de las funciones de consecución de índices"
      ]
    },
    {
      "cell_type": "code",
      "metadata": {
        "id": "_V3UqsWQLBxE"
      },
      "source": [
        "y_true_i = df2.apply(lambda x: ind(x['text'],x['selected_text']),axis=1)"
      ],
      "execution_count": null,
      "outputs": []
    },
    {
      "cell_type": "code",
      "metadata": {
        "id": "XOKQuiYBjuCc"
      },
      "source": [
        "y_true_f = df2.apply(lambda x: ind2(x['text'],x['selected_text']),axis=1)"
      ],
      "execution_count": null,
      "outputs": []
    },
    {
      "cell_type": "markdown",
      "metadata": {
        "id": "nIlpmAYDmoiY"
      },
      "source": [
        "Validación de índices negativos"
      ]
    },
    {
      "cell_type": "code",
      "metadata": {
        "colab": {
          "base_uri": "https://localhost:8080/"
        },
        "id": "Da2hANKSl16i",
        "outputId": "c766ff24-b61a-4cc4-c0c1-88334c9493c7"
      },
      "source": [
        "a = [(y_true_i[p],y_true_f[p]) for p in range(y_true_i.shape[0]) if y_true_i[p] > y_true_f[p]]\n",
        "a"
      ],
      "execution_count": null,
      "outputs": [
        {
          "output_type": "execute_result",
          "data": {
            "text/plain": [
              "[]"
            ]
          },
          "metadata": {},
          "execution_count": 35
        }
      ]
    },
    {
      "cell_type": "markdown",
      "metadata": {
        "id": "67rk-YuanQox"
      },
      "source": [
        "Agregar dos variables al dataset con índice inicial y final"
      ]
    },
    {
      "cell_type": "code",
      "metadata": {
        "colab": {
          "base_uri": "https://localhost:8080/"
        },
        "id": "D22wQIXXm91_",
        "outputId": "b650a39f-74a6-4fe1-d4bf-4d1056551968"
      },
      "source": [
        "df2['start_w'] = y_true_i\n",
        "df2['end_w'] = y_true_f"
      ],
      "execution_count": null,
      "outputs": [
        {
          "output_type": "stream",
          "name": "stderr",
          "text": [
            "/usr/local/lib/python3.7/dist-packages/ipykernel_launcher.py:1: SettingWithCopyWarning: \n",
            "A value is trying to be set on a copy of a slice from a DataFrame.\n",
            "Try using .loc[row_indexer,col_indexer] = value instead\n",
            "\n",
            "See the caveats in the documentation: https://pandas.pydata.org/pandas-docs/stable/user_guide/indexing.html#returning-a-view-versus-a-copy\n",
            "  \"\"\"Entry point for launching an IPython kernel.\n",
            "/usr/local/lib/python3.7/dist-packages/ipykernel_launcher.py:2: SettingWithCopyWarning: \n",
            "A value is trying to be set on a copy of a slice from a DataFrame.\n",
            "Try using .loc[row_indexer,col_indexer] = value instead\n",
            "\n",
            "See the caveats in the documentation: https://pandas.pydata.org/pandas-docs/stable/user_guide/indexing.html#returning-a-view-versus-a-copy\n",
            "  \n"
          ]
        }
      ]
    },
    {
      "cell_type": "markdown",
      "metadata": {
        "id": "655xsPMOn5Lq"
      },
      "source": [
        "validación de tipo de datos en cada las dos variables previamente generadas"
      ]
    },
    {
      "cell_type": "code",
      "metadata": {
        "colab": {
          "base_uri": "https://localhost:8080/"
        },
        "id": "-aW8blSInYmC",
        "outputId": "ad727bf9-1e9e-47a8-d50c-82de63e3d596"
      },
      "source": [
        "val_shape_f = [(type(y_true_f)) for i in range(y_true_f.shape[0]) if type(y_true_f[i]) != type(y_true_f[0]) ]\n",
        "val_shape_i = [(type(y_true_i)) for i in range(y_true_i.shape[0]) if type(y_true_i[i]) != type(y_true_i[0]) ]\n",
        "val_shape_f, val_shape_i"
      ],
      "execution_count": null,
      "outputs": [
        {
          "output_type": "execute_result",
          "data": {
            "text/plain": [
              "([], [])"
            ]
          },
          "metadata": {},
          "execution_count": 37
        }
      ]
    },
    {
      "cell_type": "markdown",
      "metadata": {
        "id": "66CdJf-hGKts"
      },
      "source": [
        "#Longitud de cada tweet\n",
        "\n",
        "Se almacena en una variable la longitud de cada tweet esto para remover el padding al calcular las métricas luego de realizar una predicción al conjunto de test"
      ]
    },
    {
      "cell_type": "code",
      "metadata": {
        "id": "x3vQDwJ7ofHw"
      },
      "source": [
        "def leng2(x):\n",
        "  return len(x.lower().split())"
      ],
      "execution_count": null,
      "outputs": []
    },
    {
      "cell_type": "code",
      "metadata": {
        "id": "3AEs2HIzGKGW"
      },
      "source": [
        "def leng(x):\n",
        "  x = x.lower().split()\n",
        "  a = len(x)\n",
        "  return a"
      ],
      "execution_count": null,
      "outputs": []
    },
    {
      "cell_type": "code",
      "metadata": {
        "colab": {
          "base_uri": "https://localhost:8080/"
        },
        "id": "bufRPuXtoo3T",
        "outputId": "27aceabc-f0a7-4173-f35e-0568dc16328e"
      },
      "source": [
        "a = 'hola mi nombre es Gufy y soy el mejor perro del mundo'\n",
        "b = leng2(a)\n",
        "c = leng(a)\n",
        "print(b,c)"
      ],
      "execution_count": null,
      "outputs": [
        {
          "output_type": "stream",
          "name": "stdout",
          "text": [
            "12 12\n"
          ]
        }
      ]
    },
    {
      "cell_type": "code",
      "metadata": {
        "id": "FfRB8SetGZCf"
      },
      "source": [
        "long = df2.apply(lambda x: leng(x['text']),axis=1)\n",
        "long = np.array(long)"
      ],
      "execution_count": null,
      "outputs": []
    },
    {
      "cell_type": "code",
      "metadata": {
        "colab": {
          "base_uri": "https://localhost:8080/",
          "height": 206
        },
        "id": "o3UutklTGkdW",
        "outputId": "13997859-0021-4c47-9e72-36a0e3afc125"
      },
      "source": [
        "df2.head()"
      ],
      "execution_count": null,
      "outputs": [
        {
          "output_type": "execute_result",
          "data": {
            "text/html": [
              "<div>\n",
              "<style scoped>\n",
              "    .dataframe tbody tr th:only-of-type {\n",
              "        vertical-align: middle;\n",
              "    }\n",
              "\n",
              "    .dataframe tbody tr th {\n",
              "        vertical-align: top;\n",
              "    }\n",
              "\n",
              "    .dataframe thead th {\n",
              "        text-align: right;\n",
              "    }\n",
              "</style>\n",
              "<table border=\"1\" class=\"dataframe\">\n",
              "  <thead>\n",
              "    <tr style=\"text-align: right;\">\n",
              "      <th></th>\n",
              "      <th>text</th>\n",
              "      <th>selected_text</th>\n",
              "      <th>start_w</th>\n",
              "      <th>end_w</th>\n",
              "    </tr>\n",
              "  </thead>\n",
              "  <tbody>\n",
              "    <tr>\n",
              "      <th>0</th>\n",
              "      <td>id responded going</td>\n",
              "      <td>id responded going</td>\n",
              "      <td>0</td>\n",
              "      <td>2</td>\n",
              "    </tr>\n",
              "    <tr>\n",
              "      <th>1</th>\n",
              "      <td>sooo sad miss san diego</td>\n",
              "      <td>sooo sad</td>\n",
              "      <td>0</td>\n",
              "      <td>1</td>\n",
              "    </tr>\n",
              "    <tr>\n",
              "      <th>2</th>\n",
              "      <td>boss bullying</td>\n",
              "      <td>bullying</td>\n",
              "      <td>1</td>\n",
              "      <td>1</td>\n",
              "    </tr>\n",
              "    <tr>\n",
              "      <th>3</th>\n",
              "      <td>interview leave alone</td>\n",
              "      <td>leave alone</td>\n",
              "      <td>1</td>\n",
              "      <td>2</td>\n",
              "    </tr>\n",
              "    <tr>\n",
              "      <th>4</th>\n",
              "      <td>sons couldnt put releases already bought</td>\n",
              "      <td>sons</td>\n",
              "      <td>0</td>\n",
              "      <td>0</td>\n",
              "    </tr>\n",
              "  </tbody>\n",
              "</table>\n",
              "</div>"
            ],
            "text/plain": [
              "                                       text       selected_text  start_w  end_w\n",
              "0                        id responded going  id responded going        0      2\n",
              "1                   sooo sad miss san diego            sooo sad        0      1\n",
              "2                             boss bullying            bullying        1      1\n",
              "3                     interview leave alone         leave alone        1      2\n",
              "4  sons couldnt put releases already bought                sons        0      0"
            ]
          },
          "metadata": {},
          "execution_count": 42
        }
      ]
    },
    {
      "cell_type": "markdown",
      "metadata": {
        "id": "88fudJ6XGduH"
      },
      "source": [
        "#One-hot encodding"
      ]
    },
    {
      "cell_type": "code",
      "metadata": {
        "id": "OSijz-3nanad"
      },
      "source": [
        "y_true_i = to_categorical(y_true_i)"
      ],
      "execution_count": null,
      "outputs": []
    },
    {
      "cell_type": "code",
      "metadata": {
        "colab": {
          "base_uri": "https://localhost:8080/"
        },
        "id": "HjukMLhIanWe",
        "outputId": "e5ad6456-cb9b-470b-fc2b-7a71e71259cb"
      },
      "source": [
        "y_true_i"
      ],
      "execution_count": null,
      "outputs": [
        {
          "output_type": "execute_result",
          "data": {
            "text/plain": [
              "array([[1., 0., 0., ..., 0., 0., 0.],\n",
              "       [1., 0., 0., ..., 0., 0., 0.],\n",
              "       [0., 1., 0., ..., 0., 0., 0.],\n",
              "       ...,\n",
              "       [1., 0., 0., ..., 0., 0., 0.],\n",
              "       [1., 0., 0., ..., 0., 0., 0.],\n",
              "       [1., 0., 0., ..., 0., 0., 0.]], dtype=float32)"
            ]
          },
          "metadata": {},
          "execution_count": 44
        }
      ]
    },
    {
      "cell_type": "code",
      "metadata": {
        "id": "LV7n11p_anTu"
      },
      "source": [
        "y_true_f = to_categorical(y_true_f)"
      ],
      "execution_count": null,
      "outputs": []
    },
    {
      "cell_type": "code",
      "metadata": {
        "colab": {
          "base_uri": "https://localhost:8080/"
        },
        "id": "_0e0o4rlJwHl",
        "outputId": "decb6a85-bca8-4ed0-850a-6d6a5a14bd68"
      },
      "source": [
        "y_true_i.shape, y_true_f.shape"
      ],
      "execution_count": null,
      "outputs": [
        {
          "output_type": "execute_result",
          "data": {
            "text/plain": [
              "((27480, 22), (27480, 25))"
            ]
          },
          "metadata": {},
          "execution_count": 46
        }
      ]
    },
    {
      "cell_type": "markdown",
      "metadata": {
        "id": "kxFCJ4i2Yu59"
      },
      "source": [
        "#nuevo padding"
      ]
    },
    {
      "cell_type": "code",
      "metadata": {
        "id": "kt6ERkv9YuBu"
      },
      "source": [
        "def pad(a,ml):\n",
        "  if len(a) == 0:\n",
        "    c = np.zeros(ml)\n",
        "  else:\n",
        "    b = np.pad(a,ml-len(a))\n",
        "    c = b[ml-len(a):]\n",
        "    c = np.array(c,dtype='float32')\n",
        "  #return list(c)\n",
        "  return c"
      ],
      "execution_count": null,
      "outputs": []
    },
    {
      "cell_type": "code",
      "metadata": {
        "id": "KBYl0m9HY6Y1"
      },
      "source": [
        "y_true_i_2 = [pad(i,25) for i in y_true_i]\n",
        "y_true_i=np.array(y_true_i_2,dtype='float32')"
      ],
      "execution_count": null,
      "outputs": []
    },
    {
      "cell_type": "code",
      "metadata": {
        "id": "DUeaiIyVZFZd"
      },
      "source": [
        "y_true_f_2 = [pad(i,25) for i in y_true_f]\n",
        "y_true_f=np.array(y_true_f_2,dtype='float32')"
      ],
      "execution_count": null,
      "outputs": []
    },
    {
      "cell_type": "code",
      "metadata": {
        "colab": {
          "base_uri": "https://localhost:8080/"
        },
        "id": "OYlbEP3aanQc",
        "outputId": "70212b52-2c30-4145-d33c-ef1a65c78eec"
      },
      "source": [
        "y_true_f.shape, y_true_i.shape"
      ],
      "execution_count": null,
      "outputs": [
        {
          "output_type": "execute_result",
          "data": {
            "text/plain": [
              "((27480, 25), (27480, 25))"
            ]
          },
          "metadata": {},
          "execution_count": 49
        }
      ]
    },
    {
      "cell_type": "code",
      "metadata": {
        "colab": {
          "base_uri": "https://localhost:8080/"
        },
        "id": "qixxfShk8Tx1",
        "outputId": "2c5ee524-2886-4a28-d8c6-d74fcef933f3"
      },
      "source": [
        "y_true_i[0]"
      ],
      "execution_count": null,
      "outputs": [
        {
          "output_type": "execute_result",
          "data": {
            "text/plain": [
              "array([1., 0., 0., 0., 0., 0., 0., 0., 0., 0., 0., 0., 0., 0., 0., 0., 0.,\n",
              "       0., 0., 0., 0., 0., 0., 0., 0.], dtype=float32)"
            ]
          },
          "metadata": {},
          "execution_count": 50
        }
      ]
    },
    {
      "cell_type": "markdown",
      "metadata": {
        "id": "KiQRVYIspfVB"
      },
      "source": [
        "#Codificación del sentimiento para ser una entrada válida en el modelo\n"
      ]
    },
    {
      "cell_type": "code",
      "metadata": {
        "id": "hdIIhDXMpriN"
      },
      "source": [
        "labels1 = {\"sentiment\": {\"neutral\":0,\"positive\":1,\"negative\":2}}"
      ],
      "execution_count": null,
      "outputs": []
    },
    {
      "cell_type": "code",
      "metadata": {
        "id": "_z0Uda9_preK"
      },
      "source": [
        "df = df.replace(labels1)\n",
        "labels = df['sentiment']\n",
        "#labels\n",
        "#labels = to_categorical(labels)"
      ],
      "execution_count": null,
      "outputs": []
    },
    {
      "cell_type": "code",
      "metadata": {
        "colab": {
          "base_uri": "https://localhost:8080/"
        },
        "id": "VB7gPUEeprbk",
        "outputId": "fe6ee2cd-18dc-44a3-f049-f9d0bcece402"
      },
      "source": [
        "labels"
      ],
      "execution_count": null,
      "outputs": [
        {
          "output_type": "execute_result",
          "data": {
            "text/plain": [
              "0        0\n",
              "1        2\n",
              "2        2\n",
              "3        2\n",
              "4        2\n",
              "        ..\n",
              "27475    2\n",
              "27476    2\n",
              "27477    1\n",
              "27478    1\n",
              "27479    0\n",
              "Name: sentiment, Length: 27480, dtype: int64"
            ]
          },
          "metadata": {},
          "execution_count": 53
        }
      ]
    },
    {
      "cell_type": "code",
      "metadata": {
        "colab": {
          "base_uri": "https://localhost:8080/"
        },
        "id": "rGFmOu5yqL4H",
        "outputId": "9fdda079-1e52-4a21-c8f9-27f281f4e81b"
      },
      "source": [
        "labels.shape"
      ],
      "execution_count": null,
      "outputs": [
        {
          "output_type": "execute_result",
          "data": {
            "text/plain": [
              "(27480,)"
            ]
          },
          "metadata": {},
          "execution_count": 48
        }
      ]
    },
    {
      "cell_type": "markdown",
      "metadata": {
        "id": "YPqp2-sXgkUF"
      },
      "source": [
        "#Split de la data"
      ]
    },
    {
      "cell_type": "code",
      "metadata": {
        "id": "EP6Q1S1Kglah"
      },
      "source": [
        "Input_ids_tr, input_ids_te, Input_masks_tr, input_masks_te, Input_segments_tr, input_segments_te,Y_train_i,y_test_i,Y_train_f,y_test_f,long_train,long_test, TS_train, ts_test,l_train,l_test = train_test_split(input_ids, input_masks, input_segments,y_true_i,y_true_f,long,df['text'],labels, test_size=0.15, random_state=42)\n",
        "input_ids_tr, input_ids_val,input_masks_tr, input_masks_val,input_segments_tr, input_segments_val,y_train_i,y_val_i,y_train_f,y_val_f,l_train,l_val= train_test_split(Input_ids_tr,Input_masks_tr,Input_segments_tr,Y_train_i,Y_train_f,long_train, test_size=0.1, random_state=42)\n"
      ],
      "execution_count": null,
      "outputs": []
    },
    {
      "cell_type": "code",
      "metadata": {
        "colab": {
          "base_uri": "https://localhost:8080/"
        },
        "id": "abIivII4HTzX",
        "outputId": "19b016e2-5439-4c20-c774-fdfccb443c73"
      },
      "source": [
        "input_ids_tr.shape, input_ids_val.shape,input_masks_tr.shape, input_masks_val.shape,input_segments_tr.shape, input_segments_val.shape"
      ],
      "execution_count": null,
      "outputs": [
        {
          "output_type": "execute_result",
          "data": {
            "text/plain": [
              "((21022, 60), (2336, 60), (21022, 60), (2336, 60), (21022, 60), (2336, 60))"
            ]
          },
          "metadata": {},
          "execution_count": 59
        }
      ]
    },
    {
      "cell_type": "code",
      "metadata": {
        "colab": {
          "base_uri": "https://localhost:8080/"
        },
        "id": "2VZMAEL808Ai",
        "outputId": "02b28c2b-312d-496b-a1d5-e60c46e44ca4"
      },
      "source": [
        "y_train_i.shape,y_val_i.shape,y_train_f.shape,y_val_f.shape"
      ],
      "execution_count": null,
      "outputs": [
        {
          "output_type": "execute_result",
          "data": {
            "text/plain": [
              "((21022, 25), (2336, 25), (21022, 25), (2336, 25))"
            ]
          },
          "metadata": {},
          "execution_count": 60
        }
      ]
    },
    {
      "cell_type": "code",
      "metadata": {
        "colab": {
          "base_uri": "https://localhost:8080/"
        },
        "id": "agfkjsCXBZ3J",
        "outputId": "2d9b84cd-5639-4da2-f30d-d4c4d43e9f71"
      },
      "source": [
        "ts_test.shape"
      ],
      "execution_count": null,
      "outputs": [
        {
          "output_type": "execute_result",
          "data": {
            "text/plain": [
              "(4122,)"
            ]
          },
          "metadata": {},
          "execution_count": 61
        }
      ]
    },
    {
      "cell_type": "markdown",
      "metadata": {
        "id": "mhpsg2hOlms5"
      },
      "source": [
        "#Definición de métricas"
      ]
    },
    {
      "cell_type": "code",
      "metadata": {
        "id": "i_z-Pj14lmO7"
      },
      "source": [
        "from keras import backend as K\n",
        "\n",
        "def recall_m(y_true, y_pred):\n",
        "    true_positives = K.sum(K.round(K.clip(y_true * y_pred, 0, 1)))\n",
        "    possible_positives = K.sum(K.round(K.clip(y_true, 0, 1)))\n",
        "    recall = true_positives / (possible_positives + K.epsilon())\n",
        "    return recall\n",
        "\n",
        "def precision_m(y_true, y_pred):\n",
        "    true_positives = K.sum(K.round(K.clip(y_true * y_pred, 0, 1)))\n",
        "    predicted_positives = K.sum(K.round(K.clip(y_pred, 0, 1)))\n",
        "    precision = true_positives / (predicted_positives + K.epsilon())\n",
        "    return precision\n",
        "\n",
        "def f1_m(y_true, y_pred):\n",
        "    precision = precision_m(y_true, y_pred)\n",
        "    recall = recall_m(y_true, y_pred)\n",
        "    return 2*((precision*recall)/(precision+recall+K.epsilon()))"
      ],
      "execution_count": null,
      "outputs": []
    },
    {
      "cell_type": "markdown",
      "metadata": {
        "id": "cxTfecljj0AY"
      },
      "source": [
        "#Diseño de 3 modelos"
      ]
    },
    {
      "cell_type": "code",
      "metadata": {
        "colab": {
          "base_uri": "https://localhost:8080/"
        },
        "id": "aWPMLK8HGslX",
        "outputId": "0d0c5d1f-2fcf-4c09-a41c-f145d49c76a5"
      },
      "source": [
        "tf.config.list_physical_devices('GPU')\n",
        "tf.distribute.MirroredStrategy"
      ],
      "execution_count": null,
      "outputs": [
        {
          "output_type": "execute_result",
          "data": {
            "text/plain": [
              "tensorflow.python.distribute.mirrored_strategy.MirroredStrategy"
            ]
          },
          "metadata": {},
          "execution_count": 63
        }
      ]
    },
    {
      "cell_type": "code",
      "metadata": {
        "id": "JG-YLaTqJyhn"
      },
      "source": [
        "import tensorflow as tf"
      ],
      "execution_count": null,
      "outputs": []
    },
    {
      "cell_type": "code",
      "metadata": {
        "id": "oJeuEXuOj3E2"
      },
      "source": [
        "from tensorflow.keras.layers import Dense, Flatten, Conv2D, Conv1D, MaxPooling1D, LSTM, Concatenate, RepeatVector, Concatenate, Input, Dropout\n",
        "from tensorflow.keras.callbacks import EarlyStopping\n",
        "from tensorflow.keras import Model,Input\n",
        "from keras.preprocessing.text import Tokenizer\n",
        "from keras.preprocessing.sequence import pad_sequences\n",
        "from keras.models import Sequential\n",
        "from keras.layers import Dense, Dropout, Bidirectional\n",
        "from keras.layers import Flatten\n",
        "from keras.layers import Embedding\n",
        "from tensorflow.keras import callbacks\n",
        "from numpy import array\n",
        "from numpy import asarray\n",
        "from numpy import zeros\n",
        "from tensorflow.compat.v1 import ConfigProto\n",
        "from tensorflow.compat.v1 import InteractiveSession\n",
        "from tensorflow.keras import optimizers\n",
        "from tensorflow.keras.metrics import Recall, Precision"
      ],
      "execution_count": null,
      "outputs": []
    },
    {
      "cell_type": "markdown",
      "metadata": {
        "id": "YznAI3E43wDn"
      },
      "source": [
        "##Modelo con una red neuronal recurrente LSTM"
      ]
    },
    {
      "cell_type": "code",
      "metadata": {
        "colab": {
          "base_uri": "https://localhost:8080/"
        },
        "id": "ZKNk2WJdAXAl",
        "outputId": "c6b26627-ef5b-44ce-ba5f-34fb652e9e9f"
      },
      "source": [
        "input_word_ids = Input(shape=(max_seq_length,), dtype=tf.int32,\n",
        "                                       name=\"input_word_ids\")\n",
        "input_mask = Input(shape=(max_seq_length,), dtype=tf.int32,\n",
        "                                   name=\"input_mask\")\n",
        "segment_ids = Input(shape=(max_seq_length,), dtype=tf.int32,\n",
        "                                    name=\"segment_ids\")\n",
        "\n",
        "sentiment = Input(shape=(1,), dtype='int32')\n",
        "\n",
        "pooled_output, sequence_output = bert_layer([input_word_ids, input_mask, segment_ids])\n",
        "\n",
        "xs = Embedding(3,20)(sentiment)\n",
        "xs = Flatten()(xs)\n",
        "xs = RepeatVector(60)(xs)\n",
        "\n",
        "x = Concatenate(axis=-1)([xs,sequence_output])\n",
        "\n",
        "#recurrent = Bidirectional(LSTM(50,return_sequences=True))(x)\n",
        "recurrent2 = LSTM(50,return_sequences=False)(x)\n",
        "        \n",
        "dense1 = Dense(128,activation='relu')(recurrent2)\n",
        "drop1 = Dropout(0.3)(dense1)\n",
        "        \n",
        "dense21 = Dense(25,activation='softmax')(drop1)\n",
        "dense22 = Dense(25,activation='softmax')(drop1)\n",
        "early = EarlyStopping(monitor='loss', patience=2,restore_best_weights=True)\n",
        "\n",
        "model2 = Model(inputs=[input_word_ids, input_mask, segment_ids,sentiment], outputs=[dense21,dense22])\n",
        "optimizer = tf.keras.optimizers.Adam(learning_rate=3e-5)\n",
        "model2.compile(loss=['categorical_crossentropy','categorical_crossentropy'], optimizer=optimizer,metrics=['accuracy',Recall(),Precision()])\n",
        "model2.summary()\n",
        "\n",
        "#model2.fit([input_ids_tr,input_masks_tr,input_segments_tr,l_train], [y_train_i,y_train_f], validation_split=0.1,batch_size=32, epochs=4, verbose=1,callbacks=[early])"
      ],
      "execution_count": null,
      "outputs": [
        {
          "output_type": "stream",
          "name": "stdout",
          "text": [
            "Model: \"model\"\n",
            "__________________________________________________________________________________________________\n",
            "Layer (type)                    Output Shape         Param #     Connected to                     \n",
            "==================================================================================================\n",
            "input_1 (InputLayer)            [(None, 1)]          0                                            \n",
            "__________________________________________________________________________________________________\n",
            "embedding (Embedding)           (None, 1, 20)        60          input_1[0][0]                    \n",
            "__________________________________________________________________________________________________\n",
            "flatten (Flatten)               (None, 20)           0           embedding[0][0]                  \n",
            "__________________________________________________________________________________________________\n",
            "input_word_ids (InputLayer)     [(None, 60)]         0                                            \n",
            "__________________________________________________________________________________________________\n",
            "input_mask (InputLayer)         [(None, 60)]         0                                            \n",
            "__________________________________________________________________________________________________\n",
            "segment_ids (InputLayer)        [(None, 60)]         0                                            \n",
            "__________________________________________________________________________________________________\n",
            "repeat_vector (RepeatVector)    (None, 60, 20)       0           flatten[0][0]                    \n",
            "__________________________________________________________________________________________________\n",
            "keras_layer (KerasLayer)        [(None, 768), (None, 109482241   input_word_ids[0][0]             \n",
            "                                                                 input_mask[0][0]                 \n",
            "                                                                 segment_ids[0][0]                \n",
            "__________________________________________________________________________________________________\n",
            "concatenate (Concatenate)       (None, 60, 788)      0           repeat_vector[0][0]              \n",
            "                                                                 keras_layer[0][1]                \n",
            "__________________________________________________________________________________________________\n",
            "lstm (LSTM)                     (None, 50)           167800      concatenate[0][0]                \n",
            "__________________________________________________________________________________________________\n",
            "dense (Dense)                   (None, 128)          6528        lstm[0][0]                       \n",
            "__________________________________________________________________________________________________\n",
            "dropout (Dropout)               (None, 128)          0           dense[0][0]                      \n",
            "__________________________________________________________________________________________________\n",
            "dense_1 (Dense)                 (None, 25)           3225        dropout[0][0]                    \n",
            "__________________________________________________________________________________________________\n",
            "dense_2 (Dense)                 (None, 25)           3225        dropout[0][0]                    \n",
            "==================================================================================================\n",
            "Total params: 109,663,079\n",
            "Trainable params: 180,838\n",
            "Non-trainable params: 109,482,241\n",
            "__________________________________________________________________________________________________\n"
          ]
        }
      ]
    },
    {
      "cell_type": "code",
      "metadata": {
        "colab": {
          "base_uri": "https://localhost:8080/",
          "height": 435
        },
        "id": "58Zhz09EypzH",
        "outputId": "8c0fba8e-eb0a-4d38-c7b9-508be2a3eb1d"
      },
      "source": [
        "tensorflow.keras.utils.plot_model(model2, \"BERT.png\",show_shapes=True, show_dtype=True,\n",
        "    show_layer_names=True, rankdir='TB', expand_nested=True, dpi=96,\n",
        "    layer_range=None)"
      ],
      "execution_count": null,
      "outputs": [
        {
          "output_type": "execute_result",
          "data": {
            "image/png": "[encoded data removed]",
            "text/plain": [
              "<IPython.core.display.Image object>"
            ]
          },
          "metadata": {},
          "execution_count": 10
        }
      ]
    },
    {
      "cell_type": "code",
      "metadata": {
        "colab": {
          "base_uri": "https://localhost:8080/"
        },
        "id": "k1F-OhnBWNoY",
        "outputId": "caaf3601-24e2-439a-bd03-cecc3bc25af2"
      },
      "source": [
        "model2.fit([input_ids_tr,input_masks_tr,input_segments_tr,l_train], [y_train_i,y_train_f], validation_split=0.1,batch_size=32, epochs=12, verbose=1,callbacks=[early])"
      ],
      "execution_count": null,
      "outputs": [
        {
          "output_type": "stream",
          "name": "stdout",
          "text": [
            "Epoch 1/12\n",
            "592/592 [==============================] - 194s 316ms/step - loss: 5.1166 - dense_19_loss: 2.0988 - dense_20_loss: 3.0178 - dense_19_accuracy: 0.5718 - dense_19_recall_6: 0.2030 - dense_19_precision_6: 0.6486 - dense_20_accuracy: 0.0821 - dense_20_recall_6: 0.0000e+00 - dense_20_precision_6: 0.0000e+00 - val_loss: 4.3908 - val_dense_19_loss: 1.6504 - val_dense_20_loss: 2.7404 - val_dense_19_accuracy: 0.6205 - val_dense_19_recall_6: 0.5892 - val_dense_19_precision_6: 0.6245 - val_dense_20_accuracy: 0.1317 - val_dense_20_recall_6: 0.0000e+00 - val_dense_20_precision_6: 0.0000e+00\n",
            "Epoch 2/12\n",
            "592/592 [==============================] - 185s 312ms/step - loss: 4.3233 - dense_19_loss: 1.6233 - dense_20_loss: 2.7000 - dense_19_accuracy: 0.6290 - dense_19_recall_6: 0.4888 - dense_19_precision_6: 0.6473 - dense_20_accuracy: 0.1302 - dense_20_recall_6: 5.2857e-05 - dense_20_precision_6: 0.2500 - val_loss: 4.0999 - val_dense_19_loss: 1.5504 - val_dense_20_loss: 2.5496 - val_dense_19_accuracy: 0.6205 - val_dense_19_recall_6: 0.5934 - val_dense_19_precision_6: 0.6240 - val_dense_20_accuracy: 0.1284 - val_dense_20_recall_6: 0.0000e+00 - val_dense_20_precision_6: 0.0000e+00\n",
            "Epoch 3/12\n",
            "592/592 [==============================] - 184s 311ms/step - loss: 4.1333 - dense_19_loss: 1.5562 - dense_20_loss: 2.5771 - dense_19_accuracy: 0.6291 - dense_19_recall_6: 0.4810 - dense_19_precision_6: 0.6602 - dense_20_accuracy: 0.1406 - dense_20_recall_6: 0.0025 - dense_20_precision_6: 0.5402 - val_loss: 3.9552 - val_dense_19_loss: 1.5087 - val_dense_20_loss: 2.4465 - val_dense_19_accuracy: 0.6205 - val_dense_19_recall_6: 0.5478 - val_dense_19_precision_6: 0.6425 - val_dense_20_accuracy: 0.1460 - val_dense_20_recall_6: 0.0000e+00 - val_dense_20_precision_6: 0.0000e+00\n",
            "Epoch 4/12\n",
            "592/592 [==============================] - 184s 310ms/step - loss: 4.0028 - dense_19_loss: 1.5229 - dense_20_loss: 2.4799 - dense_19_accuracy: 0.6277 - dense_19_recall_6: 0.4731 - dense_19_precision_6: 0.6719 - dense_20_accuracy: 0.1546 - dense_20_recall_6: 0.0094 - dense_20_precision_6: 0.5427 - val_loss: 3.8441 - val_dense_19_loss: 1.4809 - val_dense_20_loss: 2.3632 - val_dense_19_accuracy: 0.6205 - val_dense_19_recall_6: 0.5178 - val_dense_19_precision_6: 0.6600 - val_dense_20_accuracy: 0.1621 - val_dense_20_recall_6: 0.0024 - val_dense_20_precision_6: 0.5000\n",
            "Epoch 5/12\n",
            "592/592 [==============================] - 183s 310ms/step - loss: 3.9099 - dense_19_loss: 1.5021 - dense_20_loss: 2.4078 - dense_19_accuracy: 0.6285 - dense_19_recall_6: 0.4719 - dense_19_precision_6: 0.6759 - dense_20_accuracy: 0.1687 - dense_20_recall_6: 0.0209 - dense_20_precision_6: 0.6276 - val_loss: 3.7531 - val_dense_19_loss: 1.4579 - val_dense_20_loss: 2.2953 - val_dense_19_accuracy: 0.6205 - val_dense_19_recall_6: 0.5045 - val_dense_19_precision_6: 0.6669 - val_dense_20_accuracy: 0.1840 - val_dense_20_recall_6: 0.0304 - val_dense_20_precision_6: 0.7356\n",
            "Epoch 6/12\n",
            "592/592 [==============================] - 183s 309ms/step - loss: 3.8163 - dense_19_loss: 1.4755 - dense_20_loss: 2.3409 - dense_19_accuracy: 0.6278 - dense_19_recall_6: 0.4754 - dense_19_precision_6: 0.6847 - dense_20_accuracy: 0.1854 - dense_20_recall_6: 0.0324 - dense_20_precision_6: 0.6556 - val_loss: 3.6772 - val_dense_19_loss: 1.4411 - val_dense_20_loss: 2.2361 - val_dense_19_accuracy: 0.6210 - val_dense_19_recall_6: 0.4926 - val_dense_19_precision_6: 0.6789 - val_dense_20_accuracy: 0.2173 - val_dense_20_recall_6: 0.0418 - val_dense_20_precision_6: 0.7652\n",
            "Epoch 7/12\n",
            "592/592 [==============================] - 183s 310ms/step - loss: 3.7464 - dense_19_loss: 1.4543 - dense_20_loss: 2.2921 - dense_19_accuracy: 0.6269 - dense_19_recall_6: 0.4777 - dense_19_precision_6: 0.6859 - dense_20_accuracy: 0.2000 - dense_20_recall_6: 0.0396 - dense_20_precision_6: 0.6539 - val_loss: 3.6221 - val_dense_19_loss: 1.4303 - val_dense_20_loss: 2.1919 - val_dense_19_accuracy: 0.6215 - val_dense_19_recall_6: 0.5226 - val_dense_19_precision_6: 0.6759 - val_dense_20_accuracy: 0.2278 - val_dense_20_recall_6: 0.0566 - val_dense_20_precision_6: 0.7677\n",
            "Epoch 8/12\n",
            "592/592 [==============================] - 183s 309ms/step - loss: 3.6829 - dense_19_loss: 1.4389 - dense_20_loss: 2.2440 - dense_19_accuracy: 0.6277 - dense_19_recall_6: 0.4840 - dense_19_precision_6: 0.6871 - dense_20_accuracy: 0.2159 - dense_20_recall_6: 0.0522 - dense_20_precision_6: 0.6833 - val_loss: 3.5703 - val_dense_19_loss: 1.4161 - val_dense_20_loss: 2.1542 - val_dense_19_accuracy: 0.6215 - val_dense_19_recall_6: 0.5074 - val_dense_19_precision_6: 0.6822 - val_dense_20_accuracy: 0.2439 - val_dense_20_recall_6: 0.0647 - val_dense_20_precision_6: 0.7861\n",
            "Epoch 9/12\n",
            "592/592 [==============================] - 183s 309ms/step - loss: 3.6217 - dense_19_loss: 1.4205 - dense_20_loss: 2.2012 - dense_19_accuracy: 0.6270 - dense_19_recall_6: 0.4881 - dense_19_precision_6: 0.6929 - dense_20_accuracy: 0.2236 - dense_20_recall_6: 0.0624 - dense_20_precision_6: 0.6939 - val_loss: 3.5331 - val_dense_19_loss: 1.4063 - val_dense_20_loss: 2.1268 - val_dense_19_accuracy: 0.6215 - val_dense_19_recall_6: 0.5226 - val_dense_19_precision_6: 0.6788 - val_dense_20_accuracy: 0.2577 - val_dense_20_recall_6: 0.0728 - val_dense_20_precision_6: 0.8226\n",
            "Epoch 10/12\n",
            "592/592 [==============================] - 184s 310ms/step - loss: 3.5862 - dense_19_loss: 1.4092 - dense_20_loss: 2.1770 - dense_19_accuracy: 0.6281 - dense_19_recall_6: 0.4914 - dense_19_precision_6: 0.6960 - dense_20_accuracy: 0.2331 - dense_20_recall_6: 0.0705 - dense_20_precision_6: 0.7296 - val_loss: 3.5000 - val_dense_19_loss: 1.4000 - val_dense_20_loss: 2.1001 - val_dense_19_accuracy: 0.6215 - val_dense_19_recall_6: 0.5169 - val_dense_19_precision_6: 0.6832 - val_dense_20_accuracy: 0.2606 - val_dense_20_recall_6: 0.0827 - val_dense_20_precision_6: 0.8365\n",
            "Epoch 11/12\n",
            "592/592 [==============================] - 185s 312ms/step - loss: 3.5417 - dense_19_loss: 1.3951 - dense_20_loss: 2.1466 - dense_19_accuracy: 0.6283 - dense_19_recall_6: 0.4936 - dense_19_precision_6: 0.6981 - dense_20_accuracy: 0.2454 - dense_20_recall_6: 0.0787 - dense_20_precision_6: 0.7433 - val_loss: 3.4711 - val_dense_19_loss: 1.3918 - val_dense_20_loss: 2.0793 - val_dense_19_accuracy: 0.6220 - val_dense_19_recall_6: 0.4993 - val_dense_19_precision_6: 0.6926 - val_dense_20_accuracy: 0.2620 - val_dense_20_recall_6: 0.0918 - val_dense_20_precision_6: 0.8578\n",
            "Epoch 12/12\n",
            "592/592 [==============================] - 185s 312ms/step - loss: 3.5086 - dense_19_loss: 1.3833 - dense_20_loss: 2.1252 - dense_19_accuracy: 0.6282 - dense_19_recall_6: 0.4917 - dense_19_precision_6: 0.7014 - dense_20_accuracy: 0.2463 - dense_20_recall_6: 0.0852 - dense_20_precision_6: 0.7371 - val_loss: 3.4502 - val_dense_19_loss: 1.3884 - val_dense_20_loss: 2.0617 - val_dense_19_accuracy: 0.6215 - val_dense_19_recall_6: 0.4746 - val_dense_19_precision_6: 0.7063 - val_dense_20_accuracy: 0.2815 - val_dense_20_recall_6: 0.0946 - val_dense_20_precision_6: 0.8844\n"
          ]
        },
        {
          "output_type": "execute_result",
          "data": {
            "text/plain": [
              "<keras.callbacks.History at 0x7f4c68836f10>"
            ]
          },
          "metadata": {},
          "execution_count": 292
        }
      ]
    },
    {
      "cell_type": "code",
      "metadata": {
        "colab": {
          "base_uri": "https://localhost:8080/",
          "height": 577
        },
        "id": "hQJu6nwtYv03",
        "outputId": "f6f7b847-dec1-4374-f729-6e34b344d950"
      },
      "source": [
        "tensorflow.keras.utils.plot_model(model2, \"bert_model.png\",show_shapes=True, show_dtype=True,\n",
        "    show_layer_names=True, rankdir='TB', expand_nested=True, dpi=96,\n",
        "    layer_range=None)"
      ],
      "execution_count": null,
      "outputs": [
        {
          "output_type": "execute_result",
          "data": {
            "image/png": "[encoded data removed]",
            "text/plain": [
              "<IPython.core.display.Image object>"
            ]
          },
          "metadata": {},
          "execution_count": 293
        }
      ]
    },
    {
      "cell_type": "markdown",
      "metadata": {
        "id": "NTK2pl_kZ7bO"
      },
      "source": [
        "#Modelo basado en redes neuronales Convolucionales"
      ]
    },
    {
      "cell_type": "code",
      "metadata": {
        "colab": {
          "base_uri": "https://localhost:8080/"
        },
        "id": "429QoFMlZCnF",
        "outputId": "70016f49-69f5-4709-860e-fedc3ec885e6"
      },
      "source": [
        "input_word_ids = Input(shape=(max_seq_length,), dtype=tf.int32,\n",
        "                                       name=\"input_word_ids\")\n",
        "input_mask = Input(shape=(max_seq_length,), dtype=tf.int32,\n",
        "                                   name=\"input_mask\")\n",
        "segment_ids = Input(shape=(max_seq_length,), dtype=tf.int32,\n",
        "                                    name=\"segment_ids\")\n",
        "\n",
        "sentiment = Input(shape=(1,), dtype='int32')\n",
        "\n",
        "pooled_output, sequence_output = bert_layer([input_word_ids, input_mask, segment_ids])\n",
        "\n",
        "xs = Embedding(3,20)(sentiment)\n",
        "xs = Flatten()(xs)\n",
        "xs = RepeatVector(60)(xs)\n",
        "\n",
        "x = Concatenate(axis=-1)([xs,sequence_output])\n",
        "\n",
        "\n",
        "x = Conv1D(256, 5, activation='relu',padding = 'same')(x)\n",
        "x = MaxPooling1D(2)(x)\n",
        "x = Conv1D(256, 5, activation='relu')(x)\n",
        "x = MaxPooling1D(21)(x)\n",
        "x1 = tf.keras.layers.Flatten()(x)\n",
        "x1 = Dense(256, activation='relu')(x1)\n",
        "\n",
        "x11 = Dense(25, activation='softmax')(x1)\n",
        "    \n",
        "\n",
        "x2 = Dense(25, activation='softmax')(x1)\n",
        "\n",
        "early = EarlyStopping(monitor='loss', patience=2,restore_best_weights=True)\n",
        "\n",
        "model = Model(inputs=[input_word_ids, input_mask, segment_ids,sentiment], outputs=[x11,x2])\n",
        "optimizer = tf.keras.optimizers.Adam(learning_rate=3e-5)\n",
        "model.compile(loss=['categorical_crossentropy','categorical_crossentropy'], optimizer=optimizer,metrics=['accuracy',Recall(),Precision()])\n",
        "model.summary()"
      ],
      "execution_count": null,
      "outputs": [
        {
          "output_type": "stream",
          "name": "stdout",
          "text": [
            "Model: \"model_4\"\n",
            "__________________________________________________________________________________________________\n",
            "Layer (type)                    Output Shape         Param #     Connected to                     \n",
            "==================================================================================================\n",
            "input_5 (InputLayer)            [(None, 1)]          0                                            \n",
            "__________________________________________________________________________________________________\n",
            "embedding_4 (Embedding)         (None, 1, 20)        60          input_5[0][0]                    \n",
            "__________________________________________________________________________________________________\n",
            "flatten_9 (Flatten)             (None, 20)           0           embedding_4[0][0]                \n",
            "__________________________________________________________________________________________________\n",
            "input_word_ids (InputLayer)     [(None, 60)]         0                                            \n",
            "__________________________________________________________________________________________________\n",
            "input_mask (InputLayer)         [(None, 60)]         0                                            \n",
            "__________________________________________________________________________________________________\n",
            "segment_ids (InputLayer)        [(None, 60)]         0                                            \n",
            "__________________________________________________________________________________________________\n",
            "repeat_vector_4 (RepeatVector)  (None, 60, 20)       0           flatten_9[0][0]                  \n",
            "__________________________________________________________________________________________________\n",
            "keras_layer (KerasLayer)        [(None, 768), (None, 109482241   input_word_ids[0][0]             \n",
            "                                                                 input_mask[0][0]                 \n",
            "                                                                 segment_ids[0][0]                \n",
            "__________________________________________________________________________________________________\n",
            "concatenate_4 (Concatenate)     (None, 60, 788)      0           repeat_vector_4[0][0]            \n",
            "                                                                 keras_layer[7][1]                \n",
            "__________________________________________________________________________________________________\n",
            "conv1d_13 (Conv1D)              (None, 60, 256)      1008896     concatenate_4[0][0]              \n",
            "__________________________________________________________________________________________________\n",
            "max_pooling1d_12 (MaxPooling1D) (None, 30, 256)      0           conv1d_13[0][0]                  \n",
            "__________________________________________________________________________________________________\n",
            "conv1d_14 (Conv1D)              (None, 26, 256)      327936      max_pooling1d_12[0][0]           \n",
            "__________________________________________________________________________________________________\n",
            "max_pooling1d_13 (MaxPooling1D) (None, 1, 256)       0           conv1d_14[0][0]                  \n",
            "__________________________________________________________________________________________________\n",
            "flatten_10 (Flatten)            (None, 256)          0           max_pooling1d_13[0][0]           \n",
            "__________________________________________________________________________________________________\n",
            "dense_14 (Dense)                (None, 256)          65792       flatten_10[0][0]                 \n",
            "__________________________________________________________________________________________________\n",
            "dense_15 (Dense)                (None, 25)           6425        dense_14[0][0]                   \n",
            "__________________________________________________________________________________________________\n",
            "dense_16 (Dense)                (None, 25)           6425        dense_14[0][0]                   \n",
            "==================================================================================================\n",
            "Total params: 110,897,775\n",
            "Trainable params: 1,415,534\n",
            "Non-trainable params: 109,482,241\n",
            "__________________________________________________________________________________________________\n"
          ]
        }
      ]
    },
    {
      "cell_type": "code",
      "metadata": {
        "id": "TpR5XIgyadfV"
      },
      "source": [
        "model.fit([input_ids_tr,input_masks_tr,input_segments_tr,l_train], [y_train_i,y_train_f], validation_split=0.1,batch_size=32, epochs=12, verbose=1,callbacks=[early])"
      ],
      "execution_count": null,
      "outputs": []
    },
    {
      "cell_type": "markdown",
      "metadata": {
        "id": "t4NyMsO2pCi9"
      },
      "source": [
        "##Modelo RNN sin anexarle el sentimiento"
      ]
    },
    {
      "cell_type": "code",
      "metadata": {
        "colab": {
          "base_uri": "https://localhost:8080/"
        },
        "id": "bqKDLgwOnwhl",
        "outputId": "4656874c-c8b4-4e6c-d717-1fa5005e51da"
      },
      "source": [
        "input_word_ids = Input(shape=(max_seq_length,), dtype=tf.int32,\n",
        "                                       name=\"input_word_ids\")\n",
        "input_mask = Input(shape=(max_seq_length,), dtype=tf.int32,\n",
        "                                   name=\"input_mask\")\n",
        "segment_ids = Input(shape=(max_seq_length,), dtype=tf.int32,\n",
        "                                    name=\"segment_ids\")\n",
        "\n",
        "#sentiment = Input(shape=(1,), dtype='int32')\n",
        "\n",
        "pooled_output, sequence_output = bert_layer([input_word_ids, input_mask, segment_ids])\n",
        "\n",
        "#xs = Embedding(3,20)(sentiment)\n",
        "#xs = Flatten()(xs)\n",
        "#xs = RepeatVector(60)(xs)\n",
        "\n",
        "#x = Concatenate(axis=-1)([xs,sequence_output])\n",
        "\n",
        "#recurrent = Bidirectional(LSTM(50,return_sequences=True))(x)\n",
        "recurrent2 = LSTM(50,return_sequences=False)(sequence_output)\n",
        "        \n",
        "dense1 = Dense(128,activation='relu')(recurrent2)\n",
        "drop1 = Dropout(0.3)(dense1)\n",
        "        \n",
        "dense21 = Dense(25,activation='softmax')(drop1)\n",
        "dense22 = Dense(25,activation='softmax')(drop1)\n",
        "early = EarlyStopping(monitor='loss', patience=2,restore_best_weights=True)\n",
        "\n",
        "model3 = Model(inputs=[input_word_ids, input_mask, segment_ids], outputs=[dense21,dense22])\n",
        "optimizer = tf.keras.optimizers.Adam(learning_rate=3e-5)\n",
        "model3.compile(loss=['categorical_crossentropy','categorical_crossentropy'], optimizer=optimizer,metrics=['accuracy',Recall(),Precision()])\n",
        "model3.summary()"
      ],
      "execution_count": null,
      "outputs": [
        {
          "output_type": "stream",
          "name": "stdout",
          "text": [
            "Model: \"model_6\"\n",
            "__________________________________________________________________________________________________\n",
            "Layer (type)                    Output Shape         Param #     Connected to                     \n",
            "==================================================================================================\n",
            "input_word_ids (InputLayer)     [(None, 60)]         0                                            \n",
            "__________________________________________________________________________________________________\n",
            "input_mask (InputLayer)         [(None, 60)]         0                                            \n",
            "__________________________________________________________________________________________________\n",
            "segment_ids (InputLayer)        [(None, 60)]         0                                            \n",
            "__________________________________________________________________________________________________\n",
            "keras_layer (KerasLayer)        [(None, 768), (None, 109482241   input_word_ids[0][0]             \n",
            "                                                                 input_mask[0][0]                 \n",
            "                                                                 segment_ids[0][0]                \n",
            "__________________________________________________________________________________________________\n",
            "lstm_1 (LSTM)                   (None, 50)           163800      keras_layer[9][1]                \n",
            "__________________________________________________________________________________________________\n",
            "dense_20 (Dense)                (None, 128)          6528        lstm_1[0][0]                     \n",
            "__________________________________________________________________________________________________\n",
            "dropout_1 (Dropout)             (None, 128)          0           dense_20[0][0]                   \n",
            "__________________________________________________________________________________________________\n",
            "dense_21 (Dense)                (None, 25)           3225        dropout_1[0][0]                  \n",
            "__________________________________________________________________________________________________\n",
            "dense_22 (Dense)                (None, 25)           3225        dropout_1[0][0]                  \n",
            "==================================================================================================\n",
            "Total params: 109,659,019\n",
            "Trainable params: 176,778\n",
            "Non-trainable params: 109,482,241\n",
            "__________________________________________________________________________________________________\n"
          ]
        }
      ]
    },
    {
      "cell_type": "code",
      "metadata": {
        "colab": {
          "base_uri": "https://localhost:8080/"
        },
        "id": "nDDWmZ16pdwt",
        "outputId": "0ca74aad-ab53-4a4a-8347-dfb9b7032e6c"
      },
      "source": [
        "model3.fit([input_ids_tr,input_masks_tr,input_segments_tr], [y_train_i,y_train_f], validation_split=0.1,batch_size=32, epochs=12, verbose=1,callbacks=[early])"
      ],
      "execution_count": null,
      "outputs": [
        {
          "output_type": "stream",
          "name": "stdout",
          "text": [
            "Epoch 1/12\n",
            "592/592 [==============================] - 189s 320ms/step - loss: 3.9930 - dense_21_loss: 1.5209 - dense_22_loss: 2.4721 - dense_21_accuracy: 0.6285 - dense_21_recall_5: 0.4705 - dense_21_precision_5: 0.6667 - dense_22_accuracy: 0.1462 - dense_22_recall_5: 0.0064 - dense_22_precision_5: 0.4859 - val_loss: 3.8442 - val_dense_21_loss: 1.4852 - val_dense_22_loss: 2.3590 - val_dense_21_accuracy: 0.6205 - val_dense_21_recall_5: 0.4826 - val_dense_21_precision_5: 0.6700 - val_dense_22_accuracy: 0.1612 - val_dense_22_recall_5: 0.0000e+00 - val_dense_22_precision_5: 0.0000e+00\n",
            "Epoch 2/12\n",
            "592/592 [==============================] - 189s 319ms/step - loss: 3.9044 - dense_21_loss: 1.4977 - dense_22_loss: 2.4067 - dense_21_accuracy: 0.6278 - dense_21_recall_5: 0.4675 - dense_21_precision_5: 0.6760 - dense_22_accuracy: 0.1552 - dense_22_recall_5: 0.0088 - dense_22_precision_5: 0.4548 - val_loss: 3.7649 - val_dense_21_loss: 1.4645 - val_dense_22_loss: 2.3003 - val_dense_21_accuracy: 0.6205 - val_dense_21_recall_5: 0.5212 - val_dense_21_precision_5: 0.6663 - val_dense_22_accuracy: 0.1893 - val_dense_22_recall_5: 0.0000e+00 - val_dense_22_precision_5: 0.0000e+00\n",
            "Epoch 3/12\n",
            "592/592 [==============================] - 189s 320ms/step - loss: 3.8363 - dense_21_loss: 1.4750 - dense_22_loss: 2.3613 - dense_21_accuracy: 0.6278 - dense_21_recall_5: 0.4774 - dense_21_precision_5: 0.6817 - dense_22_accuracy: 0.1605 - dense_22_recall_5: 0.0142 - dense_22_precision_5: 0.5285 - val_loss: 3.7079 - val_dense_21_loss: 1.4496 - val_dense_22_loss: 2.2583 - val_dense_21_accuracy: 0.6205 - val_dense_21_recall_5: 0.5064 - val_dense_21_precision_5: 0.6732 - val_dense_22_accuracy: 0.2140 - val_dense_22_recall_5: 0.0000e+00 - val_dense_22_precision_5: 0.0000e+00\n",
            "Epoch 4/12\n",
            "592/592 [==============================] - 189s 319ms/step - loss: 3.7659 - dense_21_loss: 1.4538 - dense_22_loss: 2.3122 - dense_21_accuracy: 0.6278 - dense_21_recall_5: 0.4837 - dense_21_precision_5: 0.6847 - dense_22_accuracy: 0.1822 - dense_22_recall_5: 0.0190 - dense_22_precision_5: 0.5423 - val_loss: 3.6576 - val_dense_21_loss: 1.4368 - val_dense_22_loss: 2.2209 - val_dense_21_accuracy: 0.6205 - val_dense_21_recall_5: 0.5197 - val_dense_21_precision_5: 0.6718 - val_dense_22_accuracy: 0.2211 - val_dense_22_recall_5: 0.0029 - val_dense_22_precision_5: 0.8571\n",
            "Epoch 5/12\n",
            "592/592 [==============================] - 189s 319ms/step - loss: 3.7012 - dense_21_loss: 1.4358 - dense_22_loss: 2.2654 - dense_21_accuracy: 0.6286 - dense_21_recall_5: 0.4898 - dense_21_precision_5: 0.6857 - dense_22_accuracy: 0.1970 - dense_22_recall_5: 0.0227 - dense_22_precision_5: 0.5665 - val_loss: 3.6125 - val_dense_21_loss: 1.4252 - val_dense_22_loss: 2.1873 - val_dense_21_accuracy: 0.6215 - val_dense_21_recall_5: 0.5231 - val_dense_21_precision_5: 0.6732 - val_dense_22_accuracy: 0.2335 - val_dense_22_recall_5: 0.0133 - val_dense_22_precision_5: 0.9032\n",
            "Epoch 6/12\n",
            "592/592 [==============================] - 188s 318ms/step - loss: 3.6590 - dense_21_loss: 1.4251 - dense_22_loss: 2.2339 - dense_21_accuracy: 0.6289 - dense_21_recall_5: 0.4897 - dense_21_precision_5: 0.6881 - dense_22_accuracy: 0.2028 - dense_22_recall_5: 0.0272 - dense_22_precision_5: 0.6045 - val_loss: 3.5765 - val_dense_21_loss: 1.4163 - val_dense_22_loss: 2.1602 - val_dense_21_accuracy: 0.6215 - val_dense_21_recall_5: 0.5259 - val_dense_21_precision_5: 0.6748 - val_dense_22_accuracy: 0.2397 - val_dense_22_recall_5: 0.0219 - val_dense_22_precision_5: 0.9020\n",
            "Epoch 7/12\n",
            "592/592 [==============================] - 188s 318ms/step - loss: 3.6121 - dense_21_loss: 1.4101 - dense_22_loss: 2.2020 - dense_21_accuracy: 0.6299 - dense_21_recall_5: 0.4953 - dense_21_precision_5: 0.6903 - dense_22_accuracy: 0.2108 - dense_22_recall_5: 0.0325 - dense_22_precision_5: 0.6158 - val_loss: 3.5450 - val_dense_21_loss: 1.4087 - val_dense_22_loss: 2.1364 - val_dense_21_accuracy: 0.6224 - val_dense_21_recall_5: 0.5297 - val_dense_21_precision_5: 0.6703 - val_dense_22_accuracy: 0.2406 - val_dense_22_recall_5: 0.0309 - val_dense_22_precision_5: 0.9028\n",
            "Epoch 8/12\n",
            "592/592 [==============================] - 188s 317ms/step - loss: 3.5757 - dense_21_loss: 1.4003 - dense_22_loss: 2.1754 - dense_21_accuracy: 0.6293 - dense_21_recall_5: 0.4972 - dense_21_precision_5: 0.6933 - dense_22_accuracy: 0.2180 - dense_22_recall_5: 0.0351 - dense_22_precision_5: 0.6177 - val_loss: 3.5208 - val_dense_21_loss: 1.4028 - val_dense_22_loss: 2.1179 - val_dense_21_accuracy: 0.6229 - val_dense_21_recall_5: 0.5178 - val_dense_21_precision_5: 0.6731 - val_dense_22_accuracy: 0.2530 - val_dense_22_recall_5: 0.0395 - val_dense_22_precision_5: 0.8300\n",
            "Epoch 9/12\n",
            "592/592 [==============================] - 187s 316ms/step - loss: 3.5406 - dense_21_loss: 1.3878 - dense_22_loss: 2.1528 - dense_21_accuracy: 0.6294 - dense_21_recall_5: 0.4973 - dense_21_precision_5: 0.6929 - dense_22_accuracy: 0.2252 - dense_22_recall_5: 0.0421 - dense_22_precision_5: 0.6394 - val_loss: 3.4939 - val_dense_21_loss: 1.3962 - val_dense_22_loss: 2.0977 - val_dense_21_accuracy: 0.6229 - val_dense_21_recall_5: 0.5264 - val_dense_21_precision_5: 0.6734 - val_dense_22_accuracy: 0.2563 - val_dense_22_recall_5: 0.0414 - val_dense_22_precision_5: 0.8286\n",
            "Epoch 10/12\n",
            "592/592 [==============================] - 187s 316ms/step - loss: 3.5119 - dense_21_loss: 1.3848 - dense_22_loss: 2.1271 - dense_21_accuracy: 0.6297 - dense_21_recall_5: 0.4984 - dense_21_precision_5: 0.6975 - dense_22_accuracy: 0.2333 - dense_22_recall_5: 0.0462 - dense_22_precision_5: 0.6825 - val_loss: 3.4784 - val_dense_21_loss: 1.3926 - val_dense_22_loss: 2.0858 - val_dense_21_accuracy: 0.6229 - val_dense_21_recall_5: 0.4983 - val_dense_21_precision_5: 0.6877 - val_dense_22_accuracy: 0.2601 - val_dense_22_recall_5: 0.0437 - val_dense_22_precision_5: 0.7797\n",
            "Epoch 11/12\n",
            "592/592 [==============================] - 187s 315ms/step - loss: 3.4829 - dense_21_loss: 1.3741 - dense_22_loss: 2.1087 - dense_21_accuracy: 0.6298 - dense_21_recall_5: 0.4955 - dense_21_precision_5: 0.6982 - dense_22_accuracy: 0.2370 - dense_22_recall_5: 0.0464 - dense_22_precision_5: 0.6619 - val_loss: 3.4550 - val_dense_21_loss: 1.3845 - val_dense_22_loss: 2.0706 - val_dense_21_accuracy: 0.6234 - val_dense_21_recall_5: 0.5254 - val_dense_21_precision_5: 0.6738 - val_dense_22_accuracy: 0.2596 - val_dense_22_recall_5: 0.0533 - val_dense_22_precision_5: 0.7619\n",
            "Epoch 12/12\n",
            "592/592 [==============================] - 186s 315ms/step - loss: 3.4566 - dense_21_loss: 1.3643 - dense_22_loss: 2.0923 - dense_21_accuracy: 0.6311 - dense_21_recall_5: 0.5049 - dense_21_precision_5: 0.7036 - dense_22_accuracy: 0.2426 - dense_22_recall_5: 0.0507 - dense_22_precision_5: 0.6780 - val_loss: 3.4416 - val_dense_21_loss: 1.3859 - val_dense_22_loss: 2.0556 - val_dense_21_accuracy: 0.6229 - val_dense_21_recall_5: 0.5359 - val_dense_21_precision_5: 0.6712 - val_dense_22_accuracy: 0.2668 - val_dense_22_recall_5: 0.0542 - val_dense_22_precision_5: 0.7755\n"
          ]
        },
        {
          "output_type": "execute_result",
          "data": {
            "text/plain": [
              "<keras.callbacks.History at 0x7f201c0c05d0>"
            ]
          },
          "metadata": {},
          "execution_count": 142
        }
      ]
    },
    {
      "cell_type": "markdown",
      "metadata": {
        "id": "WQyptbtwd9Ge"
      },
      "source": [
        "#Pedicción"
      ]
    },
    {
      "cell_type": "markdown",
      "metadata": {
        "id": "jpOKEOYKf842"
      },
      "source": [
        "Nota: Recuerde cambiar el modelo"
      ]
    },
    {
      "cell_type": "code",
      "metadata": {
        "id": "T-5a7s-nanEH"
      },
      "source": [
        "predi_,predf_ = model3.predict([[input_ids_te,input_masks_te,input_segments_te,l_test]])"
      ],
      "execution_count": null,
      "outputs": []
    },
    {
      "cell_type": "code",
      "metadata": {
        "id": "6CRuDFiysf9v"
      },
      "source": [
        "predi_,predf_ = model3.predict([[input_ids_te,input_masks_te,input_segments_te]])"
      ],
      "execution_count": null,
      "outputs": []
    },
    {
      "cell_type": "markdown",
      "metadata": {
        "id": "oAL_Ve7ReAfl"
      },
      "source": [
        "#Decodificación"
      ]
    },
    {
      "cell_type": "code",
      "metadata": {
        "id": "WMqA-C9bhN3x"
      },
      "source": [
        "inicio,fin = [],[]\n",
        "for i in range(predi_.shape[0]):\n",
        "  k = np.argmax(predf_[i])\n",
        "  j = np.argmax(predi_[i])\n",
        "  inicio.append(j)\n",
        "  fin.append(k) \n"
      ],
      "execution_count": null,
      "outputs": []
    },
    {
      "cell_type": "code",
      "metadata": {
        "id": "bvSCAuS5iqCS"
      },
      "source": [
        "for h in range(len(inicio)):\n",
        "  if inicio[h] != 0:\n",
        "    print(inicio[h])\n",
        "  "
      ],
      "execution_count": null,
      "outputs": []
    },
    {
      "cell_type": "code",
      "metadata": {
        "id": "IDYVzRkRJD4j"
      },
      "source": [
        "fin"
      ],
      "execution_count": null,
      "outputs": []
    },
    {
      "cell_type": "code",
      "metadata": {
        "id": "1cDASIpQ0dYU"
      },
      "source": [
        "def dec(x):\n",
        "  l = []\n",
        "  for i in x:\n",
        "    vec = np.zeros(29)\n",
        "    ind = np.append(vec[:i],1)\n",
        "    pad = np.zeros(29-i)\n",
        "    r = np.concatenate((ind,pad),axis=0)\n",
        "    l.append(r.astype('float32'))\n",
        "  return np.array(l)"
      ],
      "execution_count": null,
      "outputs": []
    },
    {
      "cell_type": "code",
      "metadata": {
        "id": "yMngRNb20dWC"
      },
      "source": [
        "pred_ini = dec(inicio)\n",
        "pred_fin = dec(fin)"
      ],
      "execution_count": null,
      "outputs": []
    },
    {
      "cell_type": "code",
      "metadata": {
        "id": "Fl_UopF_0dTU",
        "colab": {
          "base_uri": "https://localhost:8080/"
        },
        "outputId": "fb0b69b4-f42c-43a0-97d4-b5b2193718a2"
      },
      "source": [
        "pred_ini[76 ],pred_ini[76 ]\n",
        "inic1 = np.where(pred_ini[76 ]==1)[0][0]\n",
        "finc1 = np.where(pred_fin[76 ]==1)[0][0]\n",
        "print(finc1,inic1,fin[76 ],inicio[76 ])\n",
        "print(pred_fin[76 ],pred_ini[76 ])"
      ],
      "execution_count": null,
      "outputs": [
        {
          "output_type": "stream",
          "name": "stdout",
          "text": [
            "2 1 2 1\n",
            "[0. 0. 1. 0. 0. 0. 0. 0. 0. 0. 0. 0. 0. 0. 0. 0. 0. 0. 0. 0. 0. 0. 0. 0.\n",
            " 0. 0. 0. 0. 0. 0.] [0. 1. 0. 0. 0. 0. 0. 0. 0. 0. 0. 0. 0. 0. 0. 0. 0. 0. 0. 0. 0. 0. 0. 0.\n",
            " 0. 0. 0. 0. 0. 0.]\n"
          ]
        }
      ]
    },
    {
      "cell_type": "code",
      "metadata": {
        "colab": {
          "base_uri": "https://localhost:8080/"
        },
        "id": "rQi0bWnfEJRH",
        "outputId": "f5e59fd6-b7e7-4f11-c792-4a3c0eec1edb"
      },
      "source": [
        "y_test_f[0].shape[0]"
      ],
      "execution_count": null,
      "outputs": [
        {
          "output_type": "execute_result",
          "data": {
            "text/plain": [
              "25"
            ]
          },
          "metadata": {},
          "execution_count": 74
        }
      ]
    },
    {
      "cell_type": "markdown",
      "metadata": {
        "id": "gr5fvY7fZhGQ"
      },
      "source": [
        "Validación Negativos"
      ]
    },
    {
      "cell_type": "code",
      "metadata": {
        "id": "3x5wJjfba3iM"
      },
      "source": [
        "  for c in range(pred_ini.shape[0]):\n",
        "    inic = np.where(pred_ini[c]==1)[0][0]\n",
        "    finc = np.where(pred_fin[c]==1)[0][0]\n",
        "    #a = np.ones(fin-inic)\n",
        "    if (finc - inic) < 0:\n",
        "      print(c,(finc-inic))"
      ],
      "execution_count": null,
      "outputs": []
    },
    {
      "cell_type": "markdown",
      "metadata": {
        "id": "LBAySSJ1ZyTI"
      },
      "source": [
        "#Pading"
      ]
    },
    {
      "cell_type": "code",
      "metadata": {
        "id": "8knJC5k0T4CN"
      },
      "source": [
        "def fill(x,y):\n",
        "  l = []\n",
        "  for c in range(x.shape[0]):\n",
        "    inic = np.where(x[c]==1)[0][0]\n",
        "    fin = np.where(y[c]==1)[0][0]\n",
        "    if inic > fin:\n",
        "      inic = 0\n",
        "    uno = np.append(np.zeros(29)[:inic],1)\n",
        "    dos = np.concatenate((uno,np.ones((fin-inic))))\n",
        "    r = np.concatenate((dos,(np.zeros(29-dos.shape[0]))))\n",
        "    #res = np.concatenate((uno,tres),axis=0)\n",
        "    #r = np.concatenate((res,tres),axis=0)\n",
        "    l.append(r)\n",
        "  return np.array(l)"
      ],
      "execution_count": null,
      "outputs": []
    },
    {
      "cell_type": "code",
      "metadata": {
        "id": "YV-thOMk7wMd"
      },
      "source": [
        "y_test = fill(y_test_i,y_test_f)"
      ],
      "execution_count": null,
      "outputs": []
    },
    {
      "cell_type": "code",
      "metadata": {
        "id": "j8zNviUtDIFT"
      },
      "source": [
        "y_pred = fill(pred_ini,pred_fin)"
      ],
      "execution_count": null,
      "outputs": []
    },
    {
      "cell_type": "code",
      "metadata": {
        "colab": {
          "base_uri": "https://localhost:8080/"
        },
        "id": "Quxz270xDWTm",
        "outputId": "977c318b-e3d9-4503-ddd1-c45ca68e6faf"
      },
      "source": [
        "y_pred"
      ],
      "execution_count": null,
      "outputs": [
        {
          "output_type": "execute_result",
          "data": {
            "text/plain": [
              "array([[1., 1., 1., ..., 0., 0., 0.],\n",
              "       [1., 1., 1., ..., 0., 0., 0.],\n",
              "       [1., 1., 1., ..., 0., 0., 0.],\n",
              "       ...,\n",
              "       [1., 1., 1., ..., 0., 0., 0.],\n",
              "       [1., 1., 1., ..., 0., 0., 0.],\n",
              "       [1., 1., 1., ..., 0., 0., 0.]])"
            ]
          },
          "metadata": {},
          "execution_count": 153
        }
      ]
    },
    {
      "cell_type": "code",
      "metadata": {
        "colab": {
          "base_uri": "https://localhost:8080/"
        },
        "id": "73h7VowgbY1U",
        "outputId": "1cefbe39-13df-4fec-d9ce-a964fbff543f"
      },
      "source": [
        "type(y_pred[9])"
      ],
      "execution_count": null,
      "outputs": [
        {
          "output_type": "execute_result",
          "data": {
            "text/plain": [
              "numpy.ndarray"
            ]
          },
          "metadata": {},
          "execution_count": 80
        }
      ]
    },
    {
      "cell_type": "markdown",
      "metadata": {
        "id": "PWScnPSjeJPh"
      },
      "source": [
        "#Métricas construídas"
      ]
    },
    {
      "cell_type": "code",
      "metadata": {
        "colab": {
          "base_uri": "https://localhost:8080/"
        },
        "id": "QWzqGOkDEJIx",
        "outputId": "84d5bc6b-0c39-42dc-e9bc-fdf25228dcff"
      },
      "source": [
        "print('recall:{}'.format(recall_m(y_test,y_pred)))\n",
        "print('precision:{}'.format(precision_m(y_test,y_pred)))\n",
        "print('F1:{}'.format(f1_m(y_test,y_pred)))"
      ],
      "execution_count": null,
      "outputs": [
        {
          "output_type": "stream",
          "name": "stdout",
          "text": [
            "recall:0.7879687232418927\n",
            "precision:0.5682182985530385\n",
            "F1:0.6602897786566959\n"
          ]
        }
      ]
    },
    {
      "cell_type": "code",
      "metadata": {
        "colab": {
          "base_uri": "https://localhost:8080/",
          "height": 35
        },
        "id": "H0G9KBdXEp4V",
        "outputId": "a66873c6-3365-485d-8c31-062ebfdf37be"
      },
      "source": [
        "a"
      ],
      "execution_count": null,
      "outputs": [
        {
          "output_type": "execute_result",
          "data": {
            "application/vnd.google.colaboratory.intrinsic+json": {
              "type": "string"
            },
            "text/plain": [
              "'hola mi nombre es Gufy y soy el mejor perro del mundo'"
            ]
          },
          "metadata": {},
          "execution_count": 92
        }
      ]
    },
    {
      "cell_type": "markdown",
      "metadata": {
        "id": "drhfxHSSKLCM"
      },
      "source": [
        "##Accuracy"
      ]
    },
    {
      "cell_type": "code",
      "metadata": {
        "colab": {
          "base_uri": "https://localhost:8080/"
        },
        "id": "ukOJtV-s0dJx",
        "outputId": "17151d25-7727-4dc0-862b-3207731884f5"
      },
      "source": [
        "p = 0\n",
        "for n in range(y_test.shape[0]):\n",
        "  for l in range(y_test[n].shape[0]):\n",
        "    if y_test[n][l] == y_pred[n][l]:\n",
        "      p = p + 1\n",
        "print(p / (y_test.shape[0]*y_test.shape[1]),p)"
      ],
      "execution_count": null,
      "outputs": [
        {
          "output_type": "stream",
          "name": "stdout",
          "text": [
            "0.8811591293145276 105332\n"
          ]
        }
      ]
    },
    {
      "cell_type": "markdown",
      "metadata": {
        "id": "1dtGvwkMKTMd"
      },
      "source": [
        "##Precision"
      ]
    },
    {
      "cell_type": "code",
      "metadata": {
        "colab": {
          "base_uri": "https://localhost:8080/"
        },
        "id": "5TAXF8qI0dGU",
        "outputId": "e76b63f5-ca20-44ef-a3d6-ea6599b0158f"
      },
      "source": [
        "fp = 0\n",
        "tp = 0\n",
        "for n in range(y_test.shape[0]):\n",
        "  for l in range(y_test[n].shape[0]):\n",
        "    #if y_test[n][l] == 1:\n",
        "      #tp = tp + 1\n",
        "    if y_test[n][l] == y_pred[n][l] and y_pred[n][l] == 1:\n",
        "      tp = tp + 1\n",
        "    if y_test[n][l] != y_pred[n][l] and y_pred[n][l] == 1:\n",
        "      fp = fp + 1 \n",
        "\n",
        "\n",
        "print(tp/(tp+fp))"
      ],
      "execution_count": null,
      "outputs": [
        {
          "output_type": "stream",
          "name": "stdout",
          "text": [
            "0.5682182985553772\n"
          ]
        }
      ]
    },
    {
      "cell_type": "markdown",
      "metadata": {
        "id": "D6qSeGHLKamW"
      },
      "source": [
        "##Recall"
      ]
    },
    {
      "cell_type": "code",
      "metadata": {
        "colab": {
          "base_uri": "https://localhost:8080/"
        },
        "id": "SQJuG2GzKY6o",
        "outputId": "740ea670-ae54-49f0-fdc7-dbf6bb1a26f5"
      },
      "source": [
        "fn = 0\n",
        "tp = 0\n",
        "for n in range(y_test.shape[0]):\n",
        "  for l in range(y_test[n].shape[0]):\n",
        "    if y_test[n][l] == y_pred[n][l] and y_pred[n][l] == 1:\n",
        "      tp = tp + 1\n",
        "    if y_test[n][l] != y_pred[n][l] and y_pred[n][l] == 0:\n",
        "      fn = fn + 1 \n",
        "\n",
        "\n",
        "print(tp/(tp+fn))"
      ],
      "execution_count": null,
      "outputs": [
        {
          "output_type": "stream",
          "name": "stdout",
          "text": [
            "0.5347868272358883\n"
          ]
        }
      ]
    },
    {
      "cell_type": "markdown",
      "metadata": {
        "id": "UHJgqL4NNgQj"
      },
      "source": [
        "##Removiendo padding"
      ]
    },
    {
      "cell_type": "code",
      "metadata": {
        "id": "3WYcVXaNNjAY"
      },
      "source": [
        "def withoutpadding(x,y):\n",
        "  f = []\n",
        "  for k,i in enumerate(x):\n",
        "    a = i[:y[k]]\n",
        "    f.append(a)\n",
        "  return np.array(f)"
      ],
      "execution_count": null,
      "outputs": []
    },
    {
      "cell_type": "code",
      "metadata": {
        "colab": {
          "base_uri": "https://localhost:8080/"
        },
        "id": "NcjbaChANpee",
        "outputId": "f670b95f-926b-4e38-fac3-5c8205fdca58"
      },
      "source": [
        "y_test_t = withoutpadding(y_test,long_test)\n",
        "y_pred_p = withoutpadding(y_pred,long_test)"
      ],
      "execution_count": null,
      "outputs": [
        {
          "output_type": "stream",
          "name": "stderr",
          "text": [
            "/usr/local/lib/python3.7/dist-packages/ipykernel_launcher.py:6: VisibleDeprecationWarning: Creating an ndarray from ragged nested sequences (which is a list-or-tuple of lists-or-tuples-or ndarrays with different lengths or shapes) is deprecated. If you meant to do this, you must specify 'dtype=object' when creating the ndarray\n",
            "  \n"
          ]
        }
      ]
    },
    {
      "cell_type": "markdown",
      "metadata": {
        "id": "e_DxS9h8N-PW"
      },
      "source": [
        "Métricas"
      ]
    },
    {
      "cell_type": "markdown",
      "metadata": {
        "id": "hCCyba8L_-Ew"
      },
      "source": [
        "##Presicion sin padding"
      ]
    },
    {
      "cell_type": "code",
      "metadata": {
        "colab": {
          "base_uri": "https://localhost:8080/"
        },
        "id": "0WH9vFEews2u",
        "outputId": "0345f59f-7b08-454d-abd0-1ab65ab2b464"
      },
      "source": [
        "fp = 0\n",
        "tp = 0\n",
        "for n in range(y_test_t.shape[0]):\n",
        "  for l in range(y_test_t[n].shape[0]):\n",
        "    #if y_test[n][l] == 1:\n",
        "      #tp = tp + 1\n",
        "    if y_test_t[n][l] == y_pred_p[n][l] and y_pred_p[n][l] == 1:\n",
        "      tp = tp + 1\n",
        "    if y_test_t[n][l] != y_pred_p[n][l] and y_pred_p[n][l] == 1:\n",
        "      fp = fp + 1 \n",
        "\n",
        "\n",
        "print(tp/(tp+fp))"
      ],
      "execution_count": null,
      "outputs": [
        {
          "output_type": "stream",
          "name": "stdout",
          "text": [
            "0.5831008538337983\n"
          ]
        }
      ]
    },
    {
      "cell_type": "markdown",
      "metadata": {
        "id": "5XFb4WRyAE29"
      },
      "source": [
        "##Precisión con Padding"
      ]
    },
    {
      "cell_type": "code",
      "metadata": {
        "colab": {
          "base_uri": "https://localhost:8080/"
        },
        "id": "VFnnOye9ACz2",
        "outputId": "3a361ebe-b795-4638-d710-b9a1bb7bee45"
      },
      "source": [
        "fp = 0\n",
        "tp = 0\n",
        "for n in range(y_test.shape[0]):\n",
        "  for l in range(y_test[n].shape[0]):\n",
        "    #if y_test[n][l] == 1:\n",
        "      #tp = tp + 1\n",
        "    if y_test[n][l] == y_pred[n][l] and y_pred[n][l] == 1:\n",
        "      tp = tp + 1\n",
        "    if y_test[n][l] != y_pred[n][l] and y_pred[n][l] == 1:\n",
        "      fp = fp + 1 \n",
        "\n",
        "\n",
        "print(tp/(tp+fp))"
      ],
      "execution_count": null,
      "outputs": [
        {
          "output_type": "stream",
          "name": "stdout",
          "text": [
            "0.5682182985553772\n"
          ]
        }
      ]
    },
    {
      "cell_type": "markdown",
      "metadata": {
        "id": "nZTv653rA4zz"
      },
      "source": [
        "##Accuracy sin padding"
      ]
    },
    {
      "cell_type": "code",
      "metadata": {
        "colab": {
          "base_uri": "https://localhost:8080/"
        },
        "id": "9KJ-CHuAA322",
        "outputId": "7fe68936-cf87-4980-dc76-cca32ebcb24a"
      },
      "source": [
        "p = 0\n",
        "count = 0\n",
        "for n in range(y_test_t.shape[0]):\n",
        "  for l in range(y_test_t[n].shape[0]):\n",
        "    count = count + 1\n",
        "    if y_test_t[n][l] == y_pred_p[n][l]:\n",
        "      p = p + 1\n",
        "print(p / count)"
      ],
      "execution_count": null,
      "outputs": [
        {
          "output_type": "stream",
          "name": "stdout",
          "text": [
            "0.5569073783359497\n"
          ]
        }
      ]
    },
    {
      "cell_type": "markdown",
      "metadata": {
        "id": "zjv01tnnCoBw"
      },
      "source": [
        "##Recall sin padding"
      ]
    },
    {
      "cell_type": "code",
      "metadata": {
        "colab": {
          "base_uri": "https://localhost:8080/"
        },
        "id": "e1wsrYEHCm3L",
        "outputId": "2830cff7-ffb1-4d3a-d288-eb556364c24f"
      },
      "source": [
        "fn = 0\n",
        "tp = 0\n",
        "for n in range(y_test_t.shape[0]):\n",
        "  for l in range(y_test_t[n].shape[0]):\n",
        "    if y_test_t[n][l] == y_pred_p[n][l] and y_pred_p[n][l] == 1:\n",
        "      tp = tp + 1\n",
        "    if y_test_t[n][l] != y_pred_p[n][l] and y_pred_p[n][l] == 0:\n",
        "      fn = fn + 1 \n",
        "\n",
        "\n",
        "print(tp/(tp+fn))"
      ],
      "execution_count": null,
      "outputs": [
        {
          "output_type": "stream",
          "name": "stdout",
          "text": [
            "0.789187643020595\n"
          ]
        }
      ]
    },
    {
      "cell_type": "markdown",
      "metadata": {
        "id": "08IW7NTqGZtT"
      },
      "source": [
        "##Jaccard"
      ]
    },
    {
      "cell_type": "code",
      "metadata": {
        "id": "Z1TfyyIGGY5i"
      },
      "source": [
        "text_true = list(ts_test)"
      ],
      "execution_count": null,
      "outputs": []
    },
    {
      "cell_type": "code",
      "metadata": {
        "id": "LoJG_pDGGlqf"
      },
      "source": [
        "text_true"
      ],
      "execution_count": null,
      "outputs": []
    },
    {
      "cell_type": "markdown",
      "metadata": {
        "id": "i1k3ojytL0fi"
      },
      "source": [
        "Función dec jaccard"
      ]
    },
    {
      "cell_type": "code",
      "metadata": {
        "id": "lHyMWw5RL0Nq"
      },
      "source": [
        "def decjac(a,b):\n",
        "  op=[]\n",
        "  for i,j in enumerate(a):\n",
        "    if j == 1:\n",
        "      op.append(b.split()[i])\n",
        "  return \" \".join(op)"
      ],
      "execution_count": null,
      "outputs": []
    },
    {
      "cell_type": "code",
      "metadata": {
        "id": "7GXoLizQNkzC"
      },
      "source": [
        "j_test=[]\n",
        "for ki in range(len(text_true)):\n",
        "  j_test.append(decjac(y_test_t[ki],text_true[ki]))"
      ],
      "execution_count": null,
      "outputs": []
    },
    {
      "cell_type": "code",
      "metadata": {
        "id": "cXQN4-k9OrYy"
      },
      "source": [
        "j_pred=[]\n",
        "for kp in range(len(text_true)):\n",
        "  j_pred.append(decjac(y_pred_p[kp],text_true[kp]))"
      ],
      "execution_count": null,
      "outputs": []
    },
    {
      "cell_type": "code",
      "metadata": {
        "id": "uXf5dcdVMwyi"
      },
      "source": [
        "j_pred\n"
      ],
      "execution_count": null,
      "outputs": []
    },
    {
      "cell_type": "code",
      "metadata": {
        "id": "kXvd65RBKUn5"
      },
      "source": [
        "def jaccard(str1, str2):\n",
        "    if len(str1) == 0 and len(str2) == 0:\n",
        "      return 0.0\n",
        "    else:\n",
        "      a = set(str1.lower().split()) \n",
        "      b = set(str2.lower().split())\n",
        "      c = a.intersection(b)\n",
        "      return float(len(c)) / (len(a) + len(b) - len(c))"
      ],
      "execution_count": null,
      "outputs": []
    },
    {
      "cell_type": "code",
      "metadata": {
        "id": "iYYhZdDwcuUx"
      },
      "source": [
        "rest2 = [jaccard(j_test[i],j_pred[i]) for i in range(len(j_test))]"
      ],
      "execution_count": null,
      "outputs": []
    },
    {
      "cell_type": "code",
      "metadata": {
        "colab": {
          "base_uri": "https://localhost:8080/"
        },
        "id": "fBsTCkKFc5bA",
        "outputId": "fd97cde9-9a81-4474-8ee9-613023c3bcb5"
      },
      "source": [
        "print(\"el promedio de jaccard es: {}\".format(round((sum(rest2)/len(rest2)),3)))"
      ],
      "execution_count": null,
      "outputs": [
        {
          "output_type": "stream",
          "name": "stdout",
          "text": [
            "el promedio de jaccard es: 0.549\n"
          ]
        }
      ]
    }
  ]
}