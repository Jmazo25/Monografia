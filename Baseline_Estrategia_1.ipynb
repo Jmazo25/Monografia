{
  "nbformat": 4,
  "nbformat_minor": 0,
  "metadata": {
    "colab": {
      "name": "Baseline_Estrategia_1.ipynb",
      "provenance": [],
      "collapsed_sections": []
    },
    "kernelspec": {
      "display_name": "Python 3",
      "language": "python",
      "name": "python3"
    },
    "language_info": {
      "codemirror_mode": {
        "name": "ipython",
        "version": 3
      },
      "file_extension": ".py",
      "mimetype": "text/x-python",
      "name": "python",
      "nbconvert_exporter": "python",
      "pygments_lexer": "ipython3",
      "version": "3.7.6"
    },
    "varInspector": {
      "cols": {
        "lenName": 16,
        "lenType": 16,
        "lenVar": 40
      },
      "kernels_config": {
        "python": {
          "delete_cmd_postfix": "",
          "delete_cmd_prefix": "del ",
          "library": "var_list.py",
          "varRefreshCmd": "print(var_dic_list())"
        },
        "r": {
          "delete_cmd_postfix": ") ",
          "delete_cmd_prefix": "rm(",
          "library": "var_list.r",
          "varRefreshCmd": "cat(var_dic_list()) "
        }
      },
      "types_to_exclude": [
        "module",
        "function",
        "builtin_function_or_method",
        "instance",
        "_Feature"
      ],
      "window_display": false
    }
  },
  "cells": [
    {
      "cell_type": "code",
      "metadata": {
        "colab": {
          "base_uri": "https://localhost:8080/"
        },
        "id": "0AvWnLTx9Eqc",
        "outputId": "dbb28b20-5407-48df-d29a-655de25d872c"
      },
      "source": [
        "import pandas as pd\n",
        "import os\n",
        "import numpy as np\n",
        "from matplotlib import pyplot as plt\n",
        "from sklearn.model_selection import train_test_split\n",
        "from keras.preprocessing.text import Tokenizer\n",
        "from keras.preprocessing.sequence import pad_sequences\n",
        "import tensorflow as tf\n",
        "import tensorflow.keras.metrics\n",
        "from tensorflow.keras.utils import to_categorical\n",
        "import re\n",
        "import nltk\n",
        "from nltk.corpus import stopwords\n",
        "nltk.download('stopwords')\n",
        "pd.options.display.max_columns\n",
        "pd.options.display.max_rows"
      ],
      "execution_count": null,
      "outputs": [
        {
          "output_type": "stream",
          "name": "stdout",
          "text": [
            "[nltk_data] Downloading package stopwords to /root/nltk_data...\n",
            "[nltk_data]   Unzipping corpora/stopwords.zip.\n"
          ]
        },
        {
          "output_type": "execute_result",
          "data": {
            "text/plain": [
              "60"
            ]
          },
          "metadata": {},
          "execution_count": 1
        }
      ]
    },
    {
      "cell_type": "code",
      "metadata": {
        "colab": {
          "base_uri": "https://localhost:8080/"
        },
        "id": "OHJgBiei-GFL",
        "outputId": "10184c02-26be-4eaa-b3b5-5146762f2fbb"
      },
      "source": [
        "!git clone https://github.com/Jmazo25/Monografia.git"
      ],
      "execution_count": null,
      "outputs": [
        {
          "output_type": "stream",
          "name": "stdout",
          "text": [
            "Cloning into 'Monografia'...\n",
            "remote: Enumerating objects: 5, done.\u001b[K\n",
            "remote: Counting objects: 100% (5/5), done.\u001b[K\n",
            "remote: Compressing objects: 100% (5/5), done.\u001b[K\n",
            "remote: Total 5 (delta 0), reused 0 (delta 0), pack-reused 0\u001b[K\n",
            "Unpacking objects: 100% (5/5), done.\n"
          ]
        }
      ]
    },
    {
      "cell_type": "code",
      "metadata": {
        "id": "-ahUbDZb-Kfr"
      },
      "source": [
        "df = pd.read_csv(\"/content/Monografia/train.csv\")"
      ],
      "execution_count": null,
      "outputs": []
    },
    {
      "cell_type": "markdown",
      "metadata": {
        "id": "ozIpnNPAKTpx"
      },
      "source": [
        "#Búsqueda de nulos\n",
        "\n",
        "Previamente ya se detectató una fila con valores nulos por lo cual se procede a eliminar"
      ]
    },
    {
      "cell_type": "code",
      "metadata": {
        "colab": {
          "base_uri": "https://localhost:8080/"
        },
        "id": "qtejU4rtVlWh",
        "outputId": "42ddad3d-844a-4511-a6ee-4beaec47d718"
      },
      "source": [
        "df.dropna(axis = 0, how ='any',inplace=True)\n",
        "df.reset_index(inplace=True)\n",
        "df.shape"
      ],
      "execution_count": null,
      "outputs": [
        {
          "output_type": "execute_result",
          "data": {
            "text/plain": [
              "(27480, 5)"
            ]
          },
          "metadata": {},
          "execution_count": 4
        }
      ]
    },
    {
      "cell_type": "markdown",
      "metadata": {
        "id": "uqMYzk35KIzk"
      },
      "source": [
        "#Eiliminación de stop words"
      ]
    },
    {
      "cell_type": "code",
      "metadata": {
        "id": "9hSGQ8KlJfgo"
      },
      "source": [
        "def clean_text(t):\n",
        "  tl = []\n",
        "  t = t.lower().split()\n",
        "  for i in t:\n",
        "    if i not in stopwords.words('english'):\n",
        "      tl.append(i)\n",
        "  return \" \".join(tl)"
      ],
      "execution_count": null,
      "outputs": []
    },
    {
      "cell_type": "code",
      "metadata": {
        "id": "G2x3VRHlJfdw"
      },
      "source": [
        "#Limpiar expresiones Regulares\n",
        "df['text'] = df['text'].apply((lambda x:re.sub('@[^\\s]+','',x)))\n",
        "df['text'] = df['text'].apply((lambda x: re.sub('[^a-zA-z0-9\\s]','',x)))\n",
        "#Remover stopwords\n",
        "df['text'] = df['text'].apply(lambda x: clean_text(x))"
      ],
      "execution_count": null,
      "outputs": []
    },
    {
      "cell_type": "code",
      "metadata": {
        "id": "Wx09j6wKJfYW"
      },
      "source": [
        "##Limpiar expresiones Regulares\n",
        "df['selected_text'] = df['selected_text'].apply((lambda x:re.sub('@[^\\s]+','',x)))\n",
        "df['selected_text'] = df['selected_text'].apply((lambda x: re.sub('[^a-zA-z0-9\\s]','',x)))\n",
        "#Remover StopWords\n",
        "df['selected_text'] = df['selected_text'].apply(lambda x: clean_text(x))"
      ],
      "execution_count": null,
      "outputs": []
    },
    {
      "cell_type": "code",
      "metadata": {
        "colab": {
          "base_uri": "https://localhost:8080/",
          "height": 143
        },
        "id": "LjJn5dBsJfaj",
        "outputId": "925c68f1-9990-4d9c-d48d-0c07a41412c7"
      },
      "source": [
        "df.head(3)"
      ],
      "execution_count": null,
      "outputs": [
        {
          "output_type": "execute_result",
          "data": {
            "text/html": [
              "<div>\n",
              "<style scoped>\n",
              "    .dataframe tbody tr th:only-of-type {\n",
              "        vertical-align: middle;\n",
              "    }\n",
              "\n",
              "    .dataframe tbody tr th {\n",
              "        vertical-align: top;\n",
              "    }\n",
              "\n",
              "    .dataframe thead th {\n",
              "        text-align: right;\n",
              "    }\n",
              "</style>\n",
              "<table border=\"1\" class=\"dataframe\">\n",
              "  <thead>\n",
              "    <tr style=\"text-align: right;\">\n",
              "      <th></th>\n",
              "      <th>index</th>\n",
              "      <th>textID</th>\n",
              "      <th>text</th>\n",
              "      <th>selected_text</th>\n",
              "      <th>sentiment</th>\n",
              "    </tr>\n",
              "  </thead>\n",
              "  <tbody>\n",
              "    <tr>\n",
              "      <th>0</th>\n",
              "      <td>0</td>\n",
              "      <td>cb774db0d1</td>\n",
              "      <td>i`d responded going</td>\n",
              "      <td>i`d responded going</td>\n",
              "      <td>neutral</td>\n",
              "    </tr>\n",
              "    <tr>\n",
              "      <th>1</th>\n",
              "      <td>1</td>\n",
              "      <td>549e992a42</td>\n",
              "      <td>sooo sad miss san diego</td>\n",
              "      <td>sooo sad</td>\n",
              "      <td>negative</td>\n",
              "    </tr>\n",
              "    <tr>\n",
              "      <th>2</th>\n",
              "      <td>2</td>\n",
              "      <td>088c60f138</td>\n",
              "      <td>boss bullying</td>\n",
              "      <td>bullying</td>\n",
              "      <td>negative</td>\n",
              "    </tr>\n",
              "  </tbody>\n",
              "</table>\n",
              "</div>"
            ],
            "text/plain": [
              "   index      textID                     text        selected_text sentiment\n",
              "0      0  cb774db0d1      i`d responded going  i`d responded going   neutral\n",
              "1      1  549e992a42  sooo sad miss san diego             sooo sad  negative\n",
              "2      2  088c60f138            boss bullying             bullying  negative"
            ]
          },
          "metadata": {},
          "execution_count": 8
        }
      ]
    },
    {
      "cell_type": "markdown",
      "metadata": {
        "id": "gj-aMqgjMtbn"
      },
      "source": [
        "Se procede a buscar el tweet con mayor longitud en términos de palabras"
      ]
    },
    {
      "cell_type": "code",
      "metadata": {
        "id": "Hxi2XXDhJfWA"
      },
      "source": [
        "dim_tw = df['text'].str.split().str.len()"
      ],
      "execution_count": null,
      "outputs": []
    },
    {
      "cell_type": "code",
      "metadata": {
        "colab": {
          "base_uri": "https://localhost:8080/",
          "height": 279
        },
        "id": "jifBkCdCJfSy",
        "outputId": "928940fd-dc54-4996-c494-8cc2b0b652a0"
      },
      "source": [
        "fig, ax1 = plt.subplots()\n",
        "plt.hist(dim_tw,color='green')\n",
        "ax1.set_xlabel('Longitud por palabras'), ax1.set_ylabel(\"tweets\")\n",
        "plt.show()"
      ],
      "execution_count": null,
      "outputs": [
        {
          "output_type": "display_data",
          "data": {
            "image/png": "[encoded data removed]",
            "text/plain": [
              "<Figure size 432x288 with 1 Axes>"
            ]
          },
          "metadata": {
            "needs_background": "light"
          }
        }
      ]
    },
    {
      "cell_type": "code",
      "metadata": {
        "colab": {
          "base_uri": "https://localhost:8080/"
        },
        "id": "Hg9DFcm7JfP3",
        "outputId": "278a3052-6fcf-444d-95b7-2eb87b61c534"
      },
      "source": [
        "dim_tw.describe()"
      ],
      "execution_count": null,
      "outputs": [
        {
          "output_type": "execute_result",
          "data": {
            "text/plain": [
              "count    27480.000000\n",
              "mean         7.416230\n",
              "std          3.983212\n",
              "min          0.000000\n",
              "25%          4.000000\n",
              "50%          7.000000\n",
              "75%         10.000000\n",
              "max         25.000000\n",
              "Name: text, dtype: float64"
            ]
          },
          "metadata": {},
          "execution_count": 11
        }
      ]
    },
    {
      "cell_type": "markdown",
      "metadata": {
        "id": "d8vsY5u-am33"
      },
      "source": [
        "#Codificando el texto seleccionado"
      ]
    },
    {
      "cell_type": "markdown",
      "metadata": {
        "id": "kqDgepMxbQ_V"
      },
      "source": [
        "Función para codificar el texto seleccionado, la cual arroja la posición de la palabra inicial y la final del texto seleccionado en el tweet original"
      ]
    },
    {
      "cell_type": "code",
      "metadata": {
        "id": "xvPOj5YSAErh"
      },
      "source": [
        "def outp(t1,t2):\n",
        "  l, all = [],[]\n",
        "  t1 = t1.lower().split()\n",
        "  t2 = t2.lower().split()\n",
        "  for i in t2:\n",
        "    for j in t1:\n",
        "      if i == j:\n",
        "        l.append(0)\n",
        "      else:\n",
        "        l.append(1)\n",
        "    all.append(np.array(l))\n",
        "    l = []\n",
        "  j = np.ones(len(t1))\n",
        "  for i in all:\n",
        "    j = j * i\n",
        "  l2 = []\n",
        "  for i in j:\n",
        "    if i == 1:\n",
        "      l2.append(0)\n",
        "    else:\n",
        "      l2.append(1)\n",
        "  #return np.array(l2,dtype='float32')\n",
        "  return l2"
      ],
      "execution_count": null,
      "outputs": []
    },
    {
      "cell_type": "code",
      "metadata": {
        "id": "MNubQ9F4Ew-T"
      },
      "source": [
        "df2 = df[['text','selected_text']] "
      ],
      "execution_count": null,
      "outputs": []
    },
    {
      "cell_type": "code",
      "metadata": {
        "id": "_V3UqsWQLBxE"
      },
      "source": [
        "y_true = df2.apply(lambda x: outp(x['text'],x['selected_text']),axis=1)"
      ],
      "execution_count": null,
      "outputs": []
    },
    {
      "cell_type": "code",
      "metadata": {
        "id": "TpjLG-ICsz7Q"
      },
      "source": [
        "y_true = list(y_true)"
      ],
      "execution_count": null,
      "outputs": []
    },
    {
      "cell_type": "markdown",
      "metadata": {
        "id": "o3Zn_zBabqlV"
      },
      "source": [
        "Agregamos padding para que todos los elementos queden de la misma longitud"
      ]
    },
    {
      "cell_type": "code",
      "metadata": {
        "id": "QhdF2rsRVZzb"
      },
      "source": [
        "def pad(a,ml):\n",
        "  if len(a) == 0:\n",
        "    c = np.zeros(ml)\n",
        "  else:\n",
        "    b = np.pad(a,ml-len(a))\n",
        "    c = b[ml-len(a):]\n",
        "    c = np.array(c,dtype='float32')\n",
        "  #return list(c)\n",
        "  return c"
      ],
      "execution_count": null,
      "outputs": []
    },
    {
      "cell_type": "code",
      "metadata": {
        "id": "DVOOsQA52e_p"
      },
      "source": [
        "y_true2 = [pad(i,max(dim_tw)) for i in y_true]"
      ],
      "execution_count": null,
      "outputs": []
    },
    {
      "cell_type": "code",
      "metadata": {
        "id": "IrAtExR8wMER"
      },
      "source": [
        "y_true=np.array(y_true2,dtype='float32')"
      ],
      "execution_count": null,
      "outputs": []
    },
    {
      "cell_type": "code",
      "metadata": {
        "colab": {
          "base_uri": "https://localhost:8080/"
        },
        "id": "Yrl666BHzTGo",
        "outputId": "aa78bf24-afd9-4605-b9f2-aef3feb9739b"
      },
      "source": [
        "y_true[0].shape"
      ],
      "execution_count": null,
      "outputs": [
        {
          "output_type": "execute_result",
          "data": {
            "text/plain": [
              "(25,)"
            ]
          },
          "metadata": {},
          "execution_count": 19
        }
      ]
    },
    {
      "cell_type": "code",
      "metadata": {
        "colab": {
          "base_uri": "https://localhost:8080/"
        },
        "id": "k3BDLK4HxRjv",
        "outputId": "61099be9-18cc-4afb-8a27-58ce24e2155f"
      },
      "source": [
        "y_true"
      ],
      "execution_count": null,
      "outputs": [
        {
          "output_type": "execute_result",
          "data": {
            "text/plain": [
              "array([[1., 1., 1., ..., 0., 0., 0.],\n",
              "       [1., 1., 0., ..., 0., 0., 0.],\n",
              "       [0., 1., 0., ..., 0., 0., 0.],\n",
              "       ...,\n",
              "       [1., 1., 0., ..., 0., 0., 0.],\n",
              "       [1., 0., 0., ..., 0., 0., 0.],\n",
              "       [1., 1., 1., ..., 0., 0., 0.]], dtype=float32)"
            ]
          },
          "metadata": {},
          "execution_count": 20
        }
      ]
    },
    {
      "cell_type": "markdown",
      "metadata": {
        "id": "66CdJf-hGKts"
      },
      "source": [
        "#Longitud de cada tweet\n",
        "\n",
        "Se almacena en una variable la longitud de cada tweet esto para remover el padding al calcular las métricas luego de realizar una predicción al conjunto de test"
      ]
    },
    {
      "cell_type": "code",
      "metadata": {
        "id": "x3vQDwJ7ofHw"
      },
      "source": [
        "def leng2(x):\n",
        "  return len(x.lower().split())"
      ],
      "execution_count": null,
      "outputs": []
    },
    {
      "cell_type": "code",
      "metadata": {
        "id": "3AEs2HIzGKGW"
      },
      "source": [
        "def leng(x):\n",
        "  x = x.lower().split()\n",
        "  a = len(x)\n",
        "  return a"
      ],
      "execution_count": null,
      "outputs": []
    },
    {
      "cell_type": "code",
      "metadata": {
        "colab": {
          "base_uri": "https://localhost:8080/"
        },
        "id": "bufRPuXtoo3T",
        "outputId": "a5d57c1a-50d0-4bc3-e34f-e74d14f8c32d"
      },
      "source": [
        "a = 'hola mi nombre es Gufy y soy el mejor perro del mundo'\n",
        "b = leng2(a)\n",
        "c = leng(a)\n",
        "print(b,c)"
      ],
      "execution_count": null,
      "outputs": [
        {
          "output_type": "stream",
          "name": "stdout",
          "text": [
            "12 12\n"
          ]
        }
      ]
    },
    {
      "cell_type": "code",
      "metadata": {
        "id": "FfRB8SetGZCf"
      },
      "source": [
        "long = df2.apply(lambda x: leng(x['text']),axis=1)\n",
        "long = np.array(long)"
      ],
      "execution_count": null,
      "outputs": []
    },
    {
      "cell_type": "code",
      "metadata": {
        "colab": {
          "base_uri": "https://localhost:8080/"
        },
        "id": "o3UutklTGkdW",
        "outputId": "9fc96c3d-e286-4fbc-c140-45c750b44428"
      },
      "source": [
        "long"
      ],
      "execution_count": null,
      "outputs": [
        {
          "output_type": "execute_result",
          "data": {
            "text/plain": [
              "array([ 3,  5,  2, ..., 12,  1,  6])"
            ]
          },
          "metadata": {},
          "execution_count": 25
        }
      ]
    },
    {
      "cell_type": "markdown",
      "metadata": {
        "id": "KiQRVYIspfVB"
      },
      "source": [
        "#Codificación del sentimiento para ser una entrada válida en el modelo\n"
      ]
    },
    {
      "cell_type": "code",
      "metadata": {
        "id": "hdIIhDXMpriN"
      },
      "source": [
        "labels1 = {\"sentiment\": {\"neutral\":0,\"positive\":1,\"negative\":2}}"
      ],
      "execution_count": null,
      "outputs": []
    },
    {
      "cell_type": "code",
      "metadata": {
        "id": "_z0Uda9_preK"
      },
      "source": [
        "df = df.replace(labels1)\n",
        "labels = df['sentiment']\n",
        "#labels\n",
        "#labels = to_categorical(labels)"
      ],
      "execution_count": null,
      "outputs": []
    },
    {
      "cell_type": "code",
      "metadata": {
        "colab": {
          "base_uri": "https://localhost:8080/"
        },
        "id": "VB7gPUEeprbk",
        "outputId": "b804e0cf-cf7c-4c39-98f7-7906a67f2c14"
      },
      "source": [
        "labels"
      ],
      "execution_count": null,
      "outputs": [
        {
          "output_type": "execute_result",
          "data": {
            "text/plain": [
              "0        0\n",
              "1        2\n",
              "2        2\n",
              "3        2\n",
              "4        2\n",
              "        ..\n",
              "27475    2\n",
              "27476    2\n",
              "27477    1\n",
              "27478    1\n",
              "27479    0\n",
              "Name: sentiment, Length: 27480, dtype: int64"
            ]
          },
          "metadata": {},
          "execution_count": 28
        }
      ]
    },
    {
      "cell_type": "code",
      "metadata": {
        "colab": {
          "base_uri": "https://localhost:8080/"
        },
        "id": "TRdH_OjW3wIX",
        "outputId": "312266c2-1339-4101-f2a8-7ba88c965116"
      },
      "source": [
        "labels.shape"
      ],
      "execution_count": null,
      "outputs": [
        {
          "output_type": "execute_result",
          "data": {
            "text/plain": [
              "(27480,)"
            ]
          },
          "metadata": {},
          "execution_count": 31
        }
      ]
    },
    {
      "cell_type": "markdown",
      "metadata": {
        "id": "Eh3LSwlQer_t"
      },
      "source": [
        "#Tokenización"
      ]
    },
    {
      "cell_type": "code",
      "metadata": {
        "id": "LcdlcbJWeuNF"
      },
      "source": [
        "text = list(df['text'].values)"
      ],
      "execution_count": null,
      "outputs": []
    },
    {
      "cell_type": "code",
      "metadata": {
        "id": "poxpPinzfA6b"
      },
      "source": [
        "tokenizer = Tokenizer(num_words=12000)\n",
        "tokenizer.fit_on_texts(text)\n",
        "sequences = tokenizer.texts_to_sequences(text)"
      ],
      "execution_count": null,
      "outputs": []
    },
    {
      "cell_type": "code",
      "metadata": {
        "colab": {
          "base_uri": "https://localhost:8080/"
        },
        "id": "LUZ927_Hfdyd",
        "outputId": "d68c79e6-20c8-421d-963d-6aef135cd1a1"
      },
      "source": [
        "word_index = tokenizer.word_index\n",
        "print('Found %s unique tokens.' % len(word_index))"
      ],
      "execution_count": null,
      "outputs": [
        {
          "output_type": "stream",
          "name": "stdout",
          "text": [
            "Found 28612 unique tokens.\n"
          ]
        }
      ]
    },
    {
      "cell_type": "code",
      "metadata": {
        "id": "l_3Mmv7LfzEd"
      },
      "source": [
        "data = pad_sequences(sequences, maxlen=max(dim_tw))"
      ],
      "execution_count": null,
      "outputs": []
    },
    {
      "cell_type": "markdown",
      "metadata": {
        "id": "YPqp2-sXgkUF"
      },
      "source": [
        "#Split de la data"
      ]
    },
    {
      "cell_type": "code",
      "metadata": {
        "colab": {
          "base_uri": "https://localhost:8080/"
        },
        "id": "0R3BcUb94aqE",
        "outputId": "53f1b805-3192-4a0d-bfc7-e4bbe8cc07ec"
      },
      "source": [
        "X_train,x_test,Y_train,y_test,Labels_train,labels_test,ts_train,ts_test,Long_train, long_test = train_test_split(data,y_true,labels,df['text'],long, test_size=0.15, random_state=42)\n",
        "x_train,x_val,y_train,y_val,labels_train,labels_val = train_test_split(X_train,Y_train,Labels_train, test_size=0.1, random_state=42)\n",
        "x_train.shape, y_train.shape,x_val.shape, y_val.shape, x_test.shape, y_test.shape"
      ],
      "execution_count": null,
      "outputs": [
        {
          "output_type": "execute_result",
          "data": {
            "text/plain": [
              "((21022, 25), (21022, 25), (2336, 25), (2336, 25), (4122, 25), (4122, 25))"
            ]
          },
          "metadata": {},
          "execution_count": 33
        }
      ]
    },
    {
      "cell_type": "code",
      "metadata": {
        "colab": {
          "base_uri": "https://localhost:8080/"
        },
        "id": "2VZMAEL808Ai",
        "outputId": "4d2ab716-f048-4ccd-8951-f2686707974f"
      },
      "source": [
        "type(y_train)"
      ],
      "execution_count": null,
      "outputs": [
        {
          "output_type": "execute_result",
          "data": {
            "text/plain": [
              "numpy.ndarray"
            ]
          },
          "metadata": {},
          "execution_count": 34
        }
      ]
    },
    {
      "cell_type": "code",
      "metadata": {
        "colab": {
          "base_uri": "https://localhost:8080/"
        },
        "id": "uYoDR95r5bNB",
        "outputId": "6090fd1e-ef95-4a2d-ee2a-a5fd729ef12c"
      },
      "source": [
        "labels_train.shape ,labels_test.shape, labels_val.shape, ts_test.shape"
      ],
      "execution_count": null,
      "outputs": [
        {
          "output_type": "execute_result",
          "data": {
            "text/plain": [
              "((21022,), (4122,), (2336,), (4122,))"
            ]
          },
          "metadata": {},
          "execution_count": 35
        }
      ]
    },
    {
      "cell_type": "markdown",
      "metadata": {
        "id": "BqY-0WVuiX-h"
      },
      "source": [
        "#Capa de Embeding"
      ]
    },
    {
      "cell_type": "markdown",
      "metadata": {
        "id": "bjcndoJUx3rn"
      },
      "source": [
        "Debido a que pesa más de 400 Mb se pondrá el enlace donde se puede descargar para uso del lector, se debe establecer la variable Path con la ruta donde el archivo esté puesto.\n",
        "https://nlp.stanford.edu/projects/glove/"
      ]
    },
    {
      "cell_type": "code",
      "metadata": {
        "colab": {
          "base_uri": "https://localhost:8080/"
        },
        "id": "s0ahU3vOiGU9",
        "outputId": "ab6d79be-e3c5-4b38-9304-cfbc9a41dc09"
      },
      "source": [
        "from google.colab import drive\n",
        "drive.mount('/content/drive')"
      ],
      "execution_count": null,
      "outputs": [
        {
          "output_type": "stream",
          "name": "stdout",
          "text": [
            "Mounted at /content/drive\n"
          ]
        }
      ]
    },
    {
      "cell_type": "code",
      "metadata": {
        "id": "DubeFCm5iULF"
      },
      "source": [
        "path = '/content/drive/MyDrive/'"
      ],
      "execution_count": null,
      "outputs": []
    },
    {
      "cell_type": "code",
      "metadata": {
        "colab": {
          "base_uri": "https://localhost:8080/"
        },
        "id": "tVW11A2IiUoq",
        "outputId": "8259e300-c9b6-4034-8143-b183b25be31d"
      },
      "source": [
        "embeddings_index = {}\n",
        "f = open(os.path.join(path, 'glove.6B.100d.txt'))\n",
        "for line in f:\n",
        "    values = line.split()\n",
        "    word = values[0]\n",
        "    coefs = np.asarray(values[1:], dtype='float32')\n",
        "    embeddings_index[word] = coefs\n",
        "f.close()\n",
        "\n",
        "print('Found %s word vectors.' % len(embeddings_index))"
      ],
      "execution_count": null,
      "outputs": [
        {
          "output_type": "stream",
          "name": "stdout",
          "text": [
            "Found 400000 word vectors.\n"
          ]
        }
      ]
    },
    {
      "cell_type": "code",
      "metadata": {
        "id": "aaxAK77AikQs"
      },
      "source": [
        "embedding_matrix = np.zeros((tokenizer.num_words + 1, 100))\n",
        "for i in range(1,tokenizer.num_words):\n",
        "  word = tokenizer.index_word[i]\n",
        "  embedding_vector = embeddings_index.get(word)\n",
        "  if embedding_vector is not None:\n",
        "        # words not found in embedding index will be all-zeros.\n",
        "      embedding_matrix[i] = embedding_vector\n",
        "  else:\n",
        "      embedding_matrix[i] = embeddings_index.get('unk')"
      ],
      "execution_count": null,
      "outputs": []
    },
    {
      "cell_type": "code",
      "metadata": {
        "id": "-Sr5Ll12ikz2"
      },
      "source": [
        "from keras.layers import Embedding\n",
        "\n",
        "embedding_layer = Embedding(tokenizer.num_words + 1,\n",
        "                            100,\n",
        "                            weights=[embedding_matrix],\n",
        "                            input_length=25,\n",
        "                            trainable=False,\n",
        "                            mask_zero=True)"
      ],
      "execution_count": null,
      "outputs": []
    },
    {
      "cell_type": "markdown",
      "metadata": {
        "id": "mhpsg2hOlms5"
      },
      "source": [
        "#Definición de métricas"
      ]
    },
    {
      "cell_type": "code",
      "metadata": {
        "id": "i_z-Pj14lmO7"
      },
      "source": [
        "def recall_m(y_true, y_pred):\n",
        "    true_positives = K.sum(K.round(K.clip(y_true * y_pred, 0, 1)))\n",
        "    possible_positives = K.sum(K.round(K.clip(y_true, 0, 1)))\n",
        "    recall = true_positives / (possible_positives + K.epsilon())\n",
        "    return recall\n",
        "\n",
        "def precision_m(y_true, y_pred):\n",
        "    true_positives = K.sum(K.round(K.clip(y_true * y_pred, 0, 1)))\n",
        "    predicted_positives = K.sum(K.round(K.clip(y_pred, 0, 1)))\n",
        "    precision = true_positives / (predicted_positives + K.epsilon())\n",
        "    return precision\n",
        "\n",
        "def f1_m(y_true, y_pred):\n",
        "    precision = precision_m(y_true, y_pred)\n",
        "    recall = recall_m(y_true, y_pred)\n",
        "    return 2*((precision*recall)/(precision+recall+K.epsilon()))"
      ],
      "execution_count": null,
      "outputs": []
    },
    {
      "cell_type": "markdown",
      "metadata": {
        "id": "cxTfecljj0AY"
      },
      "source": [
        "#Creación del modelo"
      ]
    },
    {
      "cell_type": "markdown",
      "metadata": {
        "id": "vdhXHPBkx_Xu"
      },
      "source": [
        "Importa librerías necesarias"
      ]
    },
    {
      "cell_type": "code",
      "metadata": {
        "id": "oJeuEXuOj3E2"
      },
      "source": [
        "from tensorflow.keras.layers import Dense, Flatten, Conv2D, Conv1D, MaxPooling1D, LSTM, RepeatVector, Concatenate\n",
        "from tensorflow.keras import Model,Input,callbacks\n",
        "from keras.preprocessing.text import Tokenizer\n",
        "from keras.preprocessing.sequence import pad_sequences\n",
        "from keras.models import Sequential\n",
        "from keras.layers import Dense, Dropout, Bidirectional, TimeDistributed\n",
        "from keras.layers import Flatten\n",
        "from keras.layers import Embedding\n",
        "import tensorflow.keras.backend as K\n",
        "from tensorflow.keras.metrics import Recall, Precision"
      ],
      "execution_count": null,
      "outputs": []
    },
    {
      "cell_type": "code",
      "metadata": {
        "id": "WzA5Fk_Flcre"
      },
      "source": [
        "from tensorflow.compat.v1 import ConfigProto\n",
        "from tensorflow.compat.v1 import InteractiveSession\n",
        "\n",
        "config = ConfigProto()\n",
        "config.gpu_options.allow_growth = True\n",
        "session = InteractiveSession(config=config)"
      ],
      "execution_count": null,
      "outputs": []
    },
    {
      "cell_type": "markdown",
      "metadata": {
        "id": "K74SvX8xyCIV"
      },
      "source": [
        "Arquitectura del modelo"
      ]
    },
    {
      "cell_type": "code",
      "metadata": {
        "colab": {
          "base_uri": "https://localhost:8080/"
        },
        "id": "8JBXGeztmD5e",
        "outputId": "cdcc9c98-6a62-47bd-d894-d89f0d7768db"
      },
      "source": [
        "sequence_input = Input(shape=(25,), dtype='int32')\n",
        "sentiment = Input(shape=(1,), dtype='int32')\n",
        "\n",
        "embedded_sequences = embedding_layer(sequence_input)\n",
        "xs = Embedding(3,20)(sentiment)\n",
        "xs = Flatten()(xs)\n",
        "xs = RepeatVector(25)(xs)\n",
        "\n",
        "x = Concatenate(axis=-1)([xs,embedded_sequences])\n",
        "\n",
        "x = Bidirectional(LSTM(50,return_sequences=True))(x)\n",
        "x = Bidirectional(LSTM(50,return_sequences=True))(x)\n",
        "x = TimeDistributed(Dense(128, activation='relu'))(x)\n",
        "preds = TimeDistributed(Dense(1, activation='sigmoid'))(x)\n",
        "\n",
        "model = Model(inputs=[sequence_input,sentiment], outputs = preds)\n",
        "\n",
        "optimizer = tf.keras.optimizers.Adam(learning_rate=3e-5)\n",
        "\n",
        "model.compile(loss='binary_crossentropy',\n",
        "              optimizer=optimizer,\n",
        "              metrics=['accuracy',Recall(), f1_m, Precision()])\n",
        "model.summary()\n",
        "\n",
        "\n",
        "model.fit([x_train,labels_train], y_train.reshape(y_train.shape[0],y_train.shape[1],1),validation_data= ([x_val,labels_val], y_val.reshape(y_val.shape[0],y_val.shape[1],1)),\n",
        "          epochs=15, batch_size=32, verbose=1)\n",
        "\n",
        "loss, accuracy,recall, F1, precision = model.evaluate([x_test,labels_test],y_test.reshape(y_test.shape[0],y_test.shape[1],1) , verbose=0,batch_size=128)\n",
        "print('Accuracy: %f' % (accuracy*100))\n",
        "print('recall: %f' % (recall*100))\n",
        "print('F1: %f' % (((2*recall*precision) / (recall + precision))*100))\n",
        "print('Precision: %f' % (precision*100))"
      ],
      "execution_count": null,
      "outputs": [
        {
          "output_type": "stream",
          "name": "stdout",
          "text": [
            "Model: \"model\"\n",
            "__________________________________________________________________________________________________\n",
            "Layer (type)                    Output Shape         Param #     Connected to                     \n",
            "==================================================================================================\n",
            "input_2 (InputLayer)            [(None, 1)]          0                                            \n",
            "__________________________________________________________________________________________________\n",
            "embedding_1 (Embedding)         (None, 1, 20)        60          input_2[0][0]                    \n",
            "__________________________________________________________________________________________________\n",
            "flatten (Flatten)               (None, 20)           0           embedding_1[0][0]                \n",
            "__________________________________________________________________________________________________\n",
            "input_1 (InputLayer)            [(None, 25)]         0                                            \n",
            "__________________________________________________________________________________________________\n",
            "repeat_vector (RepeatVector)    (None, 25, 20)       0           flatten[0][0]                    \n",
            "__________________________________________________________________________________________________\n",
            "embedding (Embedding)           (None, 25, 100)      1200100     input_1[0][0]                    \n",
            "__________________________________________________________________________________________________\n",
            "concatenate (Concatenate)       (None, 25, 120)      0           repeat_vector[0][0]              \n",
            "                                                                 embedding[0][0]                  \n",
            "__________________________________________________________________________________________________\n",
            "bidirectional (Bidirectional)   (None, 25, 100)      68400       concatenate[0][0]                \n",
            "__________________________________________________________________________________________________\n",
            "bidirectional_1 (Bidirectional) (None, 25, 100)      60400       bidirectional[0][0]              \n",
            "__________________________________________________________________________________________________\n",
            "time_distributed (TimeDistribut (None, 25, 128)      12928       bidirectional_1[0][0]            \n",
            "__________________________________________________________________________________________________\n",
            "time_distributed_1 (TimeDistrib (None, 25, 1)        129         time_distributed[0][0]           \n",
            "==================================================================================================\n",
            "Total params: 1,342,017\n",
            "Trainable params: 141,917\n",
            "Non-trainable params: 1,200,100\n",
            "__________________________________________________________________________________________________\n",
            "Epoch 1/15\n",
            "657/657 [==============================] - 67s 79ms/step - loss: 0.0886 - accuracy: 0.9266 - recall: 0.0530 - f1_m: 0.0028 - precision: 0.0455 - val_loss: 0.0466 - val_accuracy: 0.9696 - val_recall: 0.0000e+00 - val_f1_m: 0.0000e+00 - val_precision: 0.0000e+00\n",
            "Epoch 2/15\n",
            "657/657 [==============================] - 48s 74ms/step - loss: 0.0416 - accuracy: 0.9642 - recall: 0.0067 - f1_m: 7.8118e-04 - precision: 0.3711 - val_loss: 0.0273 - val_accuracy: 0.9716 - val_recall: 0.1485 - val_f1_m: 0.0152 - val_precision: 0.6303\n",
            "Epoch 3/15\n",
            "657/657 [==============================] - 48s 72ms/step - loss: 0.0237 - accuracy: 0.9672 - recall: 0.2942 - f1_m: 0.0339 - precision: 0.5794 - val_loss: 0.0182 - val_accuracy: 0.9756 - val_recall: 0.4554 - val_f1_m: 0.0440 - val_precision: 0.6354\n",
            "Epoch 4/15\n",
            "657/657 [==============================] - 48s 73ms/step - loss: 0.0197 - accuracy: 0.9718 - recall: 0.5053 - f1_m: 0.0569 - precision: 0.6301 - val_loss: 0.0165 - val_accuracy: 0.9784 - val_recall: 0.4594 - val_f1_m: 0.0439 - val_precision: 0.7273\n",
            "Epoch 5/15\n",
            "657/657 [==============================] - 48s 73ms/step - loss: 0.0181 - accuracy: 0.9744 - recall: 0.5605 - f1_m: 0.0627 - precision: 0.6669 - val_loss: 0.0154 - val_accuracy: 0.9796 - val_recall: 0.5703 - val_f1_m: 0.0536 - val_precision: 0.7007\n",
            "Epoch 6/15\n",
            "657/657 [==============================] - 48s 73ms/step - loss: 0.0169 - accuracy: 0.9764 - recall: 0.5733 - f1_m: 0.0638 - precision: 0.7096 - val_loss: 0.0146 - val_accuracy: 0.9805 - val_recall: 0.4990 - val_f1_m: 0.0473 - val_precision: 0.7778\n",
            "Epoch 7/15\n",
            "657/657 [==============================] - 48s 73ms/step - loss: 0.0161 - accuracy: 0.9774 - recall: 0.5798 - f1_m: 0.0644 - precision: 0.7312 - val_loss: 0.0143 - val_accuracy: 0.9800 - val_recall: 0.6733 - val_f1_m: 0.0623 - val_precision: 0.6680\n",
            "Epoch 8/15\n",
            "657/657 [==============================] - 48s 72ms/step - loss: 0.0154 - accuracy: 0.9790 - recall: 0.5996 - f1_m: 0.0668 - precision: 0.7594 - val_loss: 0.0134 - val_accuracy: 0.9834 - val_recall: 0.5505 - val_f1_m: 0.0519 - val_precision: 0.8476\n",
            "Epoch 9/15\n",
            "657/657 [==============================] - 48s 73ms/step - loss: 0.0148 - accuracy: 0.9798 - recall: 0.6029 - f1_m: 0.0671 - precision: 0.7816 - val_loss: 0.0132 - val_accuracy: 0.9813 - val_recall: 0.6851 - val_f1_m: 0.0634 - val_precision: 0.6934\n",
            "Epoch 10/15\n",
            "657/657 [==============================] - 48s 73ms/step - loss: 0.0142 - accuracy: 0.9804 - recall: 0.6111 - f1_m: 0.0672 - precision: 0.7928 - val_loss: 0.0125 - val_accuracy: 0.9845 - val_recall: 0.5723 - val_f1_m: 0.0536 - val_precision: 0.8731\n",
            "Epoch 11/15\n",
            "657/657 [==============================] - 47s 71ms/step - loss: 0.0138 - accuracy: 0.9811 - recall: 0.6094 - f1_m: 0.0675 - precision: 0.8145 - val_loss: 0.0121 - val_accuracy: 0.9851 - val_recall: 0.5980 - val_f1_m: 0.0562 - val_precision: 0.8678\n",
            "Epoch 12/15\n",
            "657/657 [==============================] - 47s 72ms/step - loss: 0.0133 - accuracy: 0.9820 - recall: 0.6170 - f1_m: 0.0686 - precision: 0.8338 - val_loss: 0.0120 - val_accuracy: 0.9846 - val_recall: 0.5941 - val_f1_m: 0.0555 - val_precision: 0.8523\n",
            "Epoch 13/15\n",
            "657/657 [==============================] - 47s 72ms/step - loss: 0.0130 - accuracy: 0.9819 - recall: 0.6148 - f1_m: 0.0683 - precision: 0.8335 - val_loss: 0.0118 - val_accuracy: 0.9848 - val_recall: 0.6396 - val_f1_m: 0.0595 - val_precision: 0.8177\n",
            "Epoch 14/15\n",
            "657/657 [==============================] - 47s 72ms/step - loss: 0.0126 - accuracy: 0.9824 - recall: 0.6190 - f1_m: 0.0675 - precision: 0.8463 - val_loss: 0.0117 - val_accuracy: 0.9838 - val_recall: 0.6198 - val_f1_m: 0.0580 - val_precision: 0.8005\n",
            "Epoch 15/15\n",
            "657/657 [==============================] - 49s 74ms/step - loss: 0.0124 - accuracy: 0.9825 - recall: 0.6228 - f1_m: 0.0690 - precision: 0.8470 - val_loss: 0.0117 - val_accuracy: 0.9850 - val_recall: 0.5782 - val_f1_m: 0.0541 - val_precision: 0.8875\n",
            "Accuracy: 98.096037\n",
            "recall: 58.942068\n",
            "F1: 71.160671\n",
            "Precision: 89.769822\n"
          ]
        }
      ]
    },
    {
      "cell_type": "code",
      "metadata": {
        "colab": {
          "base_uri": "https://localhost:8080/",
          "height": 976
        },
        "id": "1JMxFZJcl_sP",
        "outputId": "4feeb66e-24a8-4c34-8d9c-0dfcff037b68"
      },
      "source": [
        "tensorflow.keras.utils.plot_model(model, \"BOW.png\",show_shapes=True, show_dtype=True,\n",
        "    show_layer_names=True, rankdir='TB', expand_nested=True, dpi=96,\n",
        "    layer_range=None)"
      ],
      "execution_count": null,
      "outputs": [
        {
          "output_type": "execute_result",
          "data": {
            "image/png": "[encoded data removed]",
            "text/plain": [
              "<IPython.core.display.Image object>"
            ]
          },
          "metadata": {},
          "execution_count": 45
        }
      ]
    },
    {
      "cell_type": "code",
      "metadata": {
        "id": "y_ZXBT3VbFkf",
        "colab": {
          "base_uri": "https://localhost:8080/"
        },
        "outputId": "53dc267e-f9a1-4ff6-e467-79469de623b8"
      },
      "source": [
        "print('Shape of data tensor:', data.shape)\n",
        "#print('Shape of label label:', y_true2.shape)"
      ],
      "execution_count": null,
      "outputs": [
        {
          "output_type": "stream",
          "name": "stdout",
          "text": [
            "Shape of data tensor: (27480, 25)\n"
          ]
        }
      ]
    },
    {
      "cell_type": "markdown",
      "metadata": {
        "id": "pKqMT-I6yViU"
      },
      "source": [
        "Predicción del modelo"
      ]
    },
    {
      "cell_type": "code",
      "metadata": {
        "id": "WoSWzI85iJ4a"
      },
      "source": [
        "pred = model.predict([x_test,labels_test])"
      ],
      "execution_count": null,
      "outputs": []
    },
    {
      "cell_type": "code",
      "metadata": {
        "colab": {
          "base_uri": "https://localhost:8080/"
        },
        "id": "6M4Znt3byQgw",
        "outputId": "903d04ad-d436-4c05-c734-621d7c8af605"
      },
      "source": [
        "pred.shape"
      ],
      "execution_count": null,
      "outputs": [
        {
          "output_type": "execute_result",
          "data": {
            "text/plain": [
              "(4122, 25, 1)"
            ]
          },
          "metadata": {},
          "execution_count": 50
        }
      ]
    },
    {
      "cell_type": "markdown",
      "metadata": {
        "id": "NF7P-LSsyd5H"
      },
      "source": [
        "Función para decodificar la variable de predicción:"
      ]
    },
    {
      "cell_type": "code",
      "metadata": {
        "id": "gtsB42xs0pvG"
      },
      "source": [
        "def dec(x):\n",
        "  r1=[]\n",
        "  for i in range(x.shape[0]):\n",
        "    l1 = []\n",
        "    for j in range(x[i].shape[0]):\n",
        "      if x[i][j][0] > 0.5:\n",
        "        l1.append(1)\n",
        "      else:\n",
        "        l1.append(0)\n",
        "    r = np.array(l1,dtype='float32')\n",
        "    r1.append(r)\n",
        "  return(np.array(r1,dtype='float32'))   \n"
      ],
      "execution_count": null,
      "outputs": []
    },
    {
      "cell_type": "code",
      "metadata": {
        "id": "NuaXfTbC2bHG"
      },
      "source": [
        "y_pred = dec(pred)"
      ],
      "execution_count": null,
      "outputs": []
    },
    {
      "cell_type": "code",
      "metadata": {
        "colab": {
          "base_uri": "https://localhost:8080/"
        },
        "id": "q2-hCnHg2mYr",
        "outputId": "3555d918-f793-4868-e42a-2b6a04b90621"
      },
      "source": [
        "y_test[0].shape"
      ],
      "execution_count": null,
      "outputs": [
        {
          "output_type": "execute_result",
          "data": {
            "text/plain": [
              "(25,)"
            ]
          },
          "metadata": {},
          "execution_count": 53
        }
      ]
    },
    {
      "cell_type": "markdown",
      "metadata": {
        "id": "SAI7lQj4yxUV"
      },
      "source": [
        "#MÉTRICAS"
      ]
    },
    {
      "cell_type": "code",
      "metadata": {
        "colab": {
          "base_uri": "https://localhost:8080/"
        },
        "id": "GlPwCjf43zum",
        "outputId": "f884fb87-c5e1-4f14-a535-75d5207d2d76"
      },
      "source": [
        "print('recall:{}'.format(recall_m(y_test,y_pred)))\n",
        "print('precision:{}'.format(precision_m(y_test,y_pred)))\n",
        "print('F1:{}'.format(f1_m(y_test,y_pred)))"
      ],
      "execution_count": null,
      "outputs": [
        {
          "output_type": "stream",
          "name": "stdout",
          "text": [
            "recall:0.04632323607802391\n",
            "precision:0.7740705609321594\n",
            "F1:0.08741521090269089\n"
          ]
        }
      ]
    },
    {
      "cell_type": "markdown",
      "metadata": {
        "id": "-WZPrsK07cKG"
      },
      "source": [
        "##Accuracy"
      ]
    },
    {
      "cell_type": "code",
      "metadata": {
        "colab": {
          "base_uri": "https://localhost:8080/"
        },
        "id": "IlpSUAS87d5m",
        "outputId": "91808806-2029-43cd-adbb-a6b1584c1653"
      },
      "source": [
        "p = 0\n",
        "for n in range(y_test.shape[0]):\n",
        "  for l in range(y_test[n].shape[0]):\n",
        "    if y_test[n][l] == y_pred[n][l]:\n",
        "      p = p + 1\n",
        "print(p / (y_test.shape[0]*y_test.shape[1]))"
      ],
      "execution_count": null,
      "outputs": [
        {
          "output_type": "stream",
          "name": "stdout",
          "text": [
            "0.8354779233381854\n"
          ]
        }
      ]
    },
    {
      "cell_type": "markdown",
      "metadata": {
        "id": "Zd21jUIGE68k"
      },
      "source": [
        "##Precision"
      ]
    },
    {
      "cell_type": "code",
      "metadata": {
        "colab": {
          "base_uri": "https://localhost:8080/"
        },
        "id": "Fl0tN9VwE4ia",
        "outputId": "25a6a6bc-152f-4fff-8d0f-72f2208d9ae9"
      },
      "source": [
        "fp = 0\n",
        "tp = 0\n",
        "for n in range(y_test.shape[0]):\n",
        "  for l in range(y_test[n].shape[0]):\n",
        "    #if y_test[n][l] == 1:\n",
        "      #tp = tp + 1\n",
        "    if y_test[n][l] == y_pred[n][l] and y_pred[n][l] == 1:\n",
        "      tp = tp + 1\n",
        "    if y_test[n][l] != y_pred[n][l] and y_pred[n][l] == 1:\n",
        "      fp = fp + 1 \n",
        "print(tp/(tp+fp))"
      ],
      "execution_count": null,
      "outputs": [
        {
          "output_type": "stream",
          "name": "stdout",
          "text": [
            "0.7740705433746425\n"
          ]
        }
      ]
    },
    {
      "cell_type": "markdown",
      "metadata": {
        "id": "70YLASU0FFIB"
      },
      "source": [
        "##Recall"
      ]
    },
    {
      "cell_type": "code",
      "metadata": {
        "colab": {
          "base_uri": "https://localhost:8080/"
        },
        "id": "axC0mtWVFEuY",
        "outputId": "db8b649a-d527-45b4-e81a-e4ce1d93cc07"
      },
      "source": [
        "fn = 0\n",
        "tp = 0\n",
        "for n in range(y_test.shape[0]):\n",
        "  for l in range(y_test[n].shape[0]):\n",
        "    if y_test[n][l] == y_pred[n][l] and y_pred[n][l] == 1:\n",
        "      tp = tp + 1\n",
        "    if y_test[n][l] != y_pred[n][l] and y_pred[n][l] == 0:\n",
        "      fn = fn + 1 \n",
        "\n",
        "\n",
        "print(tp/(tp+fn))"
      ],
      "execution_count": null,
      "outputs": [
        {
          "output_type": "stream",
          "name": "stdout",
          "text": [
            "0.04632323578070626\n"
          ]
        }
      ]
    },
    {
      "cell_type": "markdown",
      "metadata": {
        "id": "UHJgqL4NNgQj"
      },
      "source": [
        "#Removiendo padding"
      ]
    },
    {
      "cell_type": "code",
      "metadata": {
        "id": "3WYcVXaNNjAY"
      },
      "source": [
        "def withoutpadding(x,y):\n",
        "  f = []\n",
        "  for k,i in enumerate(x):\n",
        "    a = i[:y[k]]\n",
        "    f.append(a)\n",
        "  return np.array(f)"
      ],
      "execution_count": null,
      "outputs": []
    },
    {
      "cell_type": "code",
      "metadata": {
        "colab": {
          "base_uri": "https://localhost:8080/"
        },
        "id": "NcjbaChANpee",
        "outputId": "b5f48c88-147b-467b-853c-6b907cf99d1b"
      },
      "source": [
        "y_test_t = withoutpadding(y_test,long_test)\n",
        "y_pred_p = withoutpadding(y_pred,long_test)"
      ],
      "execution_count": null,
      "outputs": [
        {
          "output_type": "stream",
          "name": "stderr",
          "text": [
            "/usr/local/lib/python3.7/dist-packages/ipykernel_launcher.py:6: VisibleDeprecationWarning: Creating an ndarray from ragged nested sequences (which is a list-or-tuple of lists-or-tuples-or ndarrays with different lengths or shapes) is deprecated. If you meant to do this, you must specify 'dtype=object' when creating the ndarray\n",
            "  \n"
          ]
        }
      ]
    },
    {
      "cell_type": "markdown",
      "metadata": {
        "id": "08IW7NTqGZtT"
      },
      "source": [
        "##Jaccard"
      ]
    },
    {
      "cell_type": "code",
      "metadata": {
        "id": "Z1TfyyIGGY5i"
      },
      "source": [
        "text_true = list(ts_test)"
      ],
      "execution_count": null,
      "outputs": []
    },
    {
      "cell_type": "code",
      "metadata": {
        "id": "LoJG_pDGGlqf"
      },
      "source": [
        "text_true"
      ],
      "execution_count": null,
      "outputs": []
    },
    {
      "cell_type": "markdown",
      "metadata": {
        "id": "i1k3ojytL0fi"
      },
      "source": [
        "Función dec jaccard"
      ]
    },
    {
      "cell_type": "code",
      "metadata": {
        "id": "lHyMWw5RL0Nq"
      },
      "source": [
        "def decjac(a,b):\n",
        "  op=[]\n",
        "  for i,j in enumerate(a):\n",
        "    if j == 1:\n",
        "      op.append(b.split()[i])\n",
        "  return \" \".join(op)"
      ],
      "execution_count": null,
      "outputs": []
    },
    {
      "cell_type": "code",
      "metadata": {
        "id": "7GXoLizQNkzC"
      },
      "source": [
        "j_test=[]\n",
        "for ki in range(len(text_true)):\n",
        "  j_test.append(decjac(y_test_t[ki],text_true[ki]))"
      ],
      "execution_count": null,
      "outputs": []
    },
    {
      "cell_type": "code",
      "metadata": {
        "id": "cXQN4-k9OrYy"
      },
      "source": [
        "j_pred=[]\n",
        "for kp in range(len(text_true)):\n",
        "  j_pred.append(decjac(y_pred_p[kp],text_true[kp]))"
      ],
      "execution_count": null,
      "outputs": []
    },
    {
      "cell_type": "code",
      "metadata": {
        "id": "uXf5dcdVMwyi"
      },
      "source": [
        "j_test\n"
      ],
      "execution_count": null,
      "outputs": []
    },
    {
      "cell_type": "code",
      "metadata": {
        "id": "kXvd65RBKUn5"
      },
      "source": [
        "def jaccard(str1, str2):\n",
        "    if len(str1) == 0 and len(str2) == 0:\n",
        "      return 0.0\n",
        "    else:\n",
        "      a = set(str1.lower().split()) \n",
        "      b = set(str2.lower().split())\n",
        "      c = a.intersection(b)\n",
        "      return float(len(c)) / (len(a) + len(b) - len(c))"
      ],
      "execution_count": null,
      "outputs": []
    },
    {
      "cell_type": "code",
      "metadata": {
        "id": "iYYhZdDwcuUx"
      },
      "source": [
        "rest2 = [jaccard(j_test[i],j_pred[i]) for i in range(len(j_test))]"
      ],
      "execution_count": null,
      "outputs": []
    },
    {
      "cell_type": "code",
      "metadata": {
        "colab": {
          "base_uri": "https://localhost:8080/"
        },
        "id": "fBsTCkKFc5bA",
        "outputId": "fd577caf-7bb4-465a-9833-9bda4a17c1b7"
      },
      "source": [
        "print(\"el promedio de jaccard es: {}\".format(sum(rest2)/len(rest2)))"
      ],
      "execution_count": null,
      "outputs": [
        {
          "output_type": "stream",
          "name": "stdout",
          "text": [
            "el promedio de jaccard es: 0.013568732945589074\n"
          ]
        }
      ]
    }
  ]
}