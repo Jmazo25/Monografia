{
  "nbformat": 4,
  "nbformat_minor": 0,
  "metadata": {
    "colab": {
      "name": "Baseline_Estrategia_2.ipynb",
      "provenance": [],
      "collapsed_sections": []
    },
    "kernelspec": {
      "display_name": "Python 3",
      "language": "python",
      "name": "python3"
    },
    "language_info": {
      "codemirror_mode": {
        "name": "ipython",
        "version": 3
      },
      "file_extension": ".py",
      "mimetype": "text/x-python",
      "name": "python",
      "nbconvert_exporter": "python",
      "pygments_lexer": "ipython3",
      "version": "3.7.6"
    },
    "varInspector": {
      "cols": {
        "lenName": 16,
        "lenType": 16,
        "lenVar": 40
      },
      "kernels_config": {
        "python": {
          "delete_cmd_postfix": "",
          "delete_cmd_prefix": "del ",
          "library": "var_list.py",
          "varRefreshCmd": "print(var_dic_list())"
        },
        "r": {
          "delete_cmd_postfix": ") ",
          "delete_cmd_prefix": "rm(",
          "library": "var_list.r",
          "varRefreshCmd": "cat(var_dic_list()) "
        }
      },
      "types_to_exclude": [
        "module",
        "function",
        "builtin_function_or_method",
        "instance",
        "_Feature"
      ],
      "window_display": false
    }
  },
  "cells": [
    {
      "cell_type": "code",
      "metadata": {
        "colab": {
          "base_uri": "https://localhost:8080/"
        },
        "id": "0AvWnLTx9Eqc",
        "outputId": "da710f06-35eb-477f-893b-185d7a8cf2ef"
      },
      "source": [
        "import pandas as pd\n",
        "import os\n",
        "import numpy as np\n",
        "from matplotlib import pyplot as plt\n",
        "from sklearn.model_selection import train_test_split\n",
        "from keras.preprocessing.text import Tokenizer\n",
        "from keras.preprocessing.sequence import pad_sequences\n",
        "import tensorflow as tf\n",
        "import tensorflow.keras.metrics\n",
        "from tensorflow.keras.utils import to_categorical\n",
        "import re\n",
        "import nltk\n",
        "from nltk.corpus import stopwords\n",
        "nltk.download('stopwords')\n",
        "pd.options.display.max_columns\n",
        "pd.options.display.max_rows\n",
        "from tensorflow.keras.utils import to_categorical\n",
        "pd.options.display.max_rows"
      ],
      "execution_count": null,
      "outputs": [
        {
          "output_type": "stream",
          "name": "stdout",
          "text": [
            "[nltk_data] Downloading package stopwords to /root/nltk_data...\n",
            "[nltk_data]   Package stopwords is already up-to-date!\n"
          ]
        },
        {
          "output_type": "execute_result",
          "data": {
            "text/plain": [
              "60"
            ]
          },
          "metadata": {},
          "execution_count": 8
        }
      ]
    },
    {
      "cell_type": "code",
      "metadata": {
        "colab": {
          "base_uri": "https://localhost:8080/"
        },
        "id": "OHJgBiei-GFL",
        "outputId": "83c68efc-e075-48b4-f5c7-32c51009fd84"
      },
      "source": [
        "!git clone https://github.com/Jmazo25/Monografia.git"
      ],
      "execution_count": null,
      "outputs": [
        {
          "output_type": "stream",
          "name": "stdout",
          "text": [
            "Cloning into 'Monografia'...\n",
            "remote: Enumerating objects: 5, done.\u001b[K\n",
            "remote: Counting objects: 100% (5/5), done.\u001b[K\n",
            "remote: Compressing objects: 100% (5/5), done.\u001b[K\n",
            "remote: Total 5 (delta 0), reused 0 (delta 0), pack-reused 0\u001b[K\n",
            "Unpacking objects: 100% (5/5), done.\n"
          ]
        }
      ]
    },
    {
      "cell_type": "code",
      "metadata": {
        "id": "avCTkgDSIwbe"
      },
      "source": [
        "df = pd.read_csv(\"/content/Monografia/train.csv\")"
      ],
      "execution_count": null,
      "outputs": []
    },
    {
      "cell_type": "markdown",
      "metadata": {
        "id": "ozIpnNPAKTpx"
      },
      "source": [
        "#Búsqueda de nulos\n",
        "\n",
        "Previamente ya se detectató una fila con valores nulos por lo cual se procede a eliminar"
      ]
    },
    {
      "cell_type": "code",
      "metadata": {
        "colab": {
          "base_uri": "https://localhost:8080/"
        },
        "id": "qtejU4rtVlWh",
        "outputId": "7ef39472-c3a7-40a3-9973-1f3a140861ae"
      },
      "source": [
        "df.dropna(axis = 0, how ='any',inplace=True)\n",
        "df.reset_index(inplace=True)\n",
        "df.shape"
      ],
      "execution_count": null,
      "outputs": [
        {
          "output_type": "execute_result",
          "data": {
            "text/plain": [
              "(27480, 5)"
            ]
          },
          "metadata": {},
          "execution_count": 4
        }
      ]
    },
    {
      "cell_type": "code",
      "metadata": {
        "colab": {
          "base_uri": "https://localhost:8080/",
          "height": 143
        },
        "id": "s7fg3H1h-Lry",
        "outputId": "86857ee8-c0db-4a3a-9046-0326d26ec497"
      },
      "source": [
        "df.head(3)"
      ],
      "execution_count": null,
      "outputs": [
        {
          "output_type": "execute_result",
          "data": {
            "text/html": [
              "<div>\n",
              "<style scoped>\n",
              "    .dataframe tbody tr th:only-of-type {\n",
              "        vertical-align: middle;\n",
              "    }\n",
              "\n",
              "    .dataframe tbody tr th {\n",
              "        vertical-align: top;\n",
              "    }\n",
              "\n",
              "    .dataframe thead th {\n",
              "        text-align: right;\n",
              "    }\n",
              "</style>\n",
              "<table border=\"1\" class=\"dataframe\">\n",
              "  <thead>\n",
              "    <tr style=\"text-align: right;\">\n",
              "      <th></th>\n",
              "      <th>index</th>\n",
              "      <th>textID</th>\n",
              "      <th>text</th>\n",
              "      <th>selected_text</th>\n",
              "      <th>sentiment</th>\n",
              "    </tr>\n",
              "  </thead>\n",
              "  <tbody>\n",
              "    <tr>\n",
              "      <th>0</th>\n",
              "      <td>0</td>\n",
              "      <td>cb774db0d1</td>\n",
              "      <td>I`d have responded, if I were going</td>\n",
              "      <td>I`d have responded, if I were going</td>\n",
              "      <td>neutral</td>\n",
              "    </tr>\n",
              "    <tr>\n",
              "      <th>1</th>\n",
              "      <td>1</td>\n",
              "      <td>549e992a42</td>\n",
              "      <td>Sooo SAD I will miss you here in San Diego!!!</td>\n",
              "      <td>Sooo SAD</td>\n",
              "      <td>negative</td>\n",
              "    </tr>\n",
              "    <tr>\n",
              "      <th>2</th>\n",
              "      <td>2</td>\n",
              "      <td>088c60f138</td>\n",
              "      <td>my boss is bullying me...</td>\n",
              "      <td>bullying me</td>\n",
              "      <td>negative</td>\n",
              "    </tr>\n",
              "  </tbody>\n",
              "</table>\n",
              "</div>"
            ],
            "text/plain": [
              "   index      textID  ...                        selected_text sentiment\n",
              "0      0  cb774db0d1  ...  I`d have responded, if I were going   neutral\n",
              "1      1  549e992a42  ...                             Sooo SAD  negative\n",
              "2      2  088c60f138  ...                          bullying me  negative\n",
              "\n",
              "[3 rows x 5 columns]"
            ]
          },
          "metadata": {},
          "execution_count": 5
        }
      ]
    },
    {
      "cell_type": "markdown",
      "metadata": {
        "id": "uqMYzk35KIzk"
      },
      "source": [
        "#Eiliminación de stop words"
      ]
    },
    {
      "cell_type": "code",
      "metadata": {
        "id": "9hSGQ8KlJfgo"
      },
      "source": [
        "def clean_text(t):\n",
        "  tl = []\n",
        "  t = t.lower().split()\n",
        "  for i in t:\n",
        "    if i not in stopwords.words('english'):\n",
        "      tl.append(i)\n",
        "  return \" \".join(tl)"
      ],
      "execution_count": null,
      "outputs": []
    },
    {
      "cell_type": "code",
      "metadata": {
        "id": "G2x3VRHlJfdw"
      },
      "source": [
        "#Limpiar expresiones Regulares\n",
        "df['text'] = df['text'].apply((lambda x:re.sub('@[^\\s]+','',x)))\n",
        "df['text'] = df['text'].apply((lambda x: re.sub('[^a-zA-z0-9\\s]','',x)))\n",
        "#Remover stopwords\n",
        "df['text'] = df['text'].apply(lambda x: clean_text(x))"
      ],
      "execution_count": null,
      "outputs": []
    },
    {
      "cell_type": "code",
      "metadata": {
        "id": "Wx09j6wKJfYW"
      },
      "source": [
        "##Limpiar expresiones Regulares\n",
        "df['selected_text'] = df['selected_text'].apply((lambda x:re.sub('@[^\\s]+','',x)))\n",
        "df['selected_text'] = df['selected_text'].apply((lambda x: re.sub('[^a-zA-z0-9\\s]','',x)))\n",
        "#Remover StopWords\n",
        "df['selected_text'] = df['selected_text'].apply(lambda x: clean_text(x))"
      ],
      "execution_count": null,
      "outputs": []
    },
    {
      "cell_type": "markdown",
      "metadata": {
        "id": "rEhCfDzvpsm3"
      },
      "source": [
        "#máxima longitud de un tweet en el dataset"
      ]
    },
    {
      "cell_type": "markdown",
      "metadata": {
        "id": "gj-aMqgjMtbn"
      },
      "source": [
        "Se procede a buscar el tweet con mayor longitud en términos de palabras"
      ]
    },
    {
      "cell_type": "code",
      "metadata": {
        "id": "Hxi2XXDhJfWA"
      },
      "source": [
        "dim_tw = df['text'].str.split().str.len()"
      ],
      "execution_count": null,
      "outputs": []
    },
    {
      "cell_type": "code",
      "metadata": {
        "colab": {
          "base_uri": "https://localhost:8080/",
          "height": 279
        },
        "id": "jifBkCdCJfSy",
        "outputId": "f2c6ada0-e876-4b84-9321-e2b76c955ba7"
      },
      "source": [
        "fig, ax1 = plt.subplots()\n",
        "plt.hist(dim_tw,color='green')\n",
        "ax1.set_xlabel('Longitud por palabras'), ax1.set_ylabel(\"tweets\")\n",
        "plt.show()"
      ],
      "execution_count": null,
      "outputs": [
        {
          "output_type": "display_data",
          "data": {
            "image/png": "[encoded data removed]",
            "text/plain": [
              "<Figure size 432x288 with 1 Axes>"
            ]
          },
          "metadata": {
            "needs_background": "light"
          }
        }
      ]
    },
    {
      "cell_type": "code",
      "metadata": {
        "colab": {
          "base_uri": "https://localhost:8080/"
        },
        "id": "Hg9DFcm7JfP3",
        "outputId": "2f6cd1bd-a27a-4708-9124-062fd84c9da5"
      },
      "source": [
        "dim_tw.describe()"
      ],
      "execution_count": null,
      "outputs": [
        {
          "output_type": "execute_result",
          "data": {
            "text/plain": [
              "count    27480.000000\n",
              "mean         7.416230\n",
              "std          3.983212\n",
              "min          0.000000\n",
              "25%          4.000000\n",
              "50%          7.000000\n",
              "75%         10.000000\n",
              "max         25.000000\n",
              "Name: text, dtype: float64"
            ]
          },
          "metadata": {},
          "execution_count": 39
        }
      ]
    },
    {
      "cell_type": "code",
      "metadata": {
        "colab": {
          "base_uri": "https://localhost:8080/",
          "height": 206
        },
        "id": "LjJn5dBsJfaj",
        "outputId": "a453f0db-63ed-4617-d57a-895c15e912e2"
      },
      "source": [
        "df.head(5)"
      ],
      "execution_count": null,
      "outputs": [
        {
          "output_type": "execute_result",
          "data": {
            "text/html": [
              "<div>\n",
              "<style scoped>\n",
              "    .dataframe tbody tr th:only-of-type {\n",
              "        vertical-align: middle;\n",
              "    }\n",
              "\n",
              "    .dataframe tbody tr th {\n",
              "        vertical-align: top;\n",
              "    }\n",
              "\n",
              "    .dataframe thead th {\n",
              "        text-align: right;\n",
              "    }\n",
              "</style>\n",
              "<table border=\"1\" class=\"dataframe\">\n",
              "  <thead>\n",
              "    <tr style=\"text-align: right;\">\n",
              "      <th></th>\n",
              "      <th>index</th>\n",
              "      <th>textID</th>\n",
              "      <th>text</th>\n",
              "      <th>selected_text</th>\n",
              "      <th>sentiment</th>\n",
              "    </tr>\n",
              "  </thead>\n",
              "  <tbody>\n",
              "    <tr>\n",
              "      <th>0</th>\n",
              "      <td>0</td>\n",
              "      <td>cb774db0d1</td>\n",
              "      <td>i`d responded going</td>\n",
              "      <td>i`d responded going</td>\n",
              "      <td>neutral</td>\n",
              "    </tr>\n",
              "    <tr>\n",
              "      <th>1</th>\n",
              "      <td>1</td>\n",
              "      <td>549e992a42</td>\n",
              "      <td>sooo sad miss san diego</td>\n",
              "      <td>sooo sad</td>\n",
              "      <td>negative</td>\n",
              "    </tr>\n",
              "    <tr>\n",
              "      <th>2</th>\n",
              "      <td>2</td>\n",
              "      <td>088c60f138</td>\n",
              "      <td>boss bullying</td>\n",
              "      <td>bullying</td>\n",
              "      <td>negative</td>\n",
              "    </tr>\n",
              "    <tr>\n",
              "      <th>3</th>\n",
              "      <td>3</td>\n",
              "      <td>9642c003ef</td>\n",
              "      <td>interview leave alone</td>\n",
              "      <td>leave alone</td>\n",
              "      <td>negative</td>\n",
              "    </tr>\n",
              "    <tr>\n",
              "      <th>4</th>\n",
              "      <td>4</td>\n",
              "      <td>358bd9e861</td>\n",
              "      <td>sons couldn`t put releases already bought</td>\n",
              "      <td>sons</td>\n",
              "      <td>negative</td>\n",
              "    </tr>\n",
              "  </tbody>\n",
              "</table>\n",
              "</div>"
            ],
            "text/plain": [
              "   index      textID  ...        selected_text sentiment\n",
              "0      0  cb774db0d1  ...  i`d responded going   neutral\n",
              "1      1  549e992a42  ...             sooo sad  negative\n",
              "2      2  088c60f138  ...             bullying  negative\n",
              "3      3  9642c003ef  ...          leave alone  negative\n",
              "4      4  358bd9e861  ...                 sons  negative\n",
              "\n",
              "[5 rows x 5 columns]"
            ]
          },
          "metadata": {},
          "execution_count": 11
        }
      ]
    },
    {
      "cell_type": "markdown",
      "metadata": {
        "id": "UrOPJxXX0BoP"
      },
      "source": [
        "##Decodificación de la variable objetivo"
      ]
    },
    {
      "cell_type": "markdown",
      "metadata": {
        "id": "OiE2wGPgmuVg"
      },
      "source": [
        "Funciones que permiten extraer los índices inicial y final del texto seleccionado del tweet"
      ]
    },
    {
      "cell_type": "code",
      "metadata": {
        "id": "0G0iASVPfNVe"
      },
      "source": [
        "def ind(t1,t2):\n",
        "    l = []\n",
        "    ini = int\n",
        "    fin = int\n",
        "    t1 = t1.lower().split()\n",
        "    t2 = t2.lower().split()\n",
        "    for i in t2:\n",
        "        for ind,j in enumerate(t1):\n",
        "          if i == j:\n",
        "            l.append(ind)\n",
        "    if l != []:\n",
        "        ini=(l[0])\n",
        "        fin=(l[-1])\n",
        "    else:\n",
        "        ini = 0\n",
        "        fin = 0\n",
        "    return ini"
      ],
      "execution_count": null,
      "outputs": []
    },
    {
      "cell_type": "code",
      "metadata": {
        "id": "xM5OE9lTZtHg"
      },
      "source": [
        "def ind2(t1,t2):\n",
        "  l = []\n",
        "  ini = int\n",
        "  fin = int\n",
        "  t1 = t1.lower().split()\n",
        "  t2 = t2.lower().split()\n",
        "  for i in t2:\n",
        "    for ind,j in enumerate(t1):\n",
        "      if i == j:\n",
        "        l.append(ind)\n",
        "  if l != []:\n",
        "    ini=(l[0])\n",
        "    fin=(ini+len(t2)-1)\n",
        "  else:\n",
        "    ini = 0\n",
        "    fin = 0\n",
        "  return fin"
      ],
      "execution_count": null,
      "outputs": []
    },
    {
      "cell_type": "markdown",
      "metadata": {
        "id": "F3p8dWj_m3nx"
      },
      "source": [
        "test funciones"
      ]
    },
    {
      "cell_type": "code",
      "metadata": {
        "colab": {
          "base_uri": "https://localhost:8080/"
        },
        "id": "QN5exIrJib3R",
        "outputId": "86813da4-dbc3-435e-a441-3e156ae06c49"
      },
      "source": [
        "f= ind('no. lost link sent pull battery.','lost')\n",
        "f"
      ],
      "execution_count": null,
      "outputs": [
        {
          "output_type": "execute_result",
          "data": {
            "text/plain": [
              "1"
            ]
          },
          "metadata": {},
          "execution_count": 15
        }
      ]
    },
    {
      "cell_type": "markdown",
      "metadata": {
        "id": "QIddKbconDlg"
      },
      "source": [
        "Creación de dataset donde se manipularán los datos"
      ]
    },
    {
      "cell_type": "code",
      "metadata": {
        "id": "MNubQ9F4Ew-T"
      },
      "source": [
        "df2 = df[['text','selected_text']] "
      ],
      "execution_count": null,
      "outputs": []
    },
    {
      "cell_type": "markdown",
      "metadata": {
        "id": "mOX5C71tnJmY"
      },
      "source": [
        "Aplicación de las funciones de consecución de índices"
      ]
    },
    {
      "cell_type": "code",
      "metadata": {
        "id": "_V3UqsWQLBxE"
      },
      "source": [
        "y_true_i = df2.apply(lambda x: ind(x['text'],x['selected_text']),axis=1)"
      ],
      "execution_count": null,
      "outputs": []
    },
    {
      "cell_type": "code",
      "metadata": {
        "id": "XOKQuiYBjuCc"
      },
      "source": [
        "y_true_f = df2.apply(lambda x: ind2(x['text'],x['selected_text']),axis=1)"
      ],
      "execution_count": null,
      "outputs": []
    },
    {
      "cell_type": "markdown",
      "metadata": {
        "id": "nIlpmAYDmoiY"
      },
      "source": [
        "Validación de índices negativos"
      ]
    },
    {
      "cell_type": "code",
      "metadata": {
        "colab": {
          "base_uri": "https://localhost:8080/"
        },
        "id": "Da2hANKSl16i",
        "outputId": "d134768c-be3a-486c-d8cb-266467602465"
      },
      "source": [
        "a = [(y_true_i[p],y_true_f[p]) for p in range(y_true_i.shape[0]) if y_true_i[p] > y_true_f[p]]\n",
        "a"
      ],
      "execution_count": null,
      "outputs": [
        {
          "output_type": "execute_result",
          "data": {
            "text/plain": [
              "[]"
            ]
          },
          "metadata": {},
          "execution_count": 19
        }
      ]
    },
    {
      "cell_type": "markdown",
      "metadata": {
        "id": "67rk-YuanQox"
      },
      "source": [
        "Agregar dos variables al dataset con índice inicial y final"
      ]
    },
    {
      "cell_type": "code",
      "metadata": {
        "colab": {
          "base_uri": "https://localhost:8080/"
        },
        "id": "D22wQIXXm91_",
        "outputId": "420049b7-7a43-4f89-bdf7-ae38a33c31a3"
      },
      "source": [
        "df2['start_w'] = y_true_i\n",
        "df2['end_w'] = y_true_f"
      ],
      "execution_count": null,
      "outputs": [
        {
          "output_type": "stream",
          "name": "stderr",
          "text": [
            "/usr/local/lib/python3.7/dist-packages/ipykernel_launcher.py:1: SettingWithCopyWarning: \n",
            "A value is trying to be set on a copy of a slice from a DataFrame.\n",
            "Try using .loc[row_indexer,col_indexer] = value instead\n",
            "\n",
            "See the caveats in the documentation: https://pandas.pydata.org/pandas-docs/stable/user_guide/indexing.html#returning-a-view-versus-a-copy\n",
            "  \"\"\"Entry point for launching an IPython kernel.\n",
            "/usr/local/lib/python3.7/dist-packages/ipykernel_launcher.py:2: SettingWithCopyWarning: \n",
            "A value is trying to be set on a copy of a slice from a DataFrame.\n",
            "Try using .loc[row_indexer,col_indexer] = value instead\n",
            "\n",
            "See the caveats in the documentation: https://pandas.pydata.org/pandas-docs/stable/user_guide/indexing.html#returning-a-view-versus-a-copy\n",
            "  \n"
          ]
        }
      ]
    },
    {
      "cell_type": "markdown",
      "metadata": {
        "id": "655xsPMOn5Lq"
      },
      "source": [
        "validación de tipo de datos en cada las dos variables previamente generadas"
      ]
    },
    {
      "cell_type": "code",
      "metadata": {
        "colab": {
          "base_uri": "https://localhost:8080/"
        },
        "id": "-aW8blSInYmC",
        "outputId": "30e76499-ce1b-4140-a1b3-6ae58050c549"
      },
      "source": [
        "val_shape_f = [(type(y_true_f)) for i in range(y_true_f.shape[0]) if type(y_true_f[i]) != type(y_true_f[0]) ]\n",
        "val_shape_i = [(type(y_true_i)) for i in range(y_true_i.shape[0]) if type(y_true_i[i]) != type(y_true_i[0]) ]\n",
        "val_shape_f, val_shape_i"
      ],
      "execution_count": null,
      "outputs": [
        {
          "output_type": "execute_result",
          "data": {
            "text/plain": [
              "([], [])"
            ]
          },
          "metadata": {},
          "execution_count": 21
        }
      ]
    },
    {
      "cell_type": "markdown",
      "metadata": {
        "id": "66CdJf-hGKts"
      },
      "source": [
        "#Longitud de cada tweet\n",
        "\n",
        "Se almacena en una variable la longitud de cada tweet esto para remover el padding al calcular las métricas luego de realizar una predicción al conjunto de test"
      ]
    },
    {
      "cell_type": "code",
      "metadata": {
        "id": "x3vQDwJ7ofHw"
      },
      "source": [
        "def leng2(x):\n",
        "  return len(x.lower().split())"
      ],
      "execution_count": null,
      "outputs": []
    },
    {
      "cell_type": "code",
      "metadata": {
        "id": "3AEs2HIzGKGW"
      },
      "source": [
        "def leng(x):\n",
        "  x = x.lower().split()\n",
        "  a = len(x)\n",
        "  return a"
      ],
      "execution_count": null,
      "outputs": []
    },
    {
      "cell_type": "code",
      "metadata": {
        "colab": {
          "base_uri": "https://localhost:8080/"
        },
        "id": "bufRPuXtoo3T",
        "outputId": "3286aa21-ee90-40f6-ba79-bc0735a41ad0"
      },
      "source": [
        "a = 'hola mi nombre es Gufy y soy el mejor perro del mundo'\n",
        "b = leng2(a)\n",
        "c = leng(a)\n",
        "print(b,c)"
      ],
      "execution_count": null,
      "outputs": [
        {
          "output_type": "stream",
          "name": "stdout",
          "text": [
            "12 12\n"
          ]
        }
      ]
    },
    {
      "cell_type": "code",
      "metadata": {
        "id": "FfRB8SetGZCf"
      },
      "source": [
        "long = df2.apply(lambda x: leng(x['text']),axis=1)\n",
        "long = np.array(long)"
      ],
      "execution_count": null,
      "outputs": []
    },
    {
      "cell_type": "code",
      "metadata": {
        "colab": {
          "base_uri": "https://localhost:8080/",
          "height": 206
        },
        "id": "o3UutklTGkdW",
        "outputId": "57d2c8a2-72af-4c30-f01c-b63045b18f80"
      },
      "source": [
        "df2.head()"
      ],
      "execution_count": null,
      "outputs": [
        {
          "output_type": "execute_result",
          "data": {
            "text/html": [
              "<div>\n",
              "<style scoped>\n",
              "    .dataframe tbody tr th:only-of-type {\n",
              "        vertical-align: middle;\n",
              "    }\n",
              "\n",
              "    .dataframe tbody tr th {\n",
              "        vertical-align: top;\n",
              "    }\n",
              "\n",
              "    .dataframe thead th {\n",
              "        text-align: right;\n",
              "    }\n",
              "</style>\n",
              "<table border=\"1\" class=\"dataframe\">\n",
              "  <thead>\n",
              "    <tr style=\"text-align: right;\">\n",
              "      <th></th>\n",
              "      <th>text</th>\n",
              "      <th>selected_text</th>\n",
              "      <th>start_w</th>\n",
              "      <th>end_w</th>\n",
              "    </tr>\n",
              "  </thead>\n",
              "  <tbody>\n",
              "    <tr>\n",
              "      <th>0</th>\n",
              "      <td>i`d responded going</td>\n",
              "      <td>i`d responded going</td>\n",
              "      <td>0</td>\n",
              "      <td>2</td>\n",
              "    </tr>\n",
              "    <tr>\n",
              "      <th>1</th>\n",
              "      <td>sooo sad miss san diego</td>\n",
              "      <td>sooo sad</td>\n",
              "      <td>0</td>\n",
              "      <td>1</td>\n",
              "    </tr>\n",
              "    <tr>\n",
              "      <th>2</th>\n",
              "      <td>boss bullying</td>\n",
              "      <td>bullying</td>\n",
              "      <td>1</td>\n",
              "      <td>1</td>\n",
              "    </tr>\n",
              "    <tr>\n",
              "      <th>3</th>\n",
              "      <td>interview leave alone</td>\n",
              "      <td>leave alone</td>\n",
              "      <td>1</td>\n",
              "      <td>2</td>\n",
              "    </tr>\n",
              "    <tr>\n",
              "      <th>4</th>\n",
              "      <td>sons couldn`t put releases already bought</td>\n",
              "      <td>sons</td>\n",
              "      <td>0</td>\n",
              "      <td>0</td>\n",
              "    </tr>\n",
              "  </tbody>\n",
              "</table>\n",
              "</div>"
            ],
            "text/plain": [
              "                                        text  ... end_w\n",
              "0                        i`d responded going  ...     2\n",
              "1                    sooo sad miss san diego  ...     1\n",
              "2                              boss bullying  ...     1\n",
              "3                      interview leave alone  ...     2\n",
              "4  sons couldn`t put releases already bought  ...     0\n",
              "\n",
              "[5 rows x 4 columns]"
            ]
          },
          "metadata": {},
          "execution_count": 26
        }
      ]
    },
    {
      "cell_type": "markdown",
      "metadata": {
        "id": "88fudJ6XGduH"
      },
      "source": [
        "#One-hot encodding"
      ]
    },
    {
      "cell_type": "code",
      "metadata": {
        "id": "OSijz-3nanad"
      },
      "source": [
        "y_true_i = to_categorical(y_true_i)"
      ],
      "execution_count": null,
      "outputs": []
    },
    {
      "cell_type": "code",
      "metadata": {
        "colab": {
          "base_uri": "https://localhost:8080/"
        },
        "id": "HjukMLhIanWe",
        "outputId": "4998b80f-2967-46a3-9bd2-a867c22015ad"
      },
      "source": [
        "y_true_i"
      ],
      "execution_count": null,
      "outputs": [
        {
          "output_type": "execute_result",
          "data": {
            "text/plain": [
              "array([[1., 0., 0., ..., 0., 0., 0.],\n",
              "       [1., 0., 0., ..., 0., 0., 0.],\n",
              "       [0., 1., 0., ..., 0., 0., 0.],\n",
              "       ...,\n",
              "       [1., 0., 0., ..., 0., 0., 0.],\n",
              "       [1., 0., 0., ..., 0., 0., 0.],\n",
              "       [1., 0., 0., ..., 0., 0., 0.]], dtype=float32)"
            ]
          },
          "metadata": {},
          "execution_count": 28
        }
      ]
    },
    {
      "cell_type": "code",
      "metadata": {
        "colab": {
          "base_uri": "https://localhost:8080/"
        },
        "id": "_0e0o4rlJwHl",
        "outputId": "acb25e52-205d-4346-c288-9818b970f752"
      },
      "source": [
        "y_true_i.shape, y_true_f.shape"
      ],
      "execution_count": null,
      "outputs": [
        {
          "output_type": "execute_result",
          "data": {
            "text/plain": [
              "((27480, 23), (27480, 25))"
            ]
          },
          "metadata": {},
          "execution_count": 61
        }
      ]
    },
    {
      "cell_type": "code",
      "metadata": {
        "id": "LV7n11p_anTu"
      },
      "source": [
        "y_true_f = to_categorical(y_true_f)"
      ],
      "execution_count": null,
      "outputs": []
    },
    {
      "cell_type": "code",
      "metadata": {
        "colab": {
          "base_uri": "https://localhost:8080/"
        },
        "id": "OYlbEP3aanQc",
        "outputId": "a61baf58-d684-44d9-8ec8-aab13768b3f5"
      },
      "source": [
        "y_true_f.shape, y_true_i.shape"
      ],
      "execution_count": null,
      "outputs": [
        {
          "output_type": "execute_result",
          "data": {
            "text/plain": [
              "((27480, 25), (27480, 22))"
            ]
          },
          "metadata": {},
          "execution_count": 30
        }
      ]
    },
    {
      "cell_type": "markdown",
      "metadata": {
        "id": "kxFCJ4i2Yu59"
      },
      "source": [
        "#Padding"
      ]
    },
    {
      "cell_type": "markdown",
      "metadata": {
        "id": "v8JgAglD0P7o"
      },
      "source": [
        "Se agrega pading al arreglo con los vectores que tienen la posición inicial debido a que poseen menor longitud"
      ]
    },
    {
      "cell_type": "code",
      "metadata": {
        "id": "kt6ERkv9YuBu"
      },
      "source": [
        "def pad(a,ml):\n",
        "  if len(a) == 0:\n",
        "    c = np.zeros(ml)\n",
        "  else:\n",
        "    b = np.pad(a,ml-len(a))\n",
        "    c = b[ml-len(a):]\n",
        "    c = np.array(c,dtype='float32')\n",
        "  #return list(c)\n",
        "  return c"
      ],
      "execution_count": null,
      "outputs": []
    },
    {
      "cell_type": "code",
      "metadata": {
        "id": "KBYl0m9HY6Y1"
      },
      "source": [
        "y_true_i_2 = [pad(i,max(dim_tw)) for i in y_true_i]"
      ],
      "execution_count": null,
      "outputs": []
    },
    {
      "cell_type": "code",
      "metadata": {
        "id": "DUeaiIyVZFZd"
      },
      "source": [
        "y_true_i=np.array(y_true_i_2,dtype='float32')"
      ],
      "execution_count": null,
      "outputs": []
    },
    {
      "cell_type": "code",
      "metadata": {
        "id": "Ui1UJ2UrpkFz"
      },
      "source": [
        "l = []\n",
        "for i in range(y_true_i.shape[0]):\n",
        " a1 = np.append(y_true_i[i], 0)\n",
        " l.append(a1)\n",
        "y_true_i2 = np.array(l,dtype='float32')"
      ],
      "execution_count": null,
      "outputs": []
    },
    {
      "cell_type": "code",
      "metadata": {
        "id": "H2Jr6Jg-tGF6"
      },
      "source": [
        "y_true_i=y_true_i2"
      ],
      "execution_count": null,
      "outputs": []
    },
    {
      "cell_type": "code",
      "metadata": {
        "colab": {
          "base_uri": "https://localhost:8080/"
        },
        "id": "MZhKA4-7KDM-",
        "outputId": "cf8973a1-2f8d-4063-f4bc-10569fac65f7"
      },
      "source": [
        "y_true_i[5632].shape"
      ],
      "execution_count": null,
      "outputs": [
        {
          "output_type": "execute_result",
          "data": {
            "text/plain": [
              "(25,)"
            ]
          },
          "metadata": {},
          "execution_count": 70
        }
      ]
    },
    {
      "cell_type": "markdown",
      "metadata": {
        "id": "KiQRVYIspfVB"
      },
      "source": [
        "#Codificación del sentimiento para ser una entrada válida en el modelo\n"
      ]
    },
    {
      "cell_type": "code",
      "metadata": {
        "id": "hdIIhDXMpriN"
      },
      "source": [
        "labels1 = {\"sentiment\": {\"neutral\":0,\"positive\":1,\"negative\":2}}"
      ],
      "execution_count": null,
      "outputs": []
    },
    {
      "cell_type": "code",
      "metadata": {
        "id": "_z0Uda9_preK"
      },
      "source": [
        "df = df.replace(labels1)\n",
        "labels = df['sentiment']\n",
        "#labels\n",
        "#labels = to_categorical(labels)"
      ],
      "execution_count": null,
      "outputs": []
    },
    {
      "cell_type": "code",
      "metadata": {
        "colab": {
          "base_uri": "https://localhost:8080/"
        },
        "id": "VB7gPUEeprbk",
        "outputId": "e637573c-4142-4e9b-96f4-e55ea8f18459"
      },
      "source": [
        "labels"
      ],
      "execution_count": null,
      "outputs": [
        {
          "output_type": "execute_result",
          "data": {
            "text/plain": [
              "0        0\n",
              "1        2\n",
              "2        2\n",
              "3        2\n",
              "4        2\n",
              "        ..\n",
              "27475    2\n",
              "27476    2\n",
              "27477    1\n",
              "27478    1\n",
              "27479    0\n",
              "Name: sentiment, Length: 27480, dtype: int64"
            ]
          },
          "metadata": {},
          "execution_count": 35
        }
      ]
    },
    {
      "cell_type": "code",
      "metadata": {
        "colab": {
          "base_uri": "https://localhost:8080/"
        },
        "id": "7pU5Mn-NAjO4",
        "outputId": "b91b6f39-29a7-4fa6-f353-e123d8b6c75e"
      },
      "source": [
        "labels.shape"
      ],
      "execution_count": null,
      "outputs": [
        {
          "output_type": "execute_result",
          "data": {
            "text/plain": [
              "(27480,)"
            ]
          },
          "metadata": {},
          "execution_count": 36
        }
      ]
    },
    {
      "cell_type": "markdown",
      "metadata": {
        "id": "Eh3LSwlQer_t"
      },
      "source": [
        "#Tokenización"
      ]
    },
    {
      "cell_type": "code",
      "metadata": {
        "id": "LcdlcbJWeuNF"
      },
      "source": [
        "text = list(df['text'].values)"
      ],
      "execution_count": null,
      "outputs": []
    },
    {
      "cell_type": "code",
      "metadata": {
        "id": "poxpPinzfA6b"
      },
      "source": [
        "tokenizer = Tokenizer(num_words=12000)\n",
        "tokenizer.fit_on_texts(text)\n",
        "sequences = tokenizer.texts_to_sequences(text)"
      ],
      "execution_count": null,
      "outputs": []
    },
    {
      "cell_type": "code",
      "metadata": {
        "colab": {
          "base_uri": "https://localhost:8080/"
        },
        "id": "LUZ927_Hfdyd",
        "outputId": "8ea5c398-083a-4018-af91-c5ca5560aba8"
      },
      "source": [
        "word_index = tokenizer.word_index\n",
        "print('Found %s unique tokens.' % len(word_index))"
      ],
      "execution_count": null,
      "outputs": [
        {
          "output_type": "stream",
          "name": "stdout",
          "text": [
            "Found 28612 unique tokens.\n"
          ]
        }
      ]
    },
    {
      "cell_type": "code",
      "metadata": {
        "id": "l_3Mmv7LfzEd"
      },
      "source": [
        "data = pad_sequences(sequences, maxlen=max(dim_tw))"
      ],
      "execution_count": null,
      "outputs": []
    },
    {
      "cell_type": "code",
      "metadata": {
        "colab": {
          "base_uri": "https://localhost:8080/"
        },
        "id": "fYfGcUwcYx91",
        "outputId": "7f63ed4a-75c2-4a51-a6ce-5ea196a51580"
      },
      "source": [
        "data[36]"
      ],
      "execution_count": null,
      "outputs": [
        {
          "output_type": "execute_result",
          "data": {
            "text/plain": [
              "array([   0,    0,    0,    0,    0,    0,    0,    0,    0,    0,    0,\n",
              "          0,    0,    0, 1508, 4366,  950,  678, 1667,  539,  348,  328,\n",
              "         35,   40, 1026], dtype=int32)"
            ]
          },
          "metadata": {},
          "execution_count": 44
        }
      ]
    },
    {
      "cell_type": "markdown",
      "metadata": {
        "id": "YPqp2-sXgkUF"
      },
      "source": [
        "#Split de la data"
      ]
    },
    {
      "cell_type": "code",
      "metadata": {
        "colab": {
          "base_uri": "https://localhost:8080/"
        },
        "id": "EP6Q1S1Kglah",
        "outputId": "4ac64373-4c72-45d6-b55a-3a0dac51523b"
      },
      "source": [
        "X_train,x_test,Y_train_i,y_test_i,Y_train_f,y_test_f,long_train,long_test,Labels_train,labels_test, TS_train, ts_test = train_test_split(data,y_true_i,y_true_f,long,labels,df['text'], test_size=0.15, random_state=42)\n",
        "x_train,x_val,y_train_i,y_val_i,y_train_f,y_val_f,l_train,l_val,labels_train,labels_val = train_test_split(X_train,Y_train_i,Y_train_f,long_train,Labels_train, test_size=0.1, random_state=42)\n",
        "x_train.shape, y_train_i.shape,y_train_f.shape,x_val.shape, y_val_i.shape,y_val_f.shape, x_test.shape, y_test_i.shape,y_test_f.shape,"
      ],
      "execution_count": null,
      "outputs": [
        {
          "output_type": "execute_result",
          "data": {
            "text/plain": [
              "((21022, 25),\n",
              " (21022, 25),\n",
              " (21022, 25),\n",
              " (2336, 25),\n",
              " (2336, 25),\n",
              " (2336, 25),\n",
              " (4122, 25),\n",
              " (4122, 25),\n",
              " (4122, 25))"
            ]
          },
          "metadata": {},
          "execution_count": 71
        }
      ]
    },
    {
      "cell_type": "code",
      "metadata": {
        "colab": {
          "base_uri": "https://localhost:8080/"
        },
        "id": "abIivII4HTzX",
        "outputId": "c1c1b694-9f60-4c51-f7f6-901e421dcc55"
      },
      "source": [
        "l_train.shape ,long_test.shape, l_val.shape"
      ],
      "execution_count": null,
      "outputs": [
        {
          "output_type": "execute_result",
          "data": {
            "text/plain": [
              "((21022,), (4122,), (2336,))"
            ]
          },
          "metadata": {},
          "execution_count": 72
        }
      ]
    },
    {
      "cell_type": "code",
      "metadata": {
        "colab": {
          "base_uri": "https://localhost:8080/"
        },
        "id": "2VZMAEL808Ai",
        "outputId": "6e4e49a1-5b9f-4293-eb99-d70e3d02c468"
      },
      "source": [
        "labels_train.shape ,labels_test.shape, labels_val.shape"
      ],
      "execution_count": null,
      "outputs": [
        {
          "output_type": "execute_result",
          "data": {
            "text/plain": [
              "((21022,), (4122,), (2336,))"
            ]
          },
          "metadata": {},
          "execution_count": 73
        }
      ]
    },
    {
      "cell_type": "code",
      "metadata": {
        "colab": {
          "base_uri": "https://localhost:8080/"
        },
        "id": "agfkjsCXBZ3J",
        "outputId": "604ee71b-c32a-4bea-fc6a-bdf09035813c"
      },
      "source": [
        "ts_test.shape"
      ],
      "execution_count": null,
      "outputs": [
        {
          "output_type": "execute_result",
          "data": {
            "text/plain": [
              "(4122,)"
            ]
          },
          "metadata": {},
          "execution_count": 74
        }
      ]
    },
    {
      "cell_type": "markdown",
      "metadata": {
        "id": "BqY-0WVuiX-h"
      },
      "source": [
        "#Capa de Embeding"
      ]
    },
    {
      "cell_type": "markdown",
      "metadata": {
        "id": "Fv0oOtYE0hC-"
      },
      "source": [
        "Debido a que pesa más de 400 Mb se pondrá el enlace donde se puede descargar para uso del lector, se debe establecer la variable Path con la ruta donde el archivo esté puesto.\n",
        "https://nlp.stanford.edu/projects/glove/"
      ]
    },
    {
      "cell_type": "code",
      "metadata": {
        "colab": {
          "base_uri": "https://localhost:8080/"
        },
        "id": "s0ahU3vOiGU9",
        "outputId": "276ff8a6-3ca2-4194-fe15-87dd14892f6c"
      },
      "source": [
        "from google.colab import drive\n",
        "drive.mount('/content/drive')"
      ],
      "execution_count": null,
      "outputs": [
        {
          "output_type": "stream",
          "name": "stdout",
          "text": [
            "Mounted at /content/drive\n"
          ]
        }
      ]
    },
    {
      "cell_type": "code",
      "metadata": {
        "id": "DubeFCm5iULF"
      },
      "source": [
        "path = '/content/drive/MyDrive/'"
      ],
      "execution_count": null,
      "outputs": []
    },
    {
      "cell_type": "code",
      "metadata": {
        "colab": {
          "base_uri": "https://localhost:8080/"
        },
        "id": "tVW11A2IiUoq",
        "outputId": "789e2fc2-90a7-462e-df57-7985bc35651b"
      },
      "source": [
        "embeddings_index = {}\n",
        "f = open(os.path.join(path, 'glove.6B.100d.txt'))\n",
        "for line in f:\n",
        "    values = line.split()\n",
        "    word = values[0]\n",
        "    coefs = np.asarray(values[1:], dtype='float32')\n",
        "    embeddings_index[word] = coefs\n",
        "f.close()\n",
        "\n",
        "print('Found %s word vectors.' % len(embeddings_index))"
      ],
      "execution_count": null,
      "outputs": [
        {
          "output_type": "stream",
          "name": "stdout",
          "text": [
            "Found 400000 word vectors.\n"
          ]
        }
      ]
    },
    {
      "cell_type": "code",
      "metadata": {
        "id": "aaxAK77AikQs"
      },
      "source": [
        "embedding_matrix = np.zeros((tokenizer.num_words + 1, 100))\n",
        "for i in range(1,tokenizer.num_words):\n",
        "  word = tokenizer.index_word[i]\n",
        "  embedding_vector = embeddings_index.get(word)\n",
        "  if embedding_vector is not None:\n",
        "        # words not found in embedding index will be all-zeros.\n",
        "      embedding_matrix[i] = embedding_vector\n",
        "  else:\n",
        "      embedding_matrix[i] = embeddings_index.get('unk')"
      ],
      "execution_count": null,
      "outputs": []
    },
    {
      "cell_type": "code",
      "metadata": {
        "id": "-Sr5Ll12ikz2"
      },
      "source": [
        "from keras.layers import Embedding\n",
        "\n",
        "embedding_layer = Embedding(tokenizer.num_words + 1,\n",
        "                            100,\n",
        "                            weights=[embedding_matrix],\n",
        "                            input_length=25,\n",
        "                            trainable=False,\n",
        "                            mask_zero=True)"
      ],
      "execution_count": null,
      "outputs": []
    },
    {
      "cell_type": "markdown",
      "metadata": {
        "id": "mhpsg2hOlms5"
      },
      "source": [
        "#Definición de métricas"
      ]
    },
    {
      "cell_type": "code",
      "metadata": {
        "id": "i_z-Pj14lmO7"
      },
      "source": [
        "def recall_m(y_true, y_pred):\n",
        "    true_positives = K.sum(K.round(K.clip(y_true * y_pred, 0, 1)))\n",
        "    possible_positives = K.sum(K.round(K.clip(y_true, 0, 1)))\n",
        "    recall = true_positives / (possible_positives + K.epsilon())\n",
        "    return recall\n",
        "\n",
        "def precision_m(y_true, y_pred):\n",
        "    true_positives = K.sum(K.round(K.clip(y_true * y_pred, 0, 1)))\n",
        "    predicted_positives = K.sum(K.round(K.clip(y_pred, 0, 1)))\n",
        "    precision = true_positives / (predicted_positives + K.epsilon())\n",
        "    return precision\n",
        "\n",
        "def f1_m(y_true, y_pred):\n",
        "    precision = precision_m(y_true, y_pred)\n",
        "    recall = recall_m(y_true, y_pred)\n",
        "    return 2*((precision*recall)/(precision+recall+K.epsilon()))"
      ],
      "execution_count": null,
      "outputs": []
    },
    {
      "cell_type": "markdown",
      "metadata": {
        "id": "cxTfecljj0AY"
      },
      "source": [
        "#Creación del modelo"
      ]
    },
    {
      "cell_type": "code",
      "metadata": {
        "id": "JG-YLaTqJyhn"
      },
      "source": [
        "import tensorflow as tf"
      ],
      "execution_count": null,
      "outputs": []
    },
    {
      "cell_type": "code",
      "metadata": {
        "colab": {
          "base_uri": "https://localhost:8080/"
        },
        "id": "oJeuEXuOj3E2",
        "outputId": "3a8b61c5-fc73-4b89-90bd-20f404b453fd"
      },
      "source": [
        "from tensorflow.keras.layers import Dense, Flatten, Conv2D, Conv1D, MaxPooling1D, LSTM, Concatenate, RepeatVector, Concatenate\n",
        "from tensorflow.keras import Model,Input\n",
        "from keras.preprocessing.text import Tokenizer\n",
        "from keras.preprocessing.sequence import pad_sequences\n",
        "from keras.models import Sequential\n",
        "from keras.layers import Dense, Dropout, Bidirectional\n",
        "from keras.layers import Flatten\n",
        "from keras.layers import Embedding\n",
        "from tensorflow.keras import callbacks\n",
        "from numpy import array\n",
        "from numpy import asarray\n",
        "from numpy import zeros\n",
        "from tensorflow.compat.v1 import ConfigProto\n",
        "from tensorflow.compat.v1 import InteractiveSession\n",
        "from tensorflow.keras import optimizers\n",
        "from tensorflow.keras.metrics import Recall, Precision\n",
        "\n",
        "config = ConfigProto()\n",
        "config.gpu_options.allow_growth = True\n",
        "session = InteractiveSession(config=config)\n",
        "import tensorflow.keras.backend as K\n",
        "tf.config.list_physical_devices('GPU')"
      ],
      "execution_count": null,
      "outputs": [
        {
          "output_type": "execute_result",
          "data": {
            "text/plain": [
              "[]"
            ]
          },
          "metadata": {},
          "execution_count": 56
        }
      ]
    },
    {
      "cell_type": "code",
      "metadata": {
        "colab": {
          "base_uri": "https://localhost:8080/"
        },
        "id": "ZYimaA0hanGo",
        "outputId": "f3c9a728-0b81-4743-e741-13362ad7f4bc"
      },
      "source": [
        "sequence_input = Input(shape=(25,), dtype='int32')\n",
        "sentiment = Input(shape=(1,), dtype='int32')\n",
        "\n",
        "embedded_sequences = embedding_layer(sequence_input)\n",
        "#x1 = Bidirectional(LSTM(50,return_sequences=True))(embedded_sequences)\n",
        "#x1 = Bidirectional(LSTM(50,return_sequences=False))(x1)\n",
        "\n",
        "xs = Embedding(3,20)(sentiment)\n",
        "xs = Flatten()(xs)\n",
        "#xs = Dense(100, activation='relu')(sentiment)\n",
        "xs = RepeatVector(25)(xs)\n",
        "#xs = Dense(100, activation='relu')(xs)\n",
        "\n",
        "x = Concatenate(axis=-1)([xs,embedded_sequences])\n",
        "\n",
        "x1 = Bidirectional(LSTM(50,return_sequences=True))(x)\n",
        "x1 = Bidirectional(LSTM(50,return_sequences=False))(x1)\n",
        "\n",
        "x1 = Dense(128, activation='relu')(x1)\n",
        "salida1 = Dense(25, activation='softmax')(x1)\n",
        "salida2 = Dense(25, activation='softmax')(x1)\n",
        "\n",
        "model = Model(inputs=[sequence_input,sentiment], outputs=[salida1,salida2])\n",
        "optimizer = tf.keras.optimizers.Adam(learning_rate=3e-5)\n",
        "model.compile(loss=['categorical_crossentropy','categorical_crossentropy'], optimizer=optimizer,metrics=['accuracy',Recall(),Precision()])\n",
        "model.summary()\n",
        "\n",
        "model.fit([x_train,labels_train], [y_train_i,y_train_f], validation_data=([x_val,labels_val], [y_val_i,y_val_f]),\n",
        "          epochs=15, batch_size=32,verbose=1)\n",
        "\n",
        "loss, loss1, loss2, accuracy1,recall1, precision1,accuracy2,recall2,precision2 = model.evaluate([x_test,labels_test],[y_test_i,y_test_f], verbose=0,batch_size=128)\n",
        "print(\"accuracy_1: {} accuracy_2: {}\".format(accuracy1*100,accuracy2*100))\n",
        "print(\"recall_1: {} recall_2: {}\".format(recall1*100,recall2*100))\n",
        "#print('F1: %f' % (((2*recall*precision) / (recall + precision))*100))\n",
        "print(\"precision_1: {} precision_2: {}\".format(precision1*100,precision2*100))"
      ],
      "execution_count": null,
      "outputs": [
        {
          "output_type": "stream",
          "name": "stdout",
          "text": [
            "Model: \"model_1\"\n",
            "__________________________________________________________________________________________________\n",
            "Layer (type)                    Output Shape         Param #     Connected to                     \n",
            "==================================================================================================\n",
            "input_4 (InputLayer)            [(None, 1)]          0                                            \n",
            "__________________________________________________________________________________________________\n",
            "embedding_2 (Embedding)         (None, 1, 20)        60          input_4[0][0]                    \n",
            "__________________________________________________________________________________________________\n",
            "flatten_1 (Flatten)             (None, 20)           0           embedding_2[0][0]                \n",
            "__________________________________________________________________________________________________\n",
            "input_3 (InputLayer)            [(None, 25)]         0                                            \n",
            "__________________________________________________________________________________________________\n",
            "repeat_vector_1 (RepeatVector)  (None, 25, 20)       0           flatten_1[0][0]                  \n",
            "__________________________________________________________________________________________________\n",
            "embedding (Embedding)           (None, 25, 100)      1200100     input_3[0][0]                    \n",
            "__________________________________________________________________________________________________\n",
            "concatenate_1 (Concatenate)     (None, 25, 120)      0           repeat_vector_1[0][0]            \n",
            "                                                                 embedding[1][0]                  \n",
            "__________________________________________________________________________________________________\n",
            "bidirectional_2 (Bidirectional) (None, 25, 100)      68400       concatenate_1[0][0]              \n",
            "__________________________________________________________________________________________________\n",
            "bidirectional_3 (Bidirectional) (None, 100)          60400       bidirectional_2[0][0]            \n",
            "__________________________________________________________________________________________________\n",
            "dense_3 (Dense)                 (None, 128)          12928       bidirectional_3[0][0]            \n",
            "__________________________________________________________________________________________________\n",
            "dense_4 (Dense)                 (None, 25)           3225        dense_3[0][0]                    \n",
            "__________________________________________________________________________________________________\n",
            "dense_5 (Dense)                 (None, 25)           3225        dense_3[0][0]                    \n",
            "==================================================================================================\n",
            "Total params: 1,348,338\n",
            "Trainable params: 148,238\n",
            "Non-trainable params: 1,200,100\n",
            "__________________________________________________________________________________________________\n",
            "Epoch 1/15\n",
            "657/657 [==============================] - 72s 88ms/step - loss: 5.3136 - dense_4_loss: 2.3274 - dense_5_loss: 2.9862 - dense_4_accuracy: 0.5870 - dense_4_recall_1: 0.1944 - dense_4_precision_1: 0.5570 - dense_5_accuracy: 0.0902 - dense_5_recall_1: 0.0000e+00 - dense_5_precision_1: 0.0000e+00 - val_loss: 4.5394 - val_dense_4_loss: 1.8115 - val_dense_5_loss: 2.7279 - val_dense_4_accuracy: 0.6190 - val_dense_4_recall_1: 0.4165 - val_dense_4_precision_1: 0.5727 - val_dense_5_accuracy: 0.1134 - val_dense_5_recall_1: 0.0000e+00 - val_dense_5_precision_1: 0.0000e+00\n",
            "Epoch 2/15\n",
            "657/657 [==============================] - 53s 81ms/step - loss: 4.2691 - dense_4_loss: 1.6637 - dense_5_loss: 2.6054 - dense_4_accuracy: 0.6266 - dense_4_recall_1: 0.4663 - dense_4_precision_1: 0.6153 - dense_5_accuracy: 0.1311 - dense_5_recall_1: 0.0000e+00 - dense_5_precision_1: 0.0000e+00 - val_loss: 4.0736 - val_dense_4_loss: 1.5899 - val_dense_5_loss: 2.4838 - val_dense_4_accuracy: 0.6190 - val_dense_4_recall_1: 0.4396 - val_dense_4_precision_1: 0.6484 - val_dense_5_accuracy: 0.1310 - val_dense_5_recall_1: 0.0000e+00 - val_dense_5_precision_1: 0.0000e+00\n",
            "Epoch 3/15\n",
            "657/657 [==============================] - 54s 82ms/step - loss: 3.8864 - dense_4_loss: 1.5009 - dense_5_loss: 2.3855 - dense_4_accuracy: 0.6270 - dense_4_recall_1: 0.4708 - dense_4_precision_1: 0.7117 - dense_5_accuracy: 0.1518 - dense_5_recall_1: 0.0000e+00 - dense_5_precision_1: 0.0000e+00 - val_loss: 3.7501 - val_dense_4_loss: 1.4335 - val_dense_5_loss: 2.3166 - val_dense_4_accuracy: 0.6194 - val_dense_4_recall_1: 0.4692 - val_dense_4_precision_1: 0.7522 - val_dense_5_accuracy: 0.1717 - val_dense_5_recall_1: 0.0000e+00 - val_dense_5_precision_1: 0.0000e+00\n",
            "Epoch 4/15\n",
            "657/657 [==============================] - 53s 81ms/step - loss: 3.5770 - dense_4_loss: 1.3453 - dense_5_loss: 2.2318 - dense_4_accuracy: 0.6273 - dense_4_recall_1: 0.4837 - dense_4_precision_1: 0.8076 - dense_5_accuracy: 0.2031 - dense_5_recall_1: 0.0000e+00 - dense_5_precision_1: 0.0000e+00 - val_loss: 3.4945 - val_dense_4_loss: 1.3163 - val_dense_5_loss: 2.1782 - val_dense_4_accuracy: 0.6199 - val_dense_4_recall_1: 0.4585 - val_dense_4_precision_1: 0.8194 - val_dense_5_accuracy: 0.2457 - val_dense_5_recall_1: 0.0000e+00 - val_dense_5_precision_1: 0.0000e+00\n",
            "Epoch 5/15\n",
            "657/657 [==============================] - 53s 81ms/step - loss: 3.3908 - dense_4_loss: 1.2786 - dense_5_loss: 2.1121 - dense_4_accuracy: 0.6272 - dense_4_recall_1: 0.4746 - dense_4_precision_1: 0.8410 - dense_5_accuracy: 0.2536 - dense_5_recall_1: 0.0000e+00 - dense_5_precision_1: 0.0000e+00 - val_loss: 3.3577 - val_dense_4_loss: 1.2718 - val_dense_5_loss: 2.0860 - val_dense_4_accuracy: 0.6199 - val_dense_4_recall_1: 0.4576 - val_dense_4_precision_1: 0.8397 - val_dense_5_accuracy: 0.2658 - val_dense_5_recall_1: 0.0000e+00 - val_dense_5_precision_1: 0.0000e+00\n",
            "Epoch 6/15\n",
            "657/657 [==============================] - 53s 81ms/step - loss: 3.2773 - dense_4_loss: 1.2427 - dense_5_loss: 2.0346 - dense_4_accuracy: 0.6273 - dense_4_recall_1: 0.4739 - dense_4_precision_1: 0.8560 - dense_5_accuracy: 0.2775 - dense_5_recall_1: 0.0000e+00 - dense_5_precision_1: 0.0000e+00 - val_loss: 3.2729 - val_dense_4_loss: 1.2443 - val_dense_5_loss: 2.0286 - val_dense_4_accuracy: 0.6207 - val_dense_4_recall_1: 0.4529 - val_dense_4_precision_1: 0.8609 - val_dense_5_accuracy: 0.2783 - val_dense_5_recall_1: 0.0000e+00 - val_dense_5_precision_1: 0.0000e+00\n",
            "Epoch 7/15\n",
            "657/657 [==============================] - 54s 82ms/step - loss: 3.2012 - dense_4_loss: 1.2187 - dense_5_loss: 1.9824 - dense_4_accuracy: 0.6278 - dense_4_recall_1: 0.4755 - dense_4_precision_1: 0.8633 - dense_5_accuracy: 0.2873 - dense_5_recall_1: 0.0000e+00 - dense_5_precision_1: 0.0000e+00 - val_loss: 3.2146 - val_dense_4_loss: 1.2251 - val_dense_5_loss: 1.9895 - val_dense_4_accuracy: 0.6199 - val_dense_4_recall_1: 0.4688 - val_dense_4_precision_1: 0.8456 - val_dense_5_accuracy: 0.2958 - val_dense_5_recall_1: 0.0000e+00 - val_dense_5_precision_1: 0.0000e+00\n",
            "Epoch 8/15\n",
            "657/657 [==============================] - 54s 82ms/step - loss: 3.1459 - dense_4_loss: 1.2012 - dense_5_loss: 1.9446 - dense_4_accuracy: 0.6277 - dense_4_recall_1: 0.4803 - dense_4_precision_1: 0.8668 - dense_5_accuracy: 0.2982 - dense_5_recall_1: 0.0000e+00 - dense_5_precision_1: 0.0000e+00 - val_loss: 3.1637 - val_dense_4_loss: 1.2102 - val_dense_5_loss: 1.9534 - val_dense_4_accuracy: 0.6194 - val_dense_4_recall_1: 0.4602 - val_dense_4_precision_1: 0.8628 - val_dense_5_accuracy: 0.3065 - val_dense_5_recall_1: 0.0000e+00 - val_dense_5_precision_1: 0.0000e+00\n",
            "Epoch 9/15\n",
            "657/657 [==============================] - 54s 82ms/step - loss: 3.1008 - dense_4_loss: 1.1873 - dense_5_loss: 1.9135 - dense_4_accuracy: 0.6282 - dense_4_recall_1: 0.4814 - dense_4_precision_1: 0.8711 - dense_5_accuracy: 0.3070 - dense_5_recall_1: 4.7569e-05 - dense_5_precision_1: 0.3333 - val_loss: 3.1296 - val_dense_4_loss: 1.1992 - val_dense_5_loss: 1.9304 - val_dense_4_accuracy: 0.6190 - val_dense_4_recall_1: 0.4739 - val_dense_4_precision_1: 0.8581 - val_dense_5_accuracy: 0.3069 - val_dense_5_recall_1: 0.0013 - val_dense_5_precision_1: 0.6000\n",
            "Epoch 10/15\n",
            "657/657 [==============================] - 54s 82ms/step - loss: 3.0626 - dense_4_loss: 1.1745 - dense_5_loss: 1.8882 - dense_4_accuracy: 0.6273 - dense_4_recall_1: 0.4876 - dense_4_precision_1: 0.8721 - dense_5_accuracy: 0.3179 - dense_5_recall_1: 9.0382e-04 - dense_5_precision_1: 0.4130 - val_loss: 3.0949 - val_dense_4_loss: 1.1888 - val_dense_5_loss: 1.9060 - val_dense_4_accuracy: 0.6182 - val_dense_4_recall_1: 0.4765 - val_dense_4_precision_1: 0.8562 - val_dense_5_accuracy: 0.3168 - val_dense_5_recall_1: 0.0039 - val_dense_5_precision_1: 0.4737\n",
            "Epoch 11/15\n",
            "657/657 [==============================] - 54s 82ms/step - loss: 3.0303 - dense_4_loss: 1.1650 - dense_5_loss: 1.8653 - dense_4_accuracy: 0.6281 - dense_4_recall_1: 0.4901 - dense_4_precision_1: 0.8723 - dense_5_accuracy: 0.3269 - dense_5_recall_1: 0.0038 - dense_5_precision_1: 0.4819 - val_loss: 3.0826 - val_dense_4_loss: 1.1848 - val_dense_5_loss: 1.8979 - val_dense_4_accuracy: 0.6194 - val_dense_4_recall_1: 0.4872 - val_dense_4_precision_1: 0.8448 - val_dense_5_accuracy: 0.3206 - val_dense_5_recall_1: 0.0034 - val_dense_5_precision_1: 0.5000\n",
            "Epoch 12/15\n",
            "657/657 [==============================] - 54s 82ms/step - loss: 3.0020 - dense_4_loss: 1.1559 - dense_5_loss: 1.8461 - dense_4_accuracy: 0.6279 - dense_4_recall_1: 0.4944 - dense_4_precision_1: 0.8715 - dense_5_accuracy: 0.3343 - dense_5_recall_1: 0.0096 - dense_5_precision_1: 0.5739 - val_loss: 3.0482 - val_dense_4_loss: 1.1756 - val_dense_5_loss: 1.8725 - val_dense_4_accuracy: 0.6194 - val_dense_4_recall_1: 0.4812 - val_dense_4_precision_1: 0.8587 - val_dense_5_accuracy: 0.3373 - val_dense_5_recall_1: 0.0150 - val_dense_5_precision_1: 0.5303\n",
            "Epoch 13/15\n",
            "657/657 [==============================] - 54s 82ms/step - loss: 2.9777 - dense_4_loss: 1.1487 - dense_5_loss: 1.8290 - dense_4_accuracy: 0.6286 - dense_4_recall_1: 0.4974 - dense_4_precision_1: 0.8723 - dense_5_accuracy: 0.3432 - dense_5_recall_1: 0.0203 - dense_5_precision_1: 0.6023 - val_loss: 3.0312 - val_dense_4_loss: 1.1689 - val_dense_5_loss: 1.8624 - val_dense_4_accuracy: 0.6190 - val_dense_4_recall_1: 0.4867 - val_dense_4_precision_1: 0.8568 - val_dense_5_accuracy: 0.3206 - val_dense_5_recall_1: 0.0188 - val_dense_5_precision_1: 0.5641\n",
            "Epoch 14/15\n",
            "657/657 [==============================] - 54s 82ms/step - loss: 2.9564 - dense_4_loss: 1.1420 - dense_5_loss: 1.8144 - dense_4_accuracy: 0.6291 - dense_4_recall_1: 0.5024 - dense_4_precision_1: 0.8719 - dense_5_accuracy: 0.3478 - dense_5_recall_1: 0.0306 - dense_5_precision_1: 0.6237 - val_loss: 3.0078 - val_dense_4_loss: 1.1638 - val_dense_5_loss: 1.8440 - val_dense_4_accuracy: 0.6177 - val_dense_4_recall_1: 0.4893 - val_dense_4_precision_1: 0.8543 - val_dense_5_accuracy: 0.3472 - val_dense_5_recall_1: 0.0295 - val_dense_5_precision_1: 0.6970\n",
            "Epoch 15/15\n",
            "657/657 [==============================] - 54s 82ms/step - loss: 2.9354 - dense_4_loss: 1.1352 - dense_5_loss: 1.8002 - dense_4_accuracy: 0.6281 - dense_4_recall_1: 0.5035 - dense_4_precision_1: 0.8728 - dense_5_accuracy: 0.3536 - dense_5_recall_1: 0.0377 - dense_5_precision_1: 0.6392 - val_loss: 2.9952 - val_dense_4_loss: 1.1602 - val_dense_5_loss: 1.8351 - val_dense_4_accuracy: 0.6194 - val_dense_4_recall_1: 0.4974 - val_dense_4_precision_1: 0.8500 - val_dense_5_accuracy: 0.3476 - val_dense_5_recall_1: 0.0505 - val_dense_5_precision_1: 0.6782\n",
            "accuracy_1: 62.88209557533264 accuracy_2: 33.81853401660919\n",
            "recall_1: 51.601165533065796 recall_2: 4.682192951440811\n",
            "precision_1: 86.35810017585754 precision_2: 60.501569509506226\n"
          ]
        }
      ]
    },
    {
      "cell_type": "code",
      "metadata": {
        "colab": {
          "base_uri": "https://localhost:8080/",
          "height": 976
        },
        "id": "hQJu6nwtYv03",
        "outputId": "28e1ac4d-c3c2-4044-eb4d-c896e9e9e91c"
      },
      "source": [
        "tensorflow.keras.utils.plot_model(model, \"rnn_model_sentiment.png\",show_shapes=True, show_dtype=True,\n",
        "    show_layer_names=True, rankdir='TB', expand_nested=True, dpi=96,\n",
        "    layer_range=None)"
      ],
      "execution_count": null,
      "outputs": [
        {
          "output_type": "execute_result",
          "data": {
            "image/png": "[encoded data removed]",
            "text/plain": [
              "<IPython.core.display.Image object>"
            ]
          },
          "metadata": {},
          "execution_count": 118
        }
      ]
    },
    {
      "cell_type": "markdown",
      "metadata": {
        "id": "WQyptbtwd9Ge"
      },
      "source": [
        "#Pedicción"
      ]
    },
    {
      "cell_type": "code",
      "metadata": {
        "id": "T-5a7s-nanEH"
      },
      "source": [
        "predi_,predf_ = model.predict([x_test,labels_test])"
      ],
      "execution_count": null,
      "outputs": []
    },
    {
      "cell_type": "markdown",
      "metadata": {
        "id": "oAL_Ve7ReAfl"
      },
      "source": [
        "#Decodificación"
      ]
    },
    {
      "cell_type": "code",
      "metadata": {
        "id": "WMqA-C9bhN3x"
      },
      "source": [
        "inicio,fin = [],[]\n",
        "for i in range(predi_.shape[0]):\n",
        "  k = np.argmax(predf_[i])\n",
        "  j = np.argmax(predi_[i])\n",
        "  inicio.append(j)\n",
        "  fin.append(k) \n"
      ],
      "execution_count": null,
      "outputs": []
    },
    {
      "cell_type": "code",
      "metadata": {
        "id": "1cDASIpQ0dYU"
      },
      "source": [
        "def dec(x):\n",
        "  l = []\n",
        "  for i in x:\n",
        "    vec = np.zeros(29)\n",
        "    ind = np.append(vec[:i],1)\n",
        "    pad = np.zeros(29-i)\n",
        "    r = np.concatenate((ind,pad),axis=0)\n",
        "    l.append(r.astype('float32'))\n",
        "  return np.array(l)"
      ],
      "execution_count": null,
      "outputs": []
    },
    {
      "cell_type": "code",
      "metadata": {
        "id": "yMngRNb20dWC"
      },
      "source": [
        "pred_ini = dec(inicio)\n",
        "pred_fin = dec(fin)"
      ],
      "execution_count": null,
      "outputs": []
    },
    {
      "cell_type": "code",
      "metadata": {
        "id": "Fl_UopF_0dTU",
        "colab": {
          "base_uri": "https://localhost:8080/"
        },
        "outputId": "ee665241-a540-4465-d222-7159330ed3db"
      },
      "source": [
        "pred_ini[76 ],pred_ini[76 ]\n",
        "inic1 = np.where(pred_ini[76 ]==1)[0][0]\n",
        "finc1 = np.where(pred_fin[76 ]==1)[0][0]\n",
        "print(finc1,inic1,fin[76 ],inicio[76 ])\n",
        "print(pred_fin[76 ],pred_ini[76 ])"
      ],
      "execution_count": null,
      "outputs": [
        {
          "output_type": "stream",
          "name": "stdout",
          "text": [
            "9 7 9 7\n",
            "[0. 0. 0. 0. 0. 0. 0. 0. 0. 1. 0. 0. 0. 0. 0. 0. 0. 0. 0. 0. 0. 0. 0. 0.\n",
            " 0. 0. 0. 0. 0. 0.] [0. 0. 0. 0. 0. 0. 0. 1. 0. 0. 0. 0. 0. 0. 0. 0. 0. 0. 0. 0. 0. 0. 0. 0.\n",
            " 0. 0. 0. 0. 0. 0.]\n"
          ]
        }
      ]
    },
    {
      "cell_type": "code",
      "metadata": {
        "colab": {
          "base_uri": "https://localhost:8080/"
        },
        "id": "rQi0bWnfEJRH",
        "outputId": "c3931cdc-3b32-441a-aa79-3ea349c4ba8a"
      },
      "source": [
        "y_test_f[0].shape[0]"
      ],
      "execution_count": null,
      "outputs": [
        {
          "output_type": "execute_result",
          "data": {
            "text/plain": [
              "25"
            ]
          },
          "metadata": {},
          "execution_count": 84
        }
      ]
    },
    {
      "cell_type": "markdown",
      "metadata": {
        "id": "gr5fvY7fZhGQ"
      },
      "source": [
        "Validación Negativos"
      ]
    },
    {
      "cell_type": "code",
      "metadata": {
        "id": "3x5wJjfba3iM",
        "colab": {
          "base_uri": "https://localhost:8080/"
        },
        "outputId": "134e9a88-200d-44e6-b4c1-5a74433b2b0f"
      },
      "source": [
        "  for c in range(pred_ini.shape[0]):\n",
        "    inic = np.where(pred_ini[c]==1)[0][0]\n",
        "    finc = np.where(pred_fin[c]==1)[0][0]\n",
        "    #a = np.ones(fin-inic)\n",
        "    if (finc - inic) < 0:\n",
        "      print(c,(finc-inic))"
      ],
      "execution_count": null,
      "outputs": [
        {
          "output_type": "stream",
          "name": "stdout",
          "text": [
            "477 -1\n",
            "761 -1\n",
            "3249 -1\n",
            "3864 -1\n"
          ]
        }
      ]
    },
    {
      "cell_type": "markdown",
      "metadata": {
        "id": "LBAySSJ1ZyTI"
      },
      "source": [
        "#Pading"
      ]
    },
    {
      "cell_type": "code",
      "metadata": {
        "id": "8knJC5k0T4CN"
      },
      "source": [
        "def fill(x,y):\n",
        "  l = []\n",
        "  for c in range(x.shape[0]):\n",
        "    inic = np.where(x[c]==1)[0][0]\n",
        "    fin = np.where(y[c]==1)[0][0]\n",
        "    if inic > fin:\n",
        "      inic = 0\n",
        "    uno = np.append(np.zeros(29)[:inic],1)\n",
        "    dos = np.concatenate((uno,np.ones((fin-inic))))\n",
        "    r = np.concatenate((dos,(np.zeros(29-dos.shape[0]))))\n",
        "    #res = np.concatenate((uno,tres),axis=0)\n",
        "    #r = np.concatenate((res,tres),axis=0)\n",
        "    l.append(r)\n",
        "  return np.array(l)"
      ],
      "execution_count": null,
      "outputs": []
    },
    {
      "cell_type": "code",
      "metadata": {
        "id": "YV-thOMk7wMd"
      },
      "source": [
        "y_test = fill(y_test_i,y_test_f)"
      ],
      "execution_count": null,
      "outputs": []
    },
    {
      "cell_type": "code",
      "metadata": {
        "id": "j8zNviUtDIFT"
      },
      "source": [
        "y_pred = fill(pred_ini,pred_fin)"
      ],
      "execution_count": null,
      "outputs": []
    },
    {
      "cell_type": "code",
      "metadata": {
        "colab": {
          "base_uri": "https://localhost:8080/"
        },
        "id": "Quxz270xDWTm",
        "outputId": "6e30d22b-5137-48ef-e344-201188af8487"
      },
      "source": [
        "y_pred"
      ],
      "execution_count": null,
      "outputs": [
        {
          "output_type": "execute_result",
          "data": {
            "text/plain": [
              "array([[1., 1., 1., ..., 0., 0., 0.],\n",
              "       [1., 0., 0., ..., 0., 0., 0.],\n",
              "       [1., 1., 1., ..., 0., 0., 0.],\n",
              "       ...,\n",
              "       [1., 1., 1., ..., 0., 0., 0.],\n",
              "       [1., 0., 0., ..., 0., 0., 0.],\n",
              "       [1., 1., 1., ..., 0., 0., 0.]])"
            ]
          },
          "metadata": {},
          "execution_count": 89
        }
      ]
    },
    {
      "cell_type": "code",
      "metadata": {
        "colab": {
          "base_uri": "https://localhost:8080/"
        },
        "id": "73h7VowgbY1U",
        "outputId": "378c6e57-aadf-4e2f-bb7b-96640d92ddfe"
      },
      "source": [
        "type(y_pred[9])"
      ],
      "execution_count": null,
      "outputs": [
        {
          "output_type": "execute_result",
          "data": {
            "text/plain": [
              "numpy.ndarray"
            ]
          },
          "metadata": {},
          "execution_count": 90
        }
      ]
    },
    {
      "cell_type": "markdown",
      "metadata": {
        "id": "PWScnPSjeJPh"
      },
      "source": [
        "#Métricas construídas"
      ]
    },
    {
      "cell_type": "code",
      "metadata": {
        "colab": {
          "base_uri": "https://localhost:8080/"
        },
        "id": "QWzqGOkDEJIx",
        "outputId": "32642c1e-5647-4514-adab-184cfb328814"
      },
      "source": [
        "print('recall:{}'.format(recall_m(y_test,y_pred)))\n",
        "print('precision:{}'.format(precision_m(y_test,y_pred)))\n",
        "print('F1:{}'.format(f1_m(y_test,y_pred)))"
      ],
      "execution_count": null,
      "outputs": [
        {
          "output_type": "stream",
          "name": "stdout",
          "text": [
            "recall:0.8296871457672313\n",
            "precision:0.6452593996533466\n",
            "F1:0.7259427739166857\n"
          ]
        }
      ]
    },
    {
      "cell_type": "code",
      "metadata": {
        "colab": {
          "base_uri": "https://localhost:8080/",
          "height": 35
        },
        "id": "H0G9KBdXEp4V",
        "outputId": "a66873c6-3365-485d-8c31-062ebfdf37be"
      },
      "source": [
        "a"
      ],
      "execution_count": null,
      "outputs": [
        {
          "output_type": "execute_result",
          "data": {
            "application/vnd.google.colaboratory.intrinsic+json": {
              "type": "string"
            },
            "text/plain": [
              "'hola mi nombre es Gufy y soy el mejor perro del mundo'"
            ]
          },
          "metadata": {},
          "execution_count": 92
        }
      ]
    },
    {
      "cell_type": "markdown",
      "metadata": {
        "id": "drhfxHSSKLCM"
      },
      "source": [
        "#Accuracy"
      ]
    },
    {
      "cell_type": "code",
      "metadata": {
        "colab": {
          "base_uri": "https://localhost:8080/"
        },
        "id": "ukOJtV-s0dJx",
        "outputId": "f8007642-96c8-4729-c8d1-11c33ad21662"
      },
      "source": [
        "p = 0\n",
        "for n in range(y_test.shape[0]):\n",
        "  for l in range(y_test[n].shape[0]):\n",
        "    if y_test[n][l] == y_pred[n][l]:\n",
        "      p = p + 1\n",
        "print(p / (y_test.shape[0]*y_test.shape[1]),p)"
      ],
      "execution_count": null,
      "outputs": [
        {
          "output_type": "stream",
          "name": "stdout",
          "text": [
            "0.9075356790309358 108485\n"
          ]
        }
      ]
    },
    {
      "cell_type": "markdown",
      "metadata": {
        "id": "1dtGvwkMKTMd"
      },
      "source": [
        "#Precision"
      ]
    },
    {
      "cell_type": "code",
      "metadata": {
        "colab": {
          "base_uri": "https://localhost:8080/"
        },
        "id": "5TAXF8qI0dGU",
        "outputId": "badf62f8-924e-45d4-ca2d-6409e0c1a030"
      },
      "source": [
        "fp = 0\n",
        "tp = 0\n",
        "for n in range(y_test.shape[0]):\n",
        "  for l in range(y_test[n].shape[0]):\n",
        "    #if y_test[n][l] == 1:\n",
        "      #tp = tp + 1\n",
        "    if y_test[n][l] == y_pred[n][l] and y_pred[n][l] == 1:\n",
        "      tp = tp + 1\n",
        "    if y_test[n][l] != y_pred[n][l] and y_pred[n][l] == 1:\n",
        "      fp = fp + 1 \n",
        "\n",
        "\n",
        "print(tp/(tp+fp))"
      ],
      "execution_count": null,
      "outputs": [
        {
          "output_type": "stream",
          "name": "stdout",
          "text": [
            "0.6452593996561907\n"
          ]
        }
      ]
    },
    {
      "cell_type": "markdown",
      "metadata": {
        "id": "D6qSeGHLKamW"
      },
      "source": [
        "#Recall"
      ]
    },
    {
      "cell_type": "code",
      "metadata": {
        "colab": {
          "base_uri": "https://localhost:8080/"
        },
        "id": "SQJuG2GzKY6o",
        "outputId": "ce3564e5-b4a5-49dd-9e56-aef1106838b1"
      },
      "source": [
        "fn = 0\n",
        "tp = 0\n",
        "for n in range(y_test.shape[0]):\n",
        "  for l in range(y_test[n].shape[0]):\n",
        "    if y_test[n][l] == y_pred[n][l] and y_pred[n][l] == 1:\n",
        "      tp = tp + 1\n",
        "    if y_test[n][l] != y_pred[n][l] and y_pred[n][l] == 0:\n",
        "      fn = fn + 1 \n",
        "\n",
        "\n",
        "print(tp/(tp+fn))"
      ],
      "execution_count": null,
      "outputs": [
        {
          "output_type": "stream",
          "name": "stdout",
          "text": [
            "0.8296871457719338\n"
          ]
        }
      ]
    },
    {
      "cell_type": "markdown",
      "metadata": {
        "id": "UHJgqL4NNgQj"
      },
      "source": [
        "#Removiendo padding"
      ]
    },
    {
      "cell_type": "code",
      "metadata": {
        "id": "3WYcVXaNNjAY"
      },
      "source": [
        "def withoutpadding(x,y):\n",
        "  f = []\n",
        "  for k,i in enumerate(x):\n",
        "    a = i[:y[k]]\n",
        "    f.append(a)\n",
        "  return np.array(f)"
      ],
      "execution_count": null,
      "outputs": []
    },
    {
      "cell_type": "code",
      "metadata": {
        "colab": {
          "base_uri": "https://localhost:8080/"
        },
        "id": "NcjbaChANpee",
        "outputId": "1d8d6e00-324d-4971-9b77-22d00b36b34d"
      },
      "source": [
        "y_test_t = withoutpadding(y_test,long_test)\n",
        "y_pred_p = withoutpadding(y_pred,long_test)"
      ],
      "execution_count": null,
      "outputs": [
        {
          "output_type": "stream",
          "name": "stderr",
          "text": [
            "/usr/local/lib/python3.7/dist-packages/ipykernel_launcher.py:6: VisibleDeprecationWarning: Creating an ndarray from ragged nested sequences (which is a list-or-tuple of lists-or-tuples-or ndarrays with different lengths or shapes) is deprecated. If you meant to do this, you must specify 'dtype=object' when creating the ndarray\n",
            "  \n"
          ]
        }
      ]
    },
    {
      "cell_type": "markdown",
      "metadata": {
        "id": "e_DxS9h8N-PW"
      },
      "source": [
        "Métricas"
      ]
    },
    {
      "cell_type": "markdown",
      "metadata": {
        "id": "hCCyba8L_-Ew"
      },
      "source": [
        "#Presicion sin padding"
      ]
    },
    {
      "cell_type": "code",
      "metadata": {
        "colab": {
          "base_uri": "https://localhost:8080/"
        },
        "id": "0WH9vFEews2u",
        "outputId": "adf9d075-ef35-4a64-f1eb-e786e9386458"
      },
      "source": [
        "fp = 0\n",
        "tp = 0\n",
        "for n in range(y_test_t.shape[0]):\n",
        "  for l in range(y_test_t[n].shape[0]):\n",
        "    #if y_test[n][l] == 1:\n",
        "      #tp = tp + 1\n",
        "    if y_test_t[n][l] == y_pred_p[n][l] and y_pred_p[n][l] == 1:\n",
        "      tp = tp + 1\n",
        "    if y_test_t[n][l] != y_pred_p[n][l] and y_pred_p[n][l] == 1:\n",
        "      fp = fp + 1 \n",
        "\n",
        "\n",
        "print(tp/(tp+fp))"
      ],
      "execution_count": null,
      "outputs": [
        {
          "output_type": "stream",
          "name": "stdout",
          "text": [
            "0.6572917602659718\n"
          ]
        }
      ]
    },
    {
      "cell_type": "markdown",
      "metadata": {
        "id": "5XFb4WRyAE29"
      },
      "source": [
        "#Precisión con Padding"
      ]
    },
    {
      "cell_type": "code",
      "metadata": {
        "colab": {
          "base_uri": "https://localhost:8080/"
        },
        "id": "VFnnOye9ACz2",
        "outputId": "9f6477c5-2abc-41d8-fb85-865c99625fc8"
      },
      "source": [
        "fp = 0\n",
        "tp = 0\n",
        "for n in range(y_test.shape[0]):\n",
        "  for l in range(y_test[n].shape[0]):\n",
        "    #if y_test[n][l] == 1:\n",
        "      #tp = tp + 1\n",
        "    if y_test[n][l] == y_pred[n][l] and y_pred[n][l] == 1:\n",
        "      tp = tp + 1\n",
        "    if y_test[n][l] != y_pred[n][l] and y_pred[n][l] == 1:\n",
        "      fp = fp + 1 \n",
        "\n",
        "\n",
        "print(tp/(tp+fp))"
      ],
      "execution_count": null,
      "outputs": [
        {
          "output_type": "stream",
          "name": "stdout",
          "text": [
            "0.6452593996561907\n"
          ]
        }
      ]
    },
    {
      "cell_type": "markdown",
      "metadata": {
        "id": "nZTv653rA4zz"
      },
      "source": [
        "#Accuracy sin padding"
      ]
    },
    {
      "cell_type": "code",
      "metadata": {
        "colab": {
          "base_uri": "https://localhost:8080/"
        },
        "id": "9KJ-CHuAA322",
        "outputId": "7b38025e-6a55-4cef-e0d6-0f71533546d4"
      },
      "source": [
        "p = 0\n",
        "count = 0\n",
        "for n in range(y_test_t.shape[0]):\n",
        "  for l in range(y_test_t[n].shape[0]):\n",
        "    count = count + 1\n",
        "    if y_test_t[n][l] == y_pred_p[n][l]:\n",
        "      p = p + 1\n",
        "print(p / count)"
      ],
      "execution_count": null,
      "outputs": [
        {
          "output_type": "stream",
          "name": "stdout",
          "text": [
            "0.6557414325158356\n"
          ]
        }
      ]
    },
    {
      "cell_type": "markdown",
      "metadata": {
        "id": "zjv01tnnCoBw"
      },
      "source": [
        "#Recall sin padding"
      ]
    },
    {
      "cell_type": "code",
      "metadata": {
        "colab": {
          "base_uri": "https://localhost:8080/"
        },
        "id": "e1wsrYEHCm3L",
        "outputId": "ea55f382-7601-4144-b212-9566d693ee3c"
      },
      "source": [
        "fn = 0\n",
        "tp = 0\n",
        "for n in range(y_test_t.shape[0]):\n",
        "  for l in range(y_test_t[n].shape[0]):\n",
        "    if y_test_t[n][l] == y_pred_p[n][l] and y_pred_p[n][l] == 1:\n",
        "      tp = tp + 1\n",
        "    if y_test_t[n][l] != y_pred_p[n][l] and y_pred_p[n][l] == 0:\n",
        "      fn = fn + 1 \n",
        "\n",
        "\n",
        "print(tp/(tp+fn))"
      ],
      "execution_count": null,
      "outputs": [
        {
          "output_type": "stream",
          "name": "stdout",
          "text": [
            "0.83125\n"
          ]
        }
      ]
    },
    {
      "cell_type": "markdown",
      "metadata": {
        "id": "08IW7NTqGZtT"
      },
      "source": [
        "#Jaccard"
      ]
    },
    {
      "cell_type": "code",
      "metadata": {
        "id": "Z1TfyyIGGY5i"
      },
      "source": [
        "text_true = list(ts_test)"
      ],
      "execution_count": null,
      "outputs": []
    },
    {
      "cell_type": "code",
      "metadata": {
        "id": "LoJG_pDGGlqf"
      },
      "source": [
        "text_true"
      ],
      "execution_count": null,
      "outputs": []
    },
    {
      "cell_type": "markdown",
      "metadata": {
        "id": "i1k3ojytL0fi"
      },
      "source": [
        "Función dec jaccard"
      ]
    },
    {
      "cell_type": "code",
      "metadata": {
        "id": "lHyMWw5RL0Nq"
      },
      "source": [
        "def decjac(a,b):\n",
        "  op=[]\n",
        "  for i,j in enumerate(a):\n",
        "    if j == 1:\n",
        "      op.append(b.split()[i])\n",
        "  return \" \".join(op)"
      ],
      "execution_count": null,
      "outputs": []
    },
    {
      "cell_type": "code",
      "metadata": {
        "id": "7GXoLizQNkzC"
      },
      "source": [
        "j_test=[]\n",
        "for ki in range(len(text_true)):\n",
        "  j_test.append(decjac(y_test_t[ki],text_true[ki]))"
      ],
      "execution_count": null,
      "outputs": []
    },
    {
      "cell_type": "code",
      "metadata": {
        "id": "cXQN4-k9OrYy"
      },
      "source": [
        "j_pred=[]\n",
        "for kp in range(len(text_true)):\n",
        "  j_pred.append(decjac(y_pred_p[kp],text_true[kp]))"
      ],
      "execution_count": null,
      "outputs": []
    },
    {
      "cell_type": "code",
      "metadata": {
        "id": "uXf5dcdVMwyi"
      },
      "source": [
        "j_pred\n"
      ],
      "execution_count": null,
      "outputs": []
    },
    {
      "cell_type": "code",
      "metadata": {
        "id": "kXvd65RBKUn5"
      },
      "source": [
        "def jaccard(str1, str2):\n",
        "    if len(str1) == 0 and len(str2) == 0:\n",
        "      return 0.0\n",
        "    else:\n",
        "      a = set(str1.lower().split()) \n",
        "      b = set(str2.lower().split())\n",
        "      c = a.intersection(b)\n",
        "      return float(len(c)) / (len(a) + len(b) - len(c))"
      ],
      "execution_count": null,
      "outputs": []
    },
    {
      "cell_type": "code",
      "metadata": {
        "id": "iYYhZdDwcuUx"
      },
      "source": [
        "rest2 = [jaccard(j_test[i],j_pred[i]) for i in range(len(j_test))]"
      ],
      "execution_count": null,
      "outputs": []
    },
    {
      "cell_type": "code",
      "metadata": {
        "colab": {
          "base_uri": "https://localhost:8080/"
        },
        "id": "fBsTCkKFc5bA",
        "outputId": "43e5a7b2-313d-4aeb-ee8d-74c433bc5407"
      },
      "source": [
        "print(\"el promedio de jaccard es: {}\".format(round((sum(rest2)/len(rest2)),3)))"
      ],
      "execution_count": null,
      "outputs": [
        {
          "output_type": "stream",
          "name": "stdout",
          "text": [
            "el promedio de jaccard es: 0.586\n"
          ]
        }
      ]
    }
  ]
}