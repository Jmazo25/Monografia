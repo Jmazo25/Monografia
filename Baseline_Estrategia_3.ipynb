{
  "nbformat": 4,
  "nbformat_minor": 0,
  "metadata": {
    "colab": {
      "name": "Baseline_Estrategia_3.ipynb",
      "provenance": [],
      "collapsed_sections": []
    },
    "kernelspec": {
      "display_name": "Python 3",
      "language": "python",
      "name": "python3"
    },
    "language_info": {
      "codemirror_mode": {
        "name": "ipython",
        "version": 3
      },
      "file_extension": ".py",
      "mimetype": "text/x-python",
      "name": "python",
      "nbconvert_exporter": "python",
      "pygments_lexer": "ipython3",
      "version": "3.7.6"
    },
    "varInspector": {
      "cols": {
        "lenName": 16,
        "lenType": 16,
        "lenVar": 40
      },
      "kernels_config": {
        "python": {
          "delete_cmd_postfix": "",
          "delete_cmd_prefix": "del ",
          "library": "var_list.py",
          "varRefreshCmd": "print(var_dic_list())"
        },
        "r": {
          "delete_cmd_postfix": ") ",
          "delete_cmd_prefix": "rm(",
          "library": "var_list.r",
          "varRefreshCmd": "cat(var_dic_list()) "
        }
      },
      "types_to_exclude": [
        "module",
        "function",
        "builtin_function_or_method",
        "instance",
        "_Feature"
      ],
      "window_display": false
    }
  },
  "cells": [
    {
      "cell_type": "code",
      "metadata": {
        "colab": {
          "base_uri": "https://localhost:8080/"
        },
        "id": "0AvWnLTx9Eqc",
        "outputId": "0c879053-699b-483b-b313-ca458c3b2727"
      },
      "source": [
        "import pandas as pd\n",
        "import os\n",
        "import numpy as np\n",
        "from matplotlib import pyplot as plt\n",
        "from sklearn.model_selection import train_test_split\n",
        "from keras.preprocessing.text import Tokenizer\n",
        "from keras.preprocessing.sequence import pad_sequences\n",
        "import tensorflow as tf\n",
        "import tensorflow.keras.metrics\n",
        "from tensorflow.keras.utils import to_categorical\n",
        "import re\n",
        "import nltk\n",
        "from nltk.corpus import stopwords\n",
        "nltk.download('stopwords')\n",
        "pd.options.display.max_columns\n",
        "pd.options.display.max_rows\n",
        "from tensorflow.keras.utils import to_categorical"
      ],
      "execution_count": null,
      "outputs": [
        {
          "output_type": "stream",
          "name": "stdout",
          "text": [
            "[nltk_data] Downloading package stopwords to /root/nltk_data...\n",
            "[nltk_data]   Unzipping corpora/stopwords.zip.\n"
          ]
        }
      ]
    },
    {
      "cell_type": "code",
      "metadata": {
        "colab": {
          "base_uri": "https://localhost:8080/"
        },
        "id": "OHJgBiei-GFL",
        "outputId": "fa1563d0-8dd3-4998-e741-6ea1b9883500"
      },
      "source": [
        "!git clone https://github.com/Jmazo25/Monografia.git"
      ],
      "execution_count": null,
      "outputs": [
        {
          "output_type": "stream",
          "name": "stdout",
          "text": [
            "Cloning into 'Monografia'...\n",
            "remote: Enumerating objects: 5, done.\u001b[K\n",
            "remote: Counting objects: 100% (5/5), done.\u001b[K\n",
            "remote: Compressing objects: 100% (5/5), done.\u001b[K\n",
            "remote: Total 5 (delta 0), reused 0 (delta 0), pack-reused 0\u001b[K\n",
            "Unpacking objects: 100% (5/5), done.\n"
          ]
        }
      ]
    },
    {
      "cell_type": "code",
      "metadata": {
        "id": "1n145KxYf-26"
      },
      "source": [
        "df = pd.read_csv(\"/content/Monografia/train.csv\")"
      ],
      "execution_count": null,
      "outputs": []
    },
    {
      "cell_type": "code",
      "metadata": {
        "colab": {
          "base_uri": "https://localhost:8080/"
        },
        "id": "qtejU4rtVlWh",
        "outputId": "973cc6f6-8dc7-453d-99cd-92f65ed491ce"
      },
      "source": [
        "df.dropna(axis = 0, how ='any',inplace=True)\n",
        "df.reset_index(inplace=True)\n",
        "df.shape"
      ],
      "execution_count": null,
      "outputs": [
        {
          "output_type": "execute_result",
          "data": {
            "text/plain": [
              "(27480, 5)"
            ]
          },
          "metadata": {},
          "execution_count": 4
        }
      ]
    },
    {
      "cell_type": "code",
      "metadata": {
        "colab": {
          "base_uri": "https://localhost:8080/",
          "height": 143
        },
        "id": "s7fg3H1h-Lry",
        "outputId": "1ca60a54-2bbc-476b-f734-725d9478c81b"
      },
      "source": [
        "df.head(3)"
      ],
      "execution_count": null,
      "outputs": [
        {
          "output_type": "execute_result",
          "data": {
            "text/html": [
              "<div>\n",
              "<style scoped>\n",
              "    .dataframe tbody tr th:only-of-type {\n",
              "        vertical-align: middle;\n",
              "    }\n",
              "\n",
              "    .dataframe tbody tr th {\n",
              "        vertical-align: top;\n",
              "    }\n",
              "\n",
              "    .dataframe thead th {\n",
              "        text-align: right;\n",
              "    }\n",
              "</style>\n",
              "<table border=\"1\" class=\"dataframe\">\n",
              "  <thead>\n",
              "    <tr style=\"text-align: right;\">\n",
              "      <th></th>\n",
              "      <th>index</th>\n",
              "      <th>textID</th>\n",
              "      <th>text</th>\n",
              "      <th>selected_text</th>\n",
              "      <th>sentiment</th>\n",
              "    </tr>\n",
              "  </thead>\n",
              "  <tbody>\n",
              "    <tr>\n",
              "      <th>0</th>\n",
              "      <td>0</td>\n",
              "      <td>cb774db0d1</td>\n",
              "      <td>I`d have responded, if I were going</td>\n",
              "      <td>I`d have responded, if I were going</td>\n",
              "      <td>neutral</td>\n",
              "    </tr>\n",
              "    <tr>\n",
              "      <th>1</th>\n",
              "      <td>1</td>\n",
              "      <td>549e992a42</td>\n",
              "      <td>Sooo SAD I will miss you here in San Diego!!!</td>\n",
              "      <td>Sooo SAD</td>\n",
              "      <td>negative</td>\n",
              "    </tr>\n",
              "    <tr>\n",
              "      <th>2</th>\n",
              "      <td>2</td>\n",
              "      <td>088c60f138</td>\n",
              "      <td>my boss is bullying me...</td>\n",
              "      <td>bullying me</td>\n",
              "      <td>negative</td>\n",
              "    </tr>\n",
              "  </tbody>\n",
              "</table>\n",
              "</div>"
            ],
            "text/plain": [
              "   index      textID  ...                        selected_text sentiment\n",
              "0      0  cb774db0d1  ...  I`d have responded, if I were going   neutral\n",
              "1      1  549e992a42  ...                             Sooo SAD  negative\n",
              "2      2  088c60f138  ...                          bullying me  negative\n",
              "\n",
              "[3 rows x 5 columns]"
            ]
          },
          "metadata": {},
          "execution_count": 5
        }
      ]
    },
    {
      "cell_type": "markdown",
      "metadata": {
        "id": "uqMYzk35KIzk"
      },
      "source": [
        "#Eiliminación de stop words"
      ]
    },
    {
      "cell_type": "code",
      "metadata": {
        "id": "9hSGQ8KlJfgo"
      },
      "source": [
        "def clean_text(t):\n",
        "  tl = []\n",
        "  t = t.lower().split()\n",
        "  for i in t:\n",
        "    if i not in stopwords.words('english'):\n",
        "      tl.append(i)\n",
        "  return \" \".join(tl)"
      ],
      "execution_count": null,
      "outputs": []
    },
    {
      "cell_type": "code",
      "metadata": {
        "id": "G2x3VRHlJfdw"
      },
      "source": [
        "#Limpiar expresiones Regulares\n",
        "df['text'] = df['text'].apply((lambda x:re.sub('@[^\\s]+','',x)))\n",
        "df['text'] = df['text'].apply((lambda x: re.sub('[^a-zA-z0-9\\s]','',x)))\n",
        "#Remover stopwords\n",
        "df['text'] = df['text'].apply(lambda x: clean_text(x))"
      ],
      "execution_count": null,
      "outputs": []
    },
    {
      "cell_type": "code",
      "metadata": {
        "id": "Wx09j6wKJfYW"
      },
      "source": [
        "##Limpiar expresiones Regulares\n",
        "df['selected_text'] = df['selected_text'].apply((lambda x:re.sub('@[^\\s]+','',x)))\n",
        "df['selected_text'] = df['selected_text'].apply((lambda x: re.sub('[^a-zA-z0-9\\s]','',x)))\n",
        "#Remover StopWords\n",
        "df['selected_text'] = df['selected_text'].apply(lambda x: clean_text(x))"
      ],
      "execution_count": null,
      "outputs": []
    },
    {
      "cell_type": "code",
      "metadata": {
        "colab": {
          "base_uri": "https://localhost:8080/",
          "height": 206
        },
        "id": "LjJn5dBsJfaj",
        "outputId": "0f510d58-f542-42b6-c03d-3ecb5e84373c"
      },
      "source": [
        "df.head(5)"
      ],
      "execution_count": null,
      "outputs": [
        {
          "output_type": "execute_result",
          "data": {
            "text/html": [
              "<div>\n",
              "<style scoped>\n",
              "    .dataframe tbody tr th:only-of-type {\n",
              "        vertical-align: middle;\n",
              "    }\n",
              "\n",
              "    .dataframe tbody tr th {\n",
              "        vertical-align: top;\n",
              "    }\n",
              "\n",
              "    .dataframe thead th {\n",
              "        text-align: right;\n",
              "    }\n",
              "</style>\n",
              "<table border=\"1\" class=\"dataframe\">\n",
              "  <thead>\n",
              "    <tr style=\"text-align: right;\">\n",
              "      <th></th>\n",
              "      <th>index</th>\n",
              "      <th>textID</th>\n",
              "      <th>text</th>\n",
              "      <th>selected_text</th>\n",
              "      <th>sentiment</th>\n",
              "    </tr>\n",
              "  </thead>\n",
              "  <tbody>\n",
              "    <tr>\n",
              "      <th>0</th>\n",
              "      <td>0</td>\n",
              "      <td>cb774db0d1</td>\n",
              "      <td>i`d responded going</td>\n",
              "      <td>i`d responded going</td>\n",
              "      <td>neutral</td>\n",
              "    </tr>\n",
              "    <tr>\n",
              "      <th>1</th>\n",
              "      <td>1</td>\n",
              "      <td>549e992a42</td>\n",
              "      <td>sooo sad miss san diego</td>\n",
              "      <td>sooo sad</td>\n",
              "      <td>negative</td>\n",
              "    </tr>\n",
              "    <tr>\n",
              "      <th>2</th>\n",
              "      <td>2</td>\n",
              "      <td>088c60f138</td>\n",
              "      <td>boss bullying</td>\n",
              "      <td>bullying</td>\n",
              "      <td>negative</td>\n",
              "    </tr>\n",
              "    <tr>\n",
              "      <th>3</th>\n",
              "      <td>3</td>\n",
              "      <td>9642c003ef</td>\n",
              "      <td>interview leave alone</td>\n",
              "      <td>leave alone</td>\n",
              "      <td>negative</td>\n",
              "    </tr>\n",
              "    <tr>\n",
              "      <th>4</th>\n",
              "      <td>4</td>\n",
              "      <td>358bd9e861</td>\n",
              "      <td>sons couldn`t put releases already bought</td>\n",
              "      <td>sons</td>\n",
              "      <td>negative</td>\n",
              "    </tr>\n",
              "  </tbody>\n",
              "</table>\n",
              "</div>"
            ],
            "text/plain": [
              "   index      textID  ...        selected_text sentiment\n",
              "0      0  cb774db0d1  ...  i`d responded going   neutral\n",
              "1      1  549e992a42  ...             sooo sad  negative\n",
              "2      2  088c60f138  ...             bullying  negative\n",
              "3      3  9642c003ef  ...          leave alone  negative\n",
              "4      4  358bd9e861  ...                 sons  negative\n",
              "\n",
              "[5 rows x 5 columns]"
            ]
          },
          "metadata": {},
          "execution_count": 9
        }
      ]
    },
    {
      "cell_type": "markdown",
      "metadata": {
        "id": "gj-aMqgjMtbn"
      },
      "source": [
        "Se procede a buscar el tweet con mayor longitud en términos de palabras"
      ]
    },
    {
      "cell_type": "code",
      "metadata": {
        "id": "Hxi2XXDhJfWA"
      },
      "source": [
        "dim_tw = df['text'].str.split().str.len()"
      ],
      "execution_count": null,
      "outputs": []
    },
    {
      "cell_type": "code",
      "metadata": {
        "colab": {
          "base_uri": "https://localhost:8080/",
          "height": 279
        },
        "id": "jifBkCdCJfSy",
        "outputId": "ab18685b-ce6a-426f-8ee3-744080e42503"
      },
      "source": [
        "fig, ax1 = plt.subplots()\n",
        "plt.hist(dim_tw,color='green')\n",
        "ax1.set_xlabel('Longitud por palabras'), ax1.set_ylabel(\"tweets\")\n",
        "plt.show()"
      ],
      "execution_count": null,
      "outputs": [
        {
          "output_type": "display_data",
          "data": {
            "image/png": "[encoded data removed]",
            "text/plain": [
              "<Figure size 432x288 with 1 Axes>"
            ]
          },
          "metadata": {
            "needs_background": "light"
          }
        }
      ]
    },
    {
      "cell_type": "code",
      "metadata": {
        "colab": {
          "base_uri": "https://localhost:8080/"
        },
        "id": "Hg9DFcm7JfP3",
        "outputId": "7c059e1a-c607-4edb-c349-a18976e6a628"
      },
      "source": [
        "dim_tw.describe()"
      ],
      "execution_count": null,
      "outputs": [
        {
          "output_type": "execute_result",
          "data": {
            "text/plain": [
              "count    27480.000000\n",
              "mean         7.416230\n",
              "std          3.983212\n",
              "min          0.000000\n",
              "25%          4.000000\n",
              "50%          7.000000\n",
              "75%         10.000000\n",
              "max         25.000000\n",
              "Name: text, dtype: float64"
            ]
          },
          "metadata": {},
          "execution_count": 29
        }
      ]
    },
    {
      "cell_type": "markdown",
      "metadata": {
        "id": "5rj8gvJ6uyOW"
      },
      "source": [
        "Funciones que permiten extraer los índices inicial y final del texto seleccionado del tweet"
      ]
    },
    {
      "cell_type": "code",
      "metadata": {
        "id": "0G0iASVPfNVe"
      },
      "source": [
        "def ind(t1,t2):\n",
        "    l = []\n",
        "    ini = int\n",
        "    fin = int\n",
        "    t1 = t1.lower().split()\n",
        "    t2 = t2.lower().split()\n",
        "    for i in t2:\n",
        "        for ind,j in enumerate(t1):\n",
        "          if i == j:\n",
        "            l.append(ind)\n",
        "    if l != []:\n",
        "        ini=(l[0])\n",
        "        fin=(l[-1])\n",
        "    else:\n",
        "        ini = 0\n",
        "        fin = 0\n",
        "    return ini"
      ],
      "execution_count": null,
      "outputs": []
    },
    {
      "cell_type": "code",
      "metadata": {
        "id": "xM5OE9lTZtHg"
      },
      "source": [
        "def ind2(t1,t2):\n",
        "  l = []\n",
        "  ini = int\n",
        "  fin = int\n",
        "  t1 = t1.lower().split()\n",
        "  t2 = t2.lower().split()\n",
        "  for i in t2:\n",
        "    for ind,j in enumerate(t1):\n",
        "      if i == j:\n",
        "        l.append(ind)\n",
        "  if l != []:\n",
        "    ini=(l[0])\n",
        "    fin=(ini+len(t2)-1)\n",
        "  else:\n",
        "    ini = 0\n",
        "    fin = 0\n",
        "  return fin"
      ],
      "execution_count": null,
      "outputs": []
    },
    {
      "cell_type": "markdown",
      "metadata": {
        "id": "Dou-RX2w1nBX"
      },
      "source": [
        "test de las funciones"
      ]
    },
    {
      "cell_type": "code",
      "metadata": {
        "colab": {
          "base_uri": "https://localhost:8080/"
        },
        "id": "QN5exIrJib3R",
        "outputId": "4ece2fd2-f54e-4a8a-dd7a-59e1f7ab24e4"
      },
      "source": [
        "f= ind('I`d have responded, if I were going','I`d have responded, if I were going')\n",
        "f"
      ],
      "execution_count": null,
      "outputs": [
        {
          "output_type": "execute_result",
          "data": {
            "text/plain": [
              "0"
            ]
          },
          "metadata": {},
          "execution_count": 12
        }
      ]
    },
    {
      "cell_type": "code",
      "metadata": {
        "id": "MNubQ9F4Ew-T"
      },
      "source": [
        "df2 = df[['text','selected_text']] "
      ],
      "execution_count": null,
      "outputs": []
    },
    {
      "cell_type": "code",
      "metadata": {
        "colab": {
          "base_uri": "https://localhost:8080/",
          "height": 423
        },
        "id": "kY218a0dm4Uu",
        "outputId": "6080810e-3d94-40ac-8c54-633828dba075"
      },
      "source": [
        "df2"
      ],
      "execution_count": null,
      "outputs": [
        {
          "output_type": "execute_result",
          "data": {
            "text/html": [
              "<div>\n",
              "<style scoped>\n",
              "    .dataframe tbody tr th:only-of-type {\n",
              "        vertical-align: middle;\n",
              "    }\n",
              "\n",
              "    .dataframe tbody tr th {\n",
              "        vertical-align: top;\n",
              "    }\n",
              "\n",
              "    .dataframe thead th {\n",
              "        text-align: right;\n",
              "    }\n",
              "</style>\n",
              "<table border=\"1\" class=\"dataframe\">\n",
              "  <thead>\n",
              "    <tr style=\"text-align: right;\">\n",
              "      <th></th>\n",
              "      <th>text</th>\n",
              "      <th>selected_text</th>\n",
              "    </tr>\n",
              "  </thead>\n",
              "  <tbody>\n",
              "    <tr>\n",
              "      <th>0</th>\n",
              "      <td>i`d responded going</td>\n",
              "      <td>i`d responded going</td>\n",
              "    </tr>\n",
              "    <tr>\n",
              "      <th>1</th>\n",
              "      <td>sooo sad miss san diego</td>\n",
              "      <td>sooo sad</td>\n",
              "    </tr>\n",
              "    <tr>\n",
              "      <th>2</th>\n",
              "      <td>boss bullying</td>\n",
              "      <td>bullying</td>\n",
              "    </tr>\n",
              "    <tr>\n",
              "      <th>3</th>\n",
              "      <td>interview leave alone</td>\n",
              "      <td>leave alone</td>\n",
              "    </tr>\n",
              "    <tr>\n",
              "      <th>4</th>\n",
              "      <td>sons couldn`t put releases already bought</td>\n",
              "      <td>sons</td>\n",
              "    </tr>\n",
              "    <tr>\n",
              "      <th>...</th>\n",
              "      <td>...</td>\n",
              "      <td>...</td>\n",
              "    </tr>\n",
              "    <tr>\n",
              "      <th>27475</th>\n",
              "      <td>wish could come see u denver husband lost job ...</td>\n",
              "      <td>lost</td>\n",
              "    </tr>\n",
              "    <tr>\n",
              "      <th>27476</th>\n",
              "      <td>i`ve wondered rake client made clear net don`t...</td>\n",
              "      <td>don`t force</td>\n",
              "    </tr>\n",
              "    <tr>\n",
              "      <th>27477</th>\n",
              "      <td>yay good enjoy break probably need hectic week...</td>\n",
              "      <td>yay good</td>\n",
              "    </tr>\n",
              "    <tr>\n",
              "      <th>27478</th>\n",
              "      <td>worth</td>\n",
              "      <td>worth</td>\n",
              "    </tr>\n",
              "    <tr>\n",
              "      <th>27479</th>\n",
              "      <td>flirting going atg smiles yay hugs</td>\n",
              "      <td>flirting going atg smiles yay hugs</td>\n",
              "    </tr>\n",
              "  </tbody>\n",
              "</table>\n",
              "<p>27480 rows × 2 columns</p>\n",
              "</div>"
            ],
            "text/plain": [
              "                                                    text                       selected_text\n",
              "0                                    i`d responded going                 i`d responded going\n",
              "1                                sooo sad miss san diego                            sooo sad\n",
              "2                                          boss bullying                            bullying\n",
              "3                                  interview leave alone                         leave alone\n",
              "4              sons couldn`t put releases already bought                                sons\n",
              "...                                                  ...                                 ...\n",
              "27475  wish could come see u denver husband lost job ...                                lost\n",
              "27476  i`ve wondered rake client made clear net don`t...                         don`t force\n",
              "27477  yay good enjoy break probably need hectic week...                            yay good\n",
              "27478                                              worth                               worth\n",
              "27479                 flirting going atg smiles yay hugs  flirting going atg smiles yay hugs\n",
              "\n",
              "[27480 rows x 2 columns]"
            ]
          },
          "metadata": {},
          "execution_count": 16
        }
      ]
    },
    {
      "cell_type": "code",
      "metadata": {
        "id": "_V3UqsWQLBxE"
      },
      "source": [
        "y_true_i = df2.apply(lambda x: ind(x['text'],x['selected_text']),axis=1)"
      ],
      "execution_count": null,
      "outputs": []
    },
    {
      "cell_type": "code",
      "metadata": {
        "id": "XOKQuiYBjuCc"
      },
      "source": [
        "y_true_f = df2.apply(lambda x: ind2(x['text'],x['selected_text']),axis=1)"
      ],
      "execution_count": null,
      "outputs": []
    },
    {
      "cell_type": "code",
      "metadata": {
        "colab": {
          "base_uri": "https://localhost:8080/"
        },
        "id": "D22wQIXXm91_",
        "outputId": "2589e139-436a-4de2-907a-4ed1d9cc9e85"
      },
      "source": [
        "df2['start_w'] = y_true_i\n",
        "df2['end_w'] = y_true_f"
      ],
      "execution_count": null,
      "outputs": [
        {
          "output_type": "stream",
          "name": "stderr",
          "text": [
            "/usr/local/lib/python3.7/dist-packages/ipykernel_launcher.py:1: SettingWithCopyWarning: \n",
            "A value is trying to be set on a copy of a slice from a DataFrame.\n",
            "Try using .loc[row_indexer,col_indexer] = value instead\n",
            "\n",
            "See the caveats in the documentation: https://pandas.pydata.org/pandas-docs/stable/user_guide/indexing.html#returning-a-view-versus-a-copy\n",
            "  \"\"\"Entry point for launching an IPython kernel.\n",
            "/usr/local/lib/python3.7/dist-packages/ipykernel_launcher.py:2: SettingWithCopyWarning: \n",
            "A value is trying to be set on a copy of a slice from a DataFrame.\n",
            "Try using .loc[row_indexer,col_indexer] = value instead\n",
            "\n",
            "See the caveats in the documentation: https://pandas.pydata.org/pandas-docs/stable/user_guide/indexing.html#returning-a-view-versus-a-copy\n",
            "  \n"
          ]
        }
      ]
    },
    {
      "cell_type": "code",
      "metadata": {
        "id": "dMF-HjMkpvAd"
      },
      "source": [
        "for i in range(y_true_f.shape[0]):\n",
        "  if type(y_true_f[i]) != type(y_true_f[0]):\n",
        "    print(type(y_true_f[i]))"
      ],
      "execution_count": null,
      "outputs": []
    },
    {
      "cell_type": "markdown",
      "metadata": {
        "id": "_jUmrIbxEb-u"
      },
      "source": [
        "#Obteniendo tamaño del tweet"
      ]
    },
    {
      "cell_type": "code",
      "metadata": {
        "id": "0XDujc9Nre1l"
      },
      "source": [
        "def leng(x):\n",
        "  x = x.lower().split()\n",
        "  a = len(x)\n",
        "  return a"
      ],
      "execution_count": null,
      "outputs": []
    },
    {
      "cell_type": "code",
      "metadata": {
        "id": "rU5RqTprr8vy"
      },
      "source": [
        "long = df2.apply(lambda x: leng(x['text']),axis=1)"
      ],
      "execution_count": null,
      "outputs": []
    },
    {
      "cell_type": "code",
      "metadata": {
        "id": "ZnFyugSbtX9E"
      },
      "source": [
        "long = np.array(long)"
      ],
      "execution_count": null,
      "outputs": []
    },
    {
      "cell_type": "code",
      "metadata": {
        "colab": {
          "base_uri": "https://localhost:8080/",
          "height": 143
        },
        "id": "yoCCOP5mVV8e",
        "outputId": "a1c6f4ec-11d8-41b5-c90d-50e81bb6b813"
      },
      "source": [
        "df2.head(3)"
      ],
      "execution_count": null,
      "outputs": [
        {
          "output_type": "execute_result",
          "data": {
            "text/html": [
              "<div>\n",
              "<style scoped>\n",
              "    .dataframe tbody tr th:only-of-type {\n",
              "        vertical-align: middle;\n",
              "    }\n",
              "\n",
              "    .dataframe tbody tr th {\n",
              "        vertical-align: top;\n",
              "    }\n",
              "\n",
              "    .dataframe thead th {\n",
              "        text-align: right;\n",
              "    }\n",
              "</style>\n",
              "<table border=\"1\" class=\"dataframe\">\n",
              "  <thead>\n",
              "    <tr style=\"text-align: right;\">\n",
              "      <th></th>\n",
              "      <th>text</th>\n",
              "      <th>selected_text</th>\n",
              "      <th>start_w</th>\n",
              "      <th>end_w</th>\n",
              "    </tr>\n",
              "  </thead>\n",
              "  <tbody>\n",
              "    <tr>\n",
              "      <th>0</th>\n",
              "      <td>i`d responded going</td>\n",
              "      <td>i`d responded going</td>\n",
              "      <td>0</td>\n",
              "      <td>2</td>\n",
              "    </tr>\n",
              "    <tr>\n",
              "      <th>1</th>\n",
              "      <td>sooo sad miss san diego</td>\n",
              "      <td>sooo sad</td>\n",
              "      <td>0</td>\n",
              "      <td>1</td>\n",
              "    </tr>\n",
              "    <tr>\n",
              "      <th>2</th>\n",
              "      <td>boss bullying</td>\n",
              "      <td>bullying</td>\n",
              "      <td>1</td>\n",
              "      <td>1</td>\n",
              "    </tr>\n",
              "  </tbody>\n",
              "</table>\n",
              "</div>"
            ],
            "text/plain": [
              "                      text        selected_text  start_w  end_w\n",
              "0      i`d responded going  i`d responded going        0      2\n",
              "1  sooo sad miss san diego             sooo sad        0      1\n",
              "2            boss bullying             bullying        1      1"
            ]
          },
          "metadata": {},
          "execution_count": 21
        }
      ]
    },
    {
      "cell_type": "code",
      "metadata": {
        "id": "9Rik_YRDXTP9"
      },
      "source": [
        "y_true_i = y_true_i.to_numpy(dtype='float32')"
      ],
      "execution_count": null,
      "outputs": []
    },
    {
      "cell_type": "code",
      "metadata": {
        "id": "vH80QCA8Xs9W"
      },
      "source": [
        "y_true_f = y_true_f.to_numpy(dtype='float32')"
      ],
      "execution_count": null,
      "outputs": []
    },
    {
      "cell_type": "markdown",
      "metadata": {
        "id": "KiQRVYIspfVB"
      },
      "source": [
        "#Codificación del sentimiento para ser una entrada válida en el modelo\n"
      ]
    },
    {
      "cell_type": "code",
      "metadata": {
        "id": "hdIIhDXMpriN"
      },
      "source": [
        "labels1 = {\"sentiment\": {\"neutral\":0,\"positive\":1,\"negative\":2}}"
      ],
      "execution_count": null,
      "outputs": []
    },
    {
      "cell_type": "code",
      "metadata": {
        "id": "_z0Uda9_preK"
      },
      "source": [
        "df = df.replace(labels1)\n",
        "labels = df['sentiment']\n",
        "#labels\n",
        "#labels = to_categorical(labels)"
      ],
      "execution_count": null,
      "outputs": []
    },
    {
      "cell_type": "code",
      "metadata": {
        "colab": {
          "base_uri": "https://localhost:8080/"
        },
        "id": "VB7gPUEeprbk",
        "outputId": "a3078ffa-3890-4975-e84e-0fb3d15e289c"
      },
      "source": [
        "labels"
      ],
      "execution_count": null,
      "outputs": [
        {
          "output_type": "execute_result",
          "data": {
            "text/plain": [
              "0        0\n",
              "1        2\n",
              "2        2\n",
              "3        2\n",
              "4        2\n",
              "        ..\n",
              "27475    2\n",
              "27476    2\n",
              "27477    1\n",
              "27478    1\n",
              "27479    0\n",
              "Name: sentiment, Length: 27480, dtype: int64"
            ]
          },
          "metadata": {},
          "execution_count": 26
        }
      ]
    },
    {
      "cell_type": "markdown",
      "metadata": {
        "id": "Eh3LSwlQer_t"
      },
      "source": [
        "#Tokenización"
      ]
    },
    {
      "cell_type": "code",
      "metadata": {
        "id": "LcdlcbJWeuNF"
      },
      "source": [
        "text = list(df['text'].values)"
      ],
      "execution_count": null,
      "outputs": []
    },
    {
      "cell_type": "code",
      "metadata": {
        "id": "poxpPinzfA6b"
      },
      "source": [
        "tokenizer = Tokenizer(num_words=12000)\n",
        "tokenizer.fit_on_texts(text)\n",
        "sequences = tokenizer.texts_to_sequences(text)"
      ],
      "execution_count": null,
      "outputs": []
    },
    {
      "cell_type": "code",
      "metadata": {
        "colab": {
          "base_uri": "https://localhost:8080/"
        },
        "id": "LUZ927_Hfdyd",
        "outputId": "fe826a81-2726-4451-f078-e58fb6c31337"
      },
      "source": [
        "word_index = tokenizer.word_index\n",
        "print('Found %s unique tokens.' % len(word_index))"
      ],
      "execution_count": null,
      "outputs": [
        {
          "output_type": "stream",
          "name": "stdout",
          "text": [
            "Found 28612 unique tokens.\n"
          ]
        }
      ]
    },
    {
      "cell_type": "code",
      "metadata": {
        "id": "l_3Mmv7LfzEd"
      },
      "source": [
        "data = pad_sequences(sequences, maxlen=max(dim_tw))"
      ],
      "execution_count": null,
      "outputs": []
    },
    {
      "cell_type": "markdown",
      "metadata": {
        "id": "YPqp2-sXgkUF"
      },
      "source": [
        "#Split de la data"
      ]
    },
    {
      "cell_type": "code",
      "metadata": {
        "colab": {
          "base_uri": "https://localhost:8080/"
        },
        "id": "EP6Q1S1Kglah",
        "outputId": "d3530a20-333d-4b91-9c44-de335d2db2df"
      },
      "source": [
        "X_train,x_test,Y_train_i,y_test_i,Y_train_f,y_test_f,long_train,long_test,Labels_train,labels_test, TS_train, ts_test = train_test_split(data,y_true_i,y_true_f,long,labels,df['text'], test_size=0.15, random_state=42)\n",
        "x_train,x_val,y_train_i,y_val_i,y_train_f,y_val_f,l_train,l_val,labels_train,labels_val = train_test_split(X_train,Y_train_i,Y_train_f,long_train,Labels_train, test_size=0.1, random_state=42)\n",
        "x_train.shape, y_train_i.shape,y_train_f.shape,x_val.shape, y_val_i.shape,y_val_f.shape, x_test.shape, y_test_i.shape,y_test_f.shape,"
      ],
      "execution_count": null,
      "outputs": [
        {
          "output_type": "execute_result",
          "data": {
            "text/plain": [
              "((21022, 25),\n",
              " (21022,),\n",
              " (21022,),\n",
              " (2336, 25),\n",
              " (2336,),\n",
              " (2336,),\n",
              " (4122, 25),\n",
              " (4122,),\n",
              " (4122,))"
            ]
          },
          "metadata": {},
          "execution_count": 34
        }
      ]
    },
    {
      "cell_type": "code",
      "metadata": {
        "colab": {
          "base_uri": "https://localhost:8080/"
        },
        "id": "P4-qFY5aurIM",
        "outputId": "47073a81-e83c-4564-f097-611fca36134b"
      },
      "source": [
        "l_train.shape ,long_test.shape, l_val.shape"
      ],
      "execution_count": null,
      "outputs": [
        {
          "output_type": "execute_result",
          "data": {
            "text/plain": [
              "((21022,), (4122,), (2336,))"
            ]
          },
          "metadata": {},
          "execution_count": 35
        }
      ]
    },
    {
      "cell_type": "code",
      "metadata": {
        "colab": {
          "base_uri": "https://localhost:8080/"
        },
        "id": "2VZMAEL808Ai",
        "outputId": "e43f0d87-5665-4222-b3c2-856565a2b61b"
      },
      "source": [
        "type(y_train_i)"
      ],
      "execution_count": null,
      "outputs": [
        {
          "output_type": "execute_result",
          "data": {
            "text/plain": [
              "numpy.ndarray"
            ]
          },
          "metadata": {},
          "execution_count": 36
        }
      ]
    },
    {
      "cell_type": "markdown",
      "metadata": {
        "id": "BqY-0WVuiX-h"
      },
      "source": [
        "#Capa de Embeding"
      ]
    },
    {
      "cell_type": "markdown",
      "metadata": {
        "id": "J0uNlzha1y2J"
      },
      "source": [
        "Debido a que pesa más de 400 Mb se pondrá el enlace donde se puede descargar para uso del lector, se debe establecer la variable Path con la ruta donde el archivo esté puesto.\n",
        "https://nlp.stanford.edu/projects/glove/"
      ]
    },
    {
      "cell_type": "code",
      "metadata": {
        "colab": {
          "base_uri": "https://localhost:8080/"
        },
        "id": "s0ahU3vOiGU9",
        "outputId": "6316c79f-9bcf-4bfb-8e9d-91cc6d12952b"
      },
      "source": [
        "from google.colab import drive\n",
        "drive.mount('/content/drive')"
      ],
      "execution_count": null,
      "outputs": [
        {
          "output_type": "stream",
          "name": "stdout",
          "text": [
            "Mounted at /content/drive\n"
          ]
        }
      ]
    },
    {
      "cell_type": "code",
      "metadata": {
        "id": "DubeFCm5iULF"
      },
      "source": [
        "path = '/content/drive/MyDrive/'"
      ],
      "execution_count": null,
      "outputs": []
    },
    {
      "cell_type": "code",
      "metadata": {
        "colab": {
          "base_uri": "https://localhost:8080/"
        },
        "id": "tVW11A2IiUoq",
        "outputId": "13c963c3-701b-4f5a-83c9-18e48f1e0336"
      },
      "source": [
        "embeddings_index = {}\n",
        "f = open(os.path.join(path, 'glove.6B.100d.txt'))\n",
        "for line in f:\n",
        "    values = line.split()\n",
        "    word = values[0]\n",
        "    coefs = np.asarray(values[1:], dtype='float32')\n",
        "    embeddings_index[word] = coefs\n",
        "f.close()\n",
        "\n",
        "print('Found %s word vectors.' % len(embeddings_index))"
      ],
      "execution_count": null,
      "outputs": [
        {
          "output_type": "stream",
          "name": "stdout",
          "text": [
            "Found 400000 word vectors.\n"
          ]
        }
      ]
    },
    {
      "cell_type": "code",
      "metadata": {
        "id": "aaxAK77AikQs"
      },
      "source": [
        "embedding_matrix = np.zeros((tokenizer.num_words + 1, 100))\n",
        "for i in range(1,tokenizer.num_words):\n",
        "  word = tokenizer.index_word[i]\n",
        "  embedding_vector = embeddings_index.get(word)\n",
        "  if embedding_vector is not None:\n",
        "        # words not found in embedding index will be all-zeros.\n",
        "      embedding_matrix[i] = embedding_vector\n",
        "  else:\n",
        "      embedding_matrix[i] = embeddings_index.get('unk')"
      ],
      "execution_count": null,
      "outputs": []
    },
    {
      "cell_type": "code",
      "metadata": {
        "id": "-Sr5Ll12ikz2"
      },
      "source": [
        "from keras.layers import Embedding\n",
        "\n",
        "embedding_layer = Embedding(tokenizer.num_words + 1,\n",
        "                            100,\n",
        "                            weights=[embedding_matrix],\n",
        "                            input_length=25,\n",
        "                            trainable=False,\n",
        "                            mask_zero=True)"
      ],
      "execution_count": null,
      "outputs": []
    },
    {
      "cell_type": "markdown",
      "metadata": {
        "id": "mhpsg2hOlms5"
      },
      "source": [
        "#Definición de métricas"
      ]
    },
    {
      "cell_type": "code",
      "metadata": {
        "id": "i_z-Pj14lmO7"
      },
      "source": [
        "def recall_m(y_true, y_pred):\n",
        "    true_positives = K.sum(K.round(K.clip(y_true * y_pred, 0, 1)))\n",
        "    possible_positives = K.sum(K.round(K.clip(y_true, 0, 1)))\n",
        "    recall = true_positives / (possible_positives + K.epsilon())\n",
        "    return recall\n",
        "\n",
        "def precision_m(y_true, y_pred):\n",
        "    true_positives = K.sum(K.round(K.clip(y_true * y_pred, 0, 1)))\n",
        "    predicted_positives = K.sum(K.round(K.clip(y_pred, 0, 1)))\n",
        "    precision = true_positives / (predicted_positives + K.epsilon())\n",
        "    return precision\n",
        "\n",
        "def f1_m(y_true, y_pred):\n",
        "    precision = precision_m(y_true, y_pred)\n",
        "    recall = recall_m(y_true, y_pred)\n",
        "    return 2*((precision*recall)/(precision+recall+K.epsilon()))"
      ],
      "execution_count": null,
      "outputs": []
    },
    {
      "cell_type": "markdown",
      "metadata": {
        "id": "cxTfecljj0AY"
      },
      "source": [
        "#Creación del modelo"
      ]
    },
    {
      "cell_type": "code",
      "metadata": {
        "colab": {
          "base_uri": "https://localhost:8080/"
        },
        "id": "oJeuEXuOj3E2",
        "outputId": "128d7ecb-875e-40bf-86fc-c0734f340557"
      },
      "source": [
        "from tensorflow.keras.layers import Dense, Flatten, Conv2D, Conv1D, MaxPooling1D, LSTM, RepeatVector, Concatenate\n",
        "from tensorflow.keras import Model,Input\n",
        "from keras.preprocessing.text import Tokenizer\n",
        "from keras.preprocessing.sequence import pad_sequences\n",
        "from keras.models import Sequential\n",
        "from keras.layers import Dense, Dropout, Bidirectional\n",
        "from keras.layers import Flatten\n",
        "from keras.layers import Embedding\n",
        "from tensorflow.keras import callbacks\n",
        "from numpy import array\n",
        "from numpy import asarray\n",
        "from numpy import zeros\n",
        "from tensorflow.compat.v1 import ConfigProto\n",
        "from tensorflow.compat.v1 import InteractiveSession\n",
        "from tensorflow.keras import optimizers\n",
        "from tensorflow.keras.metrics import Recall, Precision, MeanAbsoluteError, MeanSquaredError\n",
        "\n",
        "config = ConfigProto()\n",
        "config.gpu_options.allow_growth = True\n",
        "session = InteractiveSession(config=config)\n",
        "import tensorflow.keras.backend as K\n",
        "tf.config.list_physical_devices('GPU')"
      ],
      "execution_count": null,
      "outputs": [
        {
          "output_type": "execute_result",
          "data": {
            "text/plain": [
              "[]"
            ]
          },
          "metadata": {},
          "execution_count": 43
        }
      ]
    },
    {
      "cell_type": "markdown",
      "metadata": {
        "id": "3ncox_k-NdX4"
      },
      "source": [
        "Modelo con dos salidas"
      ]
    },
    {
      "cell_type": "code",
      "metadata": {
        "colab": {
          "base_uri": "https://localhost:8080/",
          "height": 105
        },
        "id": "ZYimaA0hanGo",
        "outputId": "7d7c2b58-5b71-4eb0-9872-dff3a27c4707"
      },
      "source": [
        "sequence_input = Input(shape=(25,), dtype='int32')\n",
        "sentiment = Input(shape=(1,), dtype='int32')\n",
        "\n",
        "embedded_sequences = embedding_layer(sequence_input)\n",
        "\n",
        "xs = Embedding(3,20)(sentiment)\n",
        "xs = Flatten()(xs)\n",
        "xs = RepeatVector(25)(xs)\n",
        "\n",
        "x = Concatenate(axis=-1)([xs,embedded_sequences])\n",
        "\n",
        "x1 = Bidirectional(LSTM(50,return_sequences=True))(x)\n",
        "x1 = Bidirectional(LSTM(50,return_sequences=False))(x1)\n",
        "x1 = Dense(128, activation='relu')(x1)\n",
        "\n",
        "salida1 = Dense(1)(x1)\n",
        "salida2 = Dense(1)(x1)\n",
        "\n",
        "\n",
        "model = Model(inputs=[sequence_input,sentiment], outputs=[salida1,salida2])\n",
        "optimizer = tf.keras.optimizers.Adam(learning_rate=3e-5)\n",
        "model.compile(loss=['mse','mse'], optimizer=optimizer,metrics=[MeanAbsoluteError(),MeanSquaredError()])\n",
        "\n",
        "\"\"\"\n",
        "model.fit([x_train,labels_train], [y_train_i,y_train_f], validation_data=([x_val,labels_val], [y_val_i,y_val_f]),\n",
        "          epochs=15, batch_size=32,verbose=1)\n",
        "\n",
        "loss, loss1, loss2, MAE1,MSE1,MAE2,MSE2 = model.evaluate([x_test,labels_test],[y_test_i,y_test_f], verbose=0,batch_size=128)\n",
        "print(\"Loss: {}\".format(loss))\n",
        "print(\"MAE 1: {} MAE 2: {}\".format(MAE1,MAE2))\n",
        "#print('F1: %f' % (((2*recall*precision) / (recall + precision))*100))\n",
        "print(\"MSE 1: {} MSE 2: {}\".format(MSE1,MSE2))\n",
        "\"\"\""
      ],
      "execution_count": null,
      "outputs": [
        {
          "output_type": "execute_result",
          "data": {
            "application/vnd.google.colaboratory.intrinsic+json": {
              "type": "string"
            },
            "text/plain": [
              "'\\nmodel.fit([x_train,labels_train], [y_train_i,y_train_f], validation_data=([x_val,labels_val], [y_val_i,y_val_f]),\\n          epochs=15, batch_size=32,verbose=1)\\n\\nloss, loss1, loss2, MAE1,MSE1,MAE2,MSE2 = model.evaluate([x_test,labels_test],[y_test_i,y_test_f], verbose=0,batch_size=128)\\nprint(\"Loss: {}\".format(loss))\\nprint(\"MAE 1: {} MAE 2: {}\".format(MAE1,MAE2))\\n#print(\\'F1: %f\\' % (((2*recall*precision) / (recall + precision))*100))\\nprint(\"MSE 1: {} MSE 2: {}\".format(MSE1,MSE2))\\n'"
            ]
          },
          "metadata": {},
          "execution_count": 44
        }
      ]
    },
    {
      "cell_type": "code",
      "metadata": {
        "id": "RWQ3ApyuY2V-",
        "colab": {
          "base_uri": "https://localhost:8080/",
          "height": 787
        },
        "outputId": "d00afc0b-298b-419b-99bd-cafcdac8b5dd"
      },
      "source": [
        "tensorflow.keras.utils.plot_model(model, \"BIR.png\",show_shapes=True, show_dtype=True,\n",
        "    show_layer_names=True, rankdir='TB', expand_nested=True, dpi=96,\n",
        "    layer_range=None)"
      ],
      "execution_count": null,
      "outputs": [
        {
          "output_type": "execute_result",
          "data": {
            "image/png": "[encoded data removed]",
            "text/plain": [
              "<IPython.core.display.Image object>"
            ]
          },
          "metadata": {},
          "execution_count": 46
        }
      ]
    },
    {
      "cell_type": "markdown",
      "metadata": {
        "id": "RArOAvWUvoMl"
      },
      "source": [
        "#Train"
      ]
    },
    {
      "cell_type": "code",
      "metadata": {
        "id": "kRdmzUpIvmyJ"
      },
      "source": [
        "model.fit([x_train,labels_train], [y_train_i,y_train_f], validation_data=([x_val,labels_val], [y_val_i,y_val_f]),\n",
        "          epochs=15, batch_size=32,verbose=1)\n",
        "\n",
        "loss, loss1, loss2, MAE1,MSE1,MAE2,MSE2 = model.evaluate([x_test,labels_test],[y_test_i,y_test_f], verbose=0,batch_size=128)\n",
        "print(\"Loss: {}\".format(loss))\n",
        "print(\"MAE 1: {} MAE 2: {}\".format(MAE1,MAE2))\n",
        "#print('F1: %f' % (((2*recall*precision) / (recall + precision))*100))\n",
        "print(\"MSE 1: {} MSE 2: {}\".format(MSE1,MSE2))"
      ],
      "execution_count": null,
      "outputs": []
    },
    {
      "cell_type": "markdown",
      "metadata": {
        "id": "aC96fCBos5ms"
      },
      "source": [
        "#Validación modelo 1"
      ]
    },
    {
      "cell_type": "code",
      "metadata": {
        "id": "Kw7jfGHbs9iT"
      },
      "source": [
        "predi,predf = model.predict([x_test,labels_test])"
      ],
      "execution_count": null,
      "outputs": []
    },
    {
      "cell_type": "markdown",
      "metadata": {
        "id": "2qtwXqJt2ERv"
      },
      "source": [
        "se realiza un test de comparación entre la predicción y la variable objetivo"
      ]
    },
    {
      "cell_type": "code",
      "metadata": {
        "id": "u6-rThl9am6W",
        "colab": {
          "base_uri": "https://localhost:8080/"
        },
        "outputId": "2f4acb40-bbc8-4e03-c44f-1aa877da5198"
      },
      "source": [
        "a = 222\n",
        "print(predi[a],predf[a])\n",
        "print(y_test_i[a],y_test_f[a])"
      ],
      "execution_count": null,
      "outputs": [
        {
          "output_type": "stream",
          "name": "stdout",
          "text": [
            "[0.47852674] [3.6666148]\n",
            "0.0 5.0\n"
          ]
        }
      ]
    },
    {
      "cell_type": "markdown",
      "metadata": {
        "id": "YBACaBH42Neh"
      },
      "source": [
        "#Decodificación"
      ]
    },
    {
      "cell_type": "code",
      "metadata": {
        "id": "Y5jmn95KYqe6"
      },
      "source": [
        "def redondeo(x):\n",
        "  l = []\n",
        "  for i in x:\n",
        "    a = round(i[0],0)\n",
        "    if a < 0:\n",
        "      a = 0\n",
        "    l.append(a)\n",
        "  return np.array(l,dtype='float32')"
      ],
      "execution_count": null,
      "outputs": []
    },
    {
      "cell_type": "code",
      "metadata": {
        "id": "87Ll7p2lYZ8q"
      },
      "source": [
        "y_pred_i = redondeo(predi)\n",
        "y_pred_f = redondeo(predf)"
      ],
      "execution_count": null,
      "outputs": []
    },
    {
      "cell_type": "code",
      "metadata": {
        "colab": {
          "base_uri": "https://localhost:8080/"
        },
        "id": "xpJFogAeaHB3",
        "outputId": "1f4f401a-27e4-4c7d-b154-6095597f2a71"
      },
      "source": [
        "y_pred_i.shape ,y_pred_f.shape"
      ],
      "execution_count": null,
      "outputs": [
        {
          "output_type": "execute_result",
          "data": {
            "text/plain": [
              "((4122,), (4122,))"
            ]
          },
          "metadata": {},
          "execution_count": 118
        }
      ]
    },
    {
      "cell_type": "code",
      "metadata": {
        "id": "v-mdZkpuam3y",
        "colab": {
          "base_uri": "https://localhost:8080/"
        },
        "outputId": "32bb77c2-6b7c-48b7-cd0c-f2321faae476"
      },
      "source": [
        "y_pred_i.shape,y_test_i.shape"
      ],
      "execution_count": null,
      "outputs": [
        {
          "output_type": "execute_result",
          "data": {
            "text/plain": [
              "((4122,), (4122,))"
            ]
          },
          "metadata": {},
          "execution_count": 119
        }
      ]
    },
    {
      "cell_type": "code",
      "metadata": {
        "colab": {
          "base_uri": "https://localhost:8080/"
        },
        "id": "h1djqFmpauMv",
        "outputId": "585c0a80-d5b8-4d82-b8ae-42840aa71813"
      },
      "source": [
        "a = 2000\n",
        "print(predi[a],predf[a])\n",
        "print(y_pred_i[a],y_pred_f[a])\n",
        "print(y_test_i[a],y_test_f[a])"
      ],
      "execution_count": null,
      "outputs": [
        {
          "output_type": "stream",
          "name": "stdout",
          "text": [
            "[1.7261335] [3.1269796]\n",
            "2.0 3.0\n",
            "0.0 1.0\n"
          ]
        }
      ]
    },
    {
      "cell_type": "code",
      "metadata": {
        "id": "Y5gxJp9vdoJ9"
      },
      "source": [
        "y_test_i = to_categorical(y_test_i)\n",
        "y_test_f = to_categorical(y_test_f)\n",
        "y_pred_i = to_categorical(y_pred_i)\n",
        "y_pred_f = to_categorical(y_pred_f)"
      ],
      "execution_count": null,
      "outputs": []
    },
    {
      "cell_type": "code",
      "metadata": {
        "colab": {
          "base_uri": "https://localhost:8080/"
        },
        "id": "z5yNzUY5d6SH",
        "outputId": "c0f4cd94-a74b-4e1e-d458-e7a6548eacc4"
      },
      "source": [
        "y_pred_i.shape,y_pred_f.shape,y_test_i.shape, y_test_f.shape"
      ],
      "execution_count": null,
      "outputs": [
        {
          "output_type": "execute_result",
          "data": {
            "text/plain": [
              "((4122, 12), (4122, 17), (4122, 19), (4122, 22))"
            ]
          },
          "metadata": {},
          "execution_count": 122
        }
      ]
    },
    {
      "cell_type": "code",
      "metadata": {
        "id": "PYRvmQJjfRC6"
      },
      "source": [
        "def fill(x,y):\n",
        "  l = []\n",
        "  for c in range(x.shape[0]):\n",
        "    inic = np.where(x[c]==1)[0][0]\n",
        "    fin = np.where(y[c]==1)[0][0]\n",
        "    uno = np.append(np.zeros(25)[:inic],1)\n",
        "    dos = np.concatenate((uno,np.ones((fin-inic))))\n",
        "    r = np.concatenate((dos,(np.zeros(25-dos.shape[0]))))\n",
        "    #res = np.concatenate((uno,tres),axis=0)\n",
        "    #r = np.concatenate((res,tres),axis=0)\n",
        "    l.append(r)\n",
        "  return np.array(l)"
      ],
      "execution_count": null,
      "outputs": []
    },
    {
      "cell_type": "code",
      "metadata": {
        "id": "2gl4_BalgcdM"
      },
      "source": [
        "y_pred = fill(y_pred_i,y_pred_f)\n",
        "y_test = fill(y_test_i,y_test_f)"
      ],
      "execution_count": null,
      "outputs": []
    },
    {
      "cell_type": "code",
      "metadata": {
        "colab": {
          "base_uri": "https://localhost:8080/"
        },
        "id": "txh7s0pTifeV",
        "outputId": "555e66d2-e664-4d75-d83b-6aeab6bbf613"
      },
      "source": [
        "y_pred.shape"
      ],
      "execution_count": null,
      "outputs": [
        {
          "output_type": "execute_result",
          "data": {
            "text/plain": [
              "(4122, 25)"
            ]
          },
          "metadata": {},
          "execution_count": 125
        }
      ]
    },
    {
      "cell_type": "code",
      "metadata": {
        "colab": {
          "base_uri": "https://localhost:8080/"
        },
        "id": "Tn7gjzkjkx4O",
        "outputId": "213598f5-2164-4df4-8254-ac1fcf27db8e"
      },
      "source": [
        "y_test.shape"
      ],
      "execution_count": null,
      "outputs": [
        {
          "output_type": "execute_result",
          "data": {
            "text/plain": [
              "(4122, 25)"
            ]
          },
          "metadata": {},
          "execution_count": 126
        }
      ]
    },
    {
      "cell_type": "markdown",
      "metadata": {
        "id": "eOFuigIn2W9a"
      },
      "source": [
        "#MÉTRICAS"
      ]
    },
    {
      "cell_type": "markdown",
      "metadata": {
        "id": "cY8OS9EOqKED"
      },
      "source": [
        "##Accuracy"
      ]
    },
    {
      "cell_type": "code",
      "metadata": {
        "colab": {
          "base_uri": "https://localhost:8080/"
        },
        "id": "VmGwcJ9bkfux",
        "outputId": "c693f2cd-0b5e-404e-f3c9-39ab24c27742"
      },
      "source": [
        "p = 0\n",
        "for n in range(y_test.shape[0]):\n",
        "  for l in range(y_test[n].shape[0]):\n",
        "    if y_test[n][l] == y_pred[n][l]:\n",
        "      p = p + 1\n",
        "print(p / (y_test.shape[0]*y_test.shape[1]),p)"
      ],
      "execution_count": null,
      "outputs": [
        {
          "output_type": "stream",
          "name": "stdout",
          "text": [
            "0.9161475012130034 94409\n"
          ]
        }
      ]
    },
    {
      "cell_type": "markdown",
      "metadata": {
        "id": "lAX1lXYgqXWS"
      },
      "source": [
        "##Presicion"
      ]
    },
    {
      "cell_type": "code",
      "metadata": {
        "colab": {
          "base_uri": "https://localhost:8080/"
        },
        "id": "945uwzGslWBg",
        "outputId": "9f05378b-9c3a-440b-efe2-3fa3b092861d"
      },
      "source": [
        "fp = 0\n",
        "tp = 0\n",
        "for n in range(y_test.shape[0]):\n",
        "  for l in range(y_test[n].shape[0]):\n",
        "    #if y_test[n][l] == 1:\n",
        "      #tp = tp + 1\n",
        "    if y_test[n][l] == y_pred[n][l] and y_pred[n][l] == 1:\n",
        "      tp = tp + 1\n",
        "    if y_test[n][l] != y_pred[n][l] and y_pred[n][l] == 1:\n",
        "      fp = fp + 1 \n",
        "\n",
        "\n",
        "print(tp/(tp+fp))"
      ],
      "execution_count": null,
      "outputs": [
        {
          "output_type": "stream",
          "name": "stdout",
          "text": [
            "0.7596769541390251\n"
          ]
        }
      ]
    },
    {
      "cell_type": "markdown",
      "metadata": {
        "id": "VPFtItxeqa07"
      },
      "source": [
        "##Recall"
      ]
    },
    {
      "cell_type": "code",
      "metadata": {
        "colab": {
          "base_uri": "https://localhost:8080/"
        },
        "id": "Fx9dvPS_lgKv",
        "outputId": "4b04eca6-eaf2-4e7c-8cef-bec6adee13e0"
      },
      "source": [
        "fn = 0\n",
        "tp = 0\n",
        "for n in range(y_test.shape[0]):\n",
        "  for l in range(y_test[n].shape[0]):\n",
        "    if y_test[n][l] == y_pred[n][l] and y_pred[n][l] == 1:\n",
        "      tp = tp + 1\n",
        "    if y_test[n][l] != y_pred[n][l] and y_pred[n][l] == 0:\n",
        "      fn = fn + 1 \n",
        "\n",
        "\n",
        "print(tp/(tp+fn))"
      ],
      "execution_count": null,
      "outputs": [
        {
          "output_type": "stream",
          "name": "stdout",
          "text": [
            "0.746372704602131\n"
          ]
        }
      ]
    },
    {
      "cell_type": "code",
      "metadata": {
        "colab": {
          "base_uri": "https://localhost:8080/"
        },
        "id": "AZweusbSlyth",
        "outputId": "54dae600-0213-4c40-fe76-cdc4b833031f"
      },
      "source": [
        "print('recall:{}'.format(recall_m(y_test,y_pred)))\n",
        "print('precision:{}'.format(precision_m(y_test,y_pred)))\n",
        "print('F1:{}'.format(f1_m(y_test,y_pred)))"
      ],
      "execution_count": null,
      "outputs": [
        {
          "output_type": "stream",
          "name": "stdout",
          "text": [
            "recall:0.7463727045979008\n",
            "precision:0.7596769541346428\n",
            "F1:0.7529660153530977\n"
          ]
        }
      ]
    },
    {
      "cell_type": "markdown",
      "metadata": {
        "id": "0I5DgcMU2j3a"
      },
      "source": [
        "Funciones para remover el padding"
      ]
    },
    {
      "cell_type": "code",
      "metadata": {
        "id": "euDkl24ly2Wg"
      },
      "source": [
        "def withoutpadding(x,y):\n",
        "  f = []\n",
        "  for k,i in enumerate(x):\n",
        "    a = i[:y[k]]\n",
        "    f.append(a)\n",
        "  return np.array(f)"
      ],
      "execution_count": null,
      "outputs": []
    },
    {
      "cell_type": "code",
      "metadata": {
        "id": "C4yhfXGb9o83"
      },
      "source": [
        "def withoutpadding2(x,y):\n",
        "  f = []\n",
        "  for i in range(x.shape[0]):\n",
        "    a = x[i][:y[i]]\n",
        "    f.append(a)\n",
        "  return np.array(f)"
      ],
      "execution_count": null,
      "outputs": []
    },
    {
      "cell_type": "code",
      "metadata": {
        "colab": {
          "base_uri": "https://localhost:8080/"
        },
        "id": "cH-6IVfW9X1R",
        "outputId": "ca62dc41-3689-48d9-c543-e760a551aea9"
      },
      "source": [
        "y_test_p = withoutpadding(y_test,long_test)"
      ],
      "execution_count": null,
      "outputs": [
        {
          "output_type": "stream",
          "name": "stderr",
          "text": [
            "/usr/local/lib/python3.7/dist-packages/ipykernel_launcher.py:6: VisibleDeprecationWarning: Creating an ndarray from ragged nested sequences (which is a list-or-tuple of lists-or-tuples-or ndarrays with different lengths or shapes) is deprecated. If you meant to do this, you must specify 'dtype=object' when creating the ndarray\n",
            "  \n"
          ]
        }
      ]
    },
    {
      "cell_type": "code",
      "metadata": {
        "colab": {
          "base_uri": "https://localhost:8080/"
        },
        "id": "JoZC9Qbj9mqt",
        "outputId": "65f4a5d1-0de6-4877-8815-3a8d0764a4c2"
      },
      "source": [
        "y_test_t = withoutpadding2(y_test,long_test)"
      ],
      "execution_count": null,
      "outputs": [
        {
          "output_type": "stream",
          "name": "stderr",
          "text": [
            "/usr/local/lib/python3.7/dist-packages/ipykernel_launcher.py:6: VisibleDeprecationWarning: Creating an ndarray from ragged nested sequences (which is a list-or-tuple of lists-or-tuples-or ndarrays with different lengths or shapes) is deprecated. If you meant to do this, you must specify 'dtype=object' when creating the ndarray\n",
            "  \n"
          ]
        }
      ]
    },
    {
      "cell_type": "code",
      "metadata": {
        "colab": {
          "base_uri": "https://localhost:8080/"
        },
        "id": "Hm7Y1S5n_N_m",
        "outputId": "aefffa32-d618-42e5-efe8-18049c644266"
      },
      "source": [
        "y_pred_p = withoutpadding2(y_pred,long_test)"
      ],
      "execution_count": null,
      "outputs": [
        {
          "output_type": "stream",
          "name": "stderr",
          "text": [
            "/usr/local/lib/python3.7/dist-packages/ipykernel_launcher.py:6: VisibleDeprecationWarning: Creating an ndarray from ragged nested sequences (which is a list-or-tuple of lists-or-tuples-or ndarrays with different lengths or shapes) is deprecated. If you meant to do this, you must specify 'dtype=object' when creating the ndarray\n",
            "  \n"
          ]
        }
      ]
    },
    {
      "cell_type": "code",
      "metadata": {
        "colab": {
          "base_uri": "https://localhost:8080/"
        },
        "id": "p7ym6QGe-SEh",
        "outputId": "2f09a6e2-5d0c-4634-ec43-6708b86a1394"
      },
      "source": [
        "type(y_test_p)"
      ],
      "execution_count": null,
      "outputs": [
        {
          "output_type": "execute_result",
          "data": {
            "text/plain": [
              "numpy.ndarray"
            ]
          },
          "metadata": {},
          "execution_count": 137
        }
      ]
    },
    {
      "cell_type": "code",
      "metadata": {
        "colab": {
          "base_uri": "https://localhost:8080/"
        },
        "id": "HU3OGVxB9fJb",
        "outputId": "ab37b14a-e545-4d7c-fc59-26c75372f846"
      },
      "source": [
        "y_pred_p.shape, y_test_p.shape"
      ],
      "execution_count": null,
      "outputs": [
        {
          "output_type": "execute_result",
          "data": {
            "text/plain": [
              "((4122,), (4122,))"
            ]
          },
          "metadata": {},
          "execution_count": 138
        }
      ]
    },
    {
      "cell_type": "code",
      "metadata": {
        "colab": {
          "base_uri": "https://localhost:8080/"
        },
        "id": "vvnLK7YGz_D4",
        "outputId": "ce374b82-f1ed-4af7-f971-64b442432dde"
      },
      "source": [
        "y_test[0][:long_test[0]]"
      ],
      "execution_count": null,
      "outputs": [
        {
          "output_type": "execute_result",
          "data": {
            "text/plain": [
              "array([1., 1., 1., 1.])"
            ]
          },
          "metadata": {},
          "execution_count": 139
        }
      ]
    },
    {
      "cell_type": "markdown",
      "metadata": {
        "id": "hCCyba8L_-Ew"
      },
      "source": [
        "##Presicion sin padding"
      ]
    },
    {
      "cell_type": "code",
      "metadata": {
        "colab": {
          "base_uri": "https://localhost:8080/"
        },
        "id": "0WH9vFEews2u",
        "outputId": "0dc8f0b7-dd30-4b31-9e47-a312a921ffb8"
      },
      "source": [
        "fp = 0\n",
        "tp = 0\n",
        "for n in range(y_test_t.shape[0]):\n",
        "  for l in range(y_test_t[n].shape[0]):\n",
        "    #if y_test[n][l] == 1:\n",
        "      #tp = tp + 1\n",
        "    if y_test_t[n][l] == y_pred_p[n][l] and y_pred_p[n][l] == 1:\n",
        "      tp = tp + 1\n",
        "    if y_test_t[n][l] != y_pred_p[n][l] and y_pred_p[n][l] == 1:\n",
        "      fp = fp + 1 \n",
        "\n",
        "\n",
        "print(tp/(tp+fp))"
      ],
      "execution_count": null,
      "outputs": [
        {
          "output_type": "stream",
          "name": "stdout",
          "text": [
            "0.7836003096528316\n"
          ]
        }
      ]
    },
    {
      "cell_type": "markdown",
      "metadata": {
        "id": "nZTv653rA4zz"
      },
      "source": [
        "##Accuracy sin padding"
      ]
    },
    {
      "cell_type": "code",
      "metadata": {
        "colab": {
          "base_uri": "https://localhost:8080/"
        },
        "id": "9KJ-CHuAA322",
        "outputId": "46e207cc-6dea-40c7-a9c2-4a7a7fa9648c"
      },
      "source": [
        "p = 0\n",
        "count = 0\n",
        "for n in range(y_test_t.shape[0]):\n",
        "  for l in range(y_test_t[n].shape[0]):\n",
        "    count = count + 1\n",
        "    if y_test_t[n][l] == y_pred_p[n][l]:\n",
        "      p = p + 1\n",
        "print(p / count)"
      ],
      "execution_count": null,
      "outputs": [
        {
          "output_type": "stream",
          "name": "stdout",
          "text": [
            "0.7374370635049537\n"
          ]
        }
      ]
    },
    {
      "cell_type": "markdown",
      "metadata": {
        "id": "zjv01tnnCoBw"
      },
      "source": [
        "##Recall sin padding"
      ]
    },
    {
      "cell_type": "code",
      "metadata": {
        "colab": {
          "base_uri": "https://localhost:8080/"
        },
        "id": "e1wsrYEHCm3L",
        "outputId": "6fba64ed-f354-48c6-d381-1d2067262a0a"
      },
      "source": [
        "fn = 0\n",
        "tp = 0\n",
        "for n in range(y_test_t.shape[0]):\n",
        "  for l in range(y_test_t[n].shape[0]):\n",
        "    if y_test_t[n][l] == y_pred_p[n][l] and y_pred_p[n][l] == 1:\n",
        "      tp = tp + 1\n",
        "    if y_test_t[n][l] != y_pred_p[n][l] and y_pred_p[n][l] == 0:\n",
        "      fn = fn + 1 \n",
        "\n",
        "\n",
        "print(tp/(tp+fn))"
      ],
      "execution_count": null,
      "outputs": [
        {
          "output_type": "stream",
          "name": "stdout",
          "text": [
            "0.7525568181818182\n"
          ]
        }
      ]
    },
    {
      "cell_type": "markdown",
      "metadata": {
        "id": "08IW7NTqGZtT"
      },
      "source": [
        "##Jaccard"
      ]
    },
    {
      "cell_type": "code",
      "metadata": {
        "id": "Z1TfyyIGGY5i"
      },
      "source": [
        "text_true = list(ts_test)"
      ],
      "execution_count": null,
      "outputs": []
    },
    {
      "cell_type": "markdown",
      "metadata": {
        "id": "i1k3ojytL0fi"
      },
      "source": [
        "Función dec jaccard"
      ]
    },
    {
      "cell_type": "code",
      "metadata": {
        "id": "lHyMWw5RL0Nq"
      },
      "source": [
        "def decjac(a,b):\n",
        "  op=[]\n",
        "  for i,j in enumerate(a):\n",
        "    if j == 1:\n",
        "      op.append(b.split()[i])\n",
        "  return \" \".join(op)"
      ],
      "execution_count": null,
      "outputs": []
    },
    {
      "cell_type": "code",
      "metadata": {
        "id": "7GXoLizQNkzC"
      },
      "source": [
        "j_test=[]\n",
        "for ki in range(len(text_true)):\n",
        "  j_test.append(decjac(y_test_t[ki],text_true[ki]))"
      ],
      "execution_count": null,
      "outputs": []
    },
    {
      "cell_type": "code",
      "metadata": {
        "id": "cXQN4-k9OrYy"
      },
      "source": [
        "j_pred=[]\n",
        "for kp in range(len(text_true)):\n",
        "  j_pred.append(decjac(y_pred_p[kp],text_true[kp]))"
      ],
      "execution_count": null,
      "outputs": []
    },
    {
      "cell_type": "code",
      "metadata": {
        "id": "uXf5dcdVMwyi"
      },
      "source": [
        "j_pred\n"
      ],
      "execution_count": null,
      "outputs": []
    },
    {
      "cell_type": "code",
      "metadata": {
        "id": "kXvd65RBKUn5"
      },
      "source": [
        "def jaccard(str1, str2):\n",
        "    if len(str1) == 0 and len(str2) == 0:\n",
        "      return 0.0\n",
        "    else:\n",
        "      a = set(str1.lower().split()) \n",
        "      b = set(str2.lower().split())\n",
        "      c = a.intersection(b)\n",
        "      return float(len(c)) / (len(a) + len(b) - len(c))"
      ],
      "execution_count": null,
      "outputs": []
    },
    {
      "cell_type": "code",
      "metadata": {
        "id": "iYYhZdDwcuUx"
      },
      "source": [
        "rest2 = [jaccard(j_test[i],j_pred[i]) for i in range(len(j_test))]"
      ],
      "execution_count": null,
      "outputs": []
    },
    {
      "cell_type": "code",
      "metadata": {
        "colab": {
          "base_uri": "https://localhost:8080/"
        },
        "id": "fBsTCkKFc5bA",
        "outputId": "5d8c5c87-2287-4c39-d401-15a7b80fa356"
      },
      "source": [
        "print(\"el promedio de jaccard es: {}\".format(sum(rest2)/len(rest2)))"
      ],
      "execution_count": null,
      "outputs": [
        {
          "output_type": "stream",
          "name": "stdout",
          "text": [
            "el promedio de jaccard es: 0.5580826585839241\n"
          ]
        }
      ]
    }
  ]
}