{
  "nbformat": 4,
  "nbformat_minor": 0,
  "metadata": {
    "colab": {
      "name": "Análisis de sentimiento",
      "provenance": [],
      "collapsed_sections": []
    },
    "kernelspec": {
      "display_name": "Python 3",
      "name": "python3"
    },
    "language_info": {
      "name": "python"
    }
  },
  "cells": [
    {
      "cell_type": "code",
      "metadata": {
        "id": "-XGq4BFnMina"
      },
      "source": [
        "import pandas as pd\n",
        "import numpy as np\n",
        "from matplotlib import pyplot as plt\n",
        "from sklearn.model_selection import train_test_split\n",
        "from keras.preprocessing.text import Tokenizer\n",
        "from keras.preprocessing.sequence import pad_sequences\n",
        "from tensorflow.keras.utils import to_categorical\n",
        "import tensorflow as tf\n",
        "import tensorflow.keras.metrics\n"
      ],
      "execution_count": null,
      "outputs": []
    },
    {
      "cell_type": "code",
      "metadata": {
        "colab": {
          "base_uri": "https://localhost:8080/"
        },
        "id": "T9fK18_hFO24",
        "outputId": "4203f1a5-5c7d-460b-d0c0-002db1c38061"
      },
      "source": [
        "import nltk\n",
        "from nltk.corpus import stopwords\n",
        "nltk.download('stopwords')"
      ],
      "execution_count": null,
      "outputs": [
        {
          "output_type": "stream",
          "name": "stdout",
          "text": [
            "[nltk_data] Downloading package stopwords to /root/nltk_data...\n",
            "[nltk_data]   Unzipping corpora/stopwords.zip.\n"
          ]
        },
        {
          "output_type": "execute_result",
          "data": {
            "text/plain": [
              "True"
            ]
          },
          "metadata": {},
          "execution_count": 2
        }
      ]
    },
    {
      "cell_type": "code",
      "metadata": {
        "id": "kkYmZYNxNnih"
      },
      "source": [
        "import os\n",
        "import re"
      ],
      "execution_count": null,
      "outputs": []
    },
    {
      "cell_type": "code",
      "metadata": {
        "colab": {
          "base_uri": "https://localhost:8080/"
        },
        "id": "Qgr34bq9OJ3R",
        "outputId": "650e3885-dc25-45b6-f653-47045c2ec658"
      },
      "source": [
        "!git clone https://github.com/Jmazo25/Monografia.git"
      ],
      "execution_count": null,
      "outputs": [
        {
          "output_type": "stream",
          "name": "stdout",
          "text": [
            "Cloning into 'Monografia'...\n",
            "remote: Enumerating objects: 5, done.\u001b[K\n",
            "remote: Counting objects: 100% (5/5), done.\u001b[K\n",
            "remote: Compressing objects: 100% (5/5), done.\u001b[K\n",
            "remote: Total 5 (delta 0), reused 0 (delta 0), pack-reused 0\u001b[K\n",
            "Unpacking objects: 100% (5/5), done.\n"
          ]
        }
      ]
    },
    {
      "cell_type": "code",
      "metadata": {
        "id": "4XULgJY7Pz34"
      },
      "source": [
        "df_train = pd.read_csv(\"/content/Monografia/train.csv\")\n",
        "df_test = pd.read_csv(\"/content/Monografia/test.csv\")"
      ],
      "execution_count": null,
      "outputs": []
    },
    {
      "cell_type": "code",
      "metadata": {
        "colab": {
          "base_uri": "https://localhost:8080/",
          "height": 143
        },
        "id": "yR9gsu0yQKLn",
        "outputId": "b673a8a3-20e1-4471-eb5b-f135f4bb2fd4"
      },
      "source": [
        "df_train.head(3)"
      ],
      "execution_count": null,
      "outputs": [
        {
          "output_type": "execute_result",
          "data": {
            "text/html": [
              "<div>\n",
              "<style scoped>\n",
              "    .dataframe tbody tr th:only-of-type {\n",
              "        vertical-align: middle;\n",
              "    }\n",
              "\n",
              "    .dataframe tbody tr th {\n",
              "        vertical-align: top;\n",
              "    }\n",
              "\n",
              "    .dataframe thead th {\n",
              "        text-align: right;\n",
              "    }\n",
              "</style>\n",
              "<table border=\"1\" class=\"dataframe\">\n",
              "  <thead>\n",
              "    <tr style=\"text-align: right;\">\n",
              "      <th></th>\n",
              "      <th>textID</th>\n",
              "      <th>text</th>\n",
              "      <th>selected_text</th>\n",
              "      <th>sentiment</th>\n",
              "    </tr>\n",
              "  </thead>\n",
              "  <tbody>\n",
              "    <tr>\n",
              "      <th>0</th>\n",
              "      <td>cb774db0d1</td>\n",
              "      <td>I`d have responded, if I were going</td>\n",
              "      <td>I`d have responded, if I were going</td>\n",
              "      <td>neutral</td>\n",
              "    </tr>\n",
              "    <tr>\n",
              "      <th>1</th>\n",
              "      <td>549e992a42</td>\n",
              "      <td>Sooo SAD I will miss you here in San Diego!!!</td>\n",
              "      <td>Sooo SAD</td>\n",
              "      <td>negative</td>\n",
              "    </tr>\n",
              "    <tr>\n",
              "      <th>2</th>\n",
              "      <td>088c60f138</td>\n",
              "      <td>my boss is bullying me...</td>\n",
              "      <td>bullying me</td>\n",
              "      <td>negative</td>\n",
              "    </tr>\n",
              "  </tbody>\n",
              "</table>\n",
              "</div>"
            ],
            "text/plain": [
              "       textID  ... sentiment\n",
              "0  cb774db0d1  ...   neutral\n",
              "1  549e992a42  ...  negative\n",
              "2  088c60f138  ...  negative\n",
              "\n",
              "[3 rows x 4 columns]"
            ]
          },
          "metadata": {},
          "execution_count": 6
        }
      ]
    },
    {
      "cell_type": "code",
      "metadata": {
        "colab": {
          "base_uri": "https://localhost:8080/",
          "height": 143
        },
        "id": "gXj66vAwQM92",
        "outputId": "33569d92-433d-41cb-ffe7-5014a3ca485a"
      },
      "source": [
        "df_test.head(3)"
      ],
      "execution_count": null,
      "outputs": [
        {
          "output_type": "execute_result",
          "data": {
            "text/html": [
              "<div>\n",
              "<style scoped>\n",
              "    .dataframe tbody tr th:only-of-type {\n",
              "        vertical-align: middle;\n",
              "    }\n",
              "\n",
              "    .dataframe tbody tr th {\n",
              "        vertical-align: top;\n",
              "    }\n",
              "\n",
              "    .dataframe thead th {\n",
              "        text-align: right;\n",
              "    }\n",
              "</style>\n",
              "<table border=\"1\" class=\"dataframe\">\n",
              "  <thead>\n",
              "    <tr style=\"text-align: right;\">\n",
              "      <th></th>\n",
              "      <th>textID</th>\n",
              "      <th>text</th>\n",
              "      <th>sentiment</th>\n",
              "    </tr>\n",
              "  </thead>\n",
              "  <tbody>\n",
              "    <tr>\n",
              "      <th>0</th>\n",
              "      <td>f87dea47db</td>\n",
              "      <td>Last session of the day  http://twitpic.com/67ezh</td>\n",
              "      <td>neutral</td>\n",
              "    </tr>\n",
              "    <tr>\n",
              "      <th>1</th>\n",
              "      <td>96d74cb729</td>\n",
              "      <td>Shanghai is also really exciting (precisely -...</td>\n",
              "      <td>positive</td>\n",
              "    </tr>\n",
              "    <tr>\n",
              "      <th>2</th>\n",
              "      <td>eee518ae67</td>\n",
              "      <td>Recession hit Veronique Branquinho, she has to...</td>\n",
              "      <td>negative</td>\n",
              "    </tr>\n",
              "  </tbody>\n",
              "</table>\n",
              "</div>"
            ],
            "text/plain": [
              "       textID                                               text sentiment\n",
              "0  f87dea47db  Last session of the day  http://twitpic.com/67ezh   neutral\n",
              "1  96d74cb729   Shanghai is also really exciting (precisely -...  positive\n",
              "2  eee518ae67  Recession hit Veronique Branquinho, she has to...  negative"
            ]
          },
          "metadata": {},
          "execution_count": 7
        }
      ]
    },
    {
      "cell_type": "code",
      "metadata": {
        "colab": {
          "base_uri": "https://localhost:8080/"
        },
        "id": "iDU1ow7oAaMo",
        "outputId": "fd8d3780-c009-4a3b-fea7-77df2051164e"
      },
      "source": [
        "df_train.dropna(axis = 0, how ='any',inplace=True)\n",
        "df_train.reset_index(inplace=True)\n",
        "df_train.shape"
      ],
      "execution_count": null,
      "outputs": [
        {
          "output_type": "execute_result",
          "data": {
            "text/plain": [
              "(27480, 5)"
            ]
          },
          "metadata": {},
          "execution_count": 8
        }
      ]
    },
    {
      "cell_type": "markdown",
      "metadata": {
        "id": "UsFxfK0bv6v6"
      },
      "source": [
        "#Preprocesamiento"
      ]
    },
    {
      "cell_type": "markdown",
      "metadata": {
        "id": "U11sncKEEn3F"
      },
      "source": [
        "##Limpieza y eliminación de StopWords"
      ]
    },
    {
      "cell_type": "code",
      "metadata": {
        "id": "7op85L5VMqKX"
      },
      "source": [
        "def clean_text(t):\n",
        "  tl = []\n",
        "  t = t.lower().split()\n",
        "  for i in t:\n",
        "    if i not in stopwords.words('english'):\n",
        "      tl.append(i)\n",
        "  return \" \".join(tl)"
      ],
      "execution_count": null,
      "outputs": []
    },
    {
      "cell_type": "code",
      "metadata": {
        "id": "dVW7iY3tMgv6"
      },
      "source": [
        "df_train['text'] = df_train['text'].apply((lambda x:re.sub('@[^\\s]+','',x)))\n",
        "df_train['text'] = df_train['text'].apply((lambda x: re.sub('[^a-zA-z0-9\\s]','',x)))\n",
        "text1 = df_train['text'].apply(lambda x: clean_text(x))"
      ],
      "execution_count": null,
      "outputs": []
    },
    {
      "cell_type": "markdown",
      "metadata": {
        "id": "uvTsj3j-UuZo"
      },
      "source": [
        "Se convierte la serie \"text1\" en una lista de valores"
      ]
    },
    {
      "cell_type": "code",
      "metadata": {
        "id": "5grcoe4yJqRh"
      },
      "source": [
        "text = list(text1.values)"
      ],
      "execution_count": null,
      "outputs": []
    },
    {
      "cell_type": "markdown",
      "metadata": {
        "id": "PCm_qy3AU4Ka"
      },
      "source": [
        "Antes de iniciar con la tokenización se crea una serie que contiene la longitud de cada tweet medida en palabras y se grafica con su respectiva descripción para conocer el comportamiento de las longitudes "
      ]
    },
    {
      "cell_type": "code",
      "metadata": {
        "id": "8vFD3JZUNxog"
      },
      "source": [
        "dim_tw = text1.str.split().str.len()"
      ],
      "execution_count": null,
      "outputs": []
    },
    {
      "cell_type": "code",
      "metadata": {
        "colab": {
          "base_uri": "https://localhost:8080/",
          "height": 279
        },
        "id": "hvonxIcJTf2g",
        "outputId": "1befcd10-e56e-43b4-fd00-9551756340ee"
      },
      "source": [
        "fig, ax1 = plt.subplots()\n",
        "plt.hist(dim_tw,color='green')\n",
        "ax1.set_xlabel('Longitud por palabras'), ax1.set_ylabel(\"tweets\")\n",
        "plt.show()"
      ],
      "execution_count": null,
      "outputs": [
        {
          "output_type": "display_data",
          "data": {
            "image/png": "[encoded data removed]",
            "text/plain": [
              "<Figure size 432x288 with 1 Axes>"
            ]
          },
          "metadata": {
            "needs_background": "light"
          }
        }
      ]
    },
    {
      "cell_type": "code",
      "metadata": {
        "colab": {
          "base_uri": "https://localhost:8080/"
        },
        "id": "OXJKCooFUCbm",
        "outputId": "ca11d038-aeb9-41df-e0b4-6d865365efff"
      },
      "source": [
        "dim_tw.describe()"
      ],
      "execution_count": null,
      "outputs": [
        {
          "output_type": "execute_result",
          "data": {
            "text/plain": [
              "count    27480.000000\n",
              "mean         7.416230\n",
              "std          3.983212\n",
              "min          0.000000\n",
              "25%          4.000000\n",
              "50%          7.000000\n",
              "75%         10.000000\n",
              "max         25.000000\n",
              "Name: text, dtype: float64"
            ]
          },
          "metadata": {},
          "execution_count": 14
        }
      ]
    },
    {
      "cell_type": "markdown",
      "metadata": {
        "id": "YjKkEpqHvGkG"
      },
      "source": [
        "#Tokenización"
      ]
    },
    {
      "cell_type": "code",
      "metadata": {
        "id": "yrel7Tn4wBZV"
      },
      "source": [
        "tokenizer = Tokenizer(num_words=12000)\n",
        "tokenizer.fit_on_texts(text)\n",
        "sequences = tokenizer.texts_to_sequences(text)"
      ],
      "execution_count": null,
      "outputs": []
    },
    {
      "cell_type": "markdown",
      "metadata": {
        "id": "_Wv1hRAGwVto"
      },
      "source": [
        "Se crea un objeto tokenizer para un diccionario de 12000 palabras, luego se entrena el objeto con los tweets que debemos clasificar creando un vocabulario interno para posteriormente asignarles un valor entero a cada palabra, es decir un índice."
      ]
    },
    {
      "cell_type": "code",
      "metadata": {
        "colab": {
          "base_uri": "https://localhost:8080/"
        },
        "id": "9icgVhbjHVS9",
        "outputId": "5a3b677d-c27f-49ef-c7ca-3a1c7505fdb9"
      },
      "source": [
        "word_index = tokenizer.word_index\n",
        "print('Found %s unique tokens.' % len(word_index))"
      ],
      "execution_count": null,
      "outputs": [
        {
          "output_type": "stream",
          "name": "stdout",
          "text": [
            "Found 28612 unique tokens.\n"
          ]
        }
      ]
    },
    {
      "cell_type": "code",
      "metadata": {
        "id": "rt27v-e5TrQD"
      },
      "source": [
        "data = pad_sequences(sequences, maxlen=max(dim_tw))"
      ],
      "execution_count": null,
      "outputs": []
    },
    {
      "cell_type": "code",
      "metadata": {
        "colab": {
          "base_uri": "https://localhost:8080/"
        },
        "id": "tOMgTeNuxM60",
        "outputId": "3c7fb4ab-b240-402f-a7ce-674780a3a891"
      },
      "source": [
        "data.shape"
      ],
      "execution_count": null,
      "outputs": [
        {
          "output_type": "execute_result",
          "data": {
            "text/plain": [
              "(27480, 25)"
            ]
          },
          "metadata": {},
          "execution_count": 18
        }
      ]
    },
    {
      "cell_type": "markdown",
      "metadata": {
        "id": "0_K53Nt1xAx9"
      },
      "source": [
        "el ndarray Data contiene 27480 vectores de longitud de 25 elementos, configurados de esta forma según el análisis anterior sobre la longitud máxima de un Tweet, el cual provee que la máxima longitud es de 25 palabras"
      ]
    },
    {
      "cell_type": "code",
      "metadata": {
        "id": "X_YRfFx1cOKe"
      },
      "source": [
        "labels1 = {\"sentiment\": {\"neutral\":0,\"positive\":1,\"negative\":2}}"
      ],
      "execution_count": null,
      "outputs": []
    },
    {
      "cell_type": "code",
      "metadata": {
        "id": "pQkPReFDctpe"
      },
      "source": [
        "df_train = df_train.replace(labels1)\n",
        "labels = df_train['sentiment']\n",
        "#labels\n",
        "labels = to_categorical(labels)"
      ],
      "execution_count": null,
      "outputs": []
    },
    {
      "cell_type": "code",
      "metadata": {
        "colab": {
          "base_uri": "https://localhost:8080/"
        },
        "id": "bv_2n_PSDCX-",
        "outputId": "a540fddc-7798-4d70-b532-950f3197196b"
      },
      "source": [
        "print('Shape of data tensor:', data.shape)\n",
        "print('Shape of label label:', labels.shape)"
      ],
      "execution_count": null,
      "outputs": [
        {
          "output_type": "stream",
          "name": "stdout",
          "text": [
            "Shape of data tensor: (27480, 25)\n",
            "Shape of label label: (27480, 3)\n"
          ]
        }
      ]
    },
    {
      "cell_type": "markdown",
      "metadata": {
        "id": "yJ5kMxX8Kx08"
      },
      "source": [
        "#Split de la data"
      ]
    },
    {
      "cell_type": "markdown",
      "metadata": {
        "id": "F-rx0b5Ex9ju"
      },
      "source": [
        "Se divide el dataset en los conjuntos de entrenamiento, validación y test"
      ]
    },
    {
      "cell_type": "code",
      "metadata": {
        "id": "eGmOW7aBFp4e",
        "colab": {
          "base_uri": "https://localhost:8080/"
        },
        "outputId": "2bb443cc-13ad-4074-d43e-c6179fa87e3c"
      },
      "source": [
        "X_train,x_test,Y_train,y_test = train_test_split(data,labels, test_size=0.15, random_state=42)\n",
        "x_train,x_val,y_train,y_val = train_test_split(X_train,Y_train, test_size=0.1, random_state=42)\n",
        "x_train.shape, y_train.shape,x_val.shape, y_val.shape, x_test.shape, y_test.shape"
      ],
      "execution_count": null,
      "outputs": [
        {
          "output_type": "execute_result",
          "data": {
            "text/plain": [
              "((21022, 25), (21022, 3), (2336, 25), (2336, 3), (4122, 25), (4122, 3))"
            ]
          },
          "metadata": {},
          "execution_count": 22
        }
      ]
    },
    {
      "cell_type": "markdown",
      "metadata": {
        "id": "MfG9A0_ZvQfu"
      },
      "source": [
        "#Importar el archivo Glove de dimensión 100"
      ]
    },
    {
      "cell_type": "markdown",
      "metadata": {
        "id": "4-zlRaCovWGV"
      },
      "source": [
        "Debido a que pesa más de 400 Mb se pondrá el enlace donde se puede descargar para uso del lector, se debe establecer la variable Path con la ruta donde el archivo esté puesto.\n",
        "https://nlp.stanford.edu/projects/glove/"
      ]
    },
    {
      "cell_type": "code",
      "metadata": {
        "colab": {
          "base_uri": "https://localhost:8080/"
        },
        "id": "iXEPwiz5tP8A",
        "outputId": "5348d720-6278-4081-e07a-0804a5a8bf10"
      },
      "source": [
        "from google.colab import drive\n",
        "drive.mount('/content/drive')"
      ],
      "execution_count": null,
      "outputs": [
        {
          "output_type": "stream",
          "name": "stdout",
          "text": [
            "Mounted at /content/drive\n"
          ]
        }
      ]
    },
    {
      "cell_type": "code",
      "metadata": {
        "id": "irkehPMbGfVU"
      },
      "source": [
        "path = '/content/drive/MyDrive/'"
      ],
      "execution_count": null,
      "outputs": []
    },
    {
      "cell_type": "markdown",
      "metadata": {
        "id": "tuVAlxQ9z4zR"
      },
      "source": [
        "Se escoge un word embedding de dimensión 100 para luego generar un diccionario, esto solo para guardar en memoria las palabras con sus respectivos coeficientes"
      ]
    },
    {
      "cell_type": "code",
      "metadata": {
        "colab": {
          "base_uri": "https://localhost:8080/"
        },
        "id": "kU6JrVBfMize",
        "outputId": "66e28c29-2c3e-45f0-c7db-9fbaf10e0232"
      },
      "source": [
        "embeddings_index = {}\n",
        "f = open(os.path.join(path, 'glove.6B.100d.txt'))\n",
        "for line in f:\n",
        "    values = line.split()\n",
        "    word = values[0]\n",
        "    coefs = np.asarray(values[1:], dtype='float32')\n",
        "    embeddings_index[word] = coefs\n",
        "f.close()\n",
        "\n",
        "print('Found %s word vectors.' % len(embeddings_index))"
      ],
      "execution_count": null,
      "outputs": [
        {
          "output_type": "stream",
          "name": "stdout",
          "text": [
            "Found 400000 word vectors.\n"
          ]
        }
      ]
    },
    {
      "cell_type": "markdown",
      "metadata": {
        "id": "4iSJ7bZa1BC4"
      },
      "source": [
        "Se genera la matriz de embedimiento tomando el orden de las palabras según nuestro word_index, luego se parametriza con número de filas igual al tamaño del word_index + 1 fila (utilizada para el Padding) y con 100 columnas como la dimensión del word embedding que corresponde a los coeficientes de cada palabra"
      ]
    },
    {
      "cell_type": "code",
      "metadata": {
        "id": "EViEUlNrrqHY"
      },
      "source": [
        "embedding_matrix = np.zeros((tokenizer.num_words + 1, 100))\n",
        "for i in range(1,tokenizer.num_words):\n",
        "  word = tokenizer.index_word[i]\n",
        "  embedding_vector = embeddings_index.get(word)\n",
        "  if embedding_vector is not None:\n",
        "        # words not found in embedding index will be all-zeros.\n",
        "      embedding_matrix[i] = embedding_vector\n",
        "  else:\n",
        "      embedding_matrix[i] = embeddings_index.get('unk')"
      ],
      "execution_count": null,
      "outputs": []
    },
    {
      "cell_type": "code",
      "metadata": {
        "colab": {
          "base_uri": "https://localhost:8080/"
        },
        "id": "gvzJZsMTO1FH",
        "outputId": "30ab2e20-4fed-4784-dfb4-84cb6080a1e5"
      },
      "source": [
        "embedding_matrix.shape"
      ],
      "execution_count": null,
      "outputs": [
        {
          "output_type": "execute_result",
          "data": {
            "text/plain": [
              "(12001, 100)"
            ]
          },
          "metadata": {},
          "execution_count": 27
        }
      ]
    },
    {
      "cell_type": "markdown",
      "metadata": {
        "id": "go0wraxL4Div"
      },
      "source": [
        "Se configura la capa de embedding tomando el parámetro \"Input_dim\" como el número de filas en la matriz, \"output\"_dim como la dimensión del embedding utilizado o las columnas de la matriz y input_length como el tamaño de la entrada de la variable \"data\" que en este caso es 30"
      ]
    },
    {
      "cell_type": "code",
      "metadata": {
        "id": "MnUQY04TO23-"
      },
      "source": [
        "from keras.layers import Embedding\n",
        "\n",
        "embedding_layer = Embedding(tokenizer.num_words + 1,\n",
        "                            100,\n",
        "                            weights=[embedding_matrix],\n",
        "                            input_length=25,\n",
        "                            trainable=False,\n",
        "                            mask_zero=True)"
      ],
      "execution_count": null,
      "outputs": []
    },
    {
      "cell_type": "code",
      "metadata": {
        "id": "fiDG9c-0T_wO"
      },
      "source": [
        "from tensorflow.keras.layers import Dense, Flatten, Conv2D, Conv1D, MaxPooling1D, LSTM\n",
        "from tensorflow.keras import Model,Input"
      ],
      "execution_count": null,
      "outputs": []
    },
    {
      "cell_type": "code",
      "metadata": {
        "id": "qbqAVLSD6Bb_"
      },
      "source": [
        "from numpy import array\n",
        "from numpy import asarray\n",
        "from numpy import zeros\n",
        "from keras.preprocessing.text import Tokenizer\n",
        "from keras.preprocessing.sequence import pad_sequences\n",
        "from keras.models import Sequential\n",
        "from keras.layers import Dense, Dropout, Bidirectional\n",
        "from keras.layers import Flatten\n",
        "from keras.layers import Embedding"
      ],
      "execution_count": null,
      "outputs": []
    },
    {
      "cell_type": "code",
      "metadata": {
        "id": "KIrzIHYhkedL"
      },
      "source": [
        "from tensorflow.compat.v1 import ConfigProto\n",
        "from tensorflow.compat.v1 import InteractiveSession\n",
        "\n",
        "config = ConfigProto()\n",
        "config.gpu_options.allow_growth = True\n",
        "session = InteractiveSession(config=config)"
      ],
      "execution_count": null,
      "outputs": []
    },
    {
      "cell_type": "markdown",
      "metadata": {
        "id": "ZXJJOGeUwB8H"
      },
      "source": [
        "Se definen las métricas para ambos modelos"
      ]
    },
    {
      "cell_type": "code",
      "metadata": {
        "id": "ChTFEx8ZTRdP"
      },
      "source": [
        "from keras import backend as K\n",
        "\n",
        "def recall_m(y_true, y_pred):\n",
        "    true_positives = K.sum(K.round(K.clip(y_true * y_pred, 0, 1)))\n",
        "    possible_positives = K.sum(K.round(K.clip(y_true, 0, 1)))\n",
        "    recall = true_positives / (possible_positives + K.epsilon())\n",
        "    return recall\n",
        "\n",
        "def precision_m(y_true, y_pred):\n",
        "    true_positives = K.sum(K.round(K.clip(y_true * y_pred, 0, 1)))\n",
        "    predicted_positives = K.sum(K.round(K.clip(y_pred, 0, 1)))\n",
        "    precision = true_positives / (predicted_positives + K.epsilon())\n",
        "    return precision\n",
        "\n",
        "def f1_m(y_true, y_pred):\n",
        "    precision = precision_m(y_true, y_pred)\n",
        "    recall = recall_m(y_true, y_pred)\n",
        "    return 2*((precision*recall)/(precision+recall+K.epsilon()))"
      ],
      "execution_count": null,
      "outputs": []
    },
    {
      "cell_type": "markdown",
      "metadata": {
        "id": "RzhhEDTVT0Bb"
      },
      "source": [
        "##Modelo RNN"
      ]
    },
    {
      "cell_type": "code",
      "metadata": {
        "id": "6kw_Hs-_5oIf"
      },
      "source": [
        "model1 = Sequential()\n",
        "e = embedding_layer\n",
        "model1.add(e)\n",
        "model1.add(Bidirectional(LSTM(50)))\n",
        "model1.add(Dense(128, activation='relu'))\n",
        "model1.add(Dropout(0.2))\n",
        "model1.add(Dense(3, activation='softmax'))\n",
        "# Compilar el modelo\n",
        "model1.compile(optimizer='adam', loss='categorical_crossentropy', metrics=['accuracy',recall_m,f1_m,tensorflow.keras.metrics.Precision()])\n",
        "# resumen del modelo\n",
        "print(model1.summary())\n",
        "# Entrenamiento del modelo\n",
        "model1.fit(x_train, y_train, validation_data=(x_val, y_val), epochs=10, verbose=2)\n",
        "# evaluación del modelo\n",
        "loss, accuracy, recall, F1, Precision = model1.evaluate(x_test,y_test , verbose=0,batch_size=32)\n",
        "print('Accuracy: %f' % (accuracy*100))\n",
        "print('recall: %f' % (recall*100))\n",
        "print('Precision: %f' % (Precision*100))\n",
        "print('F1: %f' % (F1*100))"
      ],
      "execution_count": null,
      "outputs": []
    },
    {
      "cell_type": "code",
      "metadata": {
        "colab": {
          "base_uri": "https://localhost:8080/",
          "height": 644
        },
        "id": "ljpA20MeWnDc",
        "outputId": "e8c48705-686f-45be-b598-4991277c93f4"
      },
      "source": [
        "tensorflow.keras.utils.plot_model(model1, \"rnn_model_sentiment.png\",show_shapes=True, show_dtype=True,\n",
        "    show_layer_names=True, rankdir='TB', expand_nested=True, dpi=96,\n",
        "    layer_range=None)"
      ],
      "execution_count": null,
      "outputs": [
        {
          "output_type": "execute_result",
          "data": {
            "image/png": "[encoded data removed]",
            "text/plain": [
              "<IPython.core.display.Image object>"
            ]
          },
          "metadata": {},
          "execution_count": 57
        }
      ]
    },
    {
      "cell_type": "markdown",
      "metadata": {
        "id": "yVxr6VypT3xx"
      },
      "source": [
        "##Modelo CNN\n"
      ]
    },
    {
      "cell_type": "code",
      "metadata": {
        "id": "1avHUmpRC58b"
      },
      "source": [
        "from tensorflow.keras import callbacks"
      ],
      "execution_count": null,
      "outputs": []
    },
    {
      "cell_type": "code",
      "metadata": {
        "id": "9QZpZbkk7xER",
        "colab": {
          "base_uri": "https://localhost:8080/",
          "height": 555
        },
        "outputId": "e0e29d4a-b126-4958-f3f1-587fed5f775a"
      },
      "source": [
        "sequence_input = Input(shape=(25,), dtype='int32')\n",
        "embedded_sequences = embedding_layer(sequence_input)\n",
        "x = Conv1D(128, 5, activation='relu',padding = 'same')(embedded_sequences)\n",
        "x = MaxPooling1D(2)(x)\n",
        "\n",
        "x = Conv1D(128, 5, activation='relu')(x)\n",
        "x = MaxPooling1D(8)(x)\n",
        "\n",
        "\"\"\"\n",
        "x = Conv1D(128, 2, activation='relu')(x)\n",
        "x = MaxPooling1D(2)(x)  # global max pooling\n",
        "\"\"\"\n",
        "x = Flatten()(x)\n",
        "#x = Dense(128, activation='relu')(x)\n",
        "x = Dense(128, activation='relu')(x)\n",
        "x = Dropout(0.32)(x)\n",
        "preds = Dense(3, activation='softmax')(x)\n",
        "early = tf.keras.callbacks.EarlyStopping(monitor='loss', patience=1)\n",
        "model = Model(sequence_input, preds)\n",
        "model.compile(loss='categorical_crossentropy',\n",
        "              optimizer='rmsprop',\n",
        "              #metrics=['acc'])\n",
        "              metrics=['accuracy',recall_m,f1_m])\n",
        "model.summary()\n",
        "\"\"\"\n",
        "model.fit(x_train, y_train, validation_data=(x_val, y_val),\n",
        "          epochs=5, batch_size=128,callbacks=[early])\n",
        "loss, accuracy,recall, F1 = model.evaluate(x_test,y_test , verbose=0,batch_size=128)\n",
        "print('Accuracy: %f' % (accuracy*100))\n",
        "print('recall: %f' % (F1*100))\n",
        "print('F1: %f' % (F1*100))\n",
        "\"\"\""
      ],
      "execution_count": null,
      "outputs": [
        {
          "output_type": "stream",
          "name": "stdout",
          "text": [
            "Model: \"model_3\"\n",
            "_________________________________________________________________\n",
            "Layer (type)                 Output Shape              Param #   \n",
            "=================================================================\n",
            "input_4 (InputLayer)         [(None, 25)]              0         \n",
            "_________________________________________________________________\n",
            "embedding (Embedding)        (None, 25, 100)           1200100   \n",
            "_________________________________________________________________\n",
            "conv1d_6 (Conv1D)            (None, 25, 128)           64128     \n",
            "_________________________________________________________________\n",
            "max_pooling1d_6 (MaxPooling1 (None, 12, 128)           0         \n",
            "_________________________________________________________________\n",
            "conv1d_7 (Conv1D)            (None, 8, 128)            82048     \n",
            "_________________________________________________________________\n",
            "max_pooling1d_7 (MaxPooling1 (None, 1, 128)            0         \n",
            "_________________________________________________________________\n",
            "flatten_3 (Flatten)          (None, 128)               0         \n",
            "_________________________________________________________________\n",
            "dense_6 (Dense)              (None, 128)               16512     \n",
            "_________________________________________________________________\n",
            "dropout_2 (Dropout)          (None, 128)               0         \n",
            "_________________________________________________________________\n",
            "dense_7 (Dense)              (None, 3)                 387       \n",
            "=================================================================\n",
            "Total params: 1,363,175\n",
            "Trainable params: 163,075\n",
            "Non-trainable params: 1,200,100\n",
            "_________________________________________________________________\n"
          ]
        },
        {
          "output_type": "execute_result",
          "data": {
            "application/vnd.google.colaboratory.intrinsic+json": {
              "type": "string"
            },
            "text/plain": [
              "\"\\nmodel.fit(x_train, y_train, validation_data=(x_val, y_val),\\n          epochs=5, batch_size=128,callbacks=[early])\\nloss, accuracy,recall, F1 = model.evaluate(x_test,y_test , verbose=0,batch_size=128)\\nprint('Accuracy: %f' % (accuracy*100))\\nprint('recall: %f' % (F1*100))\\nprint('F1: %f' % (F1*100))\\n\""
            ]
          },
          "metadata": {},
          "execution_count": 43
        }
      ]
    },
    {
      "cell_type": "code",
      "metadata": {
        "colab": {
          "base_uri": "https://localhost:8080/"
        },
        "id": "2ReiqSqIg0Az",
        "outputId": "e5c6852f-53ea-41e9-979f-c06a27e31fcb"
      },
      "source": [
        "model.fit(x_train, y_train, validation_data=(x_val, y_val),\n",
        "          epochs=10, batch_size=32,callbacks=[early])\n",
        "loss, accuracy,recall, F1 = model.evaluate(x_test,y_test , verbose=0,batch_size=128)\n",
        "print('Accuracy: %f' % (accuracy*100))\n",
        "print('recall: %f' % (recall*100))\n",
        "print('F1: %f' % (F1*100))"
      ],
      "execution_count": null,
      "outputs": [
        {
          "output_type": "stream",
          "name": "stdout",
          "text": [
            "Epoch 1/10\n",
            "657/657 [==============================] - 38s 56ms/step - loss: 0.8373 - accuracy: 0.6289 - recall_m: 0.5033 - f1_m: 0.5727 - val_loss: 0.7911 - val_accuracy: 0.6640 - val_recall_m: 0.5608 - val_f1_m: 0.6292\n",
            "Epoch 2/10\n",
            "657/657 [==============================] - 37s 56ms/step - loss: 0.6924 - accuracy: 0.7163 - recall_m: 0.6451 - f1_m: 0.6977 - val_loss: 0.7602 - val_accuracy: 0.6836 - val_recall_m: 0.5993 - val_f1_m: 0.6570\n",
            "Epoch 3/10\n",
            "657/657 [==============================] - 37s 57ms/step - loss: 0.5905 - accuracy: 0.7637 - recall_m: 0.7140 - f1_m: 0.7539 - val_loss: 0.8394 - val_accuracy: 0.6772 - val_recall_m: 0.6096 - val_f1_m: 0.6563\n",
            "Epoch 4/10\n",
            "657/657 [==============================] - 38s 57ms/step - loss: 0.4856 - accuracy: 0.8090 - recall_m: 0.7775 - f1_m: 0.8061 - val_loss: 1.0027 - val_accuracy: 0.6717 - val_recall_m: 0.6348 - val_f1_m: 0.6644\n",
            "Epoch 5/10\n",
            "657/657 [==============================] - 37s 57ms/step - loss: 0.4039 - accuracy: 0.8467 - recall_m: 0.8234 - f1_m: 0.8447 - val_loss: 1.2347 - val_accuracy: 0.6811 - val_recall_m: 0.6652 - val_f1_m: 0.6779\n",
            "Epoch 6/10\n",
            "657/657 [==============================] - 37s 56ms/step - loss: 0.3380 - accuracy: 0.8739 - recall_m: 0.8570 - f1_m: 0.8723 - val_loss: 1.2672 - val_accuracy: 0.6708 - val_recall_m: 0.6524 - val_f1_m: 0.6677\n",
            "Epoch 7/10\n",
            "657/657 [==============================] - 37s 56ms/step - loss: 0.2857 - accuracy: 0.8979 - recall_m: 0.8845 - f1_m: 0.8964 - val_loss: 1.5400 - val_accuracy: 0.6644 - val_recall_m: 0.6511 - val_f1_m: 0.6616\n",
            "Epoch 8/10\n",
            "657/657 [==============================] - 37s 57ms/step - loss: 0.2486 - accuracy: 0.9136 - recall_m: 0.9044 - f1_m: 0.9133 - val_loss: 1.6463 - val_accuracy: 0.6678 - val_recall_m: 0.6601 - val_f1_m: 0.6669\n",
            "Epoch 9/10\n",
            "657/657 [==============================] - 37s 57ms/step - loss: 0.2126 - accuracy: 0.9283 - recall_m: 0.9219 - f1_m: 0.9287 - val_loss: 2.2841 - val_accuracy: 0.6494 - val_recall_m: 0.6391 - val_f1_m: 0.6488\n",
            "Epoch 10/10\n",
            "657/657 [==============================] - 37s 56ms/step - loss: 0.1893 - accuracy: 0.9371 - recall_m: 0.9308 - f1_m: 0.9365 - val_loss: 2.1156 - val_accuracy: 0.6618 - val_recall_m: 0.6550 - val_f1_m: 0.6615\n",
            "Accuracy: 65.866083\n",
            "recall: 64.883816\n",
            "F1: 65.671211\n"
          ]
        }
      ]
    },
    {
      "cell_type": "code",
      "metadata": {
        "colab": {
          "base_uri": "https://localhost:8080/",
          "height": 1000
        },
        "id": "BasPk_LFVqZD",
        "outputId": "360840b4-16eb-4bd5-f5fe-7e3a32d9099a"
      },
      "source": [
        "tensorflow.keras.utils.plot_model(model, \"cnn_model_sentiment.png\",show_shapes=True, show_dtype=True,\n",
        "    show_layer_names=True, rankdir='TB', expand_nested=True, dpi=96,\n",
        "    layer_range=None)"
      ],
      "execution_count": null,
      "outputs": [
        {
          "output_type": "execute_result",
          "data": {
            "image/png": "[encoded data removed]",
            "text/plain": [
              "<IPython.core.display.Image object>"
            ]
          },
          "metadata": {},
          "execution_count": 44
        }
      ]
    },
    {
      "cell_type": "markdown",
      "metadata": {
        "id": "xr4ROoojTNnE"
      },
      "source": [
        "##Se va utilizar el método de Girdsearch con validación cruzada para la búsqueda de los mejores hiperparámetros"
      ]
    },
    {
      "cell_type": "code",
      "metadata": {
        "id": "40NoyivKmiiZ"
      },
      "source": [
        "from sklearn.model_selection import StratifiedKFold,StratifiedShuffleSplit, GridSearchCV"
      ],
      "execution_count": null,
      "outputs": []
    },
    {
      "cell_type": "code",
      "metadata": {
        "id": "EQcKAuwsOeti"
      },
      "source": [
        "skf = StratifiedShuffleSplit(n_splits=5,test_size=0.15,random_state=777)"
      ],
      "execution_count": null,
      "outputs": []
    },
    {
      "cell_type": "code",
      "metadata": {
        "id": "8GmKx3pecV9D"
      },
      "source": [
        "from tensorflow.keras.wrappers.scikit_learn import KerasClassifier"
      ],
      "execution_count": null,
      "outputs": []
    },
    {
      "cell_type": "code",
      "metadata": {
        "id": "cFRBk5Q5xjgM"
      },
      "source": [
        "def algorithm_pipeline(X_train, x_test, Y_train, y_test, \n",
        "                       model, param_grid, cv=5, scoring_fit='neg_mean_squared_error',\n",
        "                       do_probabilities = False):\n",
        "    gs = GridSearchCV(\n",
        "        estimator=model,\n",
        "        param_grid=param_grid, \n",
        "        cv=cv, \n",
        "        n_jobs=-1, \n",
        "        scoring=scoring_fit,\n",
        "        verbose=3\n",
        "    )\n",
        "    fitted_model = gs.fit(X_train, Y_train)\n",
        "    \n",
        "    if do_probabilities:\n",
        "      pred = fitted_model.predict_proba(x_test)\n",
        "    else:\n",
        "      pred = fitted_model.predict(x_test)\n",
        "    \n",
        "    return fitted_model, pred"
      ],
      "execution_count": null,
      "outputs": []
    },
    {
      "cell_type": "code",
      "metadata": {
        "id": "S-KiO1QuUWM9"
      },
      "source": [
        "def build_lstm(activation = 'relu',\n",
        "              dropout_rate = 0.2,\n",
        "              optimizer = 'Adam', neurons = 50):\n",
        "    model = Sequential()\n",
        "    \n",
        "    e = embedding_layer\n",
        "    model.add(e)\n",
        "    model.add(LSTM(neurons))\n",
        "    #model.add(Dense(128, activation='relu'))\n",
        "    model.add(Dropout(dropout_rate))\n",
        "    model.add(Dense(3, activation='softmax'))\n",
        "\n",
        "    \n",
        "    model.compile(\n",
        "        loss='categorical_crossentropy', \n",
        "        optimizer=optimizer, \n",
        "        metrics=['accuracy', recall_m, f1_m]\n",
        "    )\n",
        "    \n",
        "    return model"
      ],
      "execution_count": null,
      "outputs": []
    },
    {
      "cell_type": "code",
      "metadata": {
        "id": "7xV49DH4lFwk"
      },
      "source": [
        "def build_cnn(activation = 'relu',\n",
        "              dropout_rate = 0.2,\n",
        "              optimizer = 'Adam', neurons = 128):\n",
        "    model = Sequential()\n",
        "\n",
        "    e_l = embedding_layer\n",
        "    model.add(e_l)\n",
        "    model.add(Conv1D(neurons, kernel_size=(5),\n",
        "              activation=activation,padding='same'))\n",
        "    model.add(MaxPooling1D(2))\n",
        "    model.add(Conv1D(neurons,5, activation=activation))\n",
        "    model.add(MaxPooling1D(10))\n",
        "    model.add(Dropout(dropout_rate))\n",
        "    model.add(Flatten())\n",
        "    model.add(Dense(neurons, activation=activation))\n",
        "    model.add(Dropout(dropout_rate))\n",
        "    model.add(Dense(3, activation='softmax'))\n",
        "    \n",
        "    model.compile(\n",
        "        loss='categorical_crossentropy', \n",
        "        optimizer=optimizer, \n",
        "        metrics=['accuracy',recall_m, f1_m]\n",
        "    )\n",
        "    \n",
        "    return model"
      ],
      "execution_count": null,
      "outputs": []
    },
    {
      "cell_type": "markdown",
      "metadata": {
        "id": "OFLeXPwmpQTR"
      },
      "source": [
        "##GridSearch Modelo 1"
      ]
    },
    {
      "cell_type": "code",
      "metadata": {
        "id": "4MkQIgq1V4Ru"
      },
      "source": [
        "param_grid = {\n",
        "              'epochs':[3,5,7,10],\n",
        "              'batch_size':[32,128],\n",
        "              #'neurons' : [50,70,90],\n",
        "              #'batch_size' :          [32, 128],\n",
        "              #'optimizer' :           ['Adam', 'Nadam'],\n",
        "              #'dropout_rate' :        [0.2, 0.3],\n",
        "              #'activation' :          ['relu', 'elu']\n",
        "             }"
      ],
      "execution_count": null,
      "outputs": []
    },
    {
      "cell_type": "code",
      "metadata": {
        "colab": {
          "base_uri": "https://localhost:8080/"
        },
        "id": "zJmJZtOw0umy",
        "outputId": "6a0b61d8-2583-484c-a580-cda7428ce328"
      },
      "source": [
        "model = KerasClassifier(build_fn = build_lstm, verbose=2)\n",
        "\n",
        "model, pred = algorithm_pipeline(X_train, x_test, Y_train, y_test, model, \n",
        "                                        param_grid, cv=3, scoring_fit='neg_log_loss')\n",
        "\n",
        "print(model.best_score_)\n",
        "print(model.best_params_)\n",
        "print(model.cv_results_)"
      ],
      "execution_count": null,
      "outputs": [
        {
          "output_type": "stream",
          "name": "stdout",
          "text": [
            "Fitting 3 folds for each of 8 candidates, totalling 24 fits\n"
          ]
        },
        {
          "output_type": "stream",
          "name": "stderr",
          "text": [
            "[Parallel(n_jobs=-1)]: Using backend LokyBackend with 2 concurrent workers.\n",
            "[Parallel(n_jobs=-1)]: Done  24 out of  24 | elapsed: 101.5min finished\n"
          ]
        },
        {
          "output_type": "stream",
          "name": "stdout",
          "text": [
            "Epoch 1/7\n",
            "730/730 - 90s - loss: 0.8540 - accuracy: 0.6180 - recall_m: 0.4567 - f1_m: 0.5309\n",
            "Epoch 2/7\n",
            "730/730 - 87s - loss: 0.7410 - accuracy: 0.6915 - recall_m: 0.6133 - f1_m: 0.6676\n",
            "Epoch 3/7\n",
            "730/730 - 87s - loss: 0.7024 - accuracy: 0.7072 - recall_m: 0.6403 - f1_m: 0.6898\n",
            "Epoch 4/7\n",
            "730/730 - 88s - loss: 0.6763 - accuracy: 0.7211 - recall_m: 0.6579 - f1_m: 0.7047\n",
            "Epoch 5/7\n",
            "730/730 - 89s - loss: 0.6557 - accuracy: 0.7308 - recall_m: 0.6743 - f1_m: 0.7178\n",
            "Epoch 6/7\n",
            "730/730 - 88s - loss: 0.6336 - accuracy: 0.7401 - recall_m: 0.6846 - f1_m: 0.7268\n",
            "Epoch 7/7\n",
            "730/730 - 89s - loss: 0.6162 - accuracy: 0.7499 - recall_m: 0.6965 - f1_m: 0.7368\n",
            "-0.7074502016790851\n",
            "{'batch_size': 32, 'epochs': 7}\n",
            "{'mean_fit_time': array([ 389.39147806,  634.10828296,  901.1001672 , 1246.140215  ,\n",
            "        110.62938476,  184.59631729,  224.92619586,  271.42662398]), 'std_fit_time': array([ 1.20609149,  5.73239202, 14.37800483, 42.14028923,  0.90807928,\n",
            "       19.52337654, 35.24762464, 54.58723497]), 'mean_score_time': array([5.70595797, 7.35997915, 7.42867057, 8.45600986, 7.20876765,\n",
            "       7.02379878, 4.73158312, 6.24716489]), 'std_score_time': array([1.71978069, 0.70755231, 0.12165034, 0.77551051, 0.86923228,\n",
            "       0.87159056, 2.14460125, 2.33149324]), 'param_batch_size': masked_array(data=[32, 32, 32, 32, 128, 128, 128, 128],\n",
            "             mask=[False, False, False, False, False, False, False, False],\n",
            "       fill_value='?',\n",
            "            dtype=object), 'param_epochs': masked_array(data=[3, 5, 7, 10, 3, 5, 7, 10],\n",
            "             mask=[False, False, False, False, False, False, False, False],\n",
            "       fill_value='?',\n",
            "            dtype=object), 'params': [{'batch_size': 32, 'epochs': 3}, {'batch_size': 32, 'epochs': 5}, {'batch_size': 32, 'epochs': 7}, {'batch_size': 32, 'epochs': 10}, {'batch_size': 128, 'epochs': 3}, {'batch_size': 128, 'epochs': 5}, {'batch_size': 128, 'epochs': 7}, {'batch_size': 128, 'epochs': 10}], 'split0_test_score': array([-0.73507157, -0.71442873, -0.71194403, -0.7249427 , -0.77351579,\n",
            "       -0.73986761, -0.72731478, -0.72003998]), 'split1_test_score': array([-0.73485302, -0.72476175, -0.70986492, -0.71915626, -0.76821534,\n",
            "       -0.74347318, -0.72918379, -0.72697094]), 'split2_test_score': array([-0.71709591, -0.69903593, -0.70054166, -0.71328569, -0.76487956,\n",
            "       -0.7411365 , -0.7176244 , -0.72640861]), 'mean_test_score': array([-0.72900684, -0.71274213, -0.7074502 , -0.71912822, -0.76887023,\n",
            "       -0.74149243, -0.72470766, -0.72447318]), 'std_test_score': array([0.00842277, 0.01057002, 0.00495827, 0.004759  , 0.00355601,\n",
            "       0.00149333, 0.00506641, 0.00314314]), 'rank_test_score': array([6, 2, 1, 3, 8, 7, 5, 4], dtype=int32)}\n"
          ]
        }
      ]
    },
    {
      "cell_type": "markdown",
      "metadata": {
        "id": "y7yvnFN8pUn1"
      },
      "source": [
        "#GridSearch Modelo2"
      ]
    },
    {
      "cell_type": "code",
      "metadata": {
        "id": "P7bwMEIco4a7"
      },
      "source": [
        "param_grid = {\n",
        "              'epochs':[3,5,10],\n",
        "              'batch_size':[32,128],\n",
        "              'neurons' :[128,256,512],\n",
        "              #'epochs' :              [100,150,200],\n",
        "              #'batch_size' :          [32, 128],\n",
        "              #'optimizer':['Adam', 'Nadam'],\n",
        "              #'dropout_rate':[0.2, 0.3]\n",
        "              #'activation' :          ['relu', 'elu']\n",
        "             }"
      ],
      "execution_count": null,
      "outputs": []
    },
    {
      "cell_type": "code",
      "metadata": {
        "colab": {
          "base_uri": "https://localhost:8080/"
        },
        "id": "X2W1t9STo9k0",
        "outputId": "c2f88739-106c-43fd-9df7-d2ea29394b4f"
      },
      "source": [
        "model = KerasClassifier(build_fn= build_cnn, verbose=2)\n",
        "\n",
        "model, pred = algorithm_pipeline(X_train, x_test, Y_train, y_test, model, \n",
        "                                        param_grid, cv=3, scoring_fit='neg_log_loss')\n",
        "\n",
        "print(model.best_score_)\n",
        "print(model.best_params_)"
      ],
      "execution_count": null,
      "outputs": [
        {
          "name": "stdout",
          "output_type": "stream",
          "text": [
            "Fitting 3 folds for each of 18 candidates, totalling 54 fits\n"
          ]
        },
        {
          "name": "stderr",
          "output_type": "stream",
          "text": [
            "[Parallel(n_jobs=-1)]: Using backend LokyBackend with 2 concurrent workers.\n",
            "[Parallel(n_jobs=-1)]: Done  37 tasks      | elapsed:  9.0min\n",
            "[Parallel(n_jobs=-1)]: Done  54 out of  54 | elapsed: 11.2min finished\n"
          ]
        },
        {
          "name": "stdout",
          "output_type": "stream",
          "text": [
            "Epoch 1/3\n",
            "183/183 - 4s - loss: 0.8647 - accuracy: 0.6005 - recall_m: 0.4480 - f1_m: 0.5226\n",
            "Epoch 2/3\n",
            "183/183 - 2s - loss: 0.7013 - accuracy: 0.7044 - recall_m: 0.6313 - f1_m: 0.6861\n",
            "Epoch 3/3\n",
            "183/183 - 2s - loss: 0.6192 - accuracy: 0.7458 - recall_m: 0.6898 - f1_m: 0.7340\n",
            "-0.7308809431723922\n",
            "{'batch_size': 128, 'epochs': 3, 'neurons': 256}\n"
          ]
        }
      ]
    }
  ]
}