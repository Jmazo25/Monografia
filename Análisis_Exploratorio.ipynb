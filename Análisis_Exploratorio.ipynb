{
  "nbformat": 4,
  "nbformat_minor": 0,
  "metadata": {
    "colab": {
      "name": "Análisis_Exploratorio",
      "provenance": [],
      "collapsed_sections": []
    },
    "kernelspec": {
      "name": "python3",
      "display_name": "Python 3"
    },
    "language_info": {
      "name": "python"
    }
  },
  "cells": [
    {
      "cell_type": "markdown",
      "metadata": {
        "id": "yzfAxFmB2WQ6"
      },
      "source": [
        "#Análisis Exploratorio de la data"
      ]
    },
    {
      "cell_type": "markdown",
      "metadata": {
        "id": "VL0Wls5zmwHz"
      },
      "source": [
        "Se descargaa Sentencepiece"
      ]
    },
    {
      "cell_type": "code",
      "metadata": {
        "colab": {
          "base_uri": "https://localhost:8080/"
        },
        "id": "AztoZ2jmTHIN",
        "outputId": "56eeabb4-2f64-4621-9573-a43cf64b6d7a"
      },
      "source": [
        "pip install sentencepiece"
      ],
      "execution_count": 1,
      "outputs": [
        {
          "output_type": "stream",
          "name": "stdout",
          "text": [
            "Collecting sentencepiece\n",
            "  Downloading sentencepiece-0.1.96-cp37-cp37m-manylinux_2_17_x86_64.manylinux2014_x86_64.whl (1.2 MB)\n",
            "\u001b[K     |████████████████████████████████| 1.2 MB 5.2 MB/s \n",
            "\u001b[?25hInstalling collected packages: sentencepiece\n",
            "Successfully installed sentencepiece-0.1.96\n"
          ]
        }
      ]
    },
    {
      "cell_type": "markdown",
      "metadata": {
        "id": "Gr_eIo2WbUCy"
      },
      "source": [
        "##Nota: \n",
        "Reiniciar el entorno de ejecución antes de continuar"
      ]
    },
    {
      "cell_type": "code",
      "metadata": {
        "id": "DWFYgJsdCW6-"
      },
      "source": [
        "import pandas as pd \n",
        "import numpy as np\n",
        "import matplotlib.pyplot as plt\n",
        "import seaborn as sb"
      ],
      "execution_count": 41,
      "outputs": []
    },
    {
      "cell_type": "code",
      "metadata": {
        "colab": {
          "base_uri": "https://localhost:8080/"
        },
        "id": "9xkasptuTQdO",
        "outputId": "6a3b213c-b5ab-4d7b-f0e6-739288bcf7fc"
      },
      "source": [
        "import re\n",
        "import string\n",
        "import nltk\n",
        "from nltk.corpus import stopwords\n",
        "nltk.download('stopwords')"
      ],
      "execution_count": 2,
      "outputs": [
        {
          "output_type": "stream",
          "name": "stdout",
          "text": [
            "[nltk_data] Downloading package stopwords to /root/nltk_data...\n",
            "[nltk_data]   Unzipping corpora/stopwords.zip.\n"
          ]
        },
        {
          "output_type": "execute_result",
          "data": {
            "text/plain": [
              "True"
            ]
          },
          "metadata": {},
          "execution_count": 2
        }
      ]
    },
    {
      "cell_type": "markdown",
      "metadata": {
        "id": "zrpqaYNg2caR"
      },
      "source": [
        "Se clona el repositorio de git para obtener los archivos csv que contienen los datos"
      ]
    },
    {
      "cell_type": "code",
      "metadata": {
        "colab": {
          "base_uri": "https://localhost:8080/"
        },
        "id": "7QipCO_JCVOJ",
        "outputId": "03043b99-6b25-4bd9-eb4b-00a592e9b634"
      },
      "source": [
        "! git clone --recursive https://github.com/Jmazo25/Monografia.git"
      ],
      "execution_count": 3,
      "outputs": [
        {
          "output_type": "stream",
          "name": "stdout",
          "text": [
            "Cloning into 'Monografia'...\n",
            "remote: Enumerating objects: 5, done.\u001b[K\n",
            "remote: Counting objects: 100% (5/5), done.\u001b[K\n",
            "remote: Compressing objects: 100% (5/5), done.\u001b[K\n",
            "remote: Total 5 (delta 0), reused 0 (delta 0), pack-reused 0\u001b[K\n",
            "Unpacking objects: 100% (5/5), done.\n"
          ]
        }
      ]
    },
    {
      "cell_type": "markdown",
      "metadata": {
        "id": "9lYYu4eE2ly4"
      },
      "source": [
        "Se leen los datasets de entrenamiento y prueba en formato \"csv\" para convertirlos a dataframes"
      ]
    },
    {
      "cell_type": "code",
      "metadata": {
        "id": "2C9Za4Apj89F"
      },
      "source": [
        "train_df = pd.read_csv(\"/content/Monografia/train.csv\")\n",
        "test_df = pd.read_csv(\"/content/Monografia/test.csv\")"
      ],
      "execution_count": 4,
      "outputs": []
    },
    {
      "cell_type": "markdown",
      "metadata": {
        "id": "7idQhrosuewU"
      },
      "source": [
        "Se visualiza el dataframe creado a partir de la carga del archivos .csv perteneciente al set de datos de entrenamiento"
      ]
    },
    {
      "cell_type": "code",
      "metadata": {
        "colab": {
          "base_uri": "https://localhost:8080/",
          "height": 206
        },
        "id": "nR5DulKhk7c0",
        "outputId": "ab5337a5-58b7-47a7-8f55-f31698daf5cb"
      },
      "source": [
        "train_df.head(5)"
      ],
      "execution_count": 5,
      "outputs": [
        {
          "output_type": "execute_result",
          "data": {
            "text/html": [
              "<div>\n",
              "<style scoped>\n",
              "    .dataframe tbody tr th:only-of-type {\n",
              "        vertical-align: middle;\n",
              "    }\n",
              "\n",
              "    .dataframe tbody tr th {\n",
              "        vertical-align: top;\n",
              "    }\n",
              "\n",
              "    .dataframe thead th {\n",
              "        text-align: right;\n",
              "    }\n",
              "</style>\n",
              "<table border=\"1\" class=\"dataframe\">\n",
              "  <thead>\n",
              "    <tr style=\"text-align: right;\">\n",
              "      <th></th>\n",
              "      <th>textID</th>\n",
              "      <th>text</th>\n",
              "      <th>selected_text</th>\n",
              "      <th>sentiment</th>\n",
              "    </tr>\n",
              "  </thead>\n",
              "  <tbody>\n",
              "    <tr>\n",
              "      <th>0</th>\n",
              "      <td>cb774db0d1</td>\n",
              "      <td>I`d have responded, if I were going</td>\n",
              "      <td>I`d have responded, if I were going</td>\n",
              "      <td>neutral</td>\n",
              "    </tr>\n",
              "    <tr>\n",
              "      <th>1</th>\n",
              "      <td>549e992a42</td>\n",
              "      <td>Sooo SAD I will miss you here in San Diego!!!</td>\n",
              "      <td>Sooo SAD</td>\n",
              "      <td>negative</td>\n",
              "    </tr>\n",
              "    <tr>\n",
              "      <th>2</th>\n",
              "      <td>088c60f138</td>\n",
              "      <td>my boss is bullying me...</td>\n",
              "      <td>bullying me</td>\n",
              "      <td>negative</td>\n",
              "    </tr>\n",
              "    <tr>\n",
              "      <th>3</th>\n",
              "      <td>9642c003ef</td>\n",
              "      <td>what interview! leave me alone</td>\n",
              "      <td>leave me alone</td>\n",
              "      <td>negative</td>\n",
              "    </tr>\n",
              "    <tr>\n",
              "      <th>4</th>\n",
              "      <td>358bd9e861</td>\n",
              "      <td>Sons of ****, why couldn`t they put them on t...</td>\n",
              "      <td>Sons of ****,</td>\n",
              "      <td>negative</td>\n",
              "    </tr>\n",
              "  </tbody>\n",
              "</table>\n",
              "</div>"
            ],
            "text/plain": [
              "       textID  ... sentiment\n",
              "0  cb774db0d1  ...   neutral\n",
              "1  549e992a42  ...  negative\n",
              "2  088c60f138  ...  negative\n",
              "3  9642c003ef  ...  negative\n",
              "4  358bd9e861  ...  negative\n",
              "\n",
              "[5 rows x 4 columns]"
            ]
          },
          "metadata": {},
          "execution_count": 5
        }
      ]
    },
    {
      "cell_type": "markdown",
      "metadata": {
        "id": "25Gy4JkO2xBo"
      },
      "source": [
        "Se visualiza información relevante sobre el dataset además de las observaciones no nulas"
      ]
    },
    {
      "cell_type": "code",
      "metadata": {
        "colab": {
          "base_uri": "https://localhost:8080/"
        },
        "id": "ZDCRELslldPr",
        "outputId": "f9595207-5136-4efd-c585-4827c29658c1"
      },
      "source": [
        "train_df.info()"
      ],
      "execution_count": 6,
      "outputs": [
        {
          "output_type": "stream",
          "name": "stdout",
          "text": [
            "<class 'pandas.core.frame.DataFrame'>\n",
            "RangeIndex: 27481 entries, 0 to 27480\n",
            "Data columns (total 4 columns):\n",
            " #   Column         Non-Null Count  Dtype \n",
            "---  ------         --------------  ----- \n",
            " 0   textID         27481 non-null  object\n",
            " 1   text           27480 non-null  object\n",
            " 2   selected_text  27480 non-null  object\n",
            " 3   sentiment      27481 non-null  object\n",
            "dtypes: object(4)\n",
            "memory usage: 858.9+ KB\n"
          ]
        }
      ]
    },
    {
      "cell_type": "markdown",
      "metadata": {
        "id": "YqDUS1Z72-Sv"
      },
      "source": [
        "Se aprecia el dataframe correspondiente a los datos de test:"
      ]
    },
    {
      "cell_type": "code",
      "metadata": {
        "colab": {
          "base_uri": "https://localhost:8080/",
          "height": 206
        },
        "id": "62JftGbKz9ga",
        "outputId": "4cd13a87-8643-4325-dd5b-06c33066f068"
      },
      "source": [
        "test_df.head()"
      ],
      "execution_count": 7,
      "outputs": [
        {
          "output_type": "execute_result",
          "data": {
            "text/html": [
              "<div>\n",
              "<style scoped>\n",
              "    .dataframe tbody tr th:only-of-type {\n",
              "        vertical-align: middle;\n",
              "    }\n",
              "\n",
              "    .dataframe tbody tr th {\n",
              "        vertical-align: top;\n",
              "    }\n",
              "\n",
              "    .dataframe thead th {\n",
              "        text-align: right;\n",
              "    }\n",
              "</style>\n",
              "<table border=\"1\" class=\"dataframe\">\n",
              "  <thead>\n",
              "    <tr style=\"text-align: right;\">\n",
              "      <th></th>\n",
              "      <th>textID</th>\n",
              "      <th>text</th>\n",
              "      <th>sentiment</th>\n",
              "    </tr>\n",
              "  </thead>\n",
              "  <tbody>\n",
              "    <tr>\n",
              "      <th>0</th>\n",
              "      <td>f87dea47db</td>\n",
              "      <td>Last session of the day  http://twitpic.com/67ezh</td>\n",
              "      <td>neutral</td>\n",
              "    </tr>\n",
              "    <tr>\n",
              "      <th>1</th>\n",
              "      <td>96d74cb729</td>\n",
              "      <td>Shanghai is also really exciting (precisely -...</td>\n",
              "      <td>positive</td>\n",
              "    </tr>\n",
              "    <tr>\n",
              "      <th>2</th>\n",
              "      <td>eee518ae67</td>\n",
              "      <td>Recession hit Veronique Branquinho, she has to...</td>\n",
              "      <td>negative</td>\n",
              "    </tr>\n",
              "    <tr>\n",
              "      <th>3</th>\n",
              "      <td>01082688c6</td>\n",
              "      <td>happy bday!</td>\n",
              "      <td>positive</td>\n",
              "    </tr>\n",
              "    <tr>\n",
              "      <th>4</th>\n",
              "      <td>33987a8ee5</td>\n",
              "      <td>http://twitpic.com/4w75p - I like it!!</td>\n",
              "      <td>positive</td>\n",
              "    </tr>\n",
              "  </tbody>\n",
              "</table>\n",
              "</div>"
            ],
            "text/plain": [
              "       textID                                               text sentiment\n",
              "0  f87dea47db  Last session of the day  http://twitpic.com/67ezh   neutral\n",
              "1  96d74cb729   Shanghai is also really exciting (precisely -...  positive\n",
              "2  eee518ae67  Recession hit Veronique Branquinho, she has to...  negative\n",
              "3  01082688c6                                        happy bday!  positive\n",
              "4  33987a8ee5             http://twitpic.com/4w75p - I like it!!  positive"
            ]
          },
          "metadata": {},
          "execution_count": 7
        }
      ]
    },
    {
      "cell_type": "markdown",
      "metadata": {
        "id": "RTO3RUY03EDw"
      },
      "source": [
        "A continuación se valida cuáles columnas del archivo de entrenamiento tienen campos nulos:"
      ]
    },
    {
      "cell_type": "code",
      "metadata": {
        "colab": {
          "base_uri": "https://localhost:8080/"
        },
        "id": "0Y0S533y0JMh",
        "outputId": "87bee63b-c710-43bd-d700-262744ef28c4"
      },
      "source": [
        "train_df.isnull().sum()"
      ],
      "execution_count": 8,
      "outputs": [
        {
          "output_type": "execute_result",
          "data": {
            "text/plain": [
              "textID           0\n",
              "text             1\n",
              "selected_text    1\n",
              "sentiment        0\n",
              "dtype: int64"
            ]
          },
          "metadata": {},
          "execution_count": 8
        }
      ]
    },
    {
      "cell_type": "markdown",
      "metadata": {
        "id": "Wtv9w1BN3Npy"
      },
      "source": [
        "Se identifica la fila que contiene los datos nulos, la cual corresponde a la etiqueta \"Neutral\""
      ]
    },
    {
      "cell_type": "code",
      "metadata": {
        "colab": {
          "base_uri": "https://localhost:8080/",
          "height": 81
        },
        "id": "7p8QW0m50eh4",
        "outputId": "45bce506-27d9-4652-e191-edfae3f06e7c"
      },
      "source": [
        "train_df.loc[train_df['text'].isnull()]"
      ],
      "execution_count": 9,
      "outputs": [
        {
          "output_type": "execute_result",
          "data": {
            "text/html": [
              "<div>\n",
              "<style scoped>\n",
              "    .dataframe tbody tr th:only-of-type {\n",
              "        vertical-align: middle;\n",
              "    }\n",
              "\n",
              "    .dataframe tbody tr th {\n",
              "        vertical-align: top;\n",
              "    }\n",
              "\n",
              "    .dataframe thead th {\n",
              "        text-align: right;\n",
              "    }\n",
              "</style>\n",
              "<table border=\"1\" class=\"dataframe\">\n",
              "  <thead>\n",
              "    <tr style=\"text-align: right;\">\n",
              "      <th></th>\n",
              "      <th>textID</th>\n",
              "      <th>text</th>\n",
              "      <th>selected_text</th>\n",
              "      <th>sentiment</th>\n",
              "    </tr>\n",
              "  </thead>\n",
              "  <tbody>\n",
              "    <tr>\n",
              "      <th>314</th>\n",
              "      <td>fdb77c3752</td>\n",
              "      <td>NaN</td>\n",
              "      <td>NaN</td>\n",
              "      <td>neutral</td>\n",
              "    </tr>\n",
              "  </tbody>\n",
              "</table>\n",
              "</div>"
            ],
            "text/plain": [
              "         textID text selected_text sentiment\n",
              "314  fdb77c3752  NaN           NaN   neutral"
            ]
          },
          "metadata": {},
          "execution_count": 9
        }
      ]
    },
    {
      "cell_type": "markdown",
      "metadata": {
        "id": "0DRXRxlA3b8Y"
      },
      "source": [
        "A continuación se procede a eliminar la fila nula, para ello se utilizan las funciones:\n",
        "\n",
        "\n",
        "*   dropna de pandas: con esta función (y los parámetros del código), eliminamos todas las filas en la que hay algún campo que está vacío.\n",
        "*   reset_index : función de pandas que permite resetear el índice del dataframe.\n",
        "*   shape: identificamos la cantidad de filas por cantidad de columnas\n",
        "\n",
        "\n",
        "\n",
        "\n"
      ]
    },
    {
      "cell_type": "code",
      "metadata": {
        "colab": {
          "base_uri": "https://localhost:8080/"
        },
        "id": "Ae8f5DyZ0p1h",
        "outputId": "65519fd8-445f-4c13-9259-eaaf22134e0a"
      },
      "source": [
        "# Se eliminarán las filas detectatadas\n",
        "train_df.dropna(axis = 0, how ='any',inplace=True)\n",
        "train_df.reset_index(inplace=True)\n",
        "train_df.shape"
      ],
      "execution_count": 10,
      "outputs": [
        {
          "output_type": "execute_result",
          "data": {
            "text/plain": [
              "(27480, 5)"
            ]
          },
          "metadata": {},
          "execution_count": 10
        }
      ]
    },
    {
      "cell_type": "markdown",
      "metadata": {
        "id": "2iVoafEC5Sxv"
      },
      "source": [
        "Se identifican nuevamente la cantidad de nulos, y en efecto, no hay ninguno"
      ]
    },
    {
      "cell_type": "code",
      "metadata": {
        "colab": {
          "base_uri": "https://localhost:8080/"
        },
        "id": "yoUSGMkI5KrQ",
        "outputId": "92c0c043-5b32-44c8-a2a8-58ce03354b57"
      },
      "source": [
        "train_df.isnull().sum()"
      ],
      "execution_count": 11,
      "outputs": [
        {
          "output_type": "execute_result",
          "data": {
            "text/plain": [
              "index            0\n",
              "textID           0\n",
              "text             0\n",
              "selected_text    0\n",
              "sentiment        0\n",
              "dtype: int64"
            ]
          },
          "metadata": {},
          "execution_count": 11
        }
      ]
    },
    {
      "cell_type": "markdown",
      "metadata": {
        "id": "thPhkwWlCjG1"
      },
      "source": [
        "Se realiza el mismo procedimeinto de buscar nulos para los datos de prueba"
      ]
    },
    {
      "cell_type": "code",
      "metadata": {
        "colab": {
          "base_uri": "https://localhost:8080/"
        },
        "id": "fD6U1ity0Rq8",
        "outputId": "dba4b768-9f6e-4f6e-d50d-6237985ab96d"
      },
      "source": [
        "test_df.isnull().sum()"
      ],
      "execution_count": 12,
      "outputs": [
        {
          "output_type": "execute_result",
          "data": {
            "text/plain": [
              "textID       0\n",
              "text         0\n",
              "sentiment    0\n",
              "dtype: int64"
            ]
          },
          "metadata": {},
          "execution_count": 12
        }
      ]
    },
    {
      "cell_type": "markdown",
      "metadata": {
        "id": "7mDnAFmU585P"
      },
      "source": [
        "A continuación se define una función que permita identificar la cantidad de filas que hay por cada uno de los sentimientos:"
      ]
    },
    {
      "cell_type": "code",
      "metadata": {
        "id": "au2iHIBB575f"
      },
      "source": [
        "# función que determina la altura de las barras en el gráfico\n",
        "def barh(ax): # for getting height\n",
        "    \n",
        "    for p in ax.patches:\n",
        "        val = p.get_height() #height of the bar\n",
        "        x = p.get_x()+ p.get_width()/2 # x- position \n",
        "        y = p.get_y() + p.get_height()/2 #y-position\n",
        "        ax.annotate(round(val,2),(x,y))"
      ],
      "execution_count": 13,
      "outputs": []
    },
    {
      "cell_type": "markdown",
      "metadata": {
        "id": "lUFueeBr-ayD"
      },
      "source": [
        "Se generará un histograma con la distribución de las categorías existentes en la variable \"sentimient\", en el dataframe de entrenamiento:"
      ]
    },
    {
      "cell_type": "code",
      "metadata": {
        "id": "dMsEiWKB9vUK"
      },
      "source": [
        "sb.set_theme()"
      ],
      "execution_count": 14,
      "outputs": []
    },
    {
      "cell_type": "code",
      "metadata": {
        "colab": {
          "base_uri": "https://localhost:8080/",
          "height": 394
        },
        "id": "mIpl3X6vu2Sd",
        "outputId": "099f18b2-af5b-4d9f-9df7-c7239f2deba8"
      },
      "source": [
        "plt.figure(figsize=(15,5))\n",
        "ax0 = sb.countplot(train_df['sentiment'],order=train_df['sentiment'].value_counts().index)\n",
        "barh(ax0)\n",
        "plt.show()"
      ],
      "execution_count": 15,
      "outputs": [
        {
          "output_type": "stream",
          "name": "stderr",
          "text": [
            "/usr/local/lib/python3.7/dist-packages/seaborn/_decorators.py:43: FutureWarning: Pass the following variable as a keyword arg: x. From version 0.12, the only valid positional argument will be `data`, and passing other arguments without an explicit keyword will result in an error or misinterpretation.\n",
            "  FutureWarning\n"
          ]
        },
        {
          "output_type": "display_data",
          "data": {
            "image/png": "[encoded data removed]",
            "text/plain": [
              "<Figure size 1080x360 with 1 Axes>"
            ]
          },
          "metadata": {}
        }
      ]
    },
    {
      "cell_type": "markdown",
      "metadata": {
        "id": "7AMdtAcn-sF9"
      },
      "source": [
        "Subsiguiente se validará la distribución por sentimiento del archivo de prueba:"
      ]
    },
    {
      "cell_type": "code",
      "metadata": {
        "colab": {
          "base_uri": "https://localhost:8080/",
          "height": 394
        },
        "id": "NnqxLOdv-WoW",
        "outputId": "eec141da-a34e-40d4-eaa0-6ee23c679ae9"
      },
      "source": [
        "plt.figure(figsize=(15,5))\n",
        "ax1 = sb.countplot(test_df['sentiment'],order=test_df['sentiment'].value_counts().index)\n",
        "barh(ax1)\n",
        "plt.show()"
      ],
      "execution_count": 16,
      "outputs": [
        {
          "output_type": "stream",
          "name": "stderr",
          "text": [
            "/usr/local/lib/python3.7/dist-packages/seaborn/_decorators.py:43: FutureWarning: Pass the following variable as a keyword arg: x. From version 0.12, the only valid positional argument will be `data`, and passing other arguments without an explicit keyword will result in an error or misinterpretation.\n",
            "  FutureWarning\n"
          ]
        },
        {
          "output_type": "display_data",
          "data": {
            "image/png": "[encoded data removed]",
            "text/plain": [
              "<Figure size 1080x360 with 1 Axes>"
            ]
          },
          "metadata": {}
        }
      ]
    },
    {
      "cell_type": "markdown",
      "metadata": {
        "id": "DMjT9-H4vaz9"
      },
      "source": [
        "De acuerdo a la observación anterior, la data tanto de entrenamiento como de prueba tiene distribuciones similares, ya que su mayoría está en los neutrales, seguidos por los positivos, y finalmente los negativos."
      ]
    },
    {
      "cell_type": "markdown",
      "metadata": {
        "id": "O06M9ft8wBNi"
      },
      "source": [
        "Ahora se segmentará el dataset de entrenamiento de acuerdo al sentimiento:"
      ]
    },
    {
      "cell_type": "code",
      "metadata": {
        "id": "TplmZNYJpmjd"
      },
      "source": [
        "positive_selected_text = train_df[train_df['sentiment'] == 'positive']['selected_text']\n",
        "negative_selected_text = train_df[train_df['sentiment'] == 'negative']['selected_text']\n",
        "neutral_selected_text = train_df[train_df['sentiment'] == 'neutral']['selected_text']"
      ],
      "execution_count": 47,
      "outputs": []
    },
    {
      "cell_type": "code",
      "metadata": {
        "id": "d9Ug9Ba0_fo0"
      },
      "source": [
        "positive_text = train_df[train_df['sentiment'] == 'positive']['text']\n",
        "negative_text = train_df[train_df['sentiment'] == 'negative']['text']\n",
        "neutral_text = train_df[train_df['sentiment'] == 'neutral']['text']"
      ],
      "execution_count": 18,
      "outputs": []
    },
    {
      "cell_type": "code",
      "metadata": {
        "id": "pWaQngDa_vT7"
      },
      "source": [
        "posit= positive_text.copy()\n",
        "negt= negative_text.copy()\n",
        "neut= neutral_text.copy()"
      ],
      "execution_count": 19,
      "outputs": []
    },
    {
      "cell_type": "code",
      "metadata": {
        "id": "5XSs4Q-fp358"
      },
      "source": [
        "posits= positive_selected_text.copy()\n",
        "negts= negative_selected_text.copy()\n",
        "neuts= neutral_selected_text.copy()"
      ],
      "execution_count": 52,
      "outputs": []
    },
    {
      "cell_type": "markdown",
      "metadata": {
        "id": "KuEGW0BpnxZk"
      },
      "source": [
        "Función que permite hallar la frecuencia de los primeros 6 elementos de un dataset"
      ]
    },
    {
      "cell_type": "code",
      "metadata": {
        "id": "Dk4SvBBq_7MJ"
      },
      "source": [
        "def freq(posit):\n",
        "  bow=[]\n",
        "  for fra in posit:\n",
        "    fra=fra.lower().split()\n",
        "    for word in fra:\n",
        "      bow.append(word)\n",
        "  s=pd.Series(bow)\n",
        "  return s.value_counts().head(6)"
      ],
      "execution_count": 21,
      "outputs": []
    },
    {
      "cell_type": "markdown",
      "metadata": {
        "id": "9QmDqSBrn9tD"
      },
      "source": [
        "Frecuencia para los tweets con sentimiento neutral:"
      ]
    },
    {
      "cell_type": "code",
      "metadata": {
        "colab": {
          "base_uri": "https://localhost:8080/"
        },
        "id": "5KIw8Es9_7Jd",
        "outputId": "f713bd26-3c86-4ed2-899b-49d94f8da0c5"
      },
      "source": [
        "freq(neut)"
      ],
      "execution_count": 22,
      "outputs": [
        {
          "output_type": "execute_result",
          "data": {
            "text/plain": [
              "i      4872\n",
              "to     4119\n",
              "the    3522\n",
              "a      2506\n",
              "my     1992\n",
              "and    1827\n",
              "dtype: int64"
            ]
          },
          "metadata": {},
          "execution_count": 22
        }
      ]
    },
    {
      "cell_type": "markdown",
      "metadata": {
        "id": "I_ZJ9wNKoJrD"
      },
      "source": [
        "Frecuencia para los tweets con sentimiento positivo:"
      ]
    },
    {
      "cell_type": "code",
      "metadata": {
        "colab": {
          "base_uri": "https://localhost:8080/"
        },
        "id": "Dza3Sh2q_7HV",
        "outputId": "d5ae99a8-b9f8-4489-b92b-83827c1f3353"
      },
      "source": [
        "freq(posit)"
      ],
      "execution_count": 23,
      "outputs": [
        {
          "output_type": "execute_result",
          "data": {
            "text/plain": [
              "i      3687\n",
              "the    2982\n",
              "to     2954\n",
              "a      2375\n",
              "you    1759\n",
              "and    1639\n",
              "dtype: int64"
            ]
          },
          "metadata": {},
          "execution_count": 23
        }
      ]
    },
    {
      "cell_type": "markdown",
      "metadata": {
        "id": "ICR7y7atoPPD"
      },
      "source": [
        "Frecuencia para los tweets con sentimiento negativo:"
      ]
    },
    {
      "cell_type": "code",
      "metadata": {
        "colab": {
          "base_uri": "https://localhost:8080/"
        },
        "id": "YXBWhM9m_7Eh",
        "outputId": "4aee1ea4-835c-4092-fec3-6062833cb50e"
      },
      "source": [
        "freq(negt)"
      ],
      "execution_count": 24,
      "outputs": [
        {
          "output_type": "execute_result",
          "data": {
            "text/plain": [
              "i      4506\n",
              "to     2870\n",
              "the    2442\n",
              "my     2016\n",
              "a      1803\n",
              "and    1544\n",
              "dtype: int64"
            ]
          },
          "metadata": {},
          "execution_count": 24
        }
      ]
    },
    {
      "cell_type": "markdown",
      "metadata": {
        "id": "EKqQL7JzNnOq"
      },
      "source": [
        "Se define una función que limpiará los dataset ya segmentados por sentimiento:"
      ]
    },
    {
      "cell_type": "code",
      "metadata": {
        "id": "7zV6qaUoTOqC"
      },
      "source": [
        "def clean(serie):\n",
        "  def clean_text(t):\n",
        "    tl = []\n",
        "    t = t.lower().split()\n",
        "    for i in t:\n",
        "      if i not in stopwords.words('english'):\n",
        "        tl.append(i)\n",
        "    return \" \".join(tl)\n",
        "\n",
        "  serie= serie.apply((lambda x:re.sub('@[^\\s]+','',x)))\n",
        "  serie = serie.apply((lambda x: re.sub('[^a-zA-z0-9\\s]','',x)))\n",
        "  serie = serie.apply((lambda x: re.sub(\"'\",\"\",x)))\n",
        "  serie = serie.apply((lambda x: re.sub(\"`\",\"\",x)))\n",
        "  #Remover stopwords\n",
        "  serie= serie.apply(lambda x: clean_text(x))\n",
        "\n",
        "  return serie"
      ],
      "execution_count": 25,
      "outputs": []
    },
    {
      "cell_type": "markdown",
      "metadata": {
        "id": "A4oUB1E9Uj0F"
      },
      "source": [
        "Se aplican las funciones anteriores a cada uno de las categorías para la variable texto en el conjunto de entrenamiento"
      ]
    },
    {
      "cell_type": "code",
      "metadata": {
        "id": "98vkmULwUAdf"
      },
      "source": [
        "posit=clean(posit)"
      ],
      "execution_count": 49,
      "outputs": []
    },
    {
      "cell_type": "code",
      "metadata": {
        "id": "zO2FdR9HUOlQ"
      },
      "source": [
        "negt=clean(negt)"
      ],
      "execution_count": 28,
      "outputs": []
    },
    {
      "cell_type": "code",
      "metadata": {
        "id": "1q05R2NpUOfS"
      },
      "source": [
        "neut=clean(neut)"
      ],
      "execution_count": 29,
      "outputs": []
    },
    {
      "cell_type": "markdown",
      "metadata": {
        "id": "4O11vAmcqac3"
      },
      "source": [
        "Se descarta la palabra \"Im\" por que es un pronombre sin significado semántico "
      ]
    },
    {
      "cell_type": "code",
      "metadata": {
        "colab": {
          "base_uri": "https://localhost:8080/"
        },
        "id": "QY1aXv8e5nAC",
        "outputId": "3891e3fd-4c85-4535-9508-e9243f795745"
      },
      "source": [
        "freq(posit)"
      ],
      "execution_count": 43,
      "outputs": [
        {
          "output_type": "execute_result",
          "data": {
            "text/plain": [
              "day        1223\n",
              "good       1046\n",
              "love        875\n",
              "happy       840\n",
              "im          746\n",
              "mothers     629\n",
              "dtype: int64"
            ]
          },
          "metadata": {},
          "execution_count": 43
        }
      ]
    },
    {
      "cell_type": "code",
      "metadata": {
        "colab": {
          "base_uri": "https://localhost:8080/"
        },
        "id": "a6RpSVb1ND_y",
        "outputId": "0b05e2be-2cf3-4ec2-f626-745f77b816e9"
      },
      "source": [
        "freq(negt)"
      ],
      "execution_count": 44,
      "outputs": [
        {
          "output_type": "execute_result",
          "data": {
            "text/plain": [
              "im      1237\n",
              "like     476\n",
              "dont     469\n",
              "cant     465\n",
              "get      436\n",
              "miss     422\n",
              "dtype: int64"
            ]
          },
          "metadata": {},
          "execution_count": 44
        }
      ]
    },
    {
      "cell_type": "code",
      "metadata": {
        "colab": {
          "base_uri": "https://localhost:8080/"
        },
        "id": "Btol_6BDNHPg",
        "outputId": "7870b148-8ff2-4deb-ac88-f715c9af06ac"
      },
      "source": [
        "freq(neut)"
      ],
      "execution_count": 45,
      "outputs": [
        {
          "output_type": "execute_result",
          "data": {
            "text/plain": [
              "im       1069\n",
              "get       623\n",
              "go        575\n",
              "day       503\n",
              "dont      493\n",
              "going     479\n",
              "dtype: int64"
            ]
          },
          "metadata": {},
          "execution_count": 45
        }
      ]
    },
    {
      "cell_type": "markdown",
      "metadata": {
        "id": "oU7pxY8bsqxZ"
      },
      "source": [
        "Ahora se aplica para la variable 'selected_text'"
      ]
    },
    {
      "cell_type": "code",
      "metadata": {
        "id": "CF0481CWs3AQ"
      },
      "source": [
        "posits=clean(posits)\n",
        "negts=clean(negts)\n",
        "neuts=clean(neuts)"
      ],
      "execution_count": 53,
      "outputs": []
    },
    {
      "cell_type": "markdown",
      "metadata": {
        "id": "48QC1WX-s3AQ"
      },
      "source": [
        "Se descarta la palabra \"Im\" por que es un pronombre sin significado semántico "
      ]
    },
    {
      "cell_type": "code",
      "metadata": {
        "colab": {
          "base_uri": "https://localhost:8080/"
        },
        "id": "p-dFvtvKs3AQ",
        "outputId": "2499b012-856b-466e-da06-6d91e0a58669"
      },
      "source": [
        "freq(posits)"
      ],
      "execution_count": 51,
      "outputs": [
        {
          "output_type": "execute_result",
          "data": {
            "text/plain": [
              "good      826\n",
              "happy     730\n",
              "love      697\n",
              "day       456\n",
              "thanks    439\n",
              "great     364\n",
              "dtype: int64"
            ]
          },
          "metadata": {},
          "execution_count": 51
        }
      ]
    },
    {
      "cell_type": "code",
      "metadata": {
        "colab": {
          "base_uri": "https://localhost:8080/"
        },
        "id": "vejyKPHqs3AQ",
        "outputId": "93ab29cc-d6f2-40c3-ba8b-b073a1fd0a65"
      },
      "source": [
        "freq(negts)"
      ],
      "execution_count": 54,
      "outputs": [
        {
          "output_type": "execute_result",
          "data": {
            "text/plain": [
              "im       454\n",
              "miss     358\n",
              "sad      343\n",
              "sorry    300\n",
              "bad      246\n",
              "hate     230\n",
              "dtype: int64"
            ]
          },
          "metadata": {},
          "execution_count": 54
        }
      ]
    },
    {
      "cell_type": "code",
      "metadata": {
        "colab": {
          "base_uri": "https://localhost:8080/"
        },
        "id": "r8o1c500s3AR",
        "outputId": "11f11d05-dbe4-4184-de0c-054dfd33ac7f"
      },
      "source": [
        "freq(neuts)"
      ],
      "execution_count": 55,
      "outputs": [
        {
          "output_type": "execute_result",
          "data": {
            "text/plain": [
              "im       1052\n",
              "get       612\n",
              "go        568\n",
              "day       492\n",
              "dont      483\n",
              "going     472\n",
              "dtype: int64"
            ]
          },
          "metadata": {},
          "execution_count": 55
        }
      ]
    }
  ]
}